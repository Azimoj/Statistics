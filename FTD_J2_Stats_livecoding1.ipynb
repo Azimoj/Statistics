{
 "cells": [
  {
   "cell_type": "code",
   "execution_count": 1,
   "metadata": {
    "ExecuteTime": {
     "end_time": "2023-07-13T09:20:04.865804Z",
     "start_time": "2023-07-13T09:20:00.180717Z"
    },
    "executionInfo": {
     "elapsed": 1038,
     "status": "ok",
     "timestamp": 1643887597679,
     "user": {
      "displayName": "Hippolyte GUIGON",
      "photoUrl": "https://lh3.googleusercontent.com/a-/AOh14GjYVU9CDexRPiTYRyddiqGAyBg678-bBucrxUClWw=s64",
      "userId": "18045676621189214494"
     },
     "user_tz": -60
    },
    "id": "8M7LAON81GRy"
   },
   "outputs": [],
   "source": [
    "import numpy as np\n",
    "import scipy.stats as st\n",
    "\n",
    "import matplotlib.pyplot as plt\n",
    "import seaborn as sns\n",
    "import pandas as pd"
   ]
  },
  {
   "cell_type": "markdown",
   "metadata": {
    "id": "u17D-iAd1GR-"
   },
   "source": [
    "* Variables aléatoires (tirer des échantillons depuis une distribution spécifique)"
   ]
  },
  {
   "cell_type": "markdown",
   "metadata": {},
   "source": [
    "**Dans une distribution uniforme, tous les éléments situés entre la borne minimum (ici 0) et maximum (ici 10) ont une même probabilité d'être tirés.**"
   ]
  },
  {
   "cell_type": "code",
   "execution_count": 37,
   "metadata": {
    "ExecuteTime": {
     "end_time": "2021-01-15T14:20:11.558459Z",
     "start_time": "2021-01-15T14:20:11.542357Z"
    },
    "colab": {
     "base_uri": "https://localhost:8080/"
    },
    "executionInfo": {
     "elapsed": 235,
     "status": "ok",
     "timestamp": 1643887751269,
     "user": {
      "displayName": "Hippolyte GUIGON",
      "photoUrl": "https://lh3.googleusercontent.com/a-/AOh14GjYVU9CDexRPiTYRyddiqGAyBg678-bBucrxUClWw=s64",
      "userId": "18045676621189214494"
     },
     "user_tz": -60
    },
    "id": "6iFwZfrL1GR-",
    "outputId": "022c117f-49ba-4fc1-de1d-a19f54818a40"
   },
   "outputs": [
    {
     "data": {
      "text/plain": [
       "array([4.09802714, 0.03019572, 8.85457511, 4.33614163])"
      ]
     },
     "execution_count": 37,
     "metadata": {},
     "output_type": "execute_result"
    }
   ],
   "source": [
    "# choisi 4 valeurs entre 0 et 10 selon une loi uniforme\n",
    "np.random.uniform(0, 10, size=4)"
   ]
  },
  {
   "cell_type": "markdown",
   "metadata": {},
   "source": [
    "**Dans une distribution normale, les éléments situés à proximité de la moyenne ont une probabilité plus grande d'être tirés. La probabilité de tirer des éléments lointains est plus grande si l'écart-type est plus élevé.**\n",
    "\n",
    "*Avec numpy:*\n",
    "* `loc` : moyenne souhaitée,\n",
    "* `scale` : écart-type souhaité."
   ]
  },
  {
   "cell_type": "code",
   "execution_count": 17,
   "metadata": {
    "ExecuteTime": {
     "end_time": "2023-07-13T09:53:25.441935Z",
     "start_time": "2023-07-13T09:53:25.420998Z"
    },
    "colab": {
     "base_uri": "https://localhost:8080/"
    },
    "executionInfo": {
     "elapsed": 245,
     "status": "ok",
     "timestamp": 1643887897132,
     "user": {
      "displayName": "Hippolyte GUIGON",
      "photoUrl": "https://lh3.googleusercontent.com/a-/AOh14GjYVU9CDexRPiTYRyddiqGAyBg678-bBucrxUClWw=s64",
      "userId": "18045676621189214494"
     },
     "user_tz": -60
    },
    "id": "azaL4jlo1GR-",
    "outputId": "8bb3be4d-cf67-4bff-8195-cab9ecd6a4c4"
   },
   "outputs": [
    {
     "data": {
      "text/plain": [
       "array([[ 3.10655135,  5.48825551],\n",
       "       [18.07029692,  7.17699409]])"
      ]
     },
     "execution_count": 17,
     "metadata": {},
     "output_type": "execute_result"
    }
   ],
   "source": [
    "# choisi 2 valeurs deux fois de suite avec loc = moyenne et sclae = ecart type selon une loi normale\n",
    "np.random.normal(loc=10, scale=5, size=(2,2))"
   ]
  },
  {
   "cell_type": "markdown",
   "metadata": {
    "id": "mHKd8wNF1GR_"
   },
   "source": [
    "Il existe pleins d'autres lois statistiques: https://numpy.org/doc/1.16/reference/routines.random.html."
   ]
  },
  {
   "cell_type": "markdown",
   "metadata": {
    "id": "esr8iu_11GR_"
   },
   "source": [
    "## Bootstrapping, inference, intervalles de confiance"
   ]
  },
  {
   "cell_type": "markdown",
   "metadata": {
    "id": "uSaUwRIS1GR_"
   },
   "source": [
    "#### Oeufs de pâques"
   ]
  },
  {
   "cell_type": "markdown",
   "metadata": {
    "id": "xG1cPUDn1GSA"
   },
   "source": [
    "On a reçu une très grande cargaisons d'oeufs de Pâques et on veut déterminer le poids moyen de ces oeufs pour vérifier la qualité de la marchandise. Pour cela on ne va pas peser l'ensemble de la cargaison mais simplement 10 oeufs. "
   ]
  },
  {
   "cell_type": "code",
   "execution_count": 18,
   "metadata": {
    "ExecuteTime": {
     "end_time": "2023-07-13T09:58:07.877044Z",
     "start_time": "2023-07-13T09:58:07.864739Z"
    },
    "executionInfo": {
     "elapsed": 263,
     "status": "ok",
     "timestamp": 1643887982633,
     "user": {
      "displayName": "Hippolyte GUIGON",
      "photoUrl": "https://lh3.googleusercontent.com/a-/AOh14GjYVU9CDexRPiTYRyddiqGAyBg678-bBucrxUClWw=s64",
      "userId": "18045676621189214494"
     },
     "user_tz": -60
    },
    "id": "sbPQ7GUI1GSA"
   },
   "outputs": [],
   "source": [
    "eggs = [20, 20, 20, 20, 70, 70, 70, 50, 90, 80]"
   ]
  },
  {
   "cell_type": "code",
   "execution_count": 19,
   "metadata": {
    "ExecuteTime": {
     "end_time": "2023-07-13T09:58:10.109534Z",
     "start_time": "2023-07-13T09:58:09.694349Z"
    },
    "colab": {
     "base_uri": "https://localhost:8080/",
     "height": 281
    },
    "executionInfo": {
     "elapsed": 303,
     "status": "ok",
     "timestamp": 1643887995183,
     "user": {
      "displayName": "Hippolyte GUIGON",
      "photoUrl": "https://lh3.googleusercontent.com/a-/AOh14GjYVU9CDexRPiTYRyddiqGAyBg678-bBucrxUClWw=s64",
      "userId": "18045676621189214494"
     },
     "user_tz": -60
    },
    "id": "KYt9hmIc1GSA",
    "outputId": "bcfd3940-3311-49bc-b12d-f4c26e3afd47",
    "scrolled": false
   },
   "outputs": [
    {
     "data": {
      "image/png": "[encoded data removed]",
      "text/plain": [
       "<Figure size 432x288 with 1 Axes>"
      ]
     },
     "metadata": {
      "needs_background": "light"
     },
     "output_type": "display_data"
    }
   ],
   "source": [
    "# Sample distribution\n",
    "sns.histplot(x=eggs, bins=20)\n",
    "plt.title('Sample distribution of Easter eggs weights')\n",
    "plt.show()"
   ]
  },
  {
   "cell_type": "markdown",
   "metadata": {
    "id": "HRudU0fR1GSB"
   },
   "source": [
    "* Intervalle de confiance"
   ]
  },
  {
   "cell_type": "markdown",
   "metadata": {},
   "source": [
    "**Formule pour calculer un intervalle de confiance (en faisant l'hypothèse que la distribution est normale et que l'écart-type de la population totale est connu).**"
   ]
  },
  {
   "cell_type": "markdown",
   "metadata": {},
   "source": [
    "$$IC = \\mu \\pm z_{95\\%}\\times \\frac{\\sigma}{\\sqrt{n}}$$"
   ]
  },
  {
   "cell_type": "markdown",
   "metadata": {},
   "source": [
    "$z_{95\\%} = 1.96$ pour une loi normale (voir tables de valeurs)."
   ]
  },
  {
   "cell_type": "code",
   "execution_count": 20,
   "metadata": {
    "ExecuteTime": {
     "end_time": "2023-07-13T09:59:24.103094Z",
     "start_time": "2023-07-13T09:59:24.076036Z"
    },
    "colab": {
     "base_uri": "https://localhost:8080/"
    },
    "executionInfo": {
     "elapsed": 245,
     "status": "ok",
     "timestamp": 1643888036026,
     "user": {
      "displayName": "Hippolyte GUIGON",
      "photoUrl": "https://lh3.googleusercontent.com/a-/AOh14GjYVU9CDexRPiTYRyddiqGAyBg678-bBucrxUClWw=s64",
      "userId": "18045676621189214494"
     },
     "user_tz": -60
    },
    "id": "jck8LmoD1GSB",
    "outputId": "84377e6a-26cf-4381-a952-94d01d602fe8"
   },
   "outputs": [
    {
     "name": "stdout",
     "output_type": "stream",
     "text": [
      "Mean: 51.0 \n",
      "Stdev: 27.0 \n",
      "Standard error: 8.538149682454623\n"
     ]
    }
   ],
   "source": [
    "mu = np.mean(eggs)\n",
    "sigma = np.std(eggs)\n",
    "erreur = sigma / np.sqrt(len(eggs))\n",
    "print('Mean:', mu, '\\nStdev:', sigma, '\\nStandard error:', erreur)"
   ]
  },
  {
   "cell_type": "code",
   "execution_count": 21,
   "metadata": {
    "ExecuteTime": {
     "end_time": "2023-07-13T10:00:24.761836Z",
     "start_time": "2023-07-13T10:00:24.662666Z"
    },
    "colab": {
     "base_uri": "https://localhost:8080/"
    },
    "executionInfo": {
     "elapsed": 276,
     "status": "ok",
     "timestamp": 1643888047570,
     "user": {
      "displayName": "Hippolyte GUIGON",
      "photoUrl": "https://lh3.googleusercontent.com/a-/AOh14GjYVU9CDexRPiTYRyddiqGAyBg678-bBucrxUClWw=s64",
      "userId": "18045676621189214494"
     },
     "user_tz": -60
    },
    "id": "Rhoy50E51GSC",
    "outputId": "7e3cd927-ee7a-4f1f-c423-d6dc259b21fa"
   },
   "outputs": [
    {
     "data": {
      "text/plain": [
       "(34.26522662238894, 67.73477337761106)"
      ]
     },
     "execution_count": 21,
     "metadata": {},
     "output_type": "execute_result"
    }
   ],
   "source": [
    "#calculons l'intervalle de confiance à 95%\n",
    "confidence_interval = (mu - 1.96*erreur, mu + 1.96*erreur)\n",
    "confidence_interval"
   ]
  },
  {
   "cell_type": "markdown",
   "metadata": {
    "id": "hcd8K4oi1GSD"
   },
   "source": [
    "* Intervalle de confiance bootstrappée"
   ]
  },
  {
   "cell_type": "code",
   "execution_count": 22,
   "metadata": {
    "ExecuteTime": {
     "end_time": "2023-07-13T10:03:40.039991Z",
     "start_time": "2023-07-13T10:03:39.994492Z"
    },
    "colab": {
     "base_uri": "https://localhost:8080/"
    },
    "executionInfo": {
     "elapsed": 232,
     "status": "ok",
     "timestamp": 1643888072893,
     "user": {
      "displayName": "Hippolyte GUIGON",
      "photoUrl": "https://lh3.googleusercontent.com/a-/AOh14GjYVU9CDexRPiTYRyddiqGAyBg678-bBucrxUClWw=s64",
      "userId": "18045676621189214494"
     },
     "user_tz": -60
    },
    "id": "3kHN6ZcV1GSD",
    "outputId": "fba36744-b775-4f4b-f6d5-56db524c3563"
   },
   "outputs": [
    {
     "data": {
      "text/plain": [
       "51.0"
      ]
     },
     "execution_count": 22,
     "metadata": {},
     "output_type": "execute_result"
    }
   ],
   "source": [
    "sample_mean = np.mean(eggs)\n",
    "sample_mean"
   ]
  },
  {
   "cell_type": "markdown",
   "metadata": {},
   "source": [
    "**On va créer plein d'échantillons issus de l'échantillon de départ et de même taille. Le tirage doit être fait avec remise (un élément qui apparaît une seule fois dans l'échantillon de départ peut donc être sélectionné plusieurs fois).**"
   ]
  },
  {
   "cell_type": "code",
   "execution_count": 23,
   "metadata": {
    "ExecuteTime": {
     "end_time": "2023-07-13T10:04:50.836132Z",
     "start_time": "2023-07-13T10:04:50.409854Z"
    },
    "executionInfo": {
     "elapsed": 225,
     "status": "ok",
     "timestamp": 1643888122412,
     "user": {
      "displayName": "Hippolyte GUIGON",
      "photoUrl": "https://lh3.googleusercontent.com/a-/AOh14GjYVU9CDexRPiTYRyddiqGAyBg678-bBucrxUClWw=s64",
      "userId": "18045676621189214494"
     },
     "user_tz": -60
    },
    "id": "osY_kBYp1GSF",
    "scrolled": true
   },
   "outputs": [],
   "source": [
    "bootstrap_means = []\n",
    "#faisons l'opération 5000 fois\n",
    "for i in range(5000):\n",
    "    #créer un nouvel échantillon entre les 10 valeurs de départ dans eggs\n",
    "    temp_sample = np.random.choice(eggs, replace=True, size=len(eggs))\n",
    "    #prenons la moyenne de cet échantillon\n",
    "    temp_mean = np.mean(temp_sample)\n",
    "    #mettons cette moyenne dans une liste\n",
    "    bootstrap_means.append(temp_mean)"
   ]
  },
  {
   "cell_type": "code",
   "execution_count": 24,
   "metadata": {
    "ExecuteTime": {
     "end_time": "2023-07-13T10:04:52.283722Z",
     "start_time": "2023-07-13T10:04:52.268315Z"
    },
    "colab": {
     "base_uri": "https://localhost:8080/"
    },
    "executionInfo": {
     "elapsed": 8,
     "status": "ok",
     "timestamp": 1643888124316,
     "user": {
      "displayName": "Hippolyte GUIGON",
      "photoUrl": "https://lh3.googleusercontent.com/a-/AOh14GjYVU9CDexRPiTYRyddiqGAyBg678-bBucrxUClWw=s64",
      "userId": "18045676621189214494"
     },
     "user_tz": -60
    },
    "id": "VQACkt_e1GSF",
    "outputId": "04e20d09-c876-4c08-e15c-4422a7cc4410"
   },
   "outputs": [
    {
     "name": "stdout",
     "output_type": "stream",
     "text": [
      "[20 70 70 80 70 70 70 70 80 80]\n",
      "[59.0, 48.0, 67.0, 58.0, 66.0, 47.0, 59.0, 44.0, 47.0, 64.0, 51.0, 57.0, 55.0, 42.0, 43.0, 77.0, 49.0, 50.0, 52.0, 52.0, 58.0, 58.0, 62.0, 64.0, 49.0, 50.0, 67.0, 48.0, 52.0, 71.0, 56.0, 51.0, 63.0, 50.0, 41.0, 64.0, 65.0, 55.0, 51.0, 46.0, 50.0, 56.0, 49.0, 54.0, 50.0, 43.0, 49.0, 45.0, 50.0, 54.0, 65.0, 51.0, 48.0, 66.0, 46.0, 50.0, 57.0, 52.0, 46.0, 48.0, 56.0, 46.0, 46.0, 55.0, 48.0, 52.0, 55.0, 39.0, 53.0, 56.0, 51.0, 63.0, 53.0, 52.0, 51.0, 48.0, 35.0, 38.0, 33.0, 57.0, 68.0, 54.0, 43.0, 46.0, 55.0, 39.0, 55.0, 55.0, 54.0, 61.0, 40.0, 57.0, 62.0, 31.0, 41.0, 51.0, 45.0, 46.0, 49.0, 53.0, 57.0, 55.0, 42.0, 56.0, 52.0, 43.0, 56.0, 43.0, 55.0, 44.0, 35.0, 70.0, 50.0, 45.0, 57.0, 50.0, 44.0, 42.0, 60.0, 51.0, 65.0, 41.0, 56.0, 67.0, 43.0, 40.0, 48.0, 32.0, 50.0, 47.0, 49.0, 53.0, 67.0, 42.0, 40.0, 44.0, 57.0, 54.0, 51.0, 45.0, 56.0, 56.0, 54.0, 56.0, 47.0, 53.0, 60.0, 61.0, 54.0, 64.0, 54.0, 50.0, 47.0, 42.0, 58.0, 55.0, 45.0, 49.0, 55.0, 53.0, 56.0, 46.0, 66.0, 45.0, 40.0, 69.0, 53.0, 44.0, 45.0, 57.0, 41.0, 60.0, 48.0, 59.0, 52.0, 48.0, 39.0, 41.0, 27.0, 49.0, 54.0, 45.0, 46.0, 44.0, 41.0, 48.0, 58.0, 53.0, 61.0, 57.0, 49.0, 65.0, 44.0, 50.0, 55.0, 60.0, 44.0, 35.0, 44.0, 54.0, 50.0, 53.0, 44.0, 62.0, 58.0, 36.0, 52.0, 43.0, 54.0, 47.0, 57.0, 43.0, 45.0, 45.0, 51.0, 41.0, 56.0, 48.0, 54.0, 68.0, 55.0, 50.0, 58.0, 60.0, 56.0, 45.0, 36.0, 64.0, 40.0, 33.0, 43.0, 51.0, 47.0, 67.0, 52.0, 49.0, 43.0, 50.0, 40.0, 49.0, 44.0, 40.0, 43.0, 53.0, 50.0, 43.0, 53.0, 56.0, 48.0, 48.0, 64.0, 46.0, 46.0, 37.0, 53.0, 44.0, 39.0, 30.0, 50.0, 42.0, 50.0, 54.0, 40.0, 49.0, 46.0, 37.0, 64.0, 42.0, 45.0, 58.0, 31.0, 61.0, 36.0, 47.0, 36.0, 50.0, 59.0, 34.0, 35.0, 54.0, 56.0, 45.0, 62.0, 56.0, 55.0, 43.0, 51.0, 33.0, 60.0, 52.0, 56.0, 48.0, 62.0, 53.0, 44.0, 56.0, 54.0, 64.0, 59.0, 53.0, 34.0, 48.0, 54.0, 32.0, 61.0, 51.0, 53.0, 49.0, 69.0, 46.0, 53.0, 50.0, 41.0, 64.0, 32.0, 50.0, 47.0, 49.0, 64.0, 44.0, 52.0, 56.0, 46.0, 51.0, 55.0, 59.0, 33.0, 59.0, 56.0, 64.0, 39.0, 58.0, 55.0, 43.0, 61.0, 55.0, 49.0, 39.0, 54.0, 44.0, 49.0, 47.0, 43.0, 58.0, 46.0, 61.0, 48.0, 57.0, 56.0, 45.0, 49.0, 54.0, 55.0, 60.0, 66.0, 50.0, 47.0, 56.0, 59.0, 68.0, 57.0, 56.0, 59.0, 44.0, 45.0, 55.0, 62.0, 59.0, 42.0, 52.0, 48.0, 60.0, 67.0, 41.0, 69.0, 65.0, 62.0, 54.0, 41.0, 66.0, 50.0, 38.0, 46.0, 61.0, 51.0, 58.0, 66.0, 52.0, 51.0, 52.0, 49.0, 44.0, 40.0, 49.0, 63.0, 57.0, 56.0, 38.0, 33.0, 41.0, 55.0, 44.0, 41.0, 68.0, 48.0, 49.0, 39.0, 55.0, 62.0, 60.0, 56.0, 43.0, 51.0, 56.0, 39.0, 54.0, 45.0, 48.0, 42.0, 60.0, 52.0, 37.0, 43.0, 48.0, 57.0, 47.0, 54.0, 48.0, 49.0, 47.0, 41.0, 50.0, 50.0, 48.0, 45.0, 47.0, 70.0, 48.0, 58.0, 51.0, 53.0, 69.0, 63.0, 49.0, 42.0, 48.0, 65.0, 34.0, 48.0, 46.0, 46.0, 52.0, 50.0, 61.0, 63.0, 44.0, 54.0, 55.0, 66.0, 45.0, 58.0, 53.0, 49.0, 33.0, 55.0, 45.0, 57.0, 42.0, 54.0, 47.0, 64.0, 68.0, 64.0, 51.0, 46.0, 61.0, 51.0, 36.0, 60.0, 55.0, 51.0, 48.0, 42.0, 54.0, 36.0, 55.0, 47.0, 33.0, 58.0, 49.0, 49.0, 46.0, 48.0, 52.0, 54.0, 50.0, 34.0, 53.0, 65.0, 43.0, 46.0, 56.0, 45.0, 48.0, 49.0, 59.0, 40.0, 58.0, 53.0, 59.0, 56.0, 53.0, 47.0, 56.0, 46.0, 57.0, 47.0, 40.0, 59.0, 45.0, 50.0, 50.0, 53.0, 40.0, 65.0, 38.0, 36.0, 44.0, 46.0, 33.0, 53.0, 43.0, 44.0, 58.0, 52.0, 47.0, 57.0, 36.0, 42.0, 40.0, 44.0, 55.0, 65.0, 56.0, 56.0, 40.0, 62.0, 49.0, 50.0, 55.0, 42.0, 73.0, 54.0, 53.0, 43.0, 50.0, 52.0, 38.0, 58.0, 54.0, 61.0, 43.0, 65.0, 62.0, 62.0, 49.0, 50.0, 55.0, 56.0, 59.0, 55.0, 52.0, 45.0, 41.0, 42.0, 42.0, 33.0, 44.0, 63.0, 61.0, 40.0, 42.0, 51.0, 56.0, 54.0, 68.0, 67.0, 66.0, 63.0, 49.0, 57.0, 44.0, 42.0, 41.0, 63.0, 39.0, 57.0, 53.0, 49.0, 49.0, 67.0, 51.0, 47.0, 36.0, 66.0, 63.0, 32.0, 63.0, 56.0, 55.0, 67.0, 57.0, 60.0, 52.0, 45.0, 59.0, 65.0, 45.0, 36.0, 64.0, 58.0, 43.0, 43.0, 56.0, 60.0, 44.0, 39.0, 59.0, 62.0, 54.0, 64.0, 55.0, 59.0, 43.0, 61.0, 45.0, 45.0, 28.0, 38.0, 55.0, 48.0, 50.0, 44.0, 53.0, 60.0, 55.0, 57.0, 42.0, 52.0, 63.0, 56.0, 64.0, 40.0, 56.0, 55.0, 56.0, 46.0, 39.0, 72.0, 50.0, 64.0, 45.0, 45.0, 51.0, 56.0, 53.0, 56.0, 36.0, 65.0, 54.0, 53.0, 35.0, 49.0, 46.0, 58.0, 46.0, 53.0, 49.0, 62.0, 59.0, 60.0, 56.0, 36.0, 61.0, 61.0, 52.0, 44.0, 65.0, 46.0, 58.0, 56.0, 43.0, 61.0, 62.0, 39.0, 49.0, 57.0, 61.0, 50.0, 64.0, 29.0, 57.0, 52.0, 53.0, 55.0, 41.0, 42.0, 53.0, 62.0, 55.0, 48.0, 48.0, 56.0, 52.0, 53.0, 58.0, 53.0, 56.0, 40.0, 43.0, 38.0, 52.0, 54.0, 51.0, 41.0, 55.0, 53.0, 50.0, 38.0, 50.0, 59.0, 53.0, 36.0, 47.0, 41.0, 39.0, 70.0, 53.0, 42.0, 41.0, 59.0, 48.0, 57.0, 53.0, 47.0, 62.0, 46.0, 47.0, 64.0, 45.0, 51.0, 58.0, 55.0, 47.0, 48.0, 50.0, 58.0, 70.0, 53.0, 34.0, 63.0, 47.0, 43.0, 52.0, 47.0, 62.0, 51.0, 42.0, 61.0, 56.0, 56.0, 68.0, 52.0, 68.0, 51.0, 60.0, 54.0, 41.0, 50.0, 50.0, 49.0, 44.0, 48.0, 60.0, 68.0, 56.0, 60.0, 57.0, 61.0, 62.0, 58.0, 56.0, 54.0, 63.0, 57.0, 55.0, 45.0, 46.0, 55.0, 58.0, 66.0, 48.0, 42.0, 52.0, 55.0, 67.0, 65.0, 42.0, 54.0, 49.0, 49.0, 41.0, 48.0, 48.0, 53.0, 55.0, 44.0, 35.0, 44.0, 47.0, 32.0, 39.0, 41.0, 53.0, 45.0, 44.0, 45.0, 48.0, 74.0, 41.0, 65.0, 43.0, 57.0, 48.0, 41.0, 48.0, 50.0, 49.0, 43.0, 52.0, 46.0, 55.0, 45.0, 61.0, 45.0, 55.0, 52.0, 58.0, 36.0, 46.0, 50.0, 51.0, 39.0, 61.0, 56.0, 45.0, 36.0, 50.0, 56.0, 41.0, 51.0, 45.0, 51.0, 38.0, 48.0, 50.0, 38.0, 52.0, 61.0, 54.0, 62.0, 55.0, 34.0, 56.0, 38.0, 54.0, 42.0, 52.0, 48.0, 44.0, 35.0, 52.0, 44.0, 35.0, 37.0, 64.0, 57.0, 40.0, 57.0, 42.0, 50.0, 62.0, 59.0, 59.0, 42.0, 49.0, 45.0, 54.0, 49.0, 47.0, 83.0, 56.0, 45.0, 50.0, 46.0, 45.0, 43.0, 63.0, 45.0, 51.0, 58.0, 37.0, 62.0, 34.0, 55.0, 49.0, 61.0, 45.0, 47.0, 53.0, 53.0, 43.0, 67.0, 44.0, 38.0, 46.0, 39.0, 56.0, 54.0, 43.0, 44.0, 59.0, 54.0, 39.0, 50.0, 45.0, 47.0, 51.0, 43.0, 54.0, 58.0, 43.0, 51.0, 63.0, 49.0, 51.0, 60.0, 56.0, 65.0, 53.0, 53.0, 52.0, 66.0, 57.0, 59.0, 59.0, 52.0, 53.0, 50.0, 39.0, 53.0, 67.0, 47.0, 56.0, 57.0, 38.0, 57.0, 50.0, 49.0, 54.0, 68.0, 46.0, 53.0, 30.0, 50.0, 47.0, 48.0, 68.0, 53.0, 52.0, 49.0, 56.0, 51.0, 54.0, 40.0, 53.0, 38.0, 46.0, 48.0, 49.0, 47.0, 57.0, 64.0, 72.0, 70.0, 44.0, 63.0, 48.0, 43.0, 56.0, 51.0, 55.0, 75.0, 66.0, 36.0, 46.0, 40.0, 58.0, 43.0, 46.0, 44.0, 58.0, 35.0, 57.0, 53.0, 57.0, 65.0, 38.0, 51.0, 58.0, 64.0, 52.0, 54.0, 35.0, 61.0, 51.0, 48.0, 36.0, 62.0, 72.0, 61.0, 66.0, 47.0, 58.0, 42.0, 40.0, 56.0, 51.0, 53.0, 48.0, 64.0, 41.0, 51.0, 64.0, 55.0, 57.0, 63.0, 53.0, 43.0, 49.0, 61.0, 53.0, 50.0, 61.0, 60.0, 44.0, 63.0, 52.0, 58.0, 38.0, 41.0, 48.0, 44.0, 61.0, 65.0, 45.0, 48.0, 53.0, 45.0, 28.0, 61.0, 46.0, 56.0, 46.0, 52.0, 67.0, 53.0, 55.0, 65.0, 43.0, 48.0, 62.0, 62.0, 49.0, 46.0, 50.0, 52.0, 53.0, 57.0, 52.0, 69.0, 48.0, 56.0, 48.0, 56.0, 61.0, 40.0, 46.0, 55.0, 43.0, 54.0, 59.0, 40.0, 65.0, 51.0, 56.0, 55.0, 57.0, 64.0, 34.0, 50.0, 52.0, 44.0, 66.0, 56.0, 33.0, 57.0, 57.0, 40.0, 51.0, 63.0, 52.0, 53.0, 37.0, 44.0, 56.0, 61.0, 51.0, 51.0, 53.0, 54.0, 53.0, 47.0, 47.0, 38.0, 55.0, 59.0, 40.0, 43.0, 55.0, 36.0, 47.0, 40.0, 53.0, 35.0, 58.0, 59.0, 52.0, 68.0, 52.0, 59.0, 49.0, 42.0, 53.0, 66.0, 63.0, 41.0, 31.0, 57.0, 53.0, 53.0, 55.0, 56.0, 53.0, 48.0, 42.0, 54.0, 46.0, 49.0, 36.0, 41.0, 56.0, 47.0, 47.0, 49.0, 52.0, 36.0, 58.0, 56.0, 48.0, 39.0, 40.0, 63.0, 51.0, 56.0, 46.0, 49.0, 51.0, 56.0, 64.0, 61.0, 45.0, 52.0, 51.0, 45.0, 39.0, 60.0, 53.0, 52.0, 50.0, 58.0, 35.0, 47.0, 49.0, 47.0, 44.0, 38.0, 62.0, 61.0, 54.0, 59.0, 57.0, 48.0, 53.0, 45.0, 44.0, 47.0, 52.0, 42.0, 46.0, 49.0, 55.0, 47.0, 58.0, 60.0, 63.0, 42.0, 65.0, 33.0, 54.0, 49.0, 44.0, 47.0, 48.0, 44.0, 56.0, 65.0, 60.0, 55.0, 58.0, 43.0, 34.0, 58.0, 46.0, 53.0, 58.0, 39.0, 64.0, 41.0, 46.0, 57.0, 59.0, 50.0, 41.0, 58.0, 57.0, 50.0, 37.0, 50.0, 53.0, 48.0, 61.0, 58.0, 57.0, 47.0, 54.0, 55.0, 57.0, 62.0, 43.0, 39.0, 57.0, 57.0, 50.0, 78.0, 67.0, 47.0, 44.0, 56.0, 54.0, 49.0, 53.0, 44.0, 64.0, 52.0, 53.0, 54.0, 57.0, 40.0, 52.0, 57.0, 47.0, 62.0, 49.0, 46.0, 59.0, 55.0, 44.0, 52.0, 56.0, 59.0, 40.0, 71.0, 57.0, 50.0, 50.0, 52.0, 38.0, 61.0, 59.0, 46.0, 50.0, 54.0, 47.0, 65.0, 46.0, 59.0, 53.0, 58.0, 49.0, 50.0, 59.0, 25.0, 54.0, 54.0, 50.0, 43.0, 53.0, 53.0, 61.0, 48.0, 41.0, 58.0, 58.0, 47.0, 58.0, 38.0, 64.0, 62.0, 52.0, 61.0, 50.0, 45.0, 64.0, 52.0, 48.0, 58.0, 48.0, 48.0, 57.0, 61.0, 32.0, 56.0, 51.0, 34.0, 58.0, 37.0, 54.0, 55.0, 60.0, 51.0, 43.0, 59.0, 56.0, 65.0, 46.0, 49.0, 51.0, 67.0, 47.0, 49.0, 45.0, 49.0, 38.0, 40.0, 59.0, 64.0, 50.0, 51.0, 51.0, 48.0, 49.0, 47.0, 38.0, 45.0, 41.0, 46.0, 71.0, 50.0, 34.0, 51.0, 56.0, 47.0, 38.0, 65.0, 58.0, 69.0, 41.0, 54.0, 45.0, 61.0, 57.0, 53.0, 39.0, 54.0, 51.0, 59.0, 59.0, 54.0, 51.0, 60.0, 41.0, 58.0, 38.0, 42.0, 60.0, 39.0, 58.0, 55.0, 46.0, 48.0, 45.0, 49.0, 57.0, 62.0, 67.0, 42.0, 44.0, 40.0, 59.0, 49.0, 59.0, 50.0, 43.0, 57.0, 58.0, 48.0, 42.0, 51.0, 46.0, 54.0, 43.0, 52.0, 52.0, 46.0, 50.0, 39.0, 50.0, 64.0, 56.0, 40.0, 54.0, 62.0, 58.0, 59.0, 51.0, 47.0, 53.0, 55.0, 53.0, 48.0, 51.0, 43.0, 42.0, 42.0, 48.0, 48.0, 51.0, 56.0, 44.0, 63.0, 58.0, 56.0, 39.0, 64.0, 38.0, 47.0, 43.0, 66.0, 48.0, 43.0, 53.0, 44.0, 51.0, 57.0, 47.0, 44.0, 36.0, 39.0, 53.0, 46.0, 61.0, 53.0, 46.0, 59.0, 47.0, 57.0, 53.0, 35.0, 64.0, 60.0, 52.0, 39.0, 42.0, 46.0, 49.0, 61.0, 41.0, 48.0, 50.0, 58.0, 52.0, 50.0, 51.0, 45.0, 51.0, 51.0, 43.0, 42.0, 44.0, 65.0, 46.0, 38.0, 49.0, 61.0, 36.0, 43.0, 44.0, 56.0, 63.0, 44.0, 62.0, 50.0, 50.0, 59.0, 48.0, 54.0, 29.0, 59.0, 59.0, 45.0, 40.0, 43.0, 65.0, 62.0, 50.0, 46.0, 53.0, 45.0, 31.0, 57.0, 68.0, 64.0, 53.0, 58.0, 46.0, 62.0, 30.0, 53.0, 56.0, 63.0, 66.0, 58.0, 52.0, 52.0, 37.0, 47.0, 42.0, 54.0, 45.0, 48.0, 58.0, 54.0, 65.0, 40.0, 47.0, 55.0, 67.0, 37.0, 40.0, 54.0, 56.0, 55.0, 59.0, 52.0, 58.0, 68.0, 53.0, 62.0, 57.0, 46.0, 47.0, 54.0, 59.0, 46.0, 41.0, 47.0, 51.0, 49.0, 41.0, 50.0, 55.0, 60.0, 41.0, 67.0, 59.0, 53.0, 44.0, 51.0, 40.0, 59.0, 59.0, 44.0, 57.0, 53.0, 38.0, 52.0, 47.0, 49.0, 58.0, 42.0, 50.0, 47.0, 61.0, 40.0, 49.0, 46.0, 39.0, 47.0, 61.0, 68.0, 41.0, 48.0, 63.0, 42.0, 44.0, 66.0, 49.0, 53.0, 53.0, 59.0, 61.0, 39.0, 64.0, 40.0, 41.0, 59.0, 54.0, 49.0, 59.0, 45.0, 55.0, 43.0, 55.0, 49.0, 66.0, 36.0, 46.0, 46.0, 61.0, 50.0, 55.0, 32.0, 48.0, 34.0, 35.0, 48.0, 59.0, 42.0, 43.0, 48.0, 60.0, 55.0, 49.0, 53.0, 38.0, 66.0, 55.0, 42.0, 38.0, 46.0, 59.0, 54.0, 52.0, 52.0, 58.0, 43.0, 47.0, 45.0, 62.0, 54.0, 55.0, 44.0, 64.0, 63.0, 51.0, 48.0, 48.0, 54.0, 38.0, 60.0, 48.0, 49.0, 47.0, 48.0, 51.0, 53.0, 56.0, 56.0, 55.0, 47.0, 49.0, 65.0, 46.0, 33.0, 40.0, 42.0, 55.0, 52.0, 61.0, 44.0, 65.0, 54.0, 48.0, 67.0, 70.0, 57.0, 65.0, 61.0, 45.0, 47.0, 49.0, 38.0, 58.0, 44.0, 57.0, 34.0, 47.0, 46.0, 46.0, 48.0, 62.0, 57.0, 52.0, 50.0, 57.0, 44.0, 57.0, 65.0, 40.0, 58.0, 56.0, 64.0, 59.0, 41.0, 58.0, 40.0, 51.0, 49.0, 37.0, 60.0, 60.0, 65.0, 42.0, 61.0, 52.0, 58.0, 52.0, 50.0, 46.0, 62.0, 57.0, 56.0, 49.0, 48.0, 56.0, 56.0, 65.0, 34.0, 56.0, 37.0, 63.0, 47.0, 47.0, 52.0, 50.0, 36.0, 36.0, 60.0, 61.0, 45.0, 55.0, 42.0, 52.0, 58.0, 47.0, 35.0, 61.0, 55.0, 46.0, 69.0, 41.0, 51.0, 46.0, 47.0, 54.0, 58.0, 38.0, 42.0, 42.0, 56.0, 31.0, 30.0, 66.0, 37.0, 42.0, 66.0, 34.0, 49.0, 51.0, 52.0, 66.0, 45.0, 55.0, 59.0, 60.0, 50.0, 55.0, 42.0, 42.0, 37.0, 60.0, 64.0, 52.0, 50.0, 59.0, 52.0, 41.0, 44.0, 57.0, 42.0, 53.0, 54.0, 60.0, 43.0, 56.0, 56.0, 44.0, 50.0, 25.0, 58.0, 55.0, 48.0, 46.0, 69.0, 52.0, 60.0, 62.0, 52.0, 57.0, 46.0, 47.0, 54.0, 46.0, 61.0, 52.0, 55.0, 56.0, 55.0, 44.0, 61.0, 47.0, 52.0, 40.0, 61.0, 57.0, 52.0, 68.0, 50.0, 40.0, 54.0, 49.0, 50.0, 33.0, 52.0, 56.0, 46.0, 48.0, 61.0, 43.0, 59.0, 63.0, 54.0, 61.0, 56.0, 66.0, 32.0, 53.0, 53.0, 62.0, 50.0, 65.0, 55.0, 50.0, 45.0, 54.0, 43.0, 42.0, 42.0, 49.0, 59.0, 41.0, 60.0, 30.0, 41.0, 54.0, 55.0, 45.0, 66.0, 51.0, 47.0, 55.0, 66.0, 44.0, 40.0, 57.0, 61.0, 53.0, 43.0, 52.0, 54.0, 59.0, 50.0, 46.0, 63.0, 54.0, 62.0, 69.0, 40.0, 47.0, 50.0, 55.0, 59.0, 42.0, 38.0, 45.0, 47.0, 47.0, 36.0, 45.0, 51.0, 40.0, 44.0, 61.0, 36.0, 53.0, 33.0, 39.0, 47.0, 51.0, 56.0, 66.0, 65.0, 71.0, 61.0, 48.0, 52.0, 55.0, 42.0, 51.0, 58.0, 47.0, 54.0, 64.0, 42.0, 54.0, 50.0, 44.0, 43.0, 59.0, 46.0, 55.0, 51.0, 45.0, 53.0, 55.0, 51.0, 53.0, 52.0, 54.0, 43.0, 57.0, 52.0, 41.0, 52.0, 36.0, 45.0, 52.0, 52.0, 77.0, 49.0, 44.0, 69.0, 73.0, 42.0, 58.0, 50.0, 55.0, 62.0, 48.0, 37.0, 49.0, 49.0, 47.0, 56.0, 52.0, 45.0, 55.0, 51.0, 52.0, 50.0, 37.0, 60.0, 64.0, 67.0, 39.0, 75.0, 41.0, 46.0, 49.0, 40.0, 65.0, 53.0, 39.0, 49.0, 41.0, 53.0, 42.0, 58.0, 60.0, 62.0, 51.0, 43.0, 62.0, 53.0, 42.0, 59.0, 45.0, 44.0, 57.0, 65.0, 46.0, 37.0, 62.0, 60.0, 49.0, 54.0, 45.0, 58.0, 38.0, 61.0, 52.0, 36.0, 75.0, 52.0, 55.0, 56.0, 51.0, 56.0, 50.0, 30.0, 50.0, 37.0, 66.0, 49.0, 46.0, 40.0, 43.0, 59.0, 45.0, 45.0, 48.0, 40.0, 44.0, 48.0, 49.0, 37.0, 63.0, 56.0, 45.0, 57.0, 55.0, 45.0, 35.0, 47.0, 57.0, 47.0, 62.0, 44.0, 43.0, 44.0, 55.0, 64.0, 44.0, 52.0, 56.0, 59.0, 36.0, 46.0, 45.0, 30.0, 43.0, 54.0, 50.0, 48.0, 37.0, 57.0, 54.0, 45.0, 40.0, 65.0, 62.0, 43.0, 55.0, 47.0, 53.0, 53.0, 62.0, 48.0, 50.0, 63.0, 49.0, 54.0, 49.0, 48.0, 51.0, 51.0, 47.0, 55.0, 47.0, 46.0, 49.0, 61.0, 48.0, 53.0, 63.0, 49.0, 46.0, 39.0, 47.0, 56.0, 44.0, 54.0, 46.0, 28.0, 54.0, 33.0, 56.0, 72.0, 34.0, 43.0, 52.0, 44.0, 42.0, 38.0, 58.0, 51.0, 39.0, 56.0, 52.0, 59.0, 60.0, 58.0, 39.0, 53.0, 38.0, 61.0, 41.0, 47.0, 49.0, 46.0, 68.0, 63.0, 55.0, 56.0, 34.0, 56.0, 47.0, 59.0, 61.0, 51.0, 49.0, 54.0, 42.0, 51.0, 47.0, 48.0, 53.0, 40.0, 44.0, 51.0, 64.0, 49.0, 41.0, 42.0, 41.0, 42.0, 60.0, 53.0, 65.0, 57.0, 52.0, 41.0, 61.0, 68.0, 53.0, 51.0, 51.0, 52.0, 49.0, 45.0, 61.0, 46.0, 58.0, 46.0, 46.0, 61.0, 48.0, 39.0, 54.0, 51.0, 55.0, 48.0, 62.0, 54.0, 44.0, 49.0, 53.0, 44.0, 52.0, 50.0, 51.0, 53.0, 56.0, 56.0, 47.0, 36.0, 63.0, 63.0, 57.0, 55.0, 55.0, 38.0, 52.0, 46.0, 47.0, 54.0, 66.0, 43.0, 43.0, 43.0, 53.0, 63.0, 55.0, 47.0, 52.0, 61.0, 46.0, 37.0, 53.0, 40.0, 64.0, 53.0, 45.0, 50.0, 51.0, 33.0, 41.0, 52.0, 55.0, 57.0, 57.0, 48.0, 68.0, 54.0, 47.0, 40.0, 43.0, 51.0, 42.0, 57.0, 54.0, 52.0, 54.0, 47.0, 36.0, 50.0, 59.0, 42.0, 55.0, 48.0, 56.0, 57.0, 51.0, 46.0, 49.0, 58.0, 68.0, 53.0, 59.0, 59.0, 41.0, 51.0, 42.0, 44.0, 56.0, 45.0, 39.0, 61.0, 49.0, 34.0, 40.0, 35.0, 65.0, 39.0, 51.0, 66.0, 41.0, 71.0, 45.0, 70.0, 54.0, 49.0, 49.0, 33.0, 58.0, 57.0, 65.0, 44.0, 40.0, 50.0, 65.0, 41.0, 37.0, 51.0, 48.0, 63.0, 57.0, 48.0, 54.0, 51.0, 37.0, 49.0, 57.0, 55.0, 50.0, 33.0, 46.0, 42.0, 64.0, 58.0, 53.0, 29.0, 49.0, 23.0, 58.0, 65.0, 35.0, 55.0, 48.0, 41.0, 51.0, 45.0, 38.0, 48.0, 66.0, 53.0, 50.0, 54.0, 47.0, 50.0, 48.0, 49.0, 55.0, 61.0, 51.0, 57.0, 49.0, 62.0, 53.0, 50.0, 47.0, 64.0, 46.0, 48.0, 54.0, 42.0, 60.0, 48.0, 60.0, 59.0, 67.0, 50.0, 49.0, 57.0, 57.0, 50.0, 46.0, 65.0, 42.0, 48.0, 56.0, 54.0, 46.0, 53.0, 50.0, 54.0, 39.0, 55.0, 41.0, 61.0, 54.0, 59.0, 41.0, 56.0, 52.0, 50.0, 35.0, 39.0, 58.0, 60.0, 50.0, 60.0, 59.0, 62.0, 50.0, 49.0, 38.0, 36.0, 55.0, 60.0, 46.0, 45.0, 47.0, 66.0, 56.0, 56.0, 45.0, 59.0, 54.0, 44.0, 51.0, 50.0, 63.0, 42.0, 43.0, 53.0, 42.0, 56.0, 58.0, 43.0, 46.0, 55.0, 60.0, 49.0, 42.0, 38.0, 56.0, 58.0, 44.0, 52.0, 55.0, 52.0, 33.0, 41.0, 55.0, 58.0, 50.0, 42.0, 55.0, 47.0, 35.0, 75.0, 50.0, 62.0, 66.0, 40.0, 55.0, 57.0, 55.0, 46.0, 49.0, 48.0, 61.0, 47.0, 61.0, 54.0, 44.0, 51.0, 63.0, 49.0, 49.0, 55.0, 68.0, 53.0, 41.0, 66.0, 38.0, 40.0, 55.0, 48.0, 43.0, 56.0, 34.0, 58.0, 34.0, 63.0, 49.0, 71.0, 36.0, 49.0, 49.0, 58.0, 58.0, 67.0, 41.0, 53.0, 56.0, 45.0, 58.0, 50.0, 58.0, 58.0, 49.0, 53.0, 37.0, 39.0, 39.0, 57.0, 57.0, 55.0, 45.0, 51.0, 38.0, 49.0, 54.0, 62.0, 45.0, 39.0, 58.0, 48.0, 55.0, 57.0, 45.0, 57.0, 47.0, 60.0, 59.0, 47.0, 51.0, 45.0, 63.0, 46.0, 52.0, 52.0, 57.0, 61.0, 42.0, 60.0, 72.0, 36.0, 50.0, 43.0, 40.0, 39.0, 42.0, 40.0, 47.0, 57.0, 57.0, 55.0, 48.0, 51.0, 45.0, 53.0, 62.0, 60.0, 37.0, 52.0, 52.0, 52.0, 46.0, 40.0, 51.0, 41.0, 50.0, 62.0, 45.0, 51.0, 55.0, 52.0, 43.0, 39.0, 53.0, 47.0, 54.0, 41.0, 36.0, 52.0, 62.0, 51.0, 33.0, 44.0, 37.0, 58.0, 62.0, 49.0, 60.0, 53.0, 45.0, 41.0, 54.0, 43.0, 59.0, 45.0, 52.0, 55.0, 63.0, 51.0, 49.0, 45.0, 46.0, 56.0, 44.0, 55.0, 49.0, 41.0, 47.0, 48.0, 38.0, 39.0, 50.0, 51.0, 62.0, 54.0, 38.0, 60.0, 65.0, 44.0, 72.0, 53.0, 62.0, 51.0, 38.0, 48.0, 50.0, 55.0, 56.0, 56.0, 46.0, 37.0, 48.0, 51.0, 63.0, 49.0, 46.0, 63.0, 42.0, 47.0, 46.0, 46.0, 55.0, 66.0, 35.0, 63.0, 58.0, 52.0, 58.0, 51.0, 36.0, 53.0, 51.0, 42.0, 47.0, 47.0, 54.0, 36.0, 64.0, 60.0, 56.0, 37.0, 59.0, 37.0, 51.0, 57.0, 57.0, 51.0, 58.0, 41.0, 67.0, 52.0, 53.0, 50.0, 51.0, 57.0, 62.0, 45.0, 35.0, 56.0, 45.0, 49.0, 49.0, 48.0, 73.0, 49.0, 48.0, 42.0, 48.0, 46.0, 41.0, 53.0, 55.0, 38.0, 53.0, 53.0, 48.0, 44.0, 62.0, 67.0, 52.0, 35.0, 55.0, 50.0, 67.0, 58.0, 47.0, 59.0, 60.0, 52.0, 47.0, 60.0, 33.0, 52.0, 54.0, 53.0, 52.0, 60.0, 42.0, 58.0, 46.0, 59.0, 46.0, 39.0, 44.0, 36.0, 52.0, 56.0, 43.0, 52.0, 56.0, 54.0, 42.0, 60.0, 57.0, 61.0, 55.0, 55.0, 57.0, 51.0, 48.0, 61.0, 38.0, 53.0, 48.0, 42.0, 53.0, 45.0, 60.0, 67.0, 46.0, 43.0, 54.0, 46.0, 59.0, 62.0, 52.0, 45.0, 47.0, 62.0, 45.0, 64.0, 53.0, 35.0, 45.0, 52.0, 51.0, 48.0, 59.0, 42.0, 65.0, 56.0, 38.0, 53.0, 54.0, 52.0, 45.0, 56.0, 59.0, 48.0, 52.0, 66.0, 52.0, 54.0, 49.0, 58.0, 54.0, 36.0, 42.0, 49.0, 54.0, 67.0, 60.0, 57.0, 54.0, 42.0, 41.0, 56.0, 43.0, 44.0, 54.0, 34.0, 52.0, 32.0, 49.0, 62.0, 56.0, 49.0, 59.0, 37.0, 56.0, 54.0, 45.0, 53.0, 57.0, 44.0, 46.0, 41.0, 63.0, 47.0, 46.0, 65.0, 63.0, 39.0, 49.0, 51.0, 62.0, 47.0, 65.0, 37.0, 54.0, 42.0, 41.0, 37.0, 62.0, 50.0, 37.0, 59.0, 50.0, 36.0, 59.0, 46.0, 41.0, 33.0, 69.0, 51.0, 41.0, 54.0, 61.0, 42.0, 40.0, 64.0, 61.0, 44.0, 53.0, 45.0, 39.0, 65.0, 40.0, 47.0, 42.0, 45.0, 43.0, 48.0, 64.0, 55.0, 43.0, 38.0, 60.0, 60.0, 50.0, 50.0, 44.0, 43.0, 30.0, 57.0, 53.0, 38.0, 51.0, 50.0, 47.0, 41.0, 65.0, 50.0, 53.0, 49.0, 45.0, 38.0, 52.0, 48.0, 48.0, 48.0, 56.0, 55.0, 34.0, 60.0, 58.0, 58.0, 42.0, 60.0, 45.0, 41.0, 44.0, 52.0, 50.0, 42.0, 43.0, 53.0, 49.0, 52.0, 45.0, 40.0, 52.0, 37.0, 53.0, 40.0, 49.0, 46.0, 52.0, 50.0, 39.0, 47.0, 42.0, 57.0, 51.0, 53.0, 39.0, 60.0, 45.0, 48.0, 44.0, 67.0, 66.0, 58.0, 39.0, 59.0, 69.0, 41.0, 47.0, 49.0, 41.0, 50.0, 44.0, 51.0, 54.0, 56.0, 57.0, 43.0, 52.0, 37.0, 32.0, 53.0, 40.0, 63.0, 48.0, 60.0, 46.0, 55.0, 51.0, 53.0, 62.0, 35.0, 57.0, 55.0, 49.0, 55.0, 50.0, 61.0, 56.0, 53.0, 57.0, 56.0, 55.0, 50.0, 47.0, 65.0, 46.0, 55.0, 35.0, 37.0, 49.0, 33.0, 48.0, 48.0, 39.0, 55.0, 46.0, 50.0, 46.0, 60.0, 58.0, 54.0, 49.0, 46.0, 70.0, 50.0, 42.0, 46.0, 43.0, 67.0, 43.0, 34.0, 38.0, 46.0, 59.0, 54.0, 46.0, 42.0, 54.0, 68.0, 55.0, 46.0, 48.0, 47.0, 70.0, 46.0, 52.0, 61.0, 59.0, 64.0, 57.0, 53.0, 50.0, 47.0, 42.0, 63.0, 40.0, 59.0, 34.0, 49.0, 55.0, 50.0, 53.0, 48.0, 47.0, 41.0, 31.0, 40.0, 46.0, 49.0, 48.0, 32.0, 55.0, 59.0, 50.0, 39.0, 53.0, 55.0, 63.0, 44.0, 59.0, 52.0, 58.0, 49.0, 57.0, 54.0, 56.0, 60.0, 39.0, 48.0, 58.0, 64.0, 44.0, 43.0, 50.0, 46.0, 54.0, 53.0, 48.0, 46.0, 40.0, 46.0, 53.0, 58.0, 51.0, 64.0, 44.0, 60.0, 45.0, 45.0, 35.0, 63.0, 56.0, 44.0, 44.0, 58.0, 60.0, 56.0, 59.0, 42.0, 46.0, 51.0, 49.0, 53.0, 61.0, 54.0, 46.0, 52.0, 40.0, 44.0, 57.0, 54.0, 55.0, 54.0, 59.0, 48.0, 58.0, 45.0, 45.0, 55.0, 41.0, 42.0, 58.0, 39.0, 53.0, 42.0, 70.0, 56.0, 48.0, 48.0, 66.0, 42.0, 43.0, 59.0, 33.0, 50.0, 44.0, 62.0, 58.0, 48.0, 35.0, 45.0, 44.0, 49.0, 43.0, 54.0, 49.0, 50.0, 53.0, 58.0, 49.0, 54.0, 37.0, 43.0, 54.0, 44.0, 57.0, 51.0, 61.0, 48.0, 60.0, 56.0, 47.0, 50.0, 52.0, 41.0, 54.0, 46.0, 59.0, 71.0, 51.0, 54.0, 69.0, 45.0, 40.0, 54.0, 39.0, 58.0, 45.0, 62.0, 66.0, 49.0, 52.0, 50.0, 51.0, 43.0, 61.0, 54.0, 50.0, 54.0, 55.0, 49.0, 42.0, 59.0, 51.0, 47.0, 47.0, 32.0, 64.0, 48.0, 52.0, 38.0, 47.0, 46.0, 61.0, 47.0, 57.0, 56.0, 51.0, 52.0, 52.0, 55.0, 48.0, 60.0, 55.0, 57.0, 59.0, 56.0, 52.0, 60.0, 44.0, 48.0, 50.0, 47.0, 61.0, 67.0, 55.0, 57.0, 56.0, 50.0, 56.0, 62.0, 48.0, 61.0, 37.0, 47.0, 50.0, 43.0, 59.0, 57.0, 47.0, 36.0, 56.0, 40.0, 63.0, 49.0, 66.0, 50.0, 60.0, 51.0, 38.0, 48.0, 51.0, 37.0, 52.0, 58.0, 48.0, 62.0, 50.0, 62.0, 53.0, 58.0, 47.0, 48.0, 41.0, 56.0, 64.0, 40.0, 46.0, 52.0, 61.0, 64.0, 51.0, 61.0, 51.0, 63.0, 48.0, 52.0, 62.0, 71.0, 42.0, 54.0, 43.0, 31.0, 48.0, 50.0, 37.0, 42.0, 53.0, 48.0, 51.0, 59.0, 37.0, 54.0, 49.0, 40.0, 63.0, 64.0, 63.0, 46.0, 44.0, 37.0, 56.0, 43.0, 54.0, 42.0, 51.0, 52.0, 60.0, 43.0, 44.0, 52.0, 48.0, 35.0, 59.0, 38.0, 57.0, 55.0, 36.0, 41.0, 46.0, 50.0, 41.0, 53.0, 55.0, 55.0, 45.0, 57.0, 47.0, 46.0, 66.0, 56.0, 58.0, 55.0, 57.0, 54.0, 61.0, 48.0, 39.0, 43.0, 47.0, 54.0, 36.0, 38.0, 56.0, 63.0, 47.0, 46.0, 40.0, 56.0, 53.0, 46.0, 49.0, 59.0, 42.0, 48.0, 57.0, 48.0, 46.0, 62.0, 42.0, 49.0, 57.0, 45.0, 65.0, 52.0, 53.0, 52.0, 46.0, 69.0, 64.0, 61.0, 54.0, 43.0, 52.0, 54.0, 54.0, 38.0, 62.0, 61.0, 44.0, 57.0, 47.0, 47.0, 59.0, 56.0, 57.0, 47.0, 61.0, 54.0, 53.0, 38.0, 59.0, 49.0, 39.0, 46.0, 55.0, 48.0, 59.0, 39.0, 23.0, 46.0, 65.0, 57.0, 54.0, 51.0, 50.0, 50.0, 63.0, 36.0, 51.0, 62.0, 44.0, 52.0, 51.0, 38.0, 40.0, 53.0, 43.0, 52.0, 51.0, 53.0, 52.0, 50.0, 46.0, 50.0, 59.0, 36.0, 47.0, 57.0, 43.0, 63.0, 35.0, 57.0, 46.0, 63.0, 44.0, 54.0, 44.0, 57.0, 45.0, 56.0, 48.0, 48.0, 49.0, 71.0, 48.0, 45.0, 49.0, 45.0, 48.0, 37.0, 36.0, 49.0, 54.0, 40.0, 66.0, 46.0, 58.0, 36.0, 53.0, 39.0, 39.0, 35.0, 41.0, 52.0, 53.0, 57.0, 35.0, 38.0, 40.0, 50.0, 47.0, 56.0, 57.0, 49.0, 58.0, 53.0, 45.0, 52.0, 63.0, 46.0, 49.0, 52.0, 48.0, 50.0, 38.0, 48.0, 47.0, 41.0, 66.0, 39.0, 55.0, 43.0, 58.0, 50.0, 51.0, 56.0, 40.0, 55.0, 55.0, 52.0, 41.0, 61.0, 54.0, 45.0, 36.0, 37.0, 51.0, 47.0, 43.0, 40.0, 42.0, 38.0, 47.0, 53.0, 61.0, 62.0, 59.0, 38.0, 53.0, 40.0, 60.0, 62.0, 60.0, 55.0, 65.0, 43.0, 44.0, 42.0, 41.0, 50.0, 40.0, 56.0, 37.0, 54.0, 55.0, 52.0, 65.0, 59.0, 50.0, 40.0, 46.0, 69.0, 62.0, 58.0, 61.0, 55.0, 50.0, 36.0, 56.0, 36.0, 48.0, 52.0, 33.0, 54.0, 57.0, 57.0, 64.0, 59.0, 59.0, 56.0, 54.0, 45.0, 65.0, 54.0, 42.0, 30.0, 70.0, 56.0, 49.0, 43.0, 42.0, 48.0, 66.0, 54.0, 46.0, 57.0, 65.0, 55.0, 42.0, 56.0, 48.0, 57.0, 54.0, 58.0, 53.0, 60.0, 52.0, 35.0, 46.0, 56.0, 40.0, 55.0, 59.0, 37.0, 54.0, 37.0, 44.0, 55.0, 38.0, 58.0, 47.0, 73.0, 35.0, 63.0, 54.0, 51.0, 38.0, 48.0, 41.0, 55.0, 55.0, 60.0, 53.0, 62.0, 59.0, 43.0, 45.0, 65.0, 35.0, 52.0, 59.0, 61.0, 36.0, 50.0, 51.0, 52.0, 49.0, 50.0, 49.0, 48.0, 44.0, 41.0, 58.0, 53.0, 49.0, 50.0, 55.0, 49.0, 48.0, 57.0, 49.0, 38.0, 58.0, 40.0, 36.0, 46.0, 53.0, 59.0, 52.0, 49.0, 53.0, 45.0, 53.0, 47.0, 35.0, 71.0, 51.0, 53.0, 40.0, 54.0, 56.0, 42.0, 73.0, 40.0, 42.0, 55.0, 41.0, 44.0, 58.0, 52.0, 61.0, 59.0, 48.0, 46.0, 47.0, 63.0, 30.0, 52.0, 43.0, 52.0, 62.0, 43.0, 40.0, 51.0, 61.0, 54.0, 51.0, 49.0, 49.0, 57.0, 58.0, 59.0, 53.0, 42.0, 52.0, 46.0, 53.0, 51.0, 58.0, 43.0, 49.0, 59.0, 59.0, 61.0, 51.0, 71.0, 56.0, 53.0, 36.0, 56.0, 47.0, 35.0, 55.0, 53.0, 55.0, 54.0, 40.0, 62.0, 48.0, 45.0, 62.0, 54.0, 49.0, 49.0, 49.0, 46.0, 54.0, 41.0, 43.0, 42.0, 47.0, 43.0, 48.0, 51.0, 61.0, 66.0, 45.0, 43.0, 53.0, 29.0, 47.0, 54.0, 53.0, 57.0, 44.0, 45.0, 57.0, 72.0, 41.0, 57.0, 64.0, 50.0, 52.0, 58.0, 49.0, 60.0, 45.0, 57.0, 52.0, 54.0, 50.0, 49.0, 59.0, 50.0, 42.0, 58.0, 69.0, 41.0, 57.0, 54.0, 48.0, 53.0, 49.0, 55.0, 53.0, 47.0, 40.0, 56.0, 50.0, 52.0, 74.0, 48.0, 39.0, 49.0, 49.0, 60.0, 38.0, 38.0, 41.0, 53.0, 57.0, 55.0, 58.0, 51.0, 63.0, 52.0, 59.0, 45.0, 49.0, 44.0, 57.0, 46.0, 44.0, 52.0, 52.0, 55.0, 52.0, 47.0, 43.0, 69.0, 35.0, 61.0, 40.0, 45.0, 58.0, 49.0, 47.0, 44.0, 52.0, 62.0, 52.0, 63.0, 58.0, 53.0, 50.0, 53.0, 52.0, 46.0, 48.0, 51.0, 52.0, 46.0, 44.0, 53.0, 37.0, 41.0, 47.0, 51.0, 59.0, 47.0, 54.0, 47.0, 47.0, 57.0, 51.0, 64.0, 44.0, 61.0, 33.0, 56.0, 60.0, 53.0, 56.0, 38.0, 42.0, 67.0, 42.0, 64.0, 53.0, 46.0, 48.0, 45.0, 68.0, 51.0, 47.0, 46.0, 50.0, 54.0, 48.0, 57.0, 43.0, 55.0, 53.0, 41.0, 41.0, 56.0, 33.0, 39.0, 56.0, 46.0, 55.0, 54.0, 49.0, 53.0, 37.0, 49.0, 55.0, 61.0, 45.0, 39.0, 54.0, 40.0, 43.0, 48.0, 52.0, 37.0, 53.0, 58.0, 56.0, 41.0, 57.0, 59.0, 61.0, 52.0, 63.0, 57.0, 66.0, 48.0, 25.0, 66.0, 46.0, 66.0, 53.0, 44.0, 46.0, 41.0, 44.0, 59.0, 46.0, 62.0, 51.0, 47.0, 46.0, 40.0, 54.0, 50.0, 48.0, 55.0, 41.0, 47.0, 51.0, 45.0, 56.0, 36.0, 54.0, 53.0, 46.0, 33.0, 39.0, 65.0, 33.0, 47.0, 48.0, 43.0, 61.0, 37.0, 46.0, 58.0, 65.0, 49.0, 40.0, 48.0, 30.0, 39.0, 41.0, 57.0, 52.0, 50.0, 49.0, 60.0, 54.0, 50.0, 56.0, 39.0, 66.0, 57.0, 55.0, 43.0, 42.0, 33.0, 47.0, 52.0, 58.0, 46.0, 43.0, 48.0, 62.0, 44.0, 49.0, 54.0, 45.0, 56.0, 60.0, 58.0, 65.0, 42.0, 60.0, 63.0, 32.0, 55.0, 39.0, 60.0, 48.0, 45.0, 62.0, 56.0, 45.0, 52.0, 46.0, 53.0, 61.0, 64.0, 44.0, 54.0, 56.0, 59.0, 46.0, 66.0, 52.0, 46.0, 53.0, 50.0, 52.0, 55.0, 43.0, 53.0, 38.0, 48.0, 52.0, 45.0, 56.0, 40.0, 51.0, 56.0, 63.0, 61.0, 50.0, 36.0, 47.0, 60.0, 38.0, 50.0, 54.0, 46.0, 54.0, 63.0, 57.0, 38.0, 54.0, 54.0, 47.0, 49.0, 33.0, 46.0, 39.0, 54.0, 57.0, 45.0, 54.0, 67.0, 51.0, 64.0, 56.0, 48.0, 43.0, 52.0, 41.0, 43.0, 60.0, 46.0, 54.0, 63.0, 64.0, 56.0, 55.0, 44.0, 47.0, 47.0, 58.0, 45.0, 50.0, 53.0, 48.0, 59.0, 55.0, 49.0, 53.0, 47.0, 47.0, 56.0, 53.0, 54.0, 48.0, 42.0, 60.0, 57.0, 60.0, 61.0, 79.0, 69.0, 53.0, 57.0, 58.0, 56.0, 50.0, 52.0, 68.0, 54.0, 59.0, 61.0, 49.0, 38.0, 65.0, 49.0, 47.0, 39.0, 49.0, 44.0, 45.0, 43.0, 61.0, 51.0, 45.0, 58.0, 58.0, 62.0, 55.0, 46.0, 52.0, 52.0, 37.0, 41.0, 61.0, 60.0, 53.0, 52.0, 37.0, 38.0, 52.0, 46.0, 60.0, 55.0, 49.0, 42.0, 56.0, 60.0, 49.0, 61.0, 47.0, 49.0, 56.0, 55.0, 62.0, 47.0, 55.0, 58.0, 37.0, 59.0, 55.0, 52.0, 66.0, 51.0, 54.0, 36.0, 42.0, 57.0, 43.0, 48.0, 51.0, 51.0, 56.0, 69.0, 49.0, 51.0, 48.0, 55.0, 28.0, 60.0, 59.0, 50.0, 45.0, 33.0, 54.0, 75.0, 43.0, 51.0, 50.0, 56.0, 47.0, 48.0, 52.0, 31.0, 68.0, 52.0, 63.0, 60.0, 58.0, 56.0, 43.0, 40.0, 36.0, 54.0, 38.0, 51.0, 57.0, 54.0, 73.0, 47.0, 46.0, 54.0, 46.0, 60.0, 43.0, 57.0, 56.0, 51.0, 38.0, 50.0, 57.0, 51.0, 46.0, 42.0, 28.0, 50.0, 36.0, 43.0, 46.0, 42.0, 60.0, 60.0, 60.0, 64.0, 54.0, 46.0, 59.0, 55.0, 48.0, 62.0, 47.0, 41.0, 53.0, 49.0, 56.0, 54.0, 53.0, 50.0, 48.0, 47.0, 45.0, 40.0, 43.0, 39.0, 56.0, 49.0, 38.0, 54.0, 38.0, 51.0, 61.0, 55.0, 56.0, 46.0, 60.0, 53.0, 53.0, 47.0, 53.0, 58.0, 47.0, 52.0, 42.0, 51.0, 53.0, 57.0, 51.0, 54.0, 59.0, 64.0, 61.0, 45.0, 52.0, 59.0, 42.0, 55.0, 45.0, 53.0, 42.0, 32.0, 50.0, 38.0, 57.0, 43.0, 51.0, 53.0, 71.0, 57.0, 60.0, 61.0, 66.0, 49.0, 32.0, 55.0, 46.0, 72.0, 54.0, 55.0, 58.0, 45.0, 48.0, 48.0, 51.0, 55.0, 42.0, 43.0, 52.0, 53.0, 50.0, 38.0, 39.0, 67.0, 33.0, 52.0, 64.0, 51.0, 50.0, 52.0, 46.0, 45.0, 55.0, 50.0, 66.0, 55.0, 53.0, 44.0, 37.0, 55.0, 54.0, 50.0, 49.0, 44.0, 63.0, 54.0, 62.0, 58.0, 45.0, 46.0, 52.0, 62.0, 49.0, 48.0, 49.0, 57.0, 51.0, 56.0, 41.0, 55.0, 41.0, 45.0, 53.0, 49.0, 42.0, 54.0, 49.0, 50.0, 50.0, 54.0, 44.0, 47.0, 41.0, 51.0, 49.0, 29.0, 53.0, 47.0, 46.0, 37.0, 70.0, 57.0, 37.0, 42.0, 35.0, 48.0, 63.0, 61.0, 50.0, 55.0, 46.0, 54.0, 57.0, 42.0, 62.0, 59.0, 56.0, 44.0, 50.0, 54.0, 45.0, 44.0, 47.0, 61.0, 60.0, 55.0, 64.0, 66.0, 51.0, 68.0, 51.0, 65.0, 53.0, 41.0, 57.0, 65.0, 41.0, 46.0, 53.0, 63.0, 57.0, 48.0, 46.0, 64.0, 55.0, 55.0, 56.0, 48.0, 54.0, 47.0, 57.0, 50.0, 45.0, 51.0, 59.0, 46.0, 49.0, 54.0, 60.0, 53.0, 52.0, 43.0, 46.0, 45.0, 63.0, 64.0, 60.0, 44.0, 52.0, 49.0, 58.0, 45.0, 41.0, 53.0, 60.0, 45.0, 53.0, 57.0, 44.0, 56.0, 58.0, 68.0, 53.0, 58.0, 43.0, 53.0, 58.0, 44.0, 62.0, 47.0, 42.0, 55.0, 49.0, 59.0, 50.0, 64.0, 52.0, 75.0, 44.0, 41.0, 46.0, 53.0, 56.0, 65.0, 61.0, 44.0, 36.0, 41.0, 55.0, 62.0, 48.0, 43.0, 40.0, 45.0, 58.0, 53.0, 54.0, 55.0, 62.0, 68.0, 45.0, 39.0, 49.0, 53.0, 60.0, 56.0, 42.0, 55.0, 58.0, 28.0, 55.0, 57.0, 35.0, 46.0, 60.0, 60.0, 66.0, 64.0, 49.0, 54.0, 54.0, 30.0, 47.0, 51.0, 49.0, 58.0, 59.0, 66.0, 55.0, 53.0, 51.0, 54.0, 56.0, 41.0, 52.0, 53.0, 59.0, 61.0, 42.0, 55.0, 51.0, 37.0, 56.0, 49.0, 56.0, 44.0, 45.0, 43.0, 38.0, 64.0, 60.0, 45.0, 51.0, 52.0, 41.0, 40.0, 43.0, 56.0, 56.0, 57.0, 59.0, 58.0, 53.0, 61.0, 44.0, 53.0, 56.0, 43.0, 41.0, 56.0, 48.0, 36.0, 58.0, 62.0, 48.0, 52.0, 48.0, 55.0, 43.0, 44.0, 54.0, 55.0, 59.0, 58.0, 39.0, 60.0, 48.0, 67.0, 41.0, 58.0, 55.0, 45.0, 51.0, 54.0, 36.0, 66.0, 40.0, 54.0, 53.0, 40.0, 48.0, 54.0, 51.0, 38.0, 60.0, 43.0, 41.0, 70.0, 47.0, 44.0, 52.0, 44.0, 48.0, 50.0, 41.0, 52.0, 45.0, 57.0, 61.0, 49.0, 59.0, 64.0, 40.0, 43.0, 32.0, 63.0, 55.0, 44.0, 47.0, 39.0, 58.0, 62.0, 59.0, 47.0, 54.0, 56.0, 57.0, 52.0, 44.0, 53.0, 47.0, 54.0, 62.0, 59.0, 41.0, 39.0, 48.0, 47.0, 52.0, 58.0, 49.0, 40.0, 54.0, 48.0, 50.0, 59.0, 55.0, 56.0, 45.0, 36.0, 49.0, 43.0, 60.0, 45.0, 41.0, 42.0, 43.0, 36.0, 48.0, 38.0, 57.0, 45.0, 50.0, 36.0, 65.0, 47.0, 32.0, 56.0, 23.0, 51.0, 47.0, 52.0, 60.0, 43.0, 35.0, 60.0, 64.0, 61.0, 47.0, 41.0, 41.0, 65.0, 46.0, 59.0, 68.0, 54.0, 55.0, 66.0, 49.0, 55.0, 57.0, 49.0, 44.0, 55.0, 51.0, 70.0, 41.0, 67.0, 53.0, 39.0, 40.0, 46.0, 55.0, 58.0, 49.0, 56.0, 39.0, 58.0, 45.0, 46.0, 54.0, 52.0, 59.0, 46.0, 50.0, 53.0, 35.0, 43.0, 50.0, 65.0, 45.0, 64.0, 58.0, 45.0, 51.0, 56.0, 45.0, 59.0, 46.0, 49.0, 50.0, 61.0, 48.0, 41.0, 41.0, 69.0, 55.0, 56.0, 62.0, 40.0, 48.0, 42.0, 33.0, 36.0, 43.0, 44.0, 49.0, 52.0, 43.0, 68.0, 46.0, 51.0, 52.0, 42.0, 54.0, 60.0, 45.0, 51.0, 54.0, 40.0, 49.0, 64.0, 61.0, 45.0, 48.0, 65.0, 35.0, 31.0, 53.0, 47.0, 56.0, 54.0, 52.0, 43.0, 46.0, 40.0, 43.0, 64.0, 42.0, 42.0, 50.0, 33.0, 57.0, 35.0, 50.0, 41.0, 26.0, 54.0, 69.0, 37.0, 64.0, 48.0, 44.0, 55.0, 45.0, 60.0, 67.0, 51.0, 43.0, 43.0, 64.0, 53.0, 44.0, 44.0, 68.0, 48.0, 64.0, 42.0, 53.0, 60.0, 35.0, 41.0, 54.0, 43.0, 54.0, 48.0, 66.0, 77.0, 60.0, 48.0, 59.0, 40.0, 47.0, 58.0, 51.0, 56.0, 62.0, 47.0, 68.0, 59.0, 50.0, 52.0, 49.0, 48.0, 45.0, 52.0, 44.0, 66.0, 52.0, 58.0, 49.0, 37.0, 51.0, 67.0, 60.0, 68.0, 56.0, 62.0, 63.0, 54.0, 54.0, 58.0, 56.0, 39.0, 42.0, 52.0, 49.0, 49.0, 47.0, 42.0, 55.0, 57.0, 47.0, 63.0, 35.0, 40.0, 58.0, 47.0, 52.0, 49.0, 57.0, 63.0, 67.0, 45.0, 56.0, 51.0, 41.0, 60.0, 43.0, 40.0, 64.0, 61.0, 35.0, 52.0, 62.0, 67.0, 63.0, 66.0, 49.0, 38.0, 60.0, 44.0, 46.0, 60.0, 42.0, 60.0, 55.0, 48.0, 51.0, 50.0, 54.0, 63.0, 48.0, 64.0, 66.0, 48.0, 49.0, 68.0, 67.0, 39.0, 56.0, 71.0, 42.0, 42.0, 31.0, 52.0, 57.0, 36.0, 49.0, 63.0, 50.0, 55.0, 53.0, 44.0, 56.0, 52.0, 57.0, 48.0, 59.0, 59.0, 39.0, 38.0, 55.0, 50.0, 45.0, 45.0, 38.0, 62.0, 58.0, 44.0, 42.0, 36.0, 50.0, 40.0, 56.0, 63.0, 44.0, 43.0, 51.0, 53.0, 66.0, 53.0, 38.0, 32.0, 40.0, 49.0, 37.0, 55.0, 52.0, 60.0, 61.0, 58.0, 54.0, 45.0, 62.0, 57.0, 46.0, 48.0, 60.0, 50.0, 40.0, 47.0, 63.0, 46.0, 50.0, 37.0, 60.0, 36.0, 46.0, 41.0, 62.0, 40.0, 68.0]\n"
     ]
    }
   ],
   "source": [
    "print(temp_sample)\n",
    "print(bootstrap_means)"
   ]
  },
  {
   "cell_type": "code",
   "execution_count": 25,
   "metadata": {
    "ExecuteTime": {
     "end_time": "2023-07-13T10:05:12.219180Z",
     "start_time": "2023-07-13T10:05:11.735300Z"
    },
    "colab": {
     "base_uri": "https://localhost:8080/",
     "height": 281
    },
    "executionInfo": {
     "elapsed": 716,
     "status": "ok",
     "timestamp": 1643888129907,
     "user": {
      "displayName": "Hippolyte GUIGON",
      "photoUrl": "https://lh3.googleusercontent.com/a-/AOh14GjYVU9CDexRPiTYRyddiqGAyBg678-bBucrxUClWw=s64",
      "userId": "18045676621189214494"
     },
     "user_tz": -60
    },
    "id": "faMQkMLQ1GSG",
    "outputId": "f73d65ea-0c5d-489b-aa0d-7af15f658a1c"
   },
   "outputs": [
    {
     "data": {
      "image/png": "[encoded data removed]",
      "text/plain": [
       "<Figure size 432x288 with 1 Axes>"
      ]
     },
     "metadata": {
      "needs_background": "light"
     },
     "output_type": "display_data"
    }
   ],
   "source": [
    "# Bootstrapped distribution \n",
    "sns.histplot(x=bootstrap_means, bins=25)\n",
    "plt.title('Bootstrapped distribution of Easter eggs weights')\n",
    "plt.show()"
   ]
  },
  {
   "cell_type": "markdown",
   "metadata": {},
   "source": [
    "**On souhaite avoir un niveau de confiance de 95% : on sélectionne donc les percentiles 2.5% et 97.5% pour avoir 95% des valeurs entre les deux bornes.**"
   ]
  },
  {
   "cell_type": "code",
   "execution_count": 26,
   "metadata": {
    "ExecuteTime": {
     "end_time": "2023-07-13T10:06:00.567423Z",
     "start_time": "2023-07-13T10:06:00.494896Z"
    },
    "colab": {
     "base_uri": "https://localhost:8080/"
    },
    "executionInfo": {
     "elapsed": 280,
     "status": "ok",
     "timestamp": 1643888195531,
     "user": {
      "displayName": "Hippolyte GUIGON",
      "photoUrl": "https://lh3.googleusercontent.com/a-/AOh14GjYVU9CDexRPiTYRyddiqGAyBg678-bBucrxUClWw=s64",
      "userId": "18045676621189214494"
     },
     "user_tz": -60
    },
    "id": "UQUqHzlX1GSG",
    "outputId": "6d26a7c8-2cb2-4b8c-9c93-2f51a48e0a80",
    "scrolled": true
   },
   "outputs": [
    {
     "name": "stdout",
     "output_type": "stream",
     "text": [
      "[35. 67.]\n"
     ]
    },
    {
     "data": {
      "text/plain": [
       "(35.0, 67.0)"
      ]
     },
     "execution_count": 26,
     "metadata": {},
     "output_type": "execute_result"
    }
   ],
   "source": [
    "# Confidence interval based on bootstrapped distribution of means\n",
    "centiles = np.percentile(bootstrap_means, [2.5, 97.5])\n",
    "print(centiles)\n",
    "bootstrapped_ci = (round(centiles[0], 2), round(centiles[1], 2))\n",
    "bootstrapped_ci"
   ]
  },
  {
   "cell_type": "markdown",
   "metadata": {
    "id": "aEtpPrXA1GSH"
   },
   "source": [
    "#### Usine de chaussures"
   ]
  },
  {
   "cell_type": "markdown",
   "metadata": {
    "id": "nL16udHs1GSH"
   },
   "source": [
    "Imaginons que l'on possède une usine qui produit des chaussures. On veut être capable de caractériser la taille moyenne des chaussures et être sûr qu'elles répondre à certaines spécificités. Notre usine produit des centaines de chaussures tous les jours, et il est impossible de mesurer la taille de toutes les chaussures. On a accès à un échantillon de 100 chaussures. On va bootstrapper ces 100 tailles de chaussures pour obtenir un intervalle de confiance de 95% de la taille moyenne de nos chaussures. \n",
    "\n",
    "Commencons par examiner la liste `shoe_lengths` qui référence les 100 tailles de chaussures observées."
   ]
  },
  {
   "cell_type": "markdown",
   "metadata": {},
   "source": [
    "**La fonction suivante permet de simuler la taille de 100 chaussures à partir d'une loi normale (avec $\\mu=25$ et $\\sigma=0.15$).**"
   ]
  },
  {
   "cell_type": "code",
   "execution_count": 27,
   "metadata": {
    "ExecuteTime": {
     "end_time": "2023-07-13T10:06:55.366960Z",
     "start_time": "2023-07-13T10:06:55.324659Z"
    },
    "colab": {
     "base_uri": "https://localhost:8080/"
    },
    "executionInfo": {
     "elapsed": 243,
     "status": "ok",
     "timestamp": 1643888216344,
     "user": {
      "displayName": "Hippolyte GUIGON",
      "photoUrl": "https://lh3.googleusercontent.com/a-/AOh14GjYVU9CDexRPiTYRyddiqGAyBg678-bBucrxUClWw=s64",
      "userId": "18045676621189214494"
     },
     "user_tz": -60
    },
    "id": "B7kfkd9x1GSI",
    "outputId": "2825ea86-52fd-4bdf-d44e-da37f20d68c1"
   },
   "outputs": [
    {
     "data": {
      "text/plain": [
       "array([25.17063831, 24.8487853 , 25.03093209, 25.35786039, 25.30867656,\n",
       "       24.99793189, 24.9280578 , 25.03102917, 25.05544395, 25.27944589,\n",
       "       24.83148167, 25.00993001, 25.04896687, 24.94668173, 25.06007194,\n",
       "       25.20682529, 24.9310893 , 24.67835865, 25.04496464, 24.92772735,\n",
       "       24.93412   , 24.97319869, 25.10498573, 25.19780034, 24.93886117,\n",
       "       25.01678637, 24.70688861, 24.90892695, 24.9562683 , 25.1206913 ,\n",
       "       24.81972431, 24.86764053, 24.78240791, 25.02389378, 25.00826701,\n",
       "       24.82153983, 24.89371806, 25.29790855, 25.17948972, 25.02063467,\n",
       "       24.63845447, 25.07875456, 24.98249202, 25.06413688, 25.06974243,\n",
       "       24.95670134, 25.00801511, 24.73944981, 24.78048468, 24.83004303,\n",
       "       24.94880113, 24.87217363, 25.01268729, 25.00532097, 24.94004483,\n",
       "       24.73862159, 24.98377322, 24.91791643, 24.90873001, 24.75172409,\n",
       "       24.68571359, 24.91792799, 25.04202044, 24.91740865, 24.98133547,\n",
       "       25.05928873, 25.2057424 , 24.98054801, 24.95132232, 25.07850289,\n",
       "       25.10955941, 24.96576689, 24.77509599, 24.87538765, 25.20334193,\n",
       "       24.71041773, 25.13974228, 25.01419494, 25.00952527, 25.19110196,\n",
       "       24.86923186, 25.08522115, 25.25353737, 24.89024918, 25.1099863 ,\n",
       "       24.91120575, 25.00174482, 25.21336053, 24.76486322, 24.90830736,\n",
       "       25.20632041, 24.98460194, 24.87280533, 25.16922055, 25.08756618,\n",
       "       25.08692709, 24.92586612, 24.97927755, 24.92601464, 25.28047428])"
      ]
     },
     "execution_count": 27,
     "metadata": {},
     "output_type": "execute_result"
    }
   ],
   "source": [
    "#ici on créé une liste qui initialise 100 tailles de chaussures \n",
    "#un peu au hasard pour notre exemple\n",
    "shoe_lengths = np.random.normal(25, 0.15, 100)\n",
    "shoe_lengths"
   ]
  },
  {
   "cell_type": "code",
   "execution_count": 28,
   "metadata": {
    "ExecuteTime": {
     "end_time": "2023-07-13T10:07:25.525573Z",
     "start_time": "2023-07-13T10:07:25.250726Z"
    },
    "colab": {
     "base_uri": "https://localhost:8080/",
     "height": 265
    },
    "executionInfo": {
     "elapsed": 711,
     "status": "ok",
     "timestamp": 1643888229795,
     "user": {
      "displayName": "Hippolyte GUIGON",
      "photoUrl": "https://lh3.googleusercontent.com/a-/AOh14GjYVU9CDexRPiTYRyddiqGAyBg678-bBucrxUClWw=s64",
      "userId": "18045676621189214494"
     },
     "user_tz": -60
    },
    "id": "sKvtxTU51GSI",
    "outputId": "61441499-09af-44c3-89c8-4390a8319f08",
    "scrolled": false
   },
   "outputs": [
    {
     "data": {
      "image/png": "[encoded data removed]",
      "text/plain": [
       "<Figure size 432x288 with 1 Axes>"
      ]
     },
     "metadata": {
      "needs_background": "light"
     },
     "output_type": "display_data"
    }
   ],
   "source": [
    "sns.histplot(shoe_lengths, bins=20);"
   ]
  },
  {
   "cell_type": "markdown",
   "metadata": {
    "id": "fqrMYsA81GSJ"
   },
   "source": [
    "* Intervalle de confiance théorique"
   ]
  },
  {
   "cell_type": "code",
   "execution_count": 30,
   "metadata": {
    "ExecuteTime": {
     "end_time": "2023-07-13T10:09:09.512968Z",
     "start_time": "2023-07-13T10:09:09.501338Z"
    },
    "colab": {
     "base_uri": "https://localhost:8080/"
    },
    "executionInfo": {
     "elapsed": 258,
     "status": "ok",
     "timestamp": 1643888237831,
     "user": {
      "displayName": "Hippolyte GUIGON",
      "photoUrl": "https://lh3.googleusercontent.com/a-/AOh14GjYVU9CDexRPiTYRyddiqGAyBg678-bBucrxUClWw=s64",
      "userId": "18045676621189214494"
     },
     "user_tz": -60
    },
    "id": "4y6JtLJq1GSK",
    "outputId": "932b230f-856c-40e1-d704-709e174c07e2"
   },
   "outputs": [
    {
     "name": "stdout",
     "output_type": "stream",
     "text": [
      "Mean: 24.988374443514143 \n",
      "Stdev: 0.1513958320734709 \n",
      "Standard error: 0.01513958320734709\n"
     ]
    },
    {
     "data": {
      "text/plain": [
       "(24.958700860427744, 25.018048026600542)"
      ]
     },
     "execution_count": 30,
     "metadata": {},
     "output_type": "execute_result"
    }
   ],
   "source": [
    "mu = np.mean(shoe_lengths)\n",
    "sigma = np.std(shoe_lengths)\n",
    "erreur = sigma / np.sqrt(len(shoe_lengths))\n",
    "print('Mean:', mu, '\\nStdev:', sigma, '\\nStandard error:', erreur)\n",
    "\n",
    "confidence_interval = (mu - 1.96*erreur, mu + 1.96*erreur)\n",
    "confidence_interval"
   ]
  },
  {
   "cell_type": "markdown",
   "metadata": {},
   "source": [
    "**La marge d'erreur est beaucoup plus faible qu'avec les œufs alors que le niveau de confiance est similaire (95%). Deux raisons à cela :**\n",
    "* **L'échantillon est plus grand (100 au lieu de 10),**\n",
    "* **L'écart-type est plus faible (0.15 au lieu de 27), donc il y a moins d'incertitude.**"
   ]
  },
  {
   "cell_type": "markdown",
   "metadata": {
    "id": "kFZni9cy1GSK"
   },
   "source": [
    "* Intervalle de confiance bootstrappé"
   ]
  },
  {
   "cell_type": "markdown",
   "metadata": {
    "id": "vd_OF-KI1GSK"
   },
   "source": [
    "Encore une fois, le bootstrapping consiste à tirer pleins d'échantillons  de taille `len(shoe_lengths)` (100 ici) de manière aléatoire avec remplacement (par exemple >1000), et ensuite calculer la taille moyenne de chaque échantillon."
   ]
  },
  {
   "cell_type": "code",
   "execution_count": 36,
   "metadata": {
    "ExecuteTime": {
     "end_time": "2023-07-13T10:13:05.902331Z",
     "start_time": "2023-07-13T10:13:05.800253Z"
    },
    "colab": {
     "base_uri": "https://localhost:8080/"
    },
    "executionInfo": {
     "elapsed": 286,
     "status": "ok",
     "timestamp": 1643888248584,
     "user": {
      "displayName": "Hippolyte GUIGON",
      "photoUrl": "https://lh3.googleusercontent.com/a-/AOh14GjYVU9CDexRPiTYRyddiqGAyBg678-bBucrxUClWw=s64",
      "userId": "18045676621189214494"
     },
     "user_tz": -60
    },
    "id": "gzA9i3N41GSL",
    "outputId": "9fd775a8-e3e1-44f6-be9d-5b391cd754ff"
   },
   "outputs": [
    {
     "data": {
      "text/plain": [
       "[24.992133047346183,\n",
       " 24.971467224997554,\n",
       " 24.986601069484667,\n",
       " 25.017328260866098,\n",
       " 25.004949101705435,\n",
       " 24.98064948347709,\n",
       " 24.983874128289656,\n",
       " 24.993489301147388,\n",
       " 24.980946767011844,\n",
       " 24.96194590528634,\n",
       " 24.96518350865894,\n",
       " 24.99246189723008,\n",
       " 24.989087300544014,\n",
       " 24.983211779954626,\n",
       " 24.988709763539987,\n",
       " 24.978191501820604,\n",
       " 24.99145420423188,\n",
       " 24.994729638748595,\n",
       " 24.98584622766436,\n",
       " 24.994072814242415,\n",
       " 25.006703262817005,\n",
       " 24.986166789537755,\n",
       " 25.02613169057551,\n",
       " 24.982819710232853,\n",
       " 24.991836267393868,\n",
       " 24.985925331624653,\n",
       " 24.98359675239432,\n",
       " 25.016585995354486,\n",
       " 24.984384168534298,\n",
       " 24.9732534580289,\n",
       " 25.0000254020369,\n",
       " 24.98805445356809,\n",
       " 25.03222893340363,\n",
       " 24.989725628253236,\n",
       " 24.996854534426017,\n",
       " 24.96208955061626,\n",
       " 24.96716283514535,\n",
       " 24.958971939943062,\n",
       " 24.987558276242854,\n",
       " 24.97713229943054,\n",
       " 24.988755964130515,\n",
       " 25.006624749718572,\n",
       " 24.962735651387046,\n",
       " 25.00160096207314,\n",
       " 24.975980438051792,\n",
       " 24.978320160623497,\n",
       " 24.976939906548004,\n",
       " 24.97095249881006,\n",
       " 24.989408890382965,\n",
       " 25.02040507596316,\n",
       " 24.9958159729493,\n",
       " 24.994896379883834,\n",
       " 24.979265971924384,\n",
       " 25.00962888550677,\n",
       " 24.988136605660024,\n",
       " 24.995492830145032,\n",
       " 25.00299235263078,\n",
       " 24.98261598747281,\n",
       " 25.003198537667117,\n",
       " 24.985876921720518,\n",
       " 24.989342854614414,\n",
       " 25.021133482512447,\n",
       " 24.99443346613192,\n",
       " 25.0070792192371,\n",
       " 24.98725428500451,\n",
       " 25.007096811872742,\n",
       " 25.012233825554567,\n",
       " 25.00018208457053,\n",
       " 24.990561967376788,\n",
       " 24.996151468884445,\n",
       " 24.971088139973716,\n",
       " 25.006001433303723,\n",
       " 24.96988024974124,\n",
       " 24.97924879100732,\n",
       " 24.98741005410583,\n",
       " 24.98028456705112,\n",
       " 24.98338907323862,\n",
       " 24.98261211118336,\n",
       " 24.937499362747136,\n",
       " 24.976085475795067,\n",
       " 25.00418469844077,\n",
       " 24.999962463363303,\n",
       " 24.978396661100533,\n",
       " 24.975920852403423,\n",
       " 24.998686434355445,\n",
       " 25.006209714579672,\n",
       " 24.975690888799686,\n",
       " 24.9646484217028,\n",
       " 24.979200362886623,\n",
       " 24.98155177596123,\n",
       " 24.970843331298408,\n",
       " 24.944352125057744,\n",
       " 24.999644937964348,\n",
       " 24.985196927365017,\n",
       " 24.997476687443108,\n",
       " 25.006471234287986,\n",
       " 24.975385022279543,\n",
       " 24.983588191916223,\n",
       " 25.0145193207608,\n",
       " 24.997129439113447,\n",
       " 25.00630997449789,\n",
       " 24.99822079507427,\n",
       " 24.971999521168623,\n",
       " 24.988884419126435,\n",
       " 24.998341430697675,\n",
       " 24.964420824677838,\n",
       " 25.007599829103174,\n",
       " 24.98279196526032,\n",
       " 24.963756790389283,\n",
       " 24.957382436030144,\n",
       " 25.00664894688409,\n",
       " 24.98919908423297,\n",
       " 24.969790984282866,\n",
       " 25.005123825684407,\n",
       " 24.963554257536906,\n",
       " 25.00258488262024,\n",
       " 24.99697801109275,\n",
       " 25.0092956924949,\n",
       " 24.9795077378219,\n",
       " 24.96648322941318,\n",
       " 24.974041275360904,\n",
       " 24.98124194777126,\n",
       " 24.9987812414105,\n",
       " 24.992843333263203,\n",
       " 24.984626142902655,\n",
       " 24.976883277679907,\n",
       " 24.954201904393926,\n",
       " 24.978682326551837,\n",
       " 25.000019256492386,\n",
       " 24.993593891024396,\n",
       " 24.994816026751312,\n",
       " 24.973641042836608,\n",
       " 24.986480240365825,\n",
       " 24.975584802416797,\n",
       " 24.978166865645118,\n",
       " 24.954652056276185,\n",
       " 24.993726555853133,\n",
       " 25.013550780101422,\n",
       " 24.975730047374817,\n",
       " 24.991316985854475,\n",
       " 24.982036064569346,\n",
       " 24.980274693605725,\n",
       " 24.993164737422177,\n",
       " 24.997947945521187,\n",
       " 24.987514549903334,\n",
       " 24.969840151214207,\n",
       " 24.984795640640233,\n",
       " 25.001238968859056,\n",
       " 24.97219457922262,\n",
       " 24.97384383618548,\n",
       " 25.005403366724064,\n",
       " 24.975657484352826,\n",
       " 24.968614404242842,\n",
       " 24.983501007908476,\n",
       " 24.991862975151406,\n",
       " 24.98296413542839,\n",
       " 24.988569343024118,\n",
       " 25.024955954716766,\n",
       " 24.98009462940239,\n",
       " 24.970753962387104,\n",
       " 24.97761871628006,\n",
       " 24.99795938100465,\n",
       " 24.994097971655634,\n",
       " 24.97607075233883,\n",
       " 24.984376714308883,\n",
       " 24.987819722141072,\n",
       " 24.99444792480566,\n",
       " 24.97168658859532,\n",
       " 24.993432871426677,\n",
       " 25.014224709063647,\n",
       " 24.994867805118215,\n",
       " 25.00622580627695,\n",
       " 25.004646453878475,\n",
       " 24.967751266261548,\n",
       " 24.991323999461382,\n",
       " 24.978968346878563,\n",
       " 25.001113332819685,\n",
       " 25.009370245127993,\n",
       " 24.987709695047982,\n",
       " 24.991650069040553,\n",
       " 24.976102557078477,\n",
       " 24.98822775732791,\n",
       " 24.996000479697276,\n",
       " 24.98601486354928,\n",
       " 24.96650022821697,\n",
       " 24.982599339737003,\n",
       " 24.984050808660157,\n",
       " 24.967285351366577,\n",
       " 25.015041263229943,\n",
       " 24.995167845273148,\n",
       " 24.980388232600184,\n",
       " 24.985619544586545,\n",
       " 24.97916947287267,\n",
       " 24.984353908947597,\n",
       " 24.983330808053324,\n",
       " 24.99546469953037,\n",
       " 24.98972670884838,\n",
       " 24.999564956489795,\n",
       " 24.985327721328936,\n",
       " 24.981291291894408,\n",
       " 25.006253988344056,\n",
       " 24.982828142222264,\n",
       " 25.004932259612996,\n",
       " 24.994748006876122,\n",
       " 24.984406096724282,\n",
       " 24.964868223670308,\n",
       " 24.99424628155012,\n",
       " 24.987141210573885,\n",
       " 24.985343326990943,\n",
       " 24.97407121520764,\n",
       " 24.959783320069377,\n",
       " 24.99976971589399,\n",
       " 24.95654376145298,\n",
       " 25.010300437132152,\n",
       " 25.002133298720427,\n",
       " 24.977675443790655,\n",
       " 24.990256786635783,\n",
       " 24.996146196340483,\n",
       " 24.976517298164055,\n",
       " 24.971526212557436,\n",
       " 24.976246220292097,\n",
       " 24.986332644723333,\n",
       " 24.98522305286995,\n",
       " 24.97027697541158,\n",
       " 25.001168672165303,\n",
       " 24.96780970939744,\n",
       " 24.99288687565585,\n",
       " 24.985474087642945,\n",
       " 25.00078607919496,\n",
       " 24.986641803527327,\n",
       " 25.00657230309217,\n",
       " 24.979839931092346,\n",
       " 25.008493486882745,\n",
       " 24.995238006016123,\n",
       " 24.992708278934597,\n",
       " 24.985211348858506,\n",
       " 24.996452262542345,\n",
       " 24.97858375550741,\n",
       " 24.992361974854866,\n",
       " 24.95521072176849,\n",
       " 24.99945284413899,\n",
       " 24.99992753268819,\n",
       " 24.995625134097065,\n",
       " 24.96749194258244,\n",
       " 24.97228721101749,\n",
       " 24.981267804799018,\n",
       " 24.981618803448423,\n",
       " 24.98506974541087,\n",
       " 25.010699116089345,\n",
       " 24.993576409075416,\n",
       " 24.97393451019983,\n",
       " 24.992808668895556,\n",
       " 24.98926280719874,\n",
       " 25.01545665506015,\n",
       " 24.99399707926796,\n",
       " 25.00173054436817,\n",
       " 24.982431265248007,\n",
       " 24.971836325185016,\n",
       " 25.008419247403104,\n",
       " 24.960380148619667,\n",
       " 24.981923334821484,\n",
       " 24.971141294651126,\n",
       " 25.04926890219135,\n",
       " 24.99654319618032,\n",
       " 25.00008595811209,\n",
       " 24.966568959216207,\n",
       " 24.97895102549071,\n",
       " 24.97579259070013,\n",
       " 24.96466675298334,\n",
       " 24.977843244633007,\n",
       " 24.955542129459896,\n",
       " 24.97743541584194,\n",
       " 25.004203595186024,\n",
       " 25.003913592808154,\n",
       " 24.98522168113371,\n",
       " 24.97033024691442,\n",
       " 24.997397035025575,\n",
       " 24.996039179646942,\n",
       " 24.96617756071893,\n",
       " 24.98773563561328,\n",
       " 25.016348711483943,\n",
       " 24.987724162590972,\n",
       " 24.99531100339852,\n",
       " 24.958741707702703,\n",
       " 24.995736419859597,\n",
       " 24.974888151806557,\n",
       " 24.99503831073954,\n",
       " 24.983543758924807,\n",
       " 25.000314530536624,\n",
       " 24.996253709434953,\n",
       " 24.960944536775102,\n",
       " 24.990416123413475,\n",
       " 24.991148978605597,\n",
       " 25.0244460472427,\n",
       " 24.990113530829102,\n",
       " 24.99635097446828,\n",
       " 24.989677875455918,\n",
       " 24.975568096334644,\n",
       " 24.999220286958835,\n",
       " 25.00101519709727,\n",
       " 24.986935903311092,\n",
       " 24.99676030940525,\n",
       " 24.953784352080003,\n",
       " 25.008628396504072,\n",
       " 24.980546034477854,\n",
       " 25.02052937086033,\n",
       " 24.999913681955217,\n",
       " 25.001853780510984,\n",
       " 25.01176407365449,\n",
       " 24.976398128751445,\n",
       " 25.003919691093518,\n",
       " 24.963292122031422,\n",
       " 24.966935709640097,\n",
       " 25.00856430117244,\n",
       " 24.978857098977965,\n",
       " 24.988329289356283,\n",
       " 25.010252307903798,\n",
       " 25.00653053222969,\n",
       " 24.996988624567656,\n",
       " 24.97317687517931,\n",
       " 25.012917157056254,\n",
       " 25.00861593175563,\n",
       " 25.004085453830722,\n",
       " 24.975844073102298,\n",
       " 24.977267324664723,\n",
       " 24.979548841835932,\n",
       " 24.973303371486125,\n",
       " 24.984664942751614,\n",
       " 24.978795059775326,\n",
       " 24.972199065869845,\n",
       " 25.006453492502043,\n",
       " 24.983777186216184,\n",
       " 24.973764924071947,\n",
       " 25.012092243711052,\n",
       " 25.012816007024412,\n",
       " 25.011493782340906,\n",
       " 25.014939805542653,\n",
       " 24.963135950863684,\n",
       " 24.996456632194395,\n",
       " 24.982798934813086,\n",
       " 25.0142532277823,\n",
       " 24.977600855872215,\n",
       " 24.976826451616198,\n",
       " 24.971556126559282,\n",
       " 25.010364079607612,\n",
       " 24.999441603652077,\n",
       " 24.990054064063116,\n",
       " 24.978022046380655,\n",
       " 24.995794635622623,\n",
       " 24.99863661006515,\n",
       " 24.98822544240613,\n",
       " 24.981690325750982,\n",
       " 24.983345272378028,\n",
       " 25.003513537136357,\n",
       " 24.984521695621634,\n",
       " 24.98995340286415,\n",
       " 24.965457692140347,\n",
       " 24.990136945777003,\n",
       " 24.991119681814308,\n",
       " 24.98488417759917,\n",
       " 25.003119272005716,\n",
       " 24.99112121393322,\n",
       " 25.00648194599577,\n",
       " 24.973761643412267,\n",
       " 24.998436083691267,\n",
       " 24.994496314658296,\n",
       " 24.98522659178243,\n",
       " 24.968010554646426,\n",
       " 24.985486111533483,\n",
       " 25.02230875310102,\n",
       " 24.98282270264925,\n",
       " 25.019081440424376,\n",
       " 25.032265380223276,\n",
       " 24.984432205083436,\n",
       " 24.985090623989272,\n",
       " 24.992073780457527,\n",
       " 24.98081560240228,\n",
       " 24.97461809560747,\n",
       " 25.003784637334647,\n",
       " 25.031188940071353,\n",
       " 24.973288394381974,\n",
       " 24.99901029109064,\n",
       " 24.980884271894755,\n",
       " 25.002487748873133,\n",
       " 24.996151558097644,\n",
       " 24.980706018759584,\n",
       " 24.986920509836242,\n",
       " 24.992032919335344,\n",
       " 24.95780819461319,\n",
       " 25.010217197293045,\n",
       " 24.961472840036482,\n",
       " 24.961371185852602,\n",
       " 24.976345627120605,\n",
       " 24.986945498411547,\n",
       " 24.9782771968934,\n",
       " 25.008673667654783,\n",
       " 24.96958771802912,\n",
       " 24.99253402531862,\n",
       " 24.98740508304879,\n",
       " 24.992638436259668,\n",
       " 24.97741899632013,\n",
       " 24.982088359483853,\n",
       " 24.987224977806434,\n",
       " 25.021987712326922,\n",
       " 24.970549546185342,\n",
       " 24.97387011497275,\n",
       " 24.978512357492477,\n",
       " 24.98657151204883,\n",
       " 24.993080842143986,\n",
       " 25.006502290482164,\n",
       " 24.985942300428956,\n",
       " 24.982898878312504,\n",
       " 24.999281033117303,\n",
       " 25.01580292352508,\n",
       " 24.993844210264424,\n",
       " 24.957284565038222,\n",
       " 24.958343781115328,\n",
       " 24.98046500987705,\n",
       " 24.99601235893532,\n",
       " 24.96473566479273,\n",
       " 24.97710896484157,\n",
       " 25.001060798419175,\n",
       " 24.968310445232447,\n",
       " 24.977447196970175,\n",
       " 24.980750009151464,\n",
       " 25.00901569748208,\n",
       " 24.98525525930139,\n",
       " 24.981175208406736,\n",
       " 24.975978732869162,\n",
       " 24.99016252435174,\n",
       " 25.006289144886914,\n",
       " 24.987968278155698,\n",
       " 24.98001121373777,\n",
       " 25.014706608235556,\n",
       " 24.988941004453935,\n",
       " 24.95734419075167,\n",
       " 24.988839536039656,\n",
       " 24.998414198434926,\n",
       " 24.987520597127286,\n",
       " 25.013890700221353,\n",
       " 24.996195536731147,\n",
       " 24.98702800174777,\n",
       " 25.014967867544804,\n",
       " 24.992492232479336,\n",
       " 24.984236919405816,\n",
       " 25.0209559917754,\n",
       " 25.002672085219018,\n",
       " 25.00321191631572,\n",
       " 24.99632517812248,\n",
       " 24.990277125486045,\n",
       " 24.99656326145888,\n",
       " 25.00200187502115,\n",
       " 24.97848033718339,\n",
       " 24.987414718679773,\n",
       " 24.997894523759378,\n",
       " 25.00269775205189,\n",
       " 24.97229869718435,\n",
       " 25.019638515338134,\n",
       " 24.96716463616846,\n",
       " 24.998685600412433,\n",
       " 25.00053442369783,\n",
       " 24.989386151194566,\n",
       " 24.99048504811414,\n",
       " 24.982935097629547,\n",
       " 24.996671343307206,\n",
       " 24.995584303666906,\n",
       " 24.9908137396219,\n",
       " 24.96453206360431,\n",
       " 24.972853302391584,\n",
       " 25.002580296774227,\n",
       " 24.98741349317747,\n",
       " 24.991655817856234,\n",
       " 24.989014620441175,\n",
       " 24.985427799330036,\n",
       " 24.985361327409155,\n",
       " 24.96728125514709,\n",
       " 24.99094203786116,\n",
       " 24.97394947223898,\n",
       " 24.999671108330695,\n",
       " 24.965427863198975,\n",
       " 24.979639077596868,\n",
       " 24.976774149540674,\n",
       " 24.983420803299385,\n",
       " 24.957873782300897,\n",
       " 24.997710348755994,\n",
       " 24.969131704586356,\n",
       " 24.997896849706773,\n",
       " 24.9946079050966,\n",
       " 25.013514117656705,\n",
       " 24.98434082185859,\n",
       " 25.00670096414794,\n",
       " 24.983981171879247,\n",
       " 24.971109016635747,\n",
       " 24.979536058709833,\n",
       " 24.966325088430075,\n",
       " 24.972094466609747,\n",
       " 24.991508450943453,\n",
       " 24.98294890628063,\n",
       " 24.978055146548378,\n",
       " 24.996830573937103,\n",
       " 24.999876638771116,\n",
       " 24.993755890990215,\n",
       " 24.98251976282061,\n",
       " 24.9941491631237,\n",
       " 24.992287873566013,\n",
       " 25.007625610019485,\n",
       " 24.996021774992478,\n",
       " 24.98228168905085,\n",
       " 25.0032964442059,\n",
       " 24.998850890699003,\n",
       " 24.98401703206444,\n",
       " 24.984823486712017,\n",
       " 24.981401145494893,\n",
       " 24.98901128887608,\n",
       " 24.98300542899563,\n",
       " 24.98823839264599,\n",
       " 24.979418070587602,\n",
       " 25.00968971594914,\n",
       " 24.955845944785395,\n",
       " 25.007866680281037,\n",
       " 24.955807973426595,\n",
       " 25.017399292997652,\n",
       " 25.007889370255935,\n",
       " 24.999644856659824,\n",
       " 24.983568741898257,\n",
       " 24.96555491729331,\n",
       " 24.972825446983908,\n",
       " 24.979295199405616,\n",
       " 25.007080198048833,\n",
       " 24.985780719829954,\n",
       " 24.995522009084148,\n",
       " 24.969409265891592,\n",
       " 24.983336506527376,\n",
       " 25.004277945158506,\n",
       " 24.99449632596294,\n",
       " 24.984018914452637,\n",
       " 24.998422961545668,\n",
       " 24.996159555395817,\n",
       " 24.968698971734057,\n",
       " 25.010867833356087,\n",
       " 24.970723803308534,\n",
       " 24.986320173894484,\n",
       " 24.976514763221225,\n",
       " 25.00784770510372,\n",
       " 24.980667722043574,\n",
       " 25.0115594663331,\n",
       " 24.999724227308697,\n",
       " 24.997637513477603,\n",
       " 24.994935646027212,\n",
       " 24.991889002245333,\n",
       " 25.00314850224317,\n",
       " 24.976663374029542,\n",
       " 24.98321032410362,\n",
       " 25.01100901428516,\n",
       " 25.000405648979953,\n",
       " 25.012371871905735,\n",
       " 24.96418908138232,\n",
       " 24.95958022159241,\n",
       " 25.001289713953465,\n",
       " 24.980752836892677,\n",
       " 24.991992589963605,\n",
       " 25.00546459997786,\n",
       " 24.98953978902685,\n",
       " 24.975627983268254,\n",
       " 24.974692412818843,\n",
       " 25.00510531878806,\n",
       " 25.003168669147314,\n",
       " 25.01698160281064,\n",
       " 25.022953432846634,\n",
       " 24.994113437213358,\n",
       " 24.969807617270106,\n",
       " 24.991889930133322,\n",
       " 24.996323364508086,\n",
       " 24.99872861486855,\n",
       " 24.989499972148973,\n",
       " 24.99631702619056,\n",
       " 25.023385102875793,\n",
       " 24.95969155717928,\n",
       " 24.998378272031033,\n",
       " 24.993655914823925,\n",
       " 24.983368767596726,\n",
       " 24.991346173537796,\n",
       " 24.956967046010373,\n",
       " 24.98214605922321,\n",
       " 25.018150370014677,\n",
       " 24.990714516813505,\n",
       " 24.971712995625225,\n",
       " 24.971094158086522,\n",
       " 24.9846609275753,\n",
       " 24.968173600927614,\n",
       " 24.975915744005697,\n",
       " 24.99408884411517,\n",
       " 25.001974445045224,\n",
       " 24.971365636772017,\n",
       " 24.97424945864337,\n",
       " 25.00029285150055,\n",
       " 24.989575965380332,\n",
       " 24.965795909040832,\n",
       " 25.00188781980185,\n",
       " 24.97580139443498,\n",
       " 24.98366662692556,\n",
       " 24.987780637261938,\n",
       " 24.983755985370948,\n",
       " 24.965333020540246,\n",
       " 24.97834738602385,\n",
       " 24.977510154336628,\n",
       " 25.005546682040826,\n",
       " 25.00195507539885,\n",
       " 24.99488465403327,\n",
       " 24.999913569825996,\n",
       " 24.971110306000718,\n",
       " 25.004492064105975,\n",
       " 24.998820969242118,\n",
       " 25.00474495327014,\n",
       " 25.014758054314214,\n",
       " 25.009492371475513,\n",
       " 25.013954306562628,\n",
       " 25.001824880322925,\n",
       " 24.981052691201334,\n",
       " 24.991140987396115,\n",
       " 24.965616171754213,\n",
       " 24.994857080376327,\n",
       " 24.992726702934114,\n",
       " 24.956125959448418,\n",
       " 24.985074196181273,\n",
       " 24.977353698578423,\n",
       " 25.00571034895607,\n",
       " 25.001715932437474,\n",
       " 25.006666507664345,\n",
       " 24.98824980874857,\n",
       " 24.99008973214451,\n",
       " 24.998055183427304,\n",
       " 24.96779026438423,\n",
       " 25.00332193186695,\n",
       " 24.99044176963839,\n",
       " 24.99918003925676,\n",
       " 24.98096154491829,\n",
       " 24.96144552046495,\n",
       " 24.989462262441037,\n",
       " 24.962722156492983,\n",
       " 24.995941953618328,\n",
       " 25.003509392545876,\n",
       " 25.001279843689186,\n",
       " 24.957549258499153,\n",
       " 24.958665896042948,\n",
       " 24.969933939729113,\n",
       " 24.996247530779247,\n",
       " 24.99161702409646,\n",
       " 24.98685654944974,\n",
       " 24.982149413534543,\n",
       " 24.990501418933732,\n",
       " 24.997711009979334,\n",
       " 24.973546361512867,\n",
       " 25.005415657526832,\n",
       " 24.983213175741028,\n",
       " 24.969282826743726,\n",
       " 25.01141067272765,\n",
       " 25.00610572621726,\n",
       " 24.97795084910551,\n",
       " 24.97153152983219,\n",
       " 24.98504084340232,\n",
       " 24.992596902630936,\n",
       " 24.984840825698765,\n",
       " 24.98686435356405,\n",
       " 24.98057780285089,\n",
       " 24.967436237768638,\n",
       " 25.00337553683302,\n",
       " 24.98970073614528,\n",
       " 24.98399943647666,\n",
       " 24.983913723160587,\n",
       " 24.990440351940496,\n",
       " 24.975553956229675,\n",
       " 25.006053470970127,\n",
       " 25.001908904220336,\n",
       " 25.02007322513166,\n",
       " 25.006572459270014,\n",
       " 24.97326610387076,\n",
       " 24.977612250563325,\n",
       " 24.983783137877936,\n",
       " 24.988211549509128,\n",
       " 24.976066159466146,\n",
       " 24.991580877613448,\n",
       " 25.00444362910568,\n",
       " 24.952250497221257,\n",
       " 24.991345264290093,\n",
       " 24.95820292263772,\n",
       " 25.003034164830616,\n",
       " 24.99413590402722,\n",
       " 24.982831861648265,\n",
       " 24.996811177349677,\n",
       " 25.020861278493527,\n",
       " 24.98565546520183,\n",
       " 25.010893070841995,\n",
       " 25.004729851380816,\n",
       " 24.968501548577038,\n",
       " 24.982088366143426,\n",
       " 24.99429572052033,\n",
       " 24.99777643258013,\n",
       " 24.984060309473143,\n",
       " 24.99208699985232,\n",
       " 24.97284458855129,\n",
       " 24.971612471672078,\n",
       " 24.994422055860728,\n",
       " 24.989612582021664,\n",
       " 25.005534332402984,\n",
       " 24.988405435410474,\n",
       " 24.993595413696625,\n",
       " 25.00801698321896,\n",
       " 24.98881384515383,\n",
       " 24.965976441905518,\n",
       " 24.97752632137363,\n",
       " 24.99608424676879,\n",
       " 24.98836189409303,\n",
       " 24.983618443713173,\n",
       " 25.00774533658502,\n",
       " 24.992140359599922,\n",
       " 24.994289559430047,\n",
       " 24.986218158853656,\n",
       " 24.96022715488791,\n",
       " 24.959228279942337,\n",
       " 25.00671813924105,\n",
       " 24.969461705070426,\n",
       " 24.97464079880834,\n",
       " 24.99936261670449,\n",
       " 24.999937117841895,\n",
       " 24.95945828338025,\n",
       " 24.96712776394572,\n",
       " 24.984788267845637,\n",
       " 25.00639592165729,\n",
       " 24.97974690462113,\n",
       " 24.97291763906443,\n",
       " 24.983627252443515,\n",
       " 24.98872853100282,\n",
       " 24.98671905014789,\n",
       " 24.997209647627184,\n",
       " 24.977877232262518,\n",
       " 24.993235646839906,\n",
       " 24.996314202714572,\n",
       " 24.991090054069744,\n",
       " 25.0087988619009,\n",
       " 25.001238454564554,\n",
       " 24.983287053172916,\n",
       " 24.99780720319071,\n",
       " 24.990292934069494,\n",
       " 24.96548387042974,\n",
       " 24.987445293459565,\n",
       " 25.010135697478994,\n",
       " 24.978952827488847,\n",
       " 24.993657839630735,\n",
       " 24.99379652280534,\n",
       " 24.97067760234064,\n",
       " 24.96895379257412,\n",
       " 24.974016900440123,\n",
       " 24.981609666696933,\n",
       " 24.99631551751183,\n",
       " 25.00810211892724,\n",
       " 24.987537579001426,\n",
       " 25.00856930697556,\n",
       " 24.988700148759126,\n",
       " 24.998213720849616,\n",
       " 24.94615833586975,\n",
       " 24.991803433427577,\n",
       " 24.995252090958758,\n",
       " 25.00535367113087,\n",
       " 25.009717470318343,\n",
       " 24.992960386793968,\n",
       " 24.992311440711436,\n",
       " 25.00353582583587,\n",
       " 24.982225290994553,\n",
       " 25.012787669872704,\n",
       " 24.98530070213449,\n",
       " 24.990182421833687,\n",
       " 24.982542066915002,\n",
       " 24.965868007050513,\n",
       " 24.98922338405979,\n",
       " 24.998068546137233,\n",
       " 24.976055131424676,\n",
       " 24.97698976018863,\n",
       " 24.98028782213455,\n",
       " 24.98056456019336,\n",
       " 24.991794669985225,\n",
       " 24.992177487460303,\n",
       " 24.97766252306728,\n",
       " 25.012045134254187,\n",
       " 24.993294602341948,\n",
       " 25.005219025280912,\n",
       " 24.975592446479254,\n",
       " 24.986878797562913,\n",
       " 24.98477949134956,\n",
       " 24.98365287978309,\n",
       " 24.992007703944253,\n",
       " 24.99100434640191,\n",
       " 24.994463083178594,\n",
       " 24.9860309355672,\n",
       " 24.997332146428217,\n",
       " 24.986120577886282,\n",
       " 24.974610386647573,\n",
       " 24.984961287677944,\n",
       " 24.98907749885118,\n",
       " 24.98108106665703,\n",
       " 24.98190637626677,\n",
       " 24.983379709240285,\n",
       " 25.009134864190525,\n",
       " 24.981776125333813,\n",
       " 24.986966671898372,\n",
       " 24.99437582726615,\n",
       " 24.968663970060273,\n",
       " 24.973900964245942,\n",
       " 24.970657601337226,\n",
       " 24.98608377726794,\n",
       " 24.98619545627853,\n",
       " 25.024566788487036,\n",
       " 24.968943824486814,\n",
       " 24.98211357814699,\n",
       " 25.015010749994726,\n",
       " 25.008540455877615,\n",
       " 24.980925914105647,\n",
       " 24.98326631454571,\n",
       " 24.98017870666199,\n",
       " 24.97847161945645,\n",
       " 24.981733906173908,\n",
       " 24.99168306588962,\n",
       " 24.99001503549276,\n",
       " 24.997255177235683,\n",
       " 24.972505199080345,\n",
       " 24.995386443830444,\n",
       " 25.001046094287208,\n",
       " 25.00506108698458,\n",
       " 25.004671083330994,\n",
       " 24.987509859618108,\n",
       " 24.984804547247926,\n",
       " 24.958009234756997,\n",
       " 24.971582809328808,\n",
       " 24.99882981412319,\n",
       " 25.02002579978676,\n",
       " 24.994939220811506,\n",
       " 24.998547657019763,\n",
       " 25.017506166987513,\n",
       " 24.989329463136556,\n",
       " 24.99669180733715,\n",
       " 24.999194304742314,\n",
       " 25.0156972935197,\n",
       " 25.00107166507106,\n",
       " 25.00078109249252,\n",
       " 24.976835419447916,\n",
       " 25.002583632869364,\n",
       " 24.974212858512423,\n",
       " 24.982743675703176,\n",
       " 24.977092430059045,\n",
       " 24.96234653218201,\n",
       " 24.973893933308823,\n",
       " 24.98194435714971,\n",
       " 24.971354744509185,\n",
       " 25.000644425364854,\n",
       " 24.980087996224423,\n",
       " 24.994571550352834,\n",
       " 24.9808769988535,\n",
       " 25.002168435249153,\n",
       " 24.9928456177468,\n",
       " 25.00405909911185,\n",
       " 24.998632617320744,\n",
       " 24.988768961813044,\n",
       " 24.989159916877966,\n",
       " 24.994202012213286,\n",
       " 25.00762676661256,\n",
       " 25.00377116623405,\n",
       " 25.00100757735522,\n",
       " 25.005567242441955,\n",
       " 24.97525936390676,\n",
       " 24.991666388053048,\n",
       " 25.014588503302857,\n",
       " 25.006181458144944,\n",
       " 24.993479064462726,\n",
       " 24.980780128424332,\n",
       " 25.00389429904414,\n",
       " 24.969778614639328,\n",
       " 24.989174167690635,\n",
       " 24.98652899948896,\n",
       " 24.99799714116034,\n",
       " 24.99467515791727,\n",
       " 24.986273806414864,\n",
       " 25.005171970046685,\n",
       " 24.965918855423627,\n",
       " 24.99585921526441,\n",
       " 24.97505726736289,\n",
       " 24.988612375026864,\n",
       " 24.97233798476783,\n",
       " 24.99282236869301,\n",
       " 24.972779673717874,\n",
       " 24.988753279995834,\n",
       " 24.989342564768954,\n",
       " 24.98608698084849,\n",
       " 24.999268426944578,\n",
       " 25.01107293627695,\n",
       " 24.981980451740387,\n",
       " 24.974945348757192,\n",
       " 24.96559996054642,\n",
       " 24.978314947327146,\n",
       " 25.001816519617986,\n",
       " 25.010486625613353,\n",
       " 24.987993050343448,\n",
       " 24.97866765699065,\n",
       " 24.974078183048046,\n",
       " 24.967411745024748,\n",
       " 25.01941324899532,\n",
       " 24.973873037858528,\n",
       " 24.96848763154674,\n",
       " 24.979334814365203,\n",
       " 24.98634390070622,\n",
       " 25.001500440609405,\n",
       " 24.98897859542568,\n",
       " 24.98042225527886,\n",
       " 24.985915110263633,\n",
       " 24.986441557720497,\n",
       " 24.976913267092105,\n",
       " 25.007224417185355,\n",
       " 24.996595345712453,\n",
       " 24.98182448744224,\n",
       " 24.966857975705544,\n",
       " 25.00002857035003,\n",
       " 24.991950409984767,\n",
       " 24.97669889287866,\n",
       " 24.988125112671312,\n",
       " 24.984926607417993,\n",
       " 24.973905402958376,\n",
       " 24.984886131266776,\n",
       " 24.980016037366678,\n",
       " 24.998229049341763,\n",
       " 24.994540737403337,\n",
       " 24.969249804094055,\n",
       " 24.978691035526268,\n",
       " 24.99834221900809,\n",
       " 24.98639165302721,\n",
       " 24.958492612156057,\n",
       " 24.988819624443916,\n",
       " 24.98960173220468,\n",
       " 24.977504881089427,\n",
       " 24.969767421056925,\n",
       " 25.00972117710726,\n",
       " 24.98855424151145,\n",
       " 24.969588728552708,\n",
       " 24.981135925416087,\n",
       " 24.965486293935946,\n",
       " 24.96552271490133,\n",
       " 24.967157953126026,\n",
       " 24.999814642327877,\n",
       " 24.983088667677418,\n",
       " 24.99667333258044,\n",
       " 24.985384075926863,\n",
       " 24.995085956995222,\n",
       " 24.992363103745852,\n",
       " 24.996797840140303,\n",
       " 24.978603868918594,\n",
       " 24.97589928061799,\n",
       " 24.999501606437402,\n",
       " 24.995550630912753,\n",
       " 24.978602536321006,\n",
       " 24.994855118752312,\n",
       " 25.00292853709184,\n",
       " 24.978518734490848,\n",
       " 24.957381734926827,\n",
       " 25.006262513936495,\n",
       " 25.01107326278604,\n",
       " 24.989447320282515,\n",
       " 24.975157899091613,\n",
       " 24.988493510429542,\n",
       " 25.012172052376776,\n",
       " 24.990692306078802,\n",
       " 24.997767574107066,\n",
       " 25.00581909952356,\n",
       " 24.99016653188374,\n",
       " 25.014443185789645,\n",
       " 25.016562689426276,\n",
       " 24.981624483595834,\n",
       " 24.966597403935936,\n",
       " 24.975561532021846,\n",
       " 25.008329385421384,\n",
       " 25.000637795843044,\n",
       " 24.974588412083577,\n",
       " 24.98234673126556,\n",
       " 24.97856191567561,\n",
       " 24.987747638032356,\n",
       " 24.986133222842163,\n",
       " 24.990638609528478,\n",
       " 24.990224349384064,\n",
       " 24.97603410981019,\n",
       " 24.990105686609223,\n",
       " 24.999303611491964,\n",
       " 24.988734818205188,\n",
       " 24.969393075848433,\n",
       " 24.985952657900906,\n",
       " 24.982830193369654,\n",
       " 24.984357870098066,\n",
       " 24.99164793517178,\n",
       " 25.002826852323146,\n",
       " 24.97040160957098,\n",
       " 25.01508336451097,\n",
       " 24.998858543094087,\n",
       " 24.99337850600609,\n",
       " 24.96998553933453]"
      ]
     },
     "execution_count": 36,
     "metadata": {},
     "output_type": "execute_result"
    }
   ],
   "source": [
    "bootstrap_means = []\n",
    "for i in range(1000):\n",
    "    temp_sample = np.random.choice(shoe_lengths, replace=True, size=len(shoe_lengths))\n",
    "    temp_mean = np.mean(temp_sample)\n",
    "    bootstrap_means.append(temp_mean)\n",
    "    \n",
    "bootstrap_means"
   ]
  },
  {
   "cell_type": "code",
   "execution_count": 37,
   "metadata": {
    "ExecuteTime": {
     "end_time": "2023-07-13T10:13:07.176003Z",
     "start_time": "2023-07-13T10:13:06.876368Z"
    },
    "colab": {
     "base_uri": "https://localhost:8080/",
     "height": 265
    },
    "executionInfo": {
     "elapsed": 257,
     "status": "ok",
     "timestamp": 1643888252273,
     "user": {
      "displayName": "Hippolyte GUIGON",
      "photoUrl": "https://lh3.googleusercontent.com/a-/AOh14GjYVU9CDexRPiTYRyddiqGAyBg678-bBucrxUClWw=s64",
      "userId": "18045676621189214494"
     },
     "user_tz": -60
    },
    "id": "5FtH3kfa1GSL",
    "outputId": "7f1a0c3c-b9ba-4287-a007-8978157081e3",
    "scrolled": false
   },
   "outputs": [
    {
     "data": {
      "image/png": "[encoded data removed]",
      "text/plain": [
       "<Figure size 432x288 with 1 Axes>"
      ]
     },
     "metadata": {
      "needs_background": "light"
     },
     "output_type": "display_data"
    }
   ],
   "source": [
    "sns.histplot(bootstrap_means, bins=20);"
   ]
  },
  {
   "cell_type": "markdown",
   "metadata": {
    "id": "iR-nTe7O1GSM"
   },
   "source": [
    "Enfin, on calcule un intervalle de confiance de 95% bootstrappé (`boot_95_ci`) en utilisant `np.percentile()`."
   ]
  },
  {
   "cell_type": "code",
   "execution_count": 33,
   "metadata": {
    "ExecuteTime": {
     "end_time": "2023-07-13T10:11:17.272436Z",
     "start_time": "2023-07-13T10:11:17.240476Z"
    },
    "colab": {
     "base_uri": "https://localhost:8080/"
    },
    "executionInfo": {
     "elapsed": 242,
     "status": "ok",
     "timestamp": 1643888259097,
     "user": {
      "displayName": "Hippolyte GUIGON",
      "photoUrl": "https://lh3.googleusercontent.com/a-/AOh14GjYVU9CDexRPiTYRyddiqGAyBg678-bBucrxUClWw=s64",
      "userId": "18045676621189214494"
     },
     "user_tz": -60
    },
    "id": "2QCl5PrG1GSM",
    "outputId": "9136f6b7-9032-40d8-a332-3743d15e708a",
    "scrolled": true
   },
   "outputs": [
    {
     "name": "stdout",
     "output_type": "stream",
     "text": [
      "95% Bootstrapped CI = [24.9591274 25.0190371]\n"
     ]
    }
   ],
   "source": [
    "# Ici on en déduit que si on prend n'importe quel échantillon il y a 95% \n",
    "# de chance que notre taille moyenne se trouve dans l'intervalle de confiance\n",
    "# par extension, la population totale est un échantillon, donc la vraie taille\n",
    "#moyenne a 95% de chance de se trouver dans cette intervalle\n",
    "boot_95_ci = np.percentile(bootstrap_means, [2.5, 97.5])\n",
    "print(\"95% Bootstrapped CI = {}\".format(boot_95_ci))"
   ]
  },
  {
   "cell_type": "code",
   "execution_count": null,
   "metadata": {},
   "outputs": [],
   "source": []
  }
 ],
 "metadata": {
  "colab": {
   "name": "J0 ML live-coding.ipynb",
   "provenance": []
  },
  "hide_input": false,
  "kernelspec": {
   "display_name": "Python 3 (ipykernel)",
   "language": "python",
   "name": "python3"
  },
  "language_info": {
   "codemirror_mode": {
    "name": "ipython",
    "version": 3
   },
   "file_extension": ".py",
   "mimetype": "text/x-python",
   "name": "python",
   "nbconvert_exporter": "python",
   "pygments_lexer": "ipython3",
   "version": "3.9.7"
  },
  "toc": {
   "base_numbering": 1,
   "nav_menu": {},
   "number_sections": true,
   "sideBar": true,
   "skip_h1_title": false,
   "title_cell": "Table of Contents",
   "title_sidebar": "Contents",
   "toc_cell": false,
   "toc_position": {},
   "toc_section_display": true,
   "toc_window_display": true
  },
  "varInspector": {
   "cols": {
    "lenName": 16,
    "lenType": 16,
    "lenVar": 40
   },
   "kernels_config": {
    "python": {
     "delete_cmd_postfix": "",
     "delete_cmd_prefix": "del ",
     "library": "var_list.py",
     "varRefreshCmd": "print(var_dic_list())"
    },
    "r": {
     "delete_cmd_postfix": ") ",
     "delete_cmd_prefix": "rm(",
     "library": "var_list.r",
     "varRefreshCmd": "cat(var_dic_list()) "
    }
   },
   "types_to_exclude": [
    "module",
    "function",
    "builtin_function_or_method",
    "instance",
    "_Feature"
   ],
   "window_display": false
  }
 },
 "nbformat": 4,
 "nbformat_minor": 1
}

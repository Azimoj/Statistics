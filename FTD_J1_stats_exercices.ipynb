{
 "cells": [
  {
   "cell_type": "markdown",
   "metadata": {},
   "source": [
    "# J1 – Statistiques"
   ]
  },
  {
   "cell_type": "markdown",
   "metadata": {},
   "source": [
    "## Satistiques descriptives"
   ]
  },
  {
   "cell_type": "markdown",
   "metadata": {},
   "source": [
    "### Exercice 1 – Quel pourcentile ?  (*)\n",
    "Décrire cette série de nombres avec un maximum de statistiques descriptives.\n",
    "\n",
    "_Hint: Utilisez `numpy` et `scipy`_"
   ]
  },
  {
   "cell_type": "code",
   "execution_count": 2,
   "metadata": {},
   "outputs": [],
   "source": [
    "import numpy as np\n",
    "import pandas as pd"
   ]
  },
  {
   "cell_type": "code",
   "execution_count": 3,
   "metadata": {
    "ExecuteTime": {
     "end_time": "2021-04-13T15:35:25.851540Z",
     "start_time": "2021-04-13T15:35:25.824131Z"
    }
   },
   "outputs": [],
   "source": [
    "test_array = np.array([ 29.06114022,  26.17437913,  36.4492889 ,  54.90292031,\n",
    "        49.44535829,  70.72485829,  67.46168782,  77.42488633,\n",
    "         5.19166198,  46.1153849 , 102.91120315,  37.63296073,\n",
    "        38.20406491,  71.23979213,  50.67913182,  71.61930794,\n",
    "        36.13388738,  27.3738083 ,  80.05990108,  64.42082913,\n",
    "        85.96083068,  38.48042099,  39.96362245,  62.00757552,\n",
    "        83.12837179,  50.02396422,  73.35132353,  55.20438011,\n",
    "        45.0256195 ,  18.21004262,  46.61125507,  29.79881717,\n",
    "        19.16614263,  36.87047247,  34.71334354,  85.11379842,\n",
    "        66.79951584,  61.00108181,  46.82147047,   4.4950038 ,\n",
    "        59.64403006,  17.01467171,  40.00601743,  35.13955427,\n",
    "        38.31776797,  54.1456781 ,  34.30530359, 103.841159  ,\n",
    "        83.36621903,  43.18991314,  46.98826925,  66.62157158,\n",
    "        41.79001612,  40.60759538,  65.20520983,  21.43783658,\n",
    "        69.52452364,  86.3687045 ,  71.41994957,  47.33225797,\n",
    "        21.115204  ,  55.05271646,  41.89208457,  55.22620396,\n",
    "        51.83378269,  46.00827601,  44.26225881,  83.07739312,\n",
    "        48.96878562,  64.82302883,  25.87666904,  48.55161088,\n",
    "        48.19525418,  47.60694118,  42.81430297,  15.83639471,\n",
    "        73.88628351,  59.81470386,  36.10382006,  54.88516162,\n",
    "        63.63872644,  26.40355033,  81.54731183,  26.72902021,\n",
    "        73.58336019,  29.31653704,  59.08846558,  47.91728695,\n",
    "        20.65932672,  67.37507865,  29.69230719,  35.60901864,\n",
    "        75.98322683,  74.13652542,  42.1707353 ,  36.14038798,\n",
    "        63.02800873,  39.74962657,  23.85164459,  93.0516192 ])"
   ]
  },
  {
   "cell_type": "code",
   "execution_count": 7,
   "metadata": {},
   "outputs": [],
   "source": [
    "from scipy import stats"
   ]
  },
  {
   "cell_type": "code",
   "execution_count": 9,
   "metadata": {},
   "outputs": [],
   "source": [
    "df = pd.DataFrame(data=test_array)"
   ]
  },
  {
   "cell_type": "code",
   "execution_count": 12,
   "metadata": {},
   "outputs": [
    {
     "data": {
      "text/html": [
       "<div>\n",
       "<style scoped>\n",
       "    .dataframe tbody tr th:only-of-type {\n",
       "        vertical-align: middle;\n",
       "    }\n",
       "\n",
       "    .dataframe tbody tr th {\n",
       "        vertical-align: top;\n",
       "    }\n",
       "\n",
       "    .dataframe thead th {\n",
       "        text-align: right;\n",
       "    }\n",
       "</style>\n",
       "<table border=\"1\" class=\"dataframe\">\n",
       "  <thead>\n",
       "    <tr style=\"text-align: right;\">\n",
       "      <th></th>\n",
       "      <th>0</th>\n",
       "    </tr>\n",
       "  </thead>\n",
       "  <tbody>\n",
       "    <tr>\n",
       "      <th>count</th>\n",
       "      <td>100.000000</td>\n",
       "    </tr>\n",
       "    <tr>\n",
       "      <th>mean</th>\n",
       "      <td>50.677424</td>\n",
       "    </tr>\n",
       "    <tr>\n",
       "      <th>std</th>\n",
       "      <td>21.192488</td>\n",
       "    </tr>\n",
       "    <tr>\n",
       "      <th>min</th>\n",
       "      <td>4.495004</td>\n",
       "    </tr>\n",
       "    <tr>\n",
       "      <th>25%</th>\n",
       "      <td>36.138763</td>\n",
       "    </tr>\n",
       "    <tr>\n",
       "      <th>50%</th>\n",
       "      <td>47.762114</td>\n",
       "    </tr>\n",
       "    <tr>\n",
       "      <th>75%</th>\n",
       "      <td>66.666058</td>\n",
       "    </tr>\n",
       "    <tr>\n",
       "      <th>max</th>\n",
       "      <td>103.841159</td>\n",
       "    </tr>\n",
       "  </tbody>\n",
       "</table>\n",
       "</div>"
      ],
      "text/plain": [
       "                0\n",
       "count  100.000000\n",
       "mean    50.677424\n",
       "std     21.192488\n",
       "min      4.495004\n",
       "25%     36.138763\n",
       "50%     47.762114\n",
       "75%     66.666058\n",
       "max    103.841159"
      ]
     },
     "execution_count": 12,
     "metadata": {},
     "output_type": "execute_result"
    }
   ],
   "source": [
    "df.describe()"
   ]
  },
  {
   "cell_type": "code",
   "execution_count": null,
   "metadata": {},
   "outputs": [],
   "source": []
  },
  {
   "cell_type": "markdown",
   "metadata": {},
   "source": [
    "### Exercice 2 - Le football est-il relié à l'économie ? (*)\n",
    "\n",
    "Trouver le coefficient de correlation entre les valeurs du CAC40 et les prix des actions du Groupe OL \n",
    "\n",
    "_Hint: Il existe une fonction de correlation sur `numpy`_"
   ]
  },
  {
   "cell_type": "code",
   "execution_count": 13,
   "metadata": {
    "ExecuteTime": {
     "end_time": "2021-04-13T15:45:53.809551Z",
     "start_time": "2021-04-13T15:45:53.795665Z"
    }
   },
   "outputs": [],
   "source": [
    "cac_values = np.array([5197.79, 5011.98, 5022.38, 4858.97, 4762.78, 4695.44, 4771.39,\n",
    "       4688.74, 4606.24, 4539.91, 4444.56, 4445.45, 4496.98, 4458.16,\n",
    "       4498.34, 4277.63, 4273.13, 4344.95, 4472.5 , 4490.22, 4549.64,\n",
    "       4501.44, 4433.38, 4483.13])\n",
    "\n",
    "olg_values = np.array([2.34, 2.41, 2.41, 2.32, 2.27, 2.24, 2.16, 2.1 , 2.07, 2.07, 2.08,\n",
    "       2.1 , 2.1 , 2.08, 2.08, 2.07, 2.06, 2.08, 2.08, 2.1 , 2.12, 2.15,\n",
    "       2.14, 2.17])"
   ]
  },
  {
   "cell_type": "code",
   "execution_count": 16,
   "metadata": {},
   "outputs": [
    {
     "data": {
      "text/plain": [
       "<matplotlib.collections.PathCollection at 0x2112dbcefd0>"
      ]
     },
     "execution_count": 16,
     "metadata": {},
     "output_type": "execute_result"
    },
    {
     "data": {
      "image/png": "[encoded data removed]",
      "text/plain": [
       "<Figure size 432x288 with 1 Axes>"
      ]
     },
     "metadata": {
      "needs_background": "light"
     },
     "output_type": "display_data"
    }
   ],
   "source": [
    "import matplotlib.pyplot as plt \n",
    "\n",
    "plt.scatter(cac_values,olg_values)"
   ]
  },
  {
   "cell_type": "code",
   "execution_count": 18,
   "metadata": {},
   "outputs": [
    {
     "data": {
      "text/plain": [
       "array([[1.        , 0.87975468],\n",
       "       [0.87975468, 1.        ]])"
      ]
     },
     "execution_count": 18,
     "metadata": {},
     "output_type": "execute_result"
    }
   ],
   "source": [
    "np.corrcoef(cac_values,olg_values)"
   ]
  },
  {
   "cell_type": "code",
   "execution_count": null,
   "metadata": {},
   "outputs": [],
   "source": []
  }
 ],
 "metadata": {
  "hide_input": false,
  "kernelspec": {
   "display_name": "Python 3 (ipykernel)",
   "language": "python",
   "name": "python3"
  },
  "language_info": {
   "codemirror_mode": {
    "name": "ipython",
    "version": 3
   },
   "file_extension": ".py",
   "mimetype": "text/x-python",
   "name": "python",
   "nbconvert_exporter": "python",
   "pygments_lexer": "ipython3",
   "version": "3.9.7"
  },
  "toc": {
   "base_numbering": 1,
   "nav_menu": {},
   "number_sections": true,
   "sideBar": true,
   "skip_h1_title": false,
   "title_cell": "Table of Contents",
   "title_sidebar": "Contents",
   "toc_cell": false,
   "toc_position": {},
   "toc_section_display": true,
   "toc_window_display": true
  },
  "varInspector": {
   "cols": {
    "lenName": 16,
    "lenType": 16,
    "lenVar": 40
   },
   "kernels_config": {
    "python": {
     "delete_cmd_postfix": "",
     "delete_cmd_prefix": "del ",
     "library": "var_list.py",
     "varRefreshCmd": "print(var_dic_list())"
    },
    "r": {
     "delete_cmd_postfix": ") ",
     "delete_cmd_prefix": "rm(",
     "library": "var_list.r",
     "varRefreshCmd": "cat(var_dic_list()) "
    }
   },
   "types_to_exclude": [
    "module",
    "function",
    "builtin_function_or_method",
    "instance",
    "_Feature"
   ],
   "window_display": false
  }
 },
 "nbformat": 4,
 "nbformat_minor": 2
}

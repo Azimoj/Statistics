{
 "cells": [
  {
   "cell_type": "markdown",
   "metadata": {},
   "source": [
    "# J2– Statistiques"
   ]
  },
  {
   "cell_type": "markdown",
   "metadata": {},
   "source": [
    "## Bootstrapping, inference, intervalles de confiance"
   ]
  },
  {
   "cell_type": "markdown",
   "metadata": {},
   "source": [
    "### Exercise 3 – Old Faithful (***)"
   ]
  },
  {
   "cell_type": "markdown",
   "metadata": {},
   "source": [
    "Old Faithful  est un geyser du Yellowstone National Park dans le Wyoming: http://en.wikipedia.org/wiki/Old_Faithful.\n",
    "\n",
    "Le dataset  `old_faithful.csv` donne la durée de 272 eruptions consécutives. La colonne `eruptions` représente la durée des eruptions en minutes, et la colonne `waiting` représente les durée en minutes jusqu'à la prochaine éruption.\n",
    "\n",
    "On veut estimer la durée **mediane** d'une eruption et donner un interval de confiance de 90% pour la mediane."
   ]
  },
  {
   "cell_type": "code",
   "execution_count": 1,
   "metadata": {},
   "outputs": [],
   "source": [
    "import pandas as pd\n",
    "import numpy as np\n",
    "from scipy import stats"
   ]
  },
  {
   "cell_type": "markdown",
   "metadata": {},
   "source": [
    "**1. Importer les données et convertir la durée des éruptions en secondes.**"
   ]
  },
  {
   "cell_type": "code",
   "execution_count": 4,
   "metadata": {},
   "outputs": [
    {
     "data": {
      "text/html": [
       "<div>\n",
       "<style scoped>\n",
       "    .dataframe tbody tr th:only-of-type {\n",
       "        vertical-align: middle;\n",
       "    }\n",
       "\n",
       "    .dataframe tbody tr th {\n",
       "        vertical-align: top;\n",
       "    }\n",
       "\n",
       "    .dataframe thead th {\n",
       "        text-align: right;\n",
       "    }\n",
       "</style>\n",
       "<table border=\"1\" class=\"dataframe\">\n",
       "  <thead>\n",
       "    <tr style=\"text-align: right;\">\n",
       "      <th></th>\n",
       "      <th>eruptions</th>\n",
       "      <th>waiting</th>\n",
       "    </tr>\n",
       "  </thead>\n",
       "  <tbody>\n",
       "    <tr>\n",
       "      <th>0</th>\n",
       "      <td>3.600</td>\n",
       "      <td>79</td>\n",
       "    </tr>\n",
       "    <tr>\n",
       "      <th>1</th>\n",
       "      <td>1.800</td>\n",
       "      <td>54</td>\n",
       "    </tr>\n",
       "    <tr>\n",
       "      <th>2</th>\n",
       "      <td>3.333</td>\n",
       "      <td>74</td>\n",
       "    </tr>\n",
       "    <tr>\n",
       "      <th>3</th>\n",
       "      <td>2.283</td>\n",
       "      <td>62</td>\n",
       "    </tr>\n",
       "    <tr>\n",
       "      <th>4</th>\n",
       "      <td>4.533</td>\n",
       "      <td>85</td>\n",
       "    </tr>\n",
       "  </tbody>\n",
       "</table>\n",
       "</div>"
      ],
      "text/plain": [
       "   eruptions  waiting\n",
       "0      3.600       79\n",
       "1      1.800       54\n",
       "2      3.333       74\n",
       "3      2.283       62\n",
       "4      4.533       85"
      ]
     },
     "execution_count": 4,
     "metadata": {},
     "output_type": "execute_result"
    }
   ],
   "source": [
    "df= pd.read_csv('old_faithful.csv')\n",
    "df.head()"
   ]
  },
  {
   "cell_type": "code",
   "execution_count": 5,
   "metadata": {},
   "outputs": [
    {
     "data": {
      "text/plain": [
       "(272, 2)"
      ]
     },
     "execution_count": 5,
     "metadata": {},
     "output_type": "execute_result"
    }
   ],
   "source": [
    "df.shape"
   ]
  },
  {
   "cell_type": "code",
   "execution_count": 9,
   "metadata": {},
   "outputs": [
    {
     "data": {
      "text/plain": [
       "Index(['eruptions', 'waiting'], dtype='object')"
      ]
     },
     "execution_count": 9,
     "metadata": {},
     "output_type": "execute_result"
    }
   ],
   "source": [
    "df.columns"
   ]
  },
  {
   "cell_type": "code",
   "execution_count": 10,
   "metadata": {},
   "outputs": [
    {
     "name": "stdout",
     "output_type": "stream",
     "text": [
      "<class 'pandas.core.frame.DataFrame'>\n",
      "RangeIndex: 272 entries, 0 to 271\n",
      "Data columns (total 2 columns):\n",
      " #   Column     Non-Null Count  Dtype  \n",
      "---  ------     --------------  -----  \n",
      " 0   eruptions  272 non-null    float64\n",
      " 1   waiting    272 non-null    int64  \n",
      "dtypes: float64(1), int64(1)\n",
      "memory usage: 4.4 KB\n"
     ]
    }
   ],
   "source": [
    "df.info()"
   ]
  },
  {
   "cell_type": "markdown",
   "metadata": {},
   "source": [
    "**2. Tracer un histogramme de la durée des éruptions.**"
   ]
  },
  {
   "cell_type": "code",
   "execution_count": 29,
   "metadata": {},
   "outputs": [
    {
     "data": {
      "image/png": "[encoded data removed]",
      "text/plain": [
       "<Figure size 432x288 with 1 Axes>"
      ]
     },
     "metadata": {
      "needs_background": "light"
     },
     "output_type": "display_data"
    }
   ],
   "source": [
    "import matplotlib.pyplot as plt \n",
    "n_bins = 20\n",
    "colors = ['green', 'blue']\n",
    "plt.hist(df, n_bins, density = True,\n",
    "         histtype ='bar',\n",
    "         color = colors,\n",
    "         label = colors)\n",
    "\n",
    "plt.legend(prop ={'size': 10})\n",
    " \n",
    "plt.title(' histogramme de la durée des éruptions et waiting\\n\\n',\n",
    "          fontweight = \"bold\")\n",
    "\n",
    "plt.show()"
   ]
  },
  {
   "cell_type": "code",
   "execution_count": 25,
   "metadata": {},
   "outputs": [
    {
     "data": {
      "image/png": "[encoded data removed]",
      "text/plain": [
       "<Figure size 432x288 with 1 Axes>"
      ]
     },
     "metadata": {
      "needs_background": "light"
     },
     "output_type": "display_data"
    }
   ],
   "source": [
    "n_bins = 20\n",
    "colors = ['green']\n",
    "plt.hist(df.eruptions, n_bins, density = True,\n",
    "         histtype ='bar',\n",
    "         color = colors,\n",
    "         label = colors)\n",
    "\n",
    "plt.legend(prop ={'size': 10})\n",
    " \n",
    "plt.title(' histogramme de la durée des éruptions\\n\\n',\n",
    "          fontweight = \"bold\")\n",
    "\n",
    "plt.show()"
   ]
  },
  {
   "cell_type": "markdown",
   "metadata": {},
   "source": [
    "**3. Calculer la mediane de l'échantillon (durée des éruptions).**"
   ]
  },
  {
   "cell_type": "code",
   "execution_count": 32,
   "metadata": {},
   "outputs": [
    {
     "name": "stdout",
     "output_type": "stream",
     "text": [
      "la mediane de l'échantillon (durée des éruptions) est: 4.0\n"
     ]
    }
   ],
   "source": [
    "print(\"la mediane de l'échantillon (durée des éruptions) est:\", df.eruptions.median())"
   ]
  },
  {
   "cell_type": "markdown",
   "metadata": {},
   "source": [
    "**4. Trouver la médiane d'un échantillon bootstrappé. Répeter l'opération 1000 fois et stocker 1000 médianes bootstrappées.**"
   ]
  },
  {
   "cell_type": "code",
   "execution_count": null,
   "metadata": {},
   "outputs": [],
   "source": []
  },
  {
   "cell_type": "markdown",
   "metadata": {},
   "source": [
    "**5. Tracer un histogramme de la distribution bootstrappée Plot the bootstrap distribution as a histogram.**\n",
    "\n",
    "_Hint: convertissez l'array en Series pour utiliser `.plot()`._"
   ]
  },
  {
   "cell_type": "code",
   "execution_count": null,
   "metadata": {},
   "outputs": [],
   "source": []
  },
  {
   "cell_type": "markdown",
   "metadata": {},
   "source": [
    "**6. Trouver les valeurs critiques .95 et .05 (le 5ème et 95ème centile).**"
   ]
  },
  {
   "cell_type": "code",
   "execution_count": null,
   "metadata": {},
   "outputs": [],
   "source": []
  },
  {
   "cell_type": "markdown",
   "metadata": {},
   "source": [
    "**[BONUS] 7. Ecrire une fonction qui fais l'ensemble de toutes les opérations précédentes.**\n",
    "\n",
    "_Hint: la fonction doit prendre en entrée l'échantillon, le type d'estimateur ('median', 'mean' suffisent) et ressortir l'intervalle de confiance bootstrappé._"
   ]
  },
  {
   "cell_type": "code",
   "execution_count": null,
   "metadata": {},
   "outputs": [],
   "source": []
  },
  {
   "cell_type": "markdown",
   "metadata": {},
   "source": [
    "**[BONUS] 8. Calculer les correlation entre la durée des eruptions et le temps d'attente entre chaque éruption. En suite construire un intervalle de confiance bootstrappé pour le coefficient de correlation.**"
   ]
  },
  {
   "cell_type": "code",
   "execution_count": null,
   "metadata": {},
   "outputs": [],
   "source": []
  },
  {
   "cell_type": "markdown",
   "metadata": {},
   "source": [
    "**[BONUS] 9. Aller plus loin**\n",
    "Une autre technique de bootstrap est l'utilisation de la distribution des différence des médianes plutôt que la distribution boostrapée directement\n",
    "Voir le [MIT course](https://ocw.mit.edu/courses/mathematics/18-05-introduction-to-probability-and-statistics-spring-2014/readings/MIT18_05S14_Reading24.pdf) pour plus de détails.\n",
    "\n",
    "* Tout d'abord, calculer la différence entre la mediane originale du sample et la médiane bootstrappée.\n",
    "* En suite, tracer un histogramme de la distribution de ces différences.\n",
    "* Trouver les valeurs critiques .95 and .05.\n",
    "\n",
    ">Grâce à la loi des Grands Nombres, ces valeurs représentent une bonne estimation de jusqu'à où la mediane boostrappée peut varié de la mediane de l'échantillon avec 90% de certitude. Le principe du boostrap dis que ces variations devraient apprximer les variations de la médiane de l'échantillon par rapport à la médiane de la population .\n",
    "\n",
    "* Enfin, utilisez ces valeurs pour construire un bootstrap de 90% d'intervalle de confiance par rapport à la médiane de l'échantillon."
   ]
  },
  {
   "cell_type": "code",
   "execution_count": null,
   "metadata": {},
   "outputs": [],
   "source": []
  },
  {
   "cell_type": "markdown",
   "metadata": {},
   "source": [
    "**[BONUS] 10. Quelle est la probabilité que la médiant d'un échantillon soit strictement plus que 10 secondes plus loin que la vraie médiane.**\n",
    "\n",
    "_Hint:  Il faut obtenir la valeur absolue des differences du bootstrape, les classer par ordre croissant et en suite calculer la proportion de celles qui sont >10. Grâce à la loi des Grands Nombres, cela donne le pourcentage de chance que les médianes bootstrappées aient un écart strictement plus grands que 10 secondes de la médiane de l'échantillon. Le principe du bootstrape est une bonne approximation de la variation entre la médiane de l'échantillon et la médiane réelle._"
   ]
  },
  {
   "cell_type": "code",
   "execution_count": null,
   "metadata": {},
   "outputs": [],
   "source": []
  }
 ],
 "metadata": {
  "hide_input": false,
  "kernelspec": {
   "display_name": "Python 3 (ipykernel)",
   "language": "python",
   "name": "python3"
  },
  "language_info": {
   "codemirror_mode": {
    "name": "ipython",
    "version": 3
   },
   "file_extension": ".py",
   "mimetype": "text/x-python",
   "name": "python",
   "nbconvert_exporter": "python",
   "pygments_lexer": "ipython3",
   "version": "3.9.7"
  },
  "toc": {
   "base_numbering": 1,
   "nav_menu": {},
   "number_sections": true,
   "sideBar": true,
   "skip_h1_title": false,
   "title_cell": "Table of Contents",
   "title_sidebar": "Contents",
   "toc_cell": false,
   "toc_position": {},
   "toc_section_display": true,
   "toc_window_display": true
  },
  "varInspector": {
   "cols": {
    "lenName": 16,
    "lenType": 16,
    "lenVar": 40
   },
   "kernels_config": {
    "python": {
     "delete_cmd_postfix": "",
     "delete_cmd_prefix": "del ",
     "library": "var_list.py",
     "varRefreshCmd": "print(var_dic_list())"
    },
    "r": {
     "delete_cmd_postfix": ") ",
     "delete_cmd_prefix": "rm(",
     "library": "var_list.r",
     "varRefreshCmd": "cat(var_dic_list()) "
    }
   },
   "types_to_exclude": [
    "module",
    "function",
    "builtin_function_or_method",
    "instance",
    "_Feature"
   ],
   "window_display": false
  }
 },
 "nbformat": 4,
 "nbformat_minor": 2
}

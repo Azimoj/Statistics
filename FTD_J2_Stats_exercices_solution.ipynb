{
 "cells": [
  {
   "cell_type": "markdown",
   "metadata": {
    "id": "9y29gKvOlsds"
   },
   "source": [
    "# J2 – Statistiques"
   ]
  },
  {
   "cell_type": "markdown",
   "metadata": {
    "id": "NbMGnYcjlsdx"
   },
   "source": [
    "## Satistiques descriptives"
   ]
  },
  {
   "cell_type": "markdown",
   "metadata": {
    "id": "mnBcHB6xlsdy"
   },
   "source": [
    "### Exercice 1 – Quel pourcentile ? (*)\n",
    "Dérire cette série de nombres avec un maximum de statistiques descriptives.\n",
    "\n",
    "_Hint: Utilisez `numpy` et `scipy`_"
   ]
  },
  {
   "cell_type": "code",
   "execution_count": 1,
   "metadata": {
    "ExecuteTime": {
     "end_time": "2021-07-01T15:21:39.224665Z",
     "start_time": "2021-07-01T15:21:39.221007Z"
    },
    "id": "Gu8i1d5Alsdy"
   },
   "outputs": [],
   "source": [
    "import numpy as np\n",
    "import pandas as pd"
   ]
  },
  {
   "cell_type": "code",
   "execution_count": 2,
   "metadata": {
    "ExecuteTime": {
     "end_time": "2021-07-01T15:21:42.827883Z",
     "start_time": "2021-07-01T15:21:42.813027Z"
    },
    "id": "3VqxV-97lsd0"
   },
   "outputs": [],
   "source": [
    "test_array = np.array([ 29.06114022,  26.17437913,  36.4492889 ,  54.90292031,\n",
    "        49.44535829,  70.72485829,  67.46168782,  77.42488633,\n",
    "         5.19166198,  46.1153849 , 102.91120315,  37.63296073,\n",
    "        38.20406491,  71.23979213,  50.67913182,  71.61930794,\n",
    "        36.13388738,  27.3738083 ,  80.05990108,  64.42082913,\n",
    "        85.96083068,  38.48042099,  39.96362245,  62.00757552,\n",
    "        83.12837179,  50.02396422,  73.35132353,  55.20438011,\n",
    "        45.0256195 ,  18.21004262,  46.61125507,  29.79881717,\n",
    "        19.16614263,  36.87047247,  34.71334354,  85.11379842,\n",
    "        66.79951584,  61.00108181,  46.82147047,   4.4950038 ,\n",
    "        59.64403006,  17.01467171,  40.00601743,  35.13955427,\n",
    "        38.31776797,  54.1456781 ,  34.30530359, 103.841159  ,\n",
    "        83.36621903,  43.18991314,  46.98826925,  66.62157158,\n",
    "        41.79001612,  40.60759538,  65.20520983,  21.43783658,\n",
    "        69.52452364,  86.3687045 ,  71.41994957,  47.33225797,\n",
    "        21.115204  ,  55.05271646,  41.89208457,  55.22620396,\n",
    "        51.83378269,  46.00827601,  44.26225881,  83.07739312,\n",
    "        48.96878562,  64.82302883,  25.87666904,  48.55161088,\n",
    "        48.19525418,  47.60694118,  42.81430297,  15.83639471,\n",
    "        73.88628351,  59.81470386,  36.10382006,  54.88516162,\n",
    "        63.63872644,  26.40355033,  81.54731183,  26.72902021,\n",
    "        73.58336019,  29.31653704,  59.08846558,  47.91728695,\n",
    "        20.65932672,  67.37507865,  29.69230719,  35.60901864,\n",
    "        75.98322683,  74.13652542,  42.1707353 ,  36.14038798,\n",
    "        63.02800873,  39.74962657,  23.85164459,  93.0516192 ])"
   ]
  },
  {
   "cell_type": "code",
   "execution_count": 3,
   "metadata": {
    "ExecuteTime": {
     "end_time": "2021-07-01T15:21:44.845172Z",
     "start_time": "2021-07-01T15:21:44.816235Z"
    },
    "colab": {
     "base_uri": "https://localhost:8080/"
    },
    "id": "qMh9LkPhlsd2",
    "outputId": "97eb4dae-4484-4441-a829-dc17551bbadd"
   },
   "outputs": [
    {
     "data": {
      "text/plain": [
       "50.677423945600005"
      ]
     },
     "execution_count": 3,
     "metadata": {},
     "output_type": "execute_result"
    }
   ],
   "source": [
    "from scipy import stats\n",
    "\n",
    "statistics = stats.describe(test_array)\n",
    "statistics.mean"
   ]
  },
  {
   "cell_type": "code",
   "execution_count": 4,
   "metadata": {
    "id": "QC5aUkbTpegY"
   },
   "outputs": [],
   "source": [
    "df = pd.DataFrame(data=test_array)"
   ]
  },
  {
   "cell_type": "code",
   "execution_count": 5,
   "metadata": {
    "colab": {
     "base_uri": "https://localhost:8080/",
     "height": 300
    },
    "id": "TmBdUT73pkvd",
    "outputId": "64a63fc9-d3d1-4b40-afec-f80052982ead"
   },
   "outputs": [
    {
     "data": {
      "text/html": [
       "<div>\n",
       "<style scoped>\n",
       "    .dataframe tbody tr th:only-of-type {\n",
       "        vertical-align: middle;\n",
       "    }\n",
       "\n",
       "    .dataframe tbody tr th {\n",
       "        vertical-align: top;\n",
       "    }\n",
       "\n",
       "    .dataframe thead th {\n",
       "        text-align: right;\n",
       "    }\n",
       "</style>\n",
       "<table border=\"1\" class=\"dataframe\">\n",
       "  <thead>\n",
       "    <tr style=\"text-align: right;\">\n",
       "      <th></th>\n",
       "      <th>0</th>\n",
       "    </tr>\n",
       "  </thead>\n",
       "  <tbody>\n",
       "    <tr>\n",
       "      <th>count</th>\n",
       "      <td>100.000000</td>\n",
       "    </tr>\n",
       "    <tr>\n",
       "      <th>mean</th>\n",
       "      <td>50.677424</td>\n",
       "    </tr>\n",
       "    <tr>\n",
       "      <th>std</th>\n",
       "      <td>21.192488</td>\n",
       "    </tr>\n",
       "    <tr>\n",
       "      <th>min</th>\n",
       "      <td>4.495004</td>\n",
       "    </tr>\n",
       "    <tr>\n",
       "      <th>25%</th>\n",
       "      <td>36.138763</td>\n",
       "    </tr>\n",
       "    <tr>\n",
       "      <th>50%</th>\n",
       "      <td>47.762114</td>\n",
       "    </tr>\n",
       "    <tr>\n",
       "      <th>75%</th>\n",
       "      <td>66.666058</td>\n",
       "    </tr>\n",
       "    <tr>\n",
       "      <th>max</th>\n",
       "      <td>103.841159</td>\n",
       "    </tr>\n",
       "  </tbody>\n",
       "</table>\n",
       "</div>"
      ],
      "text/plain": [
       "                0\n",
       "count  100.000000\n",
       "mean    50.677424\n",
       "std     21.192488\n",
       "min      4.495004\n",
       "25%     36.138763\n",
       "50%     47.762114\n",
       "75%     66.666058\n",
       "max    103.841159"
      ]
     },
     "execution_count": 5,
     "metadata": {},
     "output_type": "execute_result"
    }
   ],
   "source": [
    "df.describe()"
   ]
  },
  {
   "cell_type": "code",
   "execution_count": 6,
   "metadata": {
    "colab": {
     "base_uri": "https://localhost:8080/"
    },
    "id": "nMFeJypVYKhs",
    "outputId": "28dad7bb-153e-4137-f2d8-a5eb60bd0fad"
   },
   "outputs": [
    {
     "data": {
      "text/plain": [
       "0.2419004544946985"
      ]
     },
     "execution_count": 6,
     "metadata": {},
     "output_type": "execute_result"
    }
   ],
   "source": [
    "stats.skew(test_array)"
   ]
  },
  {
   "cell_type": "code",
   "execution_count": 7,
   "metadata": {
    "ExecuteTime": {
     "end_time": "2021-07-01T15:22:30.652097Z",
     "start_time": "2021-07-01T15:22:30.638603Z"
    },
    "colab": {
     "base_uri": "https://localhost:8080/"
    },
    "id": "rnBQbDSwlsd4",
    "outputId": "3930e4c9-02bd-4f87-e0e1-c2eec19b7eca"
   },
   "outputs": [
    {
     "name": "stdout",
     "output_type": "stream",
     "text": [
      "Nombre d'observations : 100\n",
      "Moyenne de l'échantillon : 50.677\n",
      "Moyenne de l'échantillon : 50.677\n",
      "Ecart-type de l'échantillon : 21.0862591103\n",
      "Mediane de l'échantillon : 47.762\n",
      "Max de l'échantillon : 103.841\n"
     ]
    }
   ],
   "source": [
    "print(f\"Nombre d'observations : {test_array.shape[0]}\")\n",
    "print(f\"Moyenne de l'échantillon : {test_array.mean():.3f}\")\n",
    "print(f\"Moyenne de l'échantillon : {np.mean(test_array):.3f}\")\n",
    "print(f\"Ecart-type de l'échantillon : {test_array.std():.10f}\")\n",
    "print(f\"Mediane de l'échantillon : {np.median(test_array):.3f}\")\n",
    "print(f\"Max de l'échantillon : {np.max(test_array):.3f}\")"
   ]
  },
  {
   "cell_type": "markdown",
   "metadata": {
    "id": "aoKX8LgZlsd6"
   },
   "source": [
    "### Exercice 2 - Le football est-il relié à l'économie ? (*)\n",
    "\n",
    "Trouver le coefficient de correlation entre les valeurs du CAC40 et les prix des actions du Groupe OL \n",
    "\n",
    "_Hint: Il existe une fonction de correlation sur `numpy`_"
   ]
  },
  {
   "cell_type": "code",
   "execution_count": 8,
   "metadata": {
    "ExecuteTime": {
     "end_time": "2021-07-01T15:22:34.815538Z",
     "start_time": "2021-07-01T15:22:34.807890Z"
    },
    "id": "-48Vur0-lsd7"
   },
   "outputs": [],
   "source": [
    "cac_values = np.array([5197.79, 5011.98, 5022.38, 4858.97, 4762.78, 4695.44, 4771.39,\n",
    "       4688.74, 4606.24, 4539.91, 4444.56, 4445.45, 4496.98, 4458.16,\n",
    "       4498.34, 4277.63, 4273.13, 4344.95, 4472.5 , 4490.22, 4549.64,\n",
    "       4501.44, 4433.38, 4483.13])\n",
    "\n",
    "olg_values = np.array([2.34, 2.41, 2.41, 2.32, 2.27, 2.24, 2.16, 2.1 , 2.07, 2.07, 2.08,\n",
    "       2.1 , 2.1 , 2.08, 2.08, 2.07, 2.06, 2.08, 2.08, 2.1 , 2.12, 2.15,\n",
    "       2.14, 2.17])"
   ]
  },
  {
   "cell_type": "code",
   "execution_count": 9,
   "metadata": {
    "ExecuteTime": {
     "end_time": "2021-07-01T15:23:08.140899Z",
     "start_time": "2021-07-01T15:23:08.120969Z"
    },
    "colab": {
     "base_uri": "https://localhost:8080/"
    },
    "id": "Ggam7vyalsd7",
    "outputId": "35c6bc5e-70ee-448a-b9a4-222165f058ae"
   },
   "outputs": [
    {
     "data": {
      "text/plain": [
       "array([[1.        , 0.87975468],\n",
       "       [0.87975468, 1.        ]])"
      ]
     },
     "execution_count": 9,
     "metadata": {},
     "output_type": "execute_result"
    }
   ],
   "source": [
    "np.corrcoef(cac_values, olg_values)"
   ]
  },
  {
   "cell_type": "code",
   "execution_count": 10,
   "metadata": {
    "ExecuteTime": {
     "end_time": "2021-07-01T15:24:43.261574Z",
     "start_time": "2021-07-01T15:24:43.253772Z"
    },
    "colab": {
     "base_uri": "https://localhost:8080/"
    },
    "id": "WiX5qGsTlsd8",
    "outputId": "89d28218-9d8b-4dff-d9de-8324afbd7663",
    "scrolled": true
   },
   "outputs": [
    {
     "name": "stdout",
     "output_type": "stream",
     "text": [
      "La corrélation entre le CAC et OLG est de 88.0%\n"
     ]
    }
   ],
   "source": [
    "print(f\"La corrélation entre le CAC et OLG est de {np.corrcoef(cac_values, olg_values)[0, 1]:.1%}\")"
   ]
  },
  {
   "cell_type": "code",
   "execution_count": 11,
   "metadata": {
    "colab": {
     "base_uri": "https://localhost:8080/",
     "height": 283
    },
    "id": "p0VkFzPuabQQ",
    "outputId": "25abc700-073b-4c3b-a2be-1de061b0fb2f"
   },
   "outputs": [
    {
     "data": {
      "text/plain": [
       "<matplotlib.collections.PathCollection at 0x7f88b0ff3fd0>"
      ]
     },
     "execution_count": 11,
     "metadata": {},
     "output_type": "execute_result"
    },
    {
     "data": {
      "image/png": "[encoded data removed]",
      "text/plain": [
       "<Figure size 432x288 with 1 Axes>"
      ]
     },
     "metadata": {
      "needs_background": "light"
     },
     "output_type": "display_data"
    }
   ],
   "source": [
    "import matplotlib.pyplot as plt \n",
    "\n",
    "plt.scatter(cac_values,olg_values)"
   ]
  },
  {
   "cell_type": "markdown",
   "metadata": {
    "id": "XT04uLT1lsd8"
   },
   "source": [
    "## Bootstrapping, inference, intervalles de confiance"
   ]
  },
  {
   "cell_type": "markdown",
   "metadata": {
    "id": "0iv6rz-ilsd9"
   },
   "source": [
    "### Exercise 3 – Old Faithful (***)"
   ]
  },
  {
   "cell_type": "markdown",
   "metadata": {
    "id": "0sdmbW_elsd9"
   },
   "source": [
    "Old Faithful  est un geyser du Yellowstone National Park dans le Wyoming: http://en.wikipedia.org/wiki/Old_Faithful.\n",
    "\n",
    "Le dataset  `old_faithful.csv` donne la durée de 272 eruptions consécutives. La colonne `eruptions` représente la durée des eruptions en minutes, et la colonne `waiting` représente les durée en minutes jusqu'à la prochaine éruption.\n",
    "\n",
    "On veut estimer la durée **mediane** d'une eruption et donner un interval de confiance de 90% pour la mediane."
   ]
  },
  {
   "cell_type": "markdown",
   "metadata": {
    "id": "-iyq2DP0lsd-"
   },
   "source": [
    "**1. Importer les données et convertir la durée des éruptions en secondes.**"
   ]
  },
  {
   "cell_type": "code",
   "execution_count": 12,
   "metadata": {
    "ExecuteTime": {
     "end_time": "2021-07-01T15:26:44.064836Z",
     "start_time": "2021-07-01T15:26:43.025340Z"
    },
    "id": "ZNFoU12tlsd_"
   },
   "outputs": [],
   "source": [
    "import pandas as pd"
   ]
  },
  {
   "cell_type": "markdown",
   "metadata": {
    "id": "RgBQnyXQM1QH"
   },
   "source": [
    "*Solution 1 : avec un read csv*"
   ]
  },
  {
   "cell_type": "code",
   "execution_count": 13,
   "metadata": {
    "ExecuteTime": {
     "end_time": "2021-07-01T15:29:26.941156Z",
     "start_time": "2021-07-01T15:29:26.917075Z"
    },
    "colab": {
     "base_uri": "https://localhost:8080/",
     "height": 143
    },
    "id": "3_TJP7f8lseA",
    "outputId": "e89a9ec9-3e03-44dd-f17c-fb45e8076af1",
    "scrolled": true
   },
   "outputs": [
    {
     "ename": "FileNotFoundError",
     "evalue": "[Errno 2] No such file or directory: 'old_faithful.csv'",
     "output_type": "error",
     "traceback": [
      "\u001b[0;31m---------------------------------------------------------------------------\u001b[0m",
      "\u001b[0;31mFileNotFoundError\u001b[0m                         Traceback (most recent call last)",
      "\u001b[0;32m/var/folders/0l/n1vv_5ks727fmhxt8n269nr80000gn/T/ipykernel_9295/2778613884.py\u001b[0m in \u001b[0;36m<module>\u001b[0;34m\u001b[0m\n\u001b[1;32m      1\u001b[0m \u001b[0;31m# Solution 1\u001b[0m\u001b[0;34m\u001b[0m\u001b[0;34m\u001b[0m\u001b[0m\n\u001b[0;32m----> 2\u001b[0;31m \u001b[0mgeyser\u001b[0m \u001b[0;34m=\u001b[0m \u001b[0mpd\u001b[0m\u001b[0;34m.\u001b[0m\u001b[0mread_csv\u001b[0m\u001b[0;34m(\u001b[0m\u001b[0;34m'old_faithful.csv'\u001b[0m\u001b[0;34m,\u001b[0m \u001b[0msep\u001b[0m\u001b[0;34m=\u001b[0m\u001b[0;34m'\\s+'\u001b[0m\u001b[0;34m)\u001b[0m\u001b[0;34m\u001b[0m\u001b[0;34m\u001b[0m\u001b[0m\n\u001b[0m\u001b[1;32m      3\u001b[0m \u001b[0mgeyser\u001b[0m\u001b[0;34m[\u001b[0m\u001b[0;34m'eruptions'\u001b[0m\u001b[0;34m]\u001b[0m\u001b[0;34m,\u001b[0m \u001b[0mgeyser\u001b[0m\u001b[0;34m[\u001b[0m\u001b[0;34m'waiting'\u001b[0m\u001b[0;34m]\u001b[0m \u001b[0;34m=\u001b[0m \u001b[0mgeyser\u001b[0m\u001b[0;34m[\u001b[0m\u001b[0;34m'eruptions'\u001b[0m\u001b[0;34m]\u001b[0m\u001b[0;34m*\u001b[0m\u001b[0;36m60\u001b[0m\u001b[0;34m,\u001b[0m \u001b[0mgeyser\u001b[0m\u001b[0;34m[\u001b[0m\u001b[0;34m'waiting'\u001b[0m\u001b[0;34m]\u001b[0m\u001b[0;34m*\u001b[0m\u001b[0;36m60\u001b[0m\u001b[0;34m\u001b[0m\u001b[0;34m\u001b[0m\u001b[0m\n\u001b[1;32m      4\u001b[0m \u001b[0mgeyser\u001b[0m\u001b[0;34m.\u001b[0m\u001b[0mhead\u001b[0m\u001b[0;34m(\u001b[0m\u001b[0;36m3\u001b[0m\u001b[0;34m)\u001b[0m\u001b[0;34m\u001b[0m\u001b[0;34m\u001b[0m\u001b[0m\n",
      "\u001b[0;32m~/opt/anaconda3/lib/python3.9/site-packages/pandas/util/_decorators.py\u001b[0m in \u001b[0;36mwrapper\u001b[0;34m(*args, **kwargs)\u001b[0m\n\u001b[1;32m    309\u001b[0m                     \u001b[0mstacklevel\u001b[0m\u001b[0;34m=\u001b[0m\u001b[0mstacklevel\u001b[0m\u001b[0;34m,\u001b[0m\u001b[0;34m\u001b[0m\u001b[0;34m\u001b[0m\u001b[0m\n\u001b[1;32m    310\u001b[0m                 )\n\u001b[0;32m--> 311\u001b[0;31m             \u001b[0;32mreturn\u001b[0m \u001b[0mfunc\u001b[0m\u001b[0;34m(\u001b[0m\u001b[0;34m*\u001b[0m\u001b[0margs\u001b[0m\u001b[0;34m,\u001b[0m \u001b[0;34m**\u001b[0m\u001b[0mkwargs\u001b[0m\u001b[0;34m)\u001b[0m\u001b[0;34m\u001b[0m\u001b[0;34m\u001b[0m\u001b[0m\n\u001b[0m\u001b[1;32m    312\u001b[0m \u001b[0;34m\u001b[0m\u001b[0m\n\u001b[1;32m    313\u001b[0m         \u001b[0;32mreturn\u001b[0m \u001b[0mwrapper\u001b[0m\u001b[0;34m\u001b[0m\u001b[0;34m\u001b[0m\u001b[0m\n",
      "\u001b[0;32m~/opt/anaconda3/lib/python3.9/site-packages/pandas/io/parsers/readers.py\u001b[0m in \u001b[0;36mread_csv\u001b[0;34m(filepath_or_buffer, sep, delimiter, header, names, index_col, usecols, squeeze, prefix, mangle_dupe_cols, dtype, engine, converters, true_values, false_values, skipinitialspace, skiprows, skipfooter, nrows, na_values, keep_default_na, na_filter, verbose, skip_blank_lines, parse_dates, infer_datetime_format, keep_date_col, date_parser, dayfirst, cache_dates, iterator, chunksize, compression, thousands, decimal, lineterminator, quotechar, quoting, doublequote, escapechar, comment, encoding, encoding_errors, dialect, error_bad_lines, warn_bad_lines, on_bad_lines, delim_whitespace, low_memory, memory_map, float_precision, storage_options)\u001b[0m\n\u001b[1;32m    584\u001b[0m     \u001b[0mkwds\u001b[0m\u001b[0;34m.\u001b[0m\u001b[0mupdate\u001b[0m\u001b[0;34m(\u001b[0m\u001b[0mkwds_defaults\u001b[0m\u001b[0;34m)\u001b[0m\u001b[0;34m\u001b[0m\u001b[0;34m\u001b[0m\u001b[0m\n\u001b[1;32m    585\u001b[0m \u001b[0;34m\u001b[0m\u001b[0m\n\u001b[0;32m--> 586\u001b[0;31m     \u001b[0;32mreturn\u001b[0m \u001b[0m_read\u001b[0m\u001b[0;34m(\u001b[0m\u001b[0mfilepath_or_buffer\u001b[0m\u001b[0;34m,\u001b[0m \u001b[0mkwds\u001b[0m\u001b[0;34m)\u001b[0m\u001b[0;34m\u001b[0m\u001b[0;34m\u001b[0m\u001b[0m\n\u001b[0m\u001b[1;32m    587\u001b[0m \u001b[0;34m\u001b[0m\u001b[0m\n\u001b[1;32m    588\u001b[0m \u001b[0;34m\u001b[0m\u001b[0m\n",
      "\u001b[0;32m~/opt/anaconda3/lib/python3.9/site-packages/pandas/io/parsers/readers.py\u001b[0m in \u001b[0;36m_read\u001b[0;34m(filepath_or_buffer, kwds)\u001b[0m\n\u001b[1;32m    480\u001b[0m \u001b[0;34m\u001b[0m\u001b[0m\n\u001b[1;32m    481\u001b[0m     \u001b[0;31m# Create the parser.\u001b[0m\u001b[0;34m\u001b[0m\u001b[0;34m\u001b[0m\u001b[0m\n\u001b[0;32m--> 482\u001b[0;31m     \u001b[0mparser\u001b[0m \u001b[0;34m=\u001b[0m \u001b[0mTextFileReader\u001b[0m\u001b[0;34m(\u001b[0m\u001b[0mfilepath_or_buffer\u001b[0m\u001b[0;34m,\u001b[0m \u001b[0;34m**\u001b[0m\u001b[0mkwds\u001b[0m\u001b[0;34m)\u001b[0m\u001b[0;34m\u001b[0m\u001b[0;34m\u001b[0m\u001b[0m\n\u001b[0m\u001b[1;32m    483\u001b[0m \u001b[0;34m\u001b[0m\u001b[0m\n\u001b[1;32m    484\u001b[0m     \u001b[0;32mif\u001b[0m \u001b[0mchunksize\u001b[0m \u001b[0;32mor\u001b[0m \u001b[0miterator\u001b[0m\u001b[0;34m:\u001b[0m\u001b[0;34m\u001b[0m\u001b[0;34m\u001b[0m\u001b[0m\n",
      "\u001b[0;32m~/opt/anaconda3/lib/python3.9/site-packages/pandas/io/parsers/readers.py\u001b[0m in \u001b[0;36m__init__\u001b[0;34m(self, f, engine, **kwds)\u001b[0m\n\u001b[1;32m    809\u001b[0m             \u001b[0mself\u001b[0m\u001b[0;34m.\u001b[0m\u001b[0moptions\u001b[0m\u001b[0;34m[\u001b[0m\u001b[0;34m\"has_index_names\"\u001b[0m\u001b[0;34m]\u001b[0m \u001b[0;34m=\u001b[0m \u001b[0mkwds\u001b[0m\u001b[0;34m[\u001b[0m\u001b[0;34m\"has_index_names\"\u001b[0m\u001b[0;34m]\u001b[0m\u001b[0;34m\u001b[0m\u001b[0;34m\u001b[0m\u001b[0m\n\u001b[1;32m    810\u001b[0m \u001b[0;34m\u001b[0m\u001b[0m\n\u001b[0;32m--> 811\u001b[0;31m         \u001b[0mself\u001b[0m\u001b[0;34m.\u001b[0m\u001b[0m_engine\u001b[0m \u001b[0;34m=\u001b[0m \u001b[0mself\u001b[0m\u001b[0;34m.\u001b[0m\u001b[0m_make_engine\u001b[0m\u001b[0;34m(\u001b[0m\u001b[0mself\u001b[0m\u001b[0;34m.\u001b[0m\u001b[0mengine\u001b[0m\u001b[0;34m)\u001b[0m\u001b[0;34m\u001b[0m\u001b[0;34m\u001b[0m\u001b[0m\n\u001b[0m\u001b[1;32m    812\u001b[0m \u001b[0;34m\u001b[0m\u001b[0m\n\u001b[1;32m    813\u001b[0m     \u001b[0;32mdef\u001b[0m \u001b[0mclose\u001b[0m\u001b[0;34m(\u001b[0m\u001b[0mself\u001b[0m\u001b[0;34m)\u001b[0m\u001b[0;34m:\u001b[0m\u001b[0;34m\u001b[0m\u001b[0;34m\u001b[0m\u001b[0m\n",
      "\u001b[0;32m~/opt/anaconda3/lib/python3.9/site-packages/pandas/io/parsers/readers.py\u001b[0m in \u001b[0;36m_make_engine\u001b[0;34m(self, engine)\u001b[0m\n\u001b[1;32m   1038\u001b[0m             )\n\u001b[1;32m   1039\u001b[0m         \u001b[0;31m# error: Too many arguments for \"ParserBase\"\u001b[0m\u001b[0;34m\u001b[0m\u001b[0;34m\u001b[0m\u001b[0m\n\u001b[0;32m-> 1040\u001b[0;31m         \u001b[0;32mreturn\u001b[0m \u001b[0mmapping\u001b[0m\u001b[0;34m[\u001b[0m\u001b[0mengine\u001b[0m\u001b[0;34m]\u001b[0m\u001b[0;34m(\u001b[0m\u001b[0mself\u001b[0m\u001b[0;34m.\u001b[0m\u001b[0mf\u001b[0m\u001b[0;34m,\u001b[0m \u001b[0;34m**\u001b[0m\u001b[0mself\u001b[0m\u001b[0;34m.\u001b[0m\u001b[0moptions\u001b[0m\u001b[0;34m)\u001b[0m  \u001b[0;31m# type: ignore[call-arg]\u001b[0m\u001b[0;34m\u001b[0m\u001b[0;34m\u001b[0m\u001b[0m\n\u001b[0m\u001b[1;32m   1041\u001b[0m \u001b[0;34m\u001b[0m\u001b[0m\n\u001b[1;32m   1042\u001b[0m     \u001b[0;32mdef\u001b[0m \u001b[0m_failover_to_python\u001b[0m\u001b[0;34m(\u001b[0m\u001b[0mself\u001b[0m\u001b[0;34m)\u001b[0m\u001b[0;34m:\u001b[0m\u001b[0;34m\u001b[0m\u001b[0;34m\u001b[0m\u001b[0m\n",
      "\u001b[0;32m~/opt/anaconda3/lib/python3.9/site-packages/pandas/io/parsers/c_parser_wrapper.py\u001b[0m in \u001b[0;36m__init__\u001b[0;34m(self, src, **kwds)\u001b[0m\n\u001b[1;32m     49\u001b[0m \u001b[0;34m\u001b[0m\u001b[0m\n\u001b[1;32m     50\u001b[0m         \u001b[0;31m# open handles\u001b[0m\u001b[0;34m\u001b[0m\u001b[0;34m\u001b[0m\u001b[0m\n\u001b[0;32m---> 51\u001b[0;31m         \u001b[0mself\u001b[0m\u001b[0;34m.\u001b[0m\u001b[0m_open_handles\u001b[0m\u001b[0;34m(\u001b[0m\u001b[0msrc\u001b[0m\u001b[0;34m,\u001b[0m \u001b[0mkwds\u001b[0m\u001b[0;34m)\u001b[0m\u001b[0;34m\u001b[0m\u001b[0;34m\u001b[0m\u001b[0m\n\u001b[0m\u001b[1;32m     52\u001b[0m         \u001b[0;32massert\u001b[0m \u001b[0mself\u001b[0m\u001b[0;34m.\u001b[0m\u001b[0mhandles\u001b[0m \u001b[0;32mis\u001b[0m \u001b[0;32mnot\u001b[0m \u001b[0;32mNone\u001b[0m\u001b[0;34m\u001b[0m\u001b[0;34m\u001b[0m\u001b[0m\n\u001b[1;32m     53\u001b[0m \u001b[0;34m\u001b[0m\u001b[0m\n",
      "\u001b[0;32m~/opt/anaconda3/lib/python3.9/site-packages/pandas/io/parsers/base_parser.py\u001b[0m in \u001b[0;36m_open_handles\u001b[0;34m(self, src, kwds)\u001b[0m\n\u001b[1;32m    220\u001b[0m         \u001b[0mLet\u001b[0m \u001b[0mthe\u001b[0m \u001b[0mreaders\u001b[0m \u001b[0mopen\u001b[0m \u001b[0mIOHandles\u001b[0m \u001b[0mafter\u001b[0m \u001b[0mthey\u001b[0m \u001b[0mare\u001b[0m \u001b[0mdone\u001b[0m \u001b[0;32mwith\u001b[0m \u001b[0mtheir\u001b[0m \u001b[0mpotential\u001b[0m \u001b[0mraises\u001b[0m\u001b[0;34m.\u001b[0m\u001b[0;34m\u001b[0m\u001b[0;34m\u001b[0m\u001b[0m\n\u001b[1;32m    221\u001b[0m         \"\"\"\n\u001b[0;32m--> 222\u001b[0;31m         self.handles = get_handle(\n\u001b[0m\u001b[1;32m    223\u001b[0m             \u001b[0msrc\u001b[0m\u001b[0;34m,\u001b[0m\u001b[0;34m\u001b[0m\u001b[0;34m\u001b[0m\u001b[0m\n\u001b[1;32m    224\u001b[0m             \u001b[0;34m\"r\"\u001b[0m\u001b[0;34m,\u001b[0m\u001b[0;34m\u001b[0m\u001b[0;34m\u001b[0m\u001b[0m\n",
      "\u001b[0;32m~/opt/anaconda3/lib/python3.9/site-packages/pandas/io/common.py\u001b[0m in \u001b[0;36mget_handle\u001b[0;34m(path_or_buf, mode, encoding, compression, memory_map, is_text, errors, storage_options)\u001b[0m\n\u001b[1;32m    700\u001b[0m         \u001b[0;32mif\u001b[0m \u001b[0mioargs\u001b[0m\u001b[0;34m.\u001b[0m\u001b[0mencoding\u001b[0m \u001b[0;32mand\u001b[0m \u001b[0;34m\"b\"\u001b[0m \u001b[0;32mnot\u001b[0m \u001b[0;32min\u001b[0m \u001b[0mioargs\u001b[0m\u001b[0;34m.\u001b[0m\u001b[0mmode\u001b[0m\u001b[0;34m:\u001b[0m\u001b[0;34m\u001b[0m\u001b[0;34m\u001b[0m\u001b[0m\n\u001b[1;32m    701\u001b[0m             \u001b[0;31m# Encoding\u001b[0m\u001b[0;34m\u001b[0m\u001b[0;34m\u001b[0m\u001b[0m\n\u001b[0;32m--> 702\u001b[0;31m             handle = open(\n\u001b[0m\u001b[1;32m    703\u001b[0m                 \u001b[0mhandle\u001b[0m\u001b[0;34m,\u001b[0m\u001b[0;34m\u001b[0m\u001b[0;34m\u001b[0m\u001b[0m\n\u001b[1;32m    704\u001b[0m                 \u001b[0mioargs\u001b[0m\u001b[0;34m.\u001b[0m\u001b[0mmode\u001b[0m\u001b[0;34m,\u001b[0m\u001b[0;34m\u001b[0m\u001b[0;34m\u001b[0m\u001b[0m\n",
      "\u001b[0;31mFileNotFoundError\u001b[0m: [Errno 2] No such file or directory: 'old_faithful.csv'"
     ]
    }
   ],
   "source": [
    "# Solution 1\n",
    "geyser = pd.read_csv('old_faithful.csv', sep='\\s+')\n",
    "geyser['eruptions'], geyser['waiting'] = geyser['eruptions']*60, geyser['waiting']*60\n",
    "geyser.head(3)"
   ]
  },
  {
   "cell_type": "markdown",
   "metadata": {
    "id": "1EIOhFp8M62R"
   },
   "source": [
    "*Solution 2 : en séparant les données manuellement - avec le paramètre expand de split*"
   ]
  },
  {
   "cell_type": "code",
   "execution_count": 14,
   "metadata": {
    "colab": {
     "base_uri": "https://localhost:8080/",
     "height": 143
    },
    "id": "v7uqZMOWf8FI",
    "outputId": "886a4e33-f5e5-48a3-cbe7-08af8e5618e3"
   },
   "outputs": [
    {
     "ename": "FileNotFoundError",
     "evalue": "[Errno 2] No such file or directory: 'old_faithful.csv'",
     "output_type": "error",
     "traceback": [
      "\u001b[0;31m---------------------------------------------------------------------------\u001b[0m",
      "\u001b[0;31mFileNotFoundError\u001b[0m                         Traceback (most recent call last)",
      "\u001b[0;32m/var/folders/0l/n1vv_5ks727fmhxt8n269nr80000gn/T/ipykernel_9295/1174354641.py\u001b[0m in \u001b[0;36m<module>\u001b[0;34m\u001b[0m\n\u001b[1;32m      1\u001b[0m \u001b[0;31m# Solution 2\u001b[0m\u001b[0;34m\u001b[0m\u001b[0;34m\u001b[0m\u001b[0m\n\u001b[1;32m      2\u001b[0m \u001b[0;32mimport\u001b[0m \u001b[0mpandas\u001b[0m \u001b[0;32mas\u001b[0m \u001b[0mpd\u001b[0m\u001b[0;34m\u001b[0m\u001b[0;34m\u001b[0m\u001b[0m\n\u001b[0;32m----> 3\u001b[0;31m \u001b[0mgeyser\u001b[0m \u001b[0;34m=\u001b[0m \u001b[0mpd\u001b[0m\u001b[0;34m.\u001b[0m\u001b[0mread_csv\u001b[0m\u001b[0;34m(\u001b[0m\u001b[0;34m'old_faithful.csv'\u001b[0m\u001b[0;34m)\u001b[0m\u001b[0;34m\u001b[0m\u001b[0;34m\u001b[0m\u001b[0m\n\u001b[0m\u001b[1;32m      4\u001b[0m \u001b[0;34m\u001b[0m\u001b[0m\n\u001b[1;32m      5\u001b[0m \u001b[0mgeyser\u001b[0m\u001b[0;34m[\u001b[0m\u001b[0;34m[\u001b[0m\u001b[0;34m'eruptions'\u001b[0m\u001b[0;34m,\u001b[0m \u001b[0;34m'waiting'\u001b[0m\u001b[0;34m]\u001b[0m\u001b[0;34m]\u001b[0m \u001b[0;34m=\u001b[0m \u001b[0mgeyser\u001b[0m\u001b[0;34m[\u001b[0m\u001b[0;34m'eruptions\\twaiting'\u001b[0m\u001b[0;34m]\u001b[0m\u001b[0;34m.\u001b[0m\u001b[0mstr\u001b[0m\u001b[0;34m.\u001b[0m\u001b[0msplit\u001b[0m\u001b[0;34m(\u001b[0m\u001b[0;34m'\\t'\u001b[0m\u001b[0;34m,\u001b[0m \u001b[0mexpand\u001b[0m\u001b[0;34m=\u001b[0m\u001b[0;32mTrue\u001b[0m\u001b[0;34m)\u001b[0m\u001b[0;34m\u001b[0m\u001b[0;34m\u001b[0m\u001b[0m\n",
      "\u001b[0;32m~/opt/anaconda3/lib/python3.9/site-packages/pandas/util/_decorators.py\u001b[0m in \u001b[0;36mwrapper\u001b[0;34m(*args, **kwargs)\u001b[0m\n\u001b[1;32m    309\u001b[0m                     \u001b[0mstacklevel\u001b[0m\u001b[0;34m=\u001b[0m\u001b[0mstacklevel\u001b[0m\u001b[0;34m,\u001b[0m\u001b[0;34m\u001b[0m\u001b[0;34m\u001b[0m\u001b[0m\n\u001b[1;32m    310\u001b[0m                 )\n\u001b[0;32m--> 311\u001b[0;31m             \u001b[0;32mreturn\u001b[0m \u001b[0mfunc\u001b[0m\u001b[0;34m(\u001b[0m\u001b[0;34m*\u001b[0m\u001b[0margs\u001b[0m\u001b[0;34m,\u001b[0m \u001b[0;34m**\u001b[0m\u001b[0mkwargs\u001b[0m\u001b[0;34m)\u001b[0m\u001b[0;34m\u001b[0m\u001b[0;34m\u001b[0m\u001b[0m\n\u001b[0m\u001b[1;32m    312\u001b[0m \u001b[0;34m\u001b[0m\u001b[0m\n\u001b[1;32m    313\u001b[0m         \u001b[0;32mreturn\u001b[0m \u001b[0mwrapper\u001b[0m\u001b[0;34m\u001b[0m\u001b[0;34m\u001b[0m\u001b[0m\n",
      "\u001b[0;32m~/opt/anaconda3/lib/python3.9/site-packages/pandas/io/parsers/readers.py\u001b[0m in \u001b[0;36mread_csv\u001b[0;34m(filepath_or_buffer, sep, delimiter, header, names, index_col, usecols, squeeze, prefix, mangle_dupe_cols, dtype, engine, converters, true_values, false_values, skipinitialspace, skiprows, skipfooter, nrows, na_values, keep_default_na, na_filter, verbose, skip_blank_lines, parse_dates, infer_datetime_format, keep_date_col, date_parser, dayfirst, cache_dates, iterator, chunksize, compression, thousands, decimal, lineterminator, quotechar, quoting, doublequote, escapechar, comment, encoding, encoding_errors, dialect, error_bad_lines, warn_bad_lines, on_bad_lines, delim_whitespace, low_memory, memory_map, float_precision, storage_options)\u001b[0m\n\u001b[1;32m    584\u001b[0m     \u001b[0mkwds\u001b[0m\u001b[0;34m.\u001b[0m\u001b[0mupdate\u001b[0m\u001b[0;34m(\u001b[0m\u001b[0mkwds_defaults\u001b[0m\u001b[0;34m)\u001b[0m\u001b[0;34m\u001b[0m\u001b[0;34m\u001b[0m\u001b[0m\n\u001b[1;32m    585\u001b[0m \u001b[0;34m\u001b[0m\u001b[0m\n\u001b[0;32m--> 586\u001b[0;31m     \u001b[0;32mreturn\u001b[0m \u001b[0m_read\u001b[0m\u001b[0;34m(\u001b[0m\u001b[0mfilepath_or_buffer\u001b[0m\u001b[0;34m,\u001b[0m \u001b[0mkwds\u001b[0m\u001b[0;34m)\u001b[0m\u001b[0;34m\u001b[0m\u001b[0;34m\u001b[0m\u001b[0m\n\u001b[0m\u001b[1;32m    587\u001b[0m \u001b[0;34m\u001b[0m\u001b[0m\n\u001b[1;32m    588\u001b[0m \u001b[0;34m\u001b[0m\u001b[0m\n",
      "\u001b[0;32m~/opt/anaconda3/lib/python3.9/site-packages/pandas/io/parsers/readers.py\u001b[0m in \u001b[0;36m_read\u001b[0;34m(filepath_or_buffer, kwds)\u001b[0m\n\u001b[1;32m    480\u001b[0m \u001b[0;34m\u001b[0m\u001b[0m\n\u001b[1;32m    481\u001b[0m     \u001b[0;31m# Create the parser.\u001b[0m\u001b[0;34m\u001b[0m\u001b[0;34m\u001b[0m\u001b[0m\n\u001b[0;32m--> 482\u001b[0;31m     \u001b[0mparser\u001b[0m \u001b[0;34m=\u001b[0m \u001b[0mTextFileReader\u001b[0m\u001b[0;34m(\u001b[0m\u001b[0mfilepath_or_buffer\u001b[0m\u001b[0;34m,\u001b[0m \u001b[0;34m**\u001b[0m\u001b[0mkwds\u001b[0m\u001b[0;34m)\u001b[0m\u001b[0;34m\u001b[0m\u001b[0;34m\u001b[0m\u001b[0m\n\u001b[0m\u001b[1;32m    483\u001b[0m \u001b[0;34m\u001b[0m\u001b[0m\n\u001b[1;32m    484\u001b[0m     \u001b[0;32mif\u001b[0m \u001b[0mchunksize\u001b[0m \u001b[0;32mor\u001b[0m \u001b[0miterator\u001b[0m\u001b[0;34m:\u001b[0m\u001b[0;34m\u001b[0m\u001b[0;34m\u001b[0m\u001b[0m\n",
      "\u001b[0;32m~/opt/anaconda3/lib/python3.9/site-packages/pandas/io/parsers/readers.py\u001b[0m in \u001b[0;36m__init__\u001b[0;34m(self, f, engine, **kwds)\u001b[0m\n\u001b[1;32m    809\u001b[0m             \u001b[0mself\u001b[0m\u001b[0;34m.\u001b[0m\u001b[0moptions\u001b[0m\u001b[0;34m[\u001b[0m\u001b[0;34m\"has_index_names\"\u001b[0m\u001b[0;34m]\u001b[0m \u001b[0;34m=\u001b[0m \u001b[0mkwds\u001b[0m\u001b[0;34m[\u001b[0m\u001b[0;34m\"has_index_names\"\u001b[0m\u001b[0;34m]\u001b[0m\u001b[0;34m\u001b[0m\u001b[0;34m\u001b[0m\u001b[0m\n\u001b[1;32m    810\u001b[0m \u001b[0;34m\u001b[0m\u001b[0m\n\u001b[0;32m--> 811\u001b[0;31m         \u001b[0mself\u001b[0m\u001b[0;34m.\u001b[0m\u001b[0m_engine\u001b[0m \u001b[0;34m=\u001b[0m \u001b[0mself\u001b[0m\u001b[0;34m.\u001b[0m\u001b[0m_make_engine\u001b[0m\u001b[0;34m(\u001b[0m\u001b[0mself\u001b[0m\u001b[0;34m.\u001b[0m\u001b[0mengine\u001b[0m\u001b[0;34m)\u001b[0m\u001b[0;34m\u001b[0m\u001b[0;34m\u001b[0m\u001b[0m\n\u001b[0m\u001b[1;32m    812\u001b[0m \u001b[0;34m\u001b[0m\u001b[0m\n\u001b[1;32m    813\u001b[0m     \u001b[0;32mdef\u001b[0m \u001b[0mclose\u001b[0m\u001b[0;34m(\u001b[0m\u001b[0mself\u001b[0m\u001b[0;34m)\u001b[0m\u001b[0;34m:\u001b[0m\u001b[0;34m\u001b[0m\u001b[0;34m\u001b[0m\u001b[0m\n",
      "\u001b[0;32m~/opt/anaconda3/lib/python3.9/site-packages/pandas/io/parsers/readers.py\u001b[0m in \u001b[0;36m_make_engine\u001b[0;34m(self, engine)\u001b[0m\n\u001b[1;32m   1038\u001b[0m             )\n\u001b[1;32m   1039\u001b[0m         \u001b[0;31m# error: Too many arguments for \"ParserBase\"\u001b[0m\u001b[0;34m\u001b[0m\u001b[0;34m\u001b[0m\u001b[0m\n\u001b[0;32m-> 1040\u001b[0;31m         \u001b[0;32mreturn\u001b[0m \u001b[0mmapping\u001b[0m\u001b[0;34m[\u001b[0m\u001b[0mengine\u001b[0m\u001b[0;34m]\u001b[0m\u001b[0;34m(\u001b[0m\u001b[0mself\u001b[0m\u001b[0;34m.\u001b[0m\u001b[0mf\u001b[0m\u001b[0;34m,\u001b[0m \u001b[0;34m**\u001b[0m\u001b[0mself\u001b[0m\u001b[0;34m.\u001b[0m\u001b[0moptions\u001b[0m\u001b[0;34m)\u001b[0m  \u001b[0;31m# type: ignore[call-arg]\u001b[0m\u001b[0;34m\u001b[0m\u001b[0;34m\u001b[0m\u001b[0m\n\u001b[0m\u001b[1;32m   1041\u001b[0m \u001b[0;34m\u001b[0m\u001b[0m\n\u001b[1;32m   1042\u001b[0m     \u001b[0;32mdef\u001b[0m \u001b[0m_failover_to_python\u001b[0m\u001b[0;34m(\u001b[0m\u001b[0mself\u001b[0m\u001b[0;34m)\u001b[0m\u001b[0;34m:\u001b[0m\u001b[0;34m\u001b[0m\u001b[0;34m\u001b[0m\u001b[0m\n",
      "\u001b[0;32m~/opt/anaconda3/lib/python3.9/site-packages/pandas/io/parsers/c_parser_wrapper.py\u001b[0m in \u001b[0;36m__init__\u001b[0;34m(self, src, **kwds)\u001b[0m\n\u001b[1;32m     49\u001b[0m \u001b[0;34m\u001b[0m\u001b[0m\n\u001b[1;32m     50\u001b[0m         \u001b[0;31m# open handles\u001b[0m\u001b[0;34m\u001b[0m\u001b[0;34m\u001b[0m\u001b[0m\n\u001b[0;32m---> 51\u001b[0;31m         \u001b[0mself\u001b[0m\u001b[0;34m.\u001b[0m\u001b[0m_open_handles\u001b[0m\u001b[0;34m(\u001b[0m\u001b[0msrc\u001b[0m\u001b[0;34m,\u001b[0m \u001b[0mkwds\u001b[0m\u001b[0;34m)\u001b[0m\u001b[0;34m\u001b[0m\u001b[0;34m\u001b[0m\u001b[0m\n\u001b[0m\u001b[1;32m     52\u001b[0m         \u001b[0;32massert\u001b[0m \u001b[0mself\u001b[0m\u001b[0;34m.\u001b[0m\u001b[0mhandles\u001b[0m \u001b[0;32mis\u001b[0m \u001b[0;32mnot\u001b[0m \u001b[0;32mNone\u001b[0m\u001b[0;34m\u001b[0m\u001b[0;34m\u001b[0m\u001b[0m\n\u001b[1;32m     53\u001b[0m \u001b[0;34m\u001b[0m\u001b[0m\n",
      "\u001b[0;32m~/opt/anaconda3/lib/python3.9/site-packages/pandas/io/parsers/base_parser.py\u001b[0m in \u001b[0;36m_open_handles\u001b[0;34m(self, src, kwds)\u001b[0m\n\u001b[1;32m    220\u001b[0m         \u001b[0mLet\u001b[0m \u001b[0mthe\u001b[0m \u001b[0mreaders\u001b[0m \u001b[0mopen\u001b[0m \u001b[0mIOHandles\u001b[0m \u001b[0mafter\u001b[0m \u001b[0mthey\u001b[0m \u001b[0mare\u001b[0m \u001b[0mdone\u001b[0m \u001b[0;32mwith\u001b[0m \u001b[0mtheir\u001b[0m \u001b[0mpotential\u001b[0m \u001b[0mraises\u001b[0m\u001b[0;34m.\u001b[0m\u001b[0;34m\u001b[0m\u001b[0;34m\u001b[0m\u001b[0m\n\u001b[1;32m    221\u001b[0m         \"\"\"\n\u001b[0;32m--> 222\u001b[0;31m         self.handles = get_handle(\n\u001b[0m\u001b[1;32m    223\u001b[0m             \u001b[0msrc\u001b[0m\u001b[0;34m,\u001b[0m\u001b[0;34m\u001b[0m\u001b[0;34m\u001b[0m\u001b[0m\n\u001b[1;32m    224\u001b[0m             \u001b[0;34m\"r\"\u001b[0m\u001b[0;34m,\u001b[0m\u001b[0;34m\u001b[0m\u001b[0;34m\u001b[0m\u001b[0m\n",
      "\u001b[0;32m~/opt/anaconda3/lib/python3.9/site-packages/pandas/io/common.py\u001b[0m in \u001b[0;36mget_handle\u001b[0;34m(path_or_buf, mode, encoding, compression, memory_map, is_text, errors, storage_options)\u001b[0m\n\u001b[1;32m    700\u001b[0m         \u001b[0;32mif\u001b[0m \u001b[0mioargs\u001b[0m\u001b[0;34m.\u001b[0m\u001b[0mencoding\u001b[0m \u001b[0;32mand\u001b[0m \u001b[0;34m\"b\"\u001b[0m \u001b[0;32mnot\u001b[0m \u001b[0;32min\u001b[0m \u001b[0mioargs\u001b[0m\u001b[0;34m.\u001b[0m\u001b[0mmode\u001b[0m\u001b[0;34m:\u001b[0m\u001b[0;34m\u001b[0m\u001b[0;34m\u001b[0m\u001b[0m\n\u001b[1;32m    701\u001b[0m             \u001b[0;31m# Encoding\u001b[0m\u001b[0;34m\u001b[0m\u001b[0;34m\u001b[0m\u001b[0m\n\u001b[0;32m--> 702\u001b[0;31m             handle = open(\n\u001b[0m\u001b[1;32m    703\u001b[0m                 \u001b[0mhandle\u001b[0m\u001b[0;34m,\u001b[0m\u001b[0;34m\u001b[0m\u001b[0;34m\u001b[0m\u001b[0m\n\u001b[1;32m    704\u001b[0m                 \u001b[0mioargs\u001b[0m\u001b[0;34m.\u001b[0m\u001b[0mmode\u001b[0m\u001b[0;34m,\u001b[0m\u001b[0;34m\u001b[0m\u001b[0;34m\u001b[0m\u001b[0m\n",
      "\u001b[0;31mFileNotFoundError\u001b[0m: [Errno 2] No such file or directory: 'old_faithful.csv'"
     ]
    }
   ],
   "source": [
    "# Solution 2\n",
    "import pandas as pd\n",
    "geyser = pd.read_csv('old_faithful.csv')\n",
    "\n",
    "geyser[['eruptions', 'waiting']] = geyser['eruptions\\twaiting'].str.split('\\t', expand=True)\n",
    "geyser['eruptions'], geyser['waiting'] = geyser['eruptions'].astype(float), geyser['waiting'].astype(int)\n",
    "geyser['eruptions'], geyser['waiting'] = geyser['eruptions']*60, geyser['waiting']*60\n",
    "geyser = geyser.drop(columns=['eruptions\\twaiting'])\n",
    "geyser.head(3)"
   ]
  },
  {
   "cell_type": "markdown",
   "metadata": {
    "id": "7VcvJHTkNT75"
   },
   "source": [
    "*Solution 3 : en séparant les données manuellement - en utilisant zip*\n",
    "\n",
    "Faisons un point sur la fonction zip de Python. C'est une fonction très pratique pour manipuler des fonctions appliquées à une colonne pandas produisant 2 colonnes en sortie. C'est un cas de figure qui arrive assez souvent et qui est complexe à gérer !\n",
    "\n",
    "\n",
    "\n"
   ]
  },
  {
   "cell_type": "code",
   "execution_count": 15,
   "metadata": {
    "colab": {
     "base_uri": "https://localhost:8080/",
     "height": 129
    },
    "id": "ndMeRFDTNxNP",
    "outputId": "c9f3a826-04b1-4458-b894-a566c576f650"
   },
   "outputs": [
    {
     "name": "stdout",
     "output_type": "stream",
     "text": [
      "['Jean', 'Dupont']\n"
     ]
    },
    {
     "data": {
      "text/html": [
       "<div>\n",
       "<style scoped>\n",
       "    .dataframe tbody tr th:only-of-type {\n",
       "        vertical-align: middle;\n",
       "    }\n",
       "\n",
       "    .dataframe tbody tr th {\n",
       "        vertical-align: top;\n",
       "    }\n",
       "\n",
       "    .dataframe thead th {\n",
       "        text-align: right;\n",
       "    }\n",
       "</style>\n",
       "<table border=\"1\" class=\"dataframe\">\n",
       "  <thead>\n",
       "    <tr style=\"text-align: right;\">\n",
       "      <th></th>\n",
       "      <th>Nom complet</th>\n",
       "      <th>Prénom</th>\n",
       "      <th>Nom</th>\n",
       "    </tr>\n",
       "  </thead>\n",
       "  <tbody>\n",
       "    <tr>\n",
       "      <th>0</th>\n",
       "      <td>Jean Dupont</td>\n",
       "      <td>Jean</td>\n",
       "      <td>Dupont</td>\n",
       "    </tr>\n",
       "    <tr>\n",
       "      <th>1</th>\n",
       "      <td>Emilie Dupont</td>\n",
       "      <td>Emilie</td>\n",
       "      <td>Dupont</td>\n",
       "    </tr>\n",
       "  </tbody>\n",
       "</table>\n",
       "</div>"
      ],
      "text/plain": [
       "     Nom complet  Prénom     Nom\n",
       "0    Jean Dupont    Jean  Dupont\n",
       "1  Emilie Dupont  Emilie  Dupont"
      ]
     },
     "execution_count": 15,
     "metadata": {},
     "output_type": "execute_result"
    }
   ],
   "source": [
    "print('Jean Dupont'.split(' '))\n",
    "df = pd.DataFrame(['Jean Dupont', 'Emilie Dupont'], columns=['Nom complet'])\n",
    "df['Prénom'], df['Nom'] = zip(*df['Nom complet'].str.split())\n",
    "df"
   ]
  },
  {
   "cell_type": "markdown",
   "metadata": {
    "id": "Nh_N0q3vNz4t"
   },
   "source": [
    "zip vient concaténer 2 listes sous forme de tuples. Ces tuples peuvent ensuite être assignés à 2 nouvelles colonnes. \n",
    "- On utilise l'astérisque devant df pour dire à zip qu'il doit prendre toutes les listes produites par le str.split() (il y en a 2 dans notre cas) et les assembler sans qu'on les nomme explicitement. \n",
    "En effet, on ne stocke pas ces variables qui sont créées temporairement, on ne peut donc pas indiquer leurs noms à zip ! \n",
    "- L'astérisque se traduit par \"prend tout ce qui arrive quel que soit son nom\", ce qui permet de \"zipper\" les 2 listes."
   ]
  },
  {
   "cell_type": "code",
   "execution_count": 16,
   "metadata": {
    "colab": {
     "base_uri": "https://localhost:8080/",
     "height": 143
    },
    "id": "stdICylTsFPE",
    "outputId": "8d7e872a-6dba-40ec-e421-fe03cc851529"
   },
   "outputs": [
    {
     "data": {
      "text/html": [
       "<div>\n",
       "<style scoped>\n",
       "    .dataframe tbody tr th:only-of-type {\n",
       "        vertical-align: middle;\n",
       "    }\n",
       "\n",
       "    .dataframe tbody tr th {\n",
       "        vertical-align: top;\n",
       "    }\n",
       "\n",
       "    .dataframe thead th {\n",
       "        text-align: right;\n",
       "    }\n",
       "</style>\n",
       "<table border=\"1\" class=\"dataframe\">\n",
       "  <thead>\n",
       "    <tr style=\"text-align: right;\">\n",
       "      <th></th>\n",
       "      <th>eruptions</th>\n",
       "      <th>waiting</th>\n",
       "    </tr>\n",
       "  </thead>\n",
       "  <tbody>\n",
       "    <tr>\n",
       "      <th>0</th>\n",
       "      <td>216.00</td>\n",
       "      <td>4740</td>\n",
       "    </tr>\n",
       "    <tr>\n",
       "      <th>1</th>\n",
       "      <td>108.00</td>\n",
       "      <td>3240</td>\n",
       "    </tr>\n",
       "    <tr>\n",
       "      <th>2</th>\n",
       "      <td>199.98</td>\n",
       "      <td>4440</td>\n",
       "    </tr>\n",
       "  </tbody>\n",
       "</table>\n",
       "</div>"
      ],
      "text/plain": [
       "   eruptions  waiting\n",
       "0     216.00     4740\n",
       "1     108.00     3240\n",
       "2     199.98     4440"
      ]
     },
     "execution_count": 16,
     "metadata": {},
     "output_type": "execute_result"
    }
   ],
   "source": [
    "geyser = pd.read_csv('old_faithful.csv')\n",
    "geyser[\"eruptions\"], geyser[\"waiting\"] = zip(*geyser['eruptions\\twaiting'].str.split('\\t'))\n",
    "geyser = geyser.drop(columns=['eruptions\\twaiting'])\n",
    "geyser[\"eruptions\"], geyser[\"waiting\"] = geyser[\"eruptions\"].astype(float), geyser[\"waiting\"].astype(int)\n",
    "geyser[\"eruptions\"], geyser[\"waiting\"] = geyser[\"eruptions\"]*60, geyser[\"waiting\"]*60\n",
    "geyser.head(3)"
   ]
  },
  {
   "cell_type": "code",
   "execution_count": 17,
   "metadata": {
    "colab": {
     "base_uri": "https://localhost:8080/"
    },
    "id": "d7sUPD7QK-8h",
    "outputId": "f2010d66-04bd-48f8-e963-c5c1f74a5bb5"
   },
   "outputs": [
    {
     "name": "stdout",
     "output_type": "stream",
     "text": [
      "<class 'pandas.core.frame.DataFrame'>\n",
      "RangeIndex: 272 entries, 0 to 271\n",
      "Data columns (total 2 columns):\n",
      " #   Column     Non-Null Count  Dtype  \n",
      "---  ------     --------------  -----  \n",
      " 0   eruptions  272 non-null    float64\n",
      " 1   waiting    272 non-null    int32  \n",
      "dtypes: float64(1), int32(1)\n",
      "memory usage: 3.3 KB\n"
     ]
    }
   ],
   "source": [
    "geyser.info()"
   ]
  },
  {
   "cell_type": "markdown",
   "metadata": {
    "id": "GF9HLmiylseB"
   },
   "source": [
    "**2. Tracer un histogramme de la durée des éruptions.**"
   ]
  },
  {
   "cell_type": "code",
   "execution_count": 18,
   "metadata": {
    "ExecuteTime": {
     "end_time": "2021-06-26T13:26:08.937016Z",
     "start_time": "2021-06-26T13:26:08.575165Z"
    },
    "colab": {
     "base_uri": "https://localhost:8080/",
     "height": 279
    },
    "id": "3YoN2cuulseB",
    "outputId": "2b6e049d-cd74-4aaa-c68c-c33505fcce58"
   },
   "outputs": [
    {
     "data": {
      "image/png": "[encoded data removed]",
      "text/plain": [
       "<Figure size 432x288 with 1 Axes>"
      ]
     },
     "metadata": {
      "needs_background": "light"
     },
     "output_type": "display_data"
    }
   ],
   "source": [
    "import seaborn as sns\n",
    "sns.histplot(geyser['eruptions']);"
   ]
  },
  {
   "cell_type": "markdown",
   "metadata": {
    "id": "faC6JLXYlseC"
   },
   "source": [
    "**3. Calculer la mediane de l'échantillon (durée des éruptions).**"
   ]
  },
  {
   "cell_type": "code",
   "execution_count": 19,
   "metadata": {
    "ExecuteTime": {
     "end_time": "2021-07-01T15:34:18.558385Z",
     "start_time": "2021-07-01T15:34:18.544642Z"
    },
    "colab": {
     "base_uri": "https://localhost:8080/"
    },
    "id": "LqQSnE7hlseC",
    "outputId": "e25e3a97-1d34-43f8-d77c-8294449974e9"
   },
   "outputs": [
    {
     "data": {
      "text/plain": [
       "240.0"
      ]
     },
     "execution_count": 19,
     "metadata": {},
     "output_type": "execute_result"
    }
   ],
   "source": [
    "sample_median = geyser['eruptions'].median()\n",
    "sample_median"
   ]
  },
  {
   "cell_type": "code",
   "execution_count": 20,
   "metadata": {
    "colab": {
     "base_uri": "https://localhost:8080/"
    },
    "id": "8w1CJvF9TbKK",
    "outputId": "660d6273-b2b8-4e63-ea0b-03a1cb9ae3a1"
   },
   "outputs": [
    {
     "data": {
      "text/plain": [
       "306.0"
      ]
     },
     "execution_count": 20,
     "metadata": {},
     "output_type": "execute_result"
    }
   ],
   "source": [
    "geyser['eruptions'].describe()[\"max\"]"
   ]
  },
  {
   "cell_type": "markdown",
   "metadata": {
    "id": "r3hq8itnlseD"
   },
   "source": [
    "**4. Trouver la médiane d'un échantillon bootstrappé. Répeter l'opération 1000 fois et stocker 1000 médianes bootstrappées.**"
   ]
  },
  {
   "cell_type": "code",
   "execution_count": 21,
   "metadata": {
    "ExecuteTime": {
     "end_time": "2021-07-01T15:41:10.279149Z",
     "start_time": "2021-07-01T15:41:10.269980Z"
    },
    "id": "wKDhsBRTlseD"
   },
   "outputs": [],
   "source": [
    "vals = geyser['eruptions'].values"
   ]
  },
  {
   "cell_type": "code",
   "execution_count": 22,
   "metadata": {
    "colab": {
     "base_uri": "https://localhost:8080/"
    },
    "id": "zWg1OBtzYU9X",
    "outputId": "64340311-aab4-4886-fa7b-b68b8bff1790"
   },
   "outputs": [
    {
     "data": {
      "text/plain": [
       "array([216.  , 108.  , 199.98, 136.98, 271.98, 172.98, 282.  , 216.  ,\n",
       "       117.  , 261.  , 109.98, 235.02, 252.  , 105.  , 282.  , 130.02,\n",
       "       105.  , 288.  ,  96.  , 255.  , 108.  , 105.  , 207.  , 184.02,\n",
       "       271.98, 216.  , 118.02, 244.98, 231.  , 265.98, 258.  , 268.02,\n",
       "       202.02, 241.98, 229.98, 121.02, 112.02, 289.98, 109.98, 286.98,\n",
       "       261.  , 112.98, 274.02, 105.  , 271.98, 199.02, 229.98, 126.  ,\n",
       "       277.98, 120.  , 288.  , 282.96, 109.98, 289.98, 103.98, 292.98,\n",
       "       223.02, 100.02, 274.02, 259.02, 133.98, 270.  , 105.  , 288.  ,\n",
       "       109.02, 264.  , 250.02, 282.  , 124.02, 282.  , 241.98, 118.02,\n",
       "       270.  , 240.  , 118.98, 304.02, 121.02, 274.02, 232.98, 216.  ,\n",
       "       247.98, 259.98, 246.  , 157.98, 244.02, 295.98, 237.  , 271.02,\n",
       "       130.02, 240.  , 132.  , 259.98, 112.02, 289.02, 109.98, 258.  ,\n",
       "       280.02, 225.  , 112.02, 294.  , 148.98, 262.02, 126.  , 270.  ,\n",
       "       243.  , 112.02, 282.  , 106.98, 291.  , 220.98, 283.98, 138.  ,\n",
       "       294.  , 265.02, 102.  , 277.98, 139.02, 276.  , 109.02, 265.02,\n",
       "       157.02, 244.02, 255.  , 118.02, 276.  , 226.02, 115.02, 270.  ,\n",
       "       136.02, 279.  , 112.02, 250.02, 168.  , 259.98, 109.98, 262.98,\n",
       "       112.98, 295.98, 121.98, 223.98, 253.98, 133.98, 271.98, 289.02,\n",
       "       259.98, 118.98, 277.98, 121.02, 306.  , 108.  , 301.98, 240.  ,\n",
       "       144.  , 276.  , 214.02, 240.  , 270.  , 244.98, 108.  , 238.02,\n",
       "       132.  , 249.  , 120.  , 229.98, 210.  , 274.98, 142.02, 300.  ,\n",
       "       115.98, 277.02, 115.02, 124.98, 274.98, 199.98, 250.02, 259.98,\n",
       "       270.  , 145.02, 240.  , 250.02, 112.98, 274.98, 255.  , 226.02,\n",
       "       121.98, 265.98, 244.98, 109.98, 265.02, 130.98, 288.  , 109.98,\n",
       "       288.  , 246.  , 237.96, 253.98, 210.  , 261.96, 135.  , 280.02,\n",
       "       126.  , 261.  , 247.98, 112.02, 276.  , 106.98, 262.02, 231.  ,\n",
       "       115.98, 270.  , 142.98, 282.  , 112.02, 229.98, 205.02, 253.98,\n",
       "       144.  , 288.  , 120.  , 249.  , 112.02, 256.02, 105.  , 268.98,\n",
       "       240.  , 247.02, 244.98, 256.02, 235.02, 273.  , 244.98, 145.02,\n",
       "       250.98, 133.02, 267.  , 112.98, 111.  , 256.98, 237.  , 139.98,\n",
       "       249.  , 141.  , 295.98, 174.  , 274.98, 229.98, 124.98, 262.02,\n",
       "       127.98, 261.  , 132.  , 267.  , 214.02, 270.  , 249.  , 229.02,\n",
       "       235.02, 267.  , 120.  , 256.98, 286.02, 271.98, 111.  , 255.  ,\n",
       "       118.98, 135.  , 285.  , 247.02, 129.  , 265.02, 109.02, 268.02])"
      ]
     },
     "execution_count": 22,
     "metadata": {},
     "output_type": "execute_result"
    }
   ],
   "source": [
    "geyser['eruptions'].values"
   ]
  },
  {
   "cell_type": "code",
   "execution_count": 23,
   "metadata": {
    "ExecuteTime": {
     "end_time": "2021-07-01T15:41:11.069633Z",
     "start_time": "2021-07-01T15:41:11.054145Z"
    },
    "colab": {
     "base_uri": "https://localhost:8080/"
    },
    "id": "AgU7acR8lseE",
    "outputId": "ab4ce193-5dfb-475b-c5fc-b58f5fc50d21"
   },
   "outputs": [
    {
     "data": {
      "text/plain": [
       "235.01999999999998"
      ]
     },
     "execution_count": 23,
     "metadata": {},
     "output_type": "execute_result"
    }
   ],
   "source": [
    "# Single bootstrap sample\n",
    "import numpy as np \n",
    "np.median(np.random.choice(vals, replace=True, size=1000))"
   ]
  },
  {
   "cell_type": "code",
   "execution_count": 24,
   "metadata": {
    "ExecuteTime": {
     "end_time": "2021-07-01T15:41:11.682308Z",
     "start_time": "2021-07-01T15:41:11.429631Z"
    },
    "id": "G3E-9hhhlseE"
   },
   "outputs": [],
   "source": [
    "# Multiple bootstraps\n",
    "bootstrap_medians = []\n",
    "for i in range(1000):\n",
    "    temp_sample = np.random.choice(vals, replace=True, size=len(vals))\n",
    "    temp_median = np.median(temp_sample)\n",
    "    bootstrap_medians.append(temp_median)\n",
    "#bootstrap_medians"
   ]
  },
  {
   "cell_type": "code",
   "execution_count": 25,
   "metadata": {
    "colab": {
     "base_uri": "https://localhost:8080/"
    },
    "id": "aavmAK9oVnoH",
    "outputId": "1f17ce3c-b273-4025-9d77-743f3eb4ae32"
   },
   "outputs": [
    {
     "data": {
      "text/plain": [
       "272"
      ]
     },
     "execution_count": 25,
     "metadata": {},
     "output_type": "execute_result"
    }
   ],
   "source": [
    " len(geyser['eruptions'].values)"
   ]
  },
  {
   "cell_type": "markdown",
   "metadata": {
    "id": "nJUjt7jZlseF"
   },
   "source": [
    "**5. Tracer un histogramme de la distribution bootstrappée Plot the bootstrap distribution as a histogram.**\n",
    "\n",
    "_Hint: convertissez l'array en Series pour utiliser `.plot()`._"
   ]
  },
  {
   "cell_type": "code",
   "execution_count": 26,
   "metadata": {
    "ExecuteTime": {
     "end_time": "2021-07-01T15:41:30.453455Z",
     "start_time": "2021-07-01T15:41:28.466029Z"
    },
    "colab": {
     "base_uri": "https://localhost:8080/",
     "height": 283
    },
    "id": "opRRoHa5lseF",
    "outputId": "75ca6b58-82f5-40a9-f76c-7e0dab20c7ff"
   },
   "outputs": [
    {
     "data": {
      "text/plain": [
       "<AxesSubplot:ylabel='Frequency'>"
      ]
     },
     "execution_count": 26,
     "metadata": {},
     "output_type": "execute_result"
    },
    {
     "data": {
      "image/png": "[encoded data removed]",
      "text/plain": [
       "<Figure size 432x288 with 1 Axes>"
      ]
     },
     "metadata": {
      "needs_background": "light"
     },
     "output_type": "display_data"
    }
   ],
   "source": [
    "pd.Series(bootstrap_medians).plot(kind='hist')"
   ]
  },
  {
   "cell_type": "markdown",
   "metadata": {
    "id": "7IYi6Hw7lseG"
   },
   "source": [
    "**6. Trouver les valeurs critiques .95 et .05 (le 5ème et 95ème centile).**"
   ]
  },
  {
   "cell_type": "code",
   "execution_count": 27,
   "metadata": {
    "ExecuteTime": {
     "end_time": "2021-07-01T15:43:20.306648Z",
     "start_time": "2021-07-01T15:43:20.293835Z"
    },
    "colab": {
     "base_uri": "https://localhost:8080/"
    },
    "id": "ePrw3FewlseG",
    "outputId": "a0ddbe3f-8886-4031-9298-279679fbc4e4"
   },
   "outputs": [
    {
     "data": {
      "text/plain": [
       "array([229.98, 245.49])"
      ]
     },
     "execution_count": 27,
     "metadata": {},
     "output_type": "execute_result"
    }
   ],
   "source": [
    "np.percentile(bootstrap_medians, [5,95])"
   ]
  },
  {
   "cell_type": "markdown",
   "metadata": {
    "id": "lJQqolLRlseH"
   },
   "source": [
    "**[BONUS] 7. Ecrire une fonction qui fais l'ensemble de toutes les opérations précédentes.**\n",
    "\n",
    "_Hint: la fonction doit prendre en entrée l'échantillon, le type d'estimateur ('median', 'mean' suffisent) et ressortir l'intervalle de confiance bootstrappé._"
   ]
  },
  {
   "cell_type": "code",
   "execution_count": 28,
   "metadata": {
    "ExecuteTime": {
     "end_time": "2021-07-01T16:34:07.314269Z",
     "start_time": "2021-07-01T16:34:07.294273Z"
    },
    "id": "oS7A_gXwlseI"
   },
   "outputs": [],
   "source": [
    "def bootstrap_ci(df, alpha=0.05, estimator='mean', iterations=1000):\n",
    "    \"\"\"\n",
    "    Computes a bootstrapped confidence interval.\n",
    "    \n",
    "    Args:\n",
    "        df: DataFrame\n",
    "            The sample values as a DataFrame. Input a 1-D DataFrame for the mean\n",
    "            or for the median, and a 2-D DataFrame for the correlation.\n",
    "        alpha: float, optional\n",
    "            The confidence level.\n",
    "        estimator: str, optional\n",
    "            The chosen measure - 'mean', 'median' or 'correlation'.\n",
    "        iterations: int, optional\n",
    "            The nb of bootstrap samples.\n",
    "    \n",
    "    Returns:\n",
    "        sample_est: float\n",
    "            The sample estimator.\n",
    "        bootstrapped_ci: list\n",
    "            The bootstrapped confidence interval.\n",
    "    \"\"\"\n",
    "    \n",
    "    # Compute the sample estimator\n",
    "    array = df.values\n",
    "    if estimator == 'mean':\n",
    "        sample_est = np.mean(array)\n",
    "    elif estimator == 'median':\n",
    "        sample_est = np.median(array)\n",
    "    elif estimator == 'correlation':\n",
    "        sample_est = np.corrcoef(array.T)[0][1]\n",
    "    else:\n",
    "        raise ValueError('Only \"mean\", \"median\" and \"correlation\" estimators are supported for now.')\n",
    "    \n",
    "    # Compute the bootstrap estimators\n",
    "    bootstrap_est = []\n",
    "    for i in range(iterations):\n",
    "        if estimator == 'mean':\n",
    "            temp_sample = np.random.choice(array, replace=True, size=len(df))\n",
    "            temp_est = np.mean(temp_sample)\n",
    "        elif estimator == 'median':\n",
    "            temp_sample = np.random.choice(array, replace=True, size=len(df))\n",
    "            temp_est = np.median(temp_sample)\n",
    "        elif estimator == 'correlation':\n",
    "          temp_sample = df.sample(len(df), replace=True)\n",
    "          temp_est = temp_sample.corr().loc['eruptions', 'waiting']\n",
    "        bootstrap_est.append(temp_est)\n",
    "    \n",
    "    # Compute the confidence interval\n",
    "    ## Regular method\n",
    "    bootstrapped_ci = np.percentile(bootstrap_est, [alpha*100/2, 100-(alpha*100)/2])\n",
    "    \n",
    "    ## Method corresponding to question 8 (\"To go further\")\n",
    "    #bootstrap_differences = bootstrap_est - sample_est\n",
    "    #centiles = np.percentile(bootstrap_differences, [alpha*100/2, 100-(alpha*100)/2])\n",
    "    #bootstrapped_ci = (sample_est - centiles[0], sample_est - centiles[1])\n",
    "    \n",
    "    return sample_est, sorted([round(x, 2) for x in bootstrapped_ci])"
   ]
  },
  {
   "cell_type": "code",
   "execution_count": 29,
   "metadata": {
    "colab": {
     "base_uri": "https://localhost:8080/"
    },
    "id": "OFmQ4W_CvlkW",
    "outputId": "5b42d75b-96a0-4954-ad85-3a2cf668a522"
   },
   "outputs": [
    {
     "data": {
      "text/plain": [
       "(209.26698529411763, [202.43, 216.12])"
      ]
     },
     "execution_count": 29,
     "metadata": {},
     "output_type": "execute_result"
    }
   ],
   "source": [
    "bootstrap_ci(geyser[\"eruptions\"], alpha=0.1, estimator='mean', iterations=1000)"
   ]
  },
  {
   "cell_type": "code",
   "execution_count": 30,
   "metadata": {
    "colab": {
     "base_uri": "https://localhost:8080/"
    },
    "id": "3nDsD_47vq77",
    "outputId": "d904dc2a-5ece-4aa3-b338-502bbc9e6e0d"
   },
   "outputs": [
    {
     "data": {
      "text/plain": [
       "(240.0, [229.98, 246.0])"
      ]
     },
     "execution_count": 30,
     "metadata": {},
     "output_type": "execute_result"
    }
   ],
   "source": [
    "bootstrap_ci(geyser[\"eruptions\"], alpha=0.1, estimator='median', iterations=1000)"
   ]
  },
  {
   "cell_type": "code",
   "execution_count": 31,
   "metadata": {
    "ExecuteTime": {
     "end_time": "2021-07-01T16:34:08.123805Z",
     "start_time": "2021-07-01T16:34:07.985114Z"
    },
    "colab": {
     "base_uri": "https://localhost:8080/"
    },
    "id": "XKV55pJ4lseJ",
    "outputId": "36c7e861-50dd-4177-dcf2-75973ccd5aa2"
   },
   "outputs": [
    {
     "data": {
      "text/plain": [
       "(0.9008111683218127, [0.89, 0.91])"
      ]
     },
     "execution_count": 31,
     "metadata": {},
     "output_type": "execute_result"
    }
   ],
   "source": [
    "bootstrap_ci(geyser[[\"eruptions\", \"waiting\"]], alpha=0.1, estimator='correlation', iterations=1000)"
   ]
  },
  {
   "cell_type": "markdown",
   "metadata": {
    "id": "u7HsExCwlseL"
   },
   "source": [
    "**[BONUS] 8. Calculer les correlation entre la durée des eruptions et le temps d'attente entre chaque éruption. En suite construire un intervalle de confiance bootstrappé pour le coefficient de correlation.**"
   ]
  },
  {
   "cell_type": "code",
   "execution_count": 32,
   "metadata": {
    "ExecuteTime": {
     "end_time": "2021-07-01T16:31:42.897268Z",
     "start_time": "2021-07-01T16:31:42.870726Z"
    },
    "colab": {
     "base_uri": "https://localhost:8080/"
    },
    "id": "-TC0EwxLlseM",
    "outputId": "9ad7c6fb-c790-4a1a-f8d9-8db62cab03e0"
   },
   "outputs": [
    {
     "data": {
      "text/plain": [
       "0.9008111683218127"
      ]
     },
     "execution_count": 32,
     "metadata": {},
     "output_type": "execute_result"
    }
   ],
   "source": [
    "# with numpy\n",
    "corrcoef = np.corrcoef(geyser.values.T)[0][1]\n",
    "corrcoef"
   ]
  },
  {
   "cell_type": "code",
   "execution_count": 33,
   "metadata": {
    "ExecuteTime": {
     "end_time": "2021-07-01T16:31:43.688984Z",
     "start_time": "2021-07-01T16:31:43.664027Z"
    },
    "colab": {
     "base_uri": "https://localhost:8080/"
    },
    "id": "PzZWeqyllseO",
    "outputId": "17f7595d-c89f-4f05-d7b9-c0a26dd53569"
   },
   "outputs": [
    {
     "data": {
      "text/plain": [
       "0.9008111683218128"
      ]
     },
     "execution_count": 33,
     "metadata": {},
     "output_type": "execute_result"
    }
   ],
   "source": [
    "# with pandas\n",
    "corrcoef = geyser.corr().iloc[0, 1]\n",
    "corrcoef"
   ]
  },
  {
   "cell_type": "code",
   "execution_count": 34,
   "metadata": {
    "ExecuteTime": {
     "end_time": "2021-07-01T16:31:44.860252Z",
     "start_time": "2021-07-01T16:31:44.245856Z"
    },
    "colab": {
     "base_uri": "https://localhost:8080/",
     "height": 269
    },
    "id": "JguAXx9ElseQ",
    "outputId": "e45fdeef-d732-4246-c5a6-f40114db5926"
   },
   "outputs": [
    {
     "data": {
      "image/png": "[encoded data removed]",
      "text/plain": [
       "<Figure size 432x288 with 2 Axes>"
      ]
     },
     "metadata": {
      "needs_background": "light"
     },
     "output_type": "display_data"
    }
   ],
   "source": [
    "import seaborn as sns\n",
    "sns.heatmap(geyser.corr(), annot=True);"
   ]
  },
  {
   "cell_type": "code",
   "execution_count": 35,
   "metadata": {
    "ExecuteTime": {
     "end_time": "2021-07-01T16:31:45.749452Z",
     "start_time": "2021-07-01T16:31:45.166961Z"
    },
    "colab": {
     "base_uri": "https://localhost:8080/"
    },
    "id": "0kgnBrV4lseQ",
    "outputId": "eb74a27c-9e7d-4bcc-eb37-ca4735d16db3",
    "scrolled": false
   },
   "outputs": [
    {
     "data": {
      "text/plain": [
       "(0.9008111683218127, [0.88, 0.92])"
      ]
     },
     "execution_count": 35,
     "metadata": {},
     "output_type": "execute_result"
    }
   ],
   "source": [
    "bootstrap_ci(geyser, alpha=0.05, estimator='correlation', iterations=1000)"
   ]
  },
  {
   "cell_type": "markdown",
   "metadata": {
    "id": "t-_8yHYZlseR"
   },
   "source": [
    "**[BONUS] 9. Aller plus loin**\n",
    "Une autre technique de bootstrap est l'utilisation de la distribution des différence des médianes plutôt que la distribution boostrapée directement\n",
    "Voir le [MIT course](https://ocw.mit.edu/courses/mathematics/18-05-introduction-to-probability-and-statistics-spring-2014/readings/MIT18_05S14_Reading24.pdf) pour plus de détails.\n",
    "\n",
    "* Tout d'abord, calculer la différence entre la mediane originale du sample et la médiane bootstrappée.\n",
    "* En suite, tracer un histogramme de la distribution de ces différences.\n",
    "* Trouver les valeurs critiques .95 and .05.\n",
    "\n",
    ">Grâce à la loi des Grands Nombres, ces valeurs représentent une bonne estimation de jusqu'à où la mediane boostrappée peut varié de la mediane de l'échantillon avec 90% de certitude. Le principe du boostrap dis que ces variations devraient apprximer les variations de la médiane de l'échantillon par rapport à la médiane de la population .\n",
    "\n",
    "* Enfin, utilisez ces valeurs pour construire un bootstrap de 90% d'intervalle de confiance par rapport à la médiane de l'échantillon."
   ]
  },
  {
   "cell_type": "code",
   "execution_count": 36,
   "metadata": {
    "ExecuteTime": {
     "end_time": "2021-07-01T15:54:15.171313Z",
     "start_time": "2021-07-01T15:54:15.144452Z"
    },
    "colab": {
     "base_uri": "https://localhost:8080/"
    },
    "id": "46TrzSzhlseS",
    "outputId": "876193ab-26df-47ce-8100-28278195f435"
   },
   "outputs": [
    {
     "data": {
      "text/plain": [
       "array([ -1.02,   0.  ,  -3.99,   0.99,   1.98,   4.98,   6.  ,  -3.99,\n",
       "         0.  ,  -0.99, -10.02,   0.  ,   4.02,  -3.  ,   3.  ,  -3.  ,\n",
       "        -3.99,  -6.  ,  -6.  ,   1.98,  -3.99,  -5.01,   6.  ,  -3.99,\n",
       "       -13.98,   1.98,   4.98,   8.49,  -3.99,   0.  ,   0.  ,   9.  ,\n",
       "         1.98,   4.02,  -0.99,   0.  ,   6.51,  -9.  ,  -1.02,   0.  ,\n",
       "         1.98, -19.02,   1.98,   0.  ,  -3.51,  -4.98,   0.  ,  -9.51,\n",
       "        -2.52,   0.  ,  -2.49,  -1.5 ,   4.98,   2.49,  -6.  ,   2.49,\n",
       "         0.  ,  -2.52,  -3.  ,  -4.98,  -3.99,  -3.99,  -2.01,   4.98,\n",
       "         4.98,  -4.98,   3.99,   1.98,  -1.98,   1.98,   0.  ,   0.  ,\n",
       "         2.49,   0.  ,   0.  ,   0.  ,   0.99,  -9.  ,   4.02,   0.  ,\n",
       "         0.  ,  -2.52,   4.98,   4.98,   4.98,   0.99,  -1.98,   4.98,\n",
       "        -4.98,  -3.  ,  -3.  ,  -7.02,   0.99,   3.51,  -8.01,  -2.04,\n",
       "        -0.99,  -4.98,   4.5 ,   0.  ,   0.  ,   0.  ,  -2.01,  -2.52,\n",
       "        -2.04,   0.  ,   4.98, -10.02,   0.  ,  -2.52,   0.  ,  -4.98,\n",
       "         3.51,  -8.52,   0.  ,  -6.  ,   0.  ,   0.99, -10.02,   0.  ,\n",
       "        -8.01,  -3.99, -10.02,   0.  ,   4.02,  -0.99,   4.98, -10.02,\n",
       "         0.  ,   0.  ,  -3.  ,   0.  ,  -1.02,   2.49,  -4.98,  -2.52,\n",
       "         0.  ,  -0.99, -10.02,  -3.  ,  -9.  ,   4.98,   0.  ,  -4.98,\n",
       "        -0.99,  -3.  ,   3.51,   5.49,  -1.98,  12.  ,   3.51, -10.02,\n",
       "         4.98,   0.  ,  -2.52,  -3.99,   0.  ,  -2.04,  -9.  ,   7.02,\n",
       "        -1.98,  -3.  ,   4.5 ,   4.98,  -2.01,   4.98, -10.5 ,   0.  ,\n",
       "         5.49,  -6.  ,  -2.52,  -3.99,  -2.52,  -9.  ,  -3.  ,   4.98,\n",
       "         0.  ,   6.  ,   0.  ,  -1.98,   0.  ,   0.99,  -7.5 ,   1.98,\n",
       "         0.  ,  -2.49, -10.02, -10.02,   0.  ,  -2.52,   0.  ,  -2.01,\n",
       "         0.  ,   6.  ,   4.98,  -6.  , -16.02,  -1.98,   1.98,  -6.  ,\n",
       "        -1.98,  -4.98,   0.  ,   2.49,  -0.99,   4.98,  -9.  ,   4.98,\n",
       "         3.  ,  -2.52,   3.51,  -9.51,  -2.01, -16.98,  -6.99,  -9.  ,\n",
       "         0.  ,   0.  ,  -2.04,  -4.98, -13.98,  -0.99,   0.  ,   3.99,\n",
       "        -3.99, -10.02,  -0.99,  -2.52,   2.49,   0.  ,   4.98,   4.02,\n",
       "         0.  ,   0.  ,   4.98,   0.  ,   0.  ,   0.  ,  -3.99,  -2.49,\n",
       "         4.98,   1.98,  -1.5 ,  -1.98,  -3.99,  -4.98,  -9.  ,   0.  ,\n",
       "         0.  ,  -3.99,  -0.99,   4.02,   0.  ,  -3.99,   0.  ,   0.  ,\n",
       "        -4.98,   6.  ,   0.  ,  -3.  ,  -6.  ,   4.98,   1.98,   4.98,\n",
       "         0.  , -10.02,  -4.98,  -6.  ,   4.98,   0.  ,   3.51,  -1.98,\n",
       "         2.49,   0.  ,   0.  ,   0.  ,   4.02,   2.49,   4.98,   3.  ,\n",
       "         4.98,  -1.02,  -6.  ,  -4.98,   0.  ,  -9.  ,   4.5 ,  -1.98,\n",
       "         4.98,  -9.  ,  -3.  ,   4.98,  -1.98,  -8.01,  -3.  ,   0.  ,\n",
       "         6.51,   0.99,   3.  , -10.02,  -3.  ,   0.  ,   0.  ,   0.  ,\n",
       "         0.  ,   4.02,   0.  ,   2.49,   0.  ,  -6.99,   0.  ,   3.51,\n",
       "         4.5 ,   4.98,   0.99,   4.5 ,   0.  ,  -0.99,   2.49,  -6.99,\n",
       "        -3.51,   4.02,   0.  ,  -0.99,  -0.99,   0.  ,   0.  ,   4.98,\n",
       "        -0.99,  -0.99,  -3.  ,   0.99,  -4.98,   4.98,  -2.01,   4.98,\n",
       "         0.  ,   4.98,  -0.99, -10.98,  -4.98,   0.  ,   0.99,  -1.98,\n",
       "       -15.51,  -9.51,   4.98,  -0.99, -10.5 ,   1.98,  -0.99,  -2.01,\n",
       "         4.02,   1.98,   6.  ,  -2.52,   3.  ,   2.49,   3.48,  -2.52,\n",
       "         1.98,   5.49,   0.99,   4.98,   2.49,   3.  ,   4.5 ,   4.98,\n",
       "         1.98,  -4.98,   0.  ,   3.51,   6.  ,   6.  ,  -9.  ,   0.  ,\n",
       "         1.98,   0.  ,   0.99,  -0.99,   0.  , -10.02,  -4.98,   1.98,\n",
       "         0.  ,   5.49,   4.5 ,   0.  ,  -3.99,   6.51,   0.  ,  -7.02,\n",
       "        -4.98,  -0.99,  -4.98,   1.98,   3.99,  -4.98,   0.  ,  -4.98,\n",
       "         0.  ,  -2.01, -13.98,   0.  ,   4.02,  -1.5 ,   0.  ,   4.98,\n",
       "         0.  , -10.02,   0.  ,   0.99,   3.51,  -3.  ,   4.98,   0.99,\n",
       "        -2.52,   0.  ,   0.  ,   0.  ,  -3.99,  -7.02,   0.  ,  -2.04,\n",
       "        -9.51,   9.  ,   0.  ,   0.  ,   4.98,   0.  ,  -6.99,   0.  ,\n",
       "         4.5 ,   0.  ,   5.49, -16.02,   0.  , -10.5 ,  -3.  ,   4.02,\n",
       "         4.5 ,   1.98,  -3.  ,   0.  ,   0.  ,  -1.98,  -4.98,   6.51,\n",
       "       -10.98,  -3.99,  -2.04,   3.  , -15.51,   2.49,   0.  ,   4.98,\n",
       "         2.49,   0.99, -10.02,   0.  ,  -4.98,  -4.98,   0.  ,  -3.  ,\n",
       "        -2.52,   4.98,   1.5 ,  -4.98,  -8.01,   4.98,  -0.99,  -4.98,\n",
       "         0.  ,   1.98,   4.5 ,  -9.51,  -8.01,  -3.  ,  -0.99,   0.  ,\n",
       "       -10.02,  -4.98,   0.  ,   3.  , -10.02,   0.  ,   4.02,   0.  ,\n",
       "        -4.98,   0.  ,  -2.01,   0.99,   0.  ,   0.99,  -4.98,   0.  ,\n",
       "         0.  ,  -2.04,   3.  ,   4.98,   0.99,   0.  ,   4.98,   0.  ,\n",
       "         0.  ,  -0.99,   0.  ,  -3.99,  -3.  ,   4.98,   0.  ,   1.98,\n",
       "         1.98,   7.5 ,   0.  ,   4.02,   0.  ,   6.  ,  -4.98,   0.  ,\n",
       "        -9.  ,   0.  ,   0.  ,   4.98,  -6.99,   3.  ,   0.  , -10.02,\n",
       "         0.  ,  -4.98,   3.51,   0.  ,  -4.98,  -9.51,  -4.98,  -3.  ,\n",
       "        -1.98,  -2.52,   0.99,   4.98,   4.98,  -7.02,   3.48, -10.02,\n",
       "         1.98,   4.02,  -2.01,   0.  ,   0.  ,   0.  ,   0.  ,   1.98,\n",
       "         1.98,  -4.98,  -1.98,   3.  ,  -9.  ,   4.02,   3.  , -10.02,\n",
       "         4.98,   1.98,   0.  ,  -0.99, -10.02,  -2.01, -10.02,  -8.52,\n",
       "         1.98,   1.5 ,  -9.51,   0.  ,   0.  ,   1.98,  -0.99,  -6.99,\n",
       "         5.49,   1.98,   0.  ,   6.  ,   0.  ,   6.51,   3.  ,   0.  ,\n",
       "        -4.98,  -9.51,   0.  ,  -4.98,  -0.99,   0.  ,   4.98,   0.  ,\n",
       "         0.99,   4.98,   4.02,   3.99,   0.  ,  -1.98,  -6.  ,   0.99,\n",
       "         7.02,   0.  ,   0.  ,  -4.98,   0.  ,   1.98,  -4.98,   0.  ,\n",
       "         0.  ,   1.98,   6.  ,   4.5 ,  -9.  ,   0.  ,   0.  ,   0.  ,\n",
       "        -0.99,   3.51,  -3.  ,   4.98,   4.02,   1.98,  -0.99,  -4.98,\n",
       "         4.98,   0.  ,   0.  ,   0.  ,   0.  ,   4.98,  -9.  ,   6.51,\n",
       "        -4.98,  -4.98, -10.5 ,   1.98,   0.  ,  -2.49,   0.  ,  -3.99,\n",
       "        -9.  , -16.02,  10.02,   6.  ,   4.5 ,   4.98,  -3.99,  -2.04,\n",
       "         7.98,  -2.52,   2.49,   1.98,  -3.  ,   0.  ,   0.  ,   2.49,\n",
       "         1.5 ,   3.99,   4.02, -10.5 ,   4.98,  -4.98,  -2.49,   0.  ,\n",
       "        -9.51,   0.  ,  -1.98,  -3.99,  -4.98,  -6.  ,   0.99,   0.  ,\n",
       "         0.  ,   1.98,   0.99,  -2.49,   0.  ,   4.5 ,   4.02,   4.02,\n",
       "         0.  , -15.  ,   4.02,  -0.99,   0.  ,   1.98,  -8.01,  -0.99,\n",
       "         4.98,   2.49, -14.49,   0.99,   0.  ,  -4.98,   2.49,   1.98,\n",
       "        -0.99,   0.  ,   0.  ,  -0.99,  -1.02,   3.51,  -4.98,   6.  ,\n",
       "         1.98,   0.  ,   0.  ,  -3.99,   0.  ,   4.98,   0.99,   0.  ,\n",
       "         0.99,  -2.49,  -4.98,   4.02,  -3.99,  -2.52,   0.  ,  -8.01,\n",
       "         0.99,   4.98,  -9.51,   0.  ,   0.  ,   0.  ,  -3.  ,  -3.  ,\n",
       "         4.5 ,   4.98,   0.  ,   0.99,   0.  ,   1.98,  -9.  ,   1.98,\n",
       "         0.  ,   4.5 ,  -4.98,  -1.98,  -3.99,  -2.49,  -4.98,   0.99,\n",
       "        -0.99,   3.  ,  -6.99,   0.  ,   7.02,   1.98,   4.98,  -2.52,\n",
       "         0.  ,   4.5 ,   1.98,   3.  ,   4.02,   4.5 ,  -3.  ,   1.98,\n",
       "         4.98,  -4.98,  -3.99,   0.  ,   0.  ,   0.99,   0.  ,   2.49,\n",
       "         0.  ,  -2.52,   4.02,  -6.99,   2.49,  -9.51,  -3.  ,   0.  ,\n",
       "         4.02,  -3.99,  -0.99,   1.98,   3.51,   3.  ,   0.  ,   0.  ,\n",
       "        -4.98,   4.98, -24.  ,   4.98, -24.  ,   0.  , -10.02, -10.02,\n",
       "         0.  , -10.02,   0.  ,   3.  ,  -6.  , -12.  ,  -4.98,  -3.  ,\n",
       "         1.98,   4.98,   0.  ,  -4.98,  -0.99,   0.  ,  -0.99, -10.02,\n",
       "       -10.02,   2.49,   0.  ,   4.98,   0.  ,   0.  ,   9.  ,   4.98,\n",
       "        -7.02, -10.02,  -0.99,   3.99,   0.  ,  -2.49,   0.99,   0.  ,\n",
       "         0.  ,  -4.98,  -3.99,  -0.99,   0.99,  -4.98, -10.02,   0.  ,\n",
       "        -9.  ,   7.02,   0.  ,   0.99,  -3.  ,  -1.98,   4.98,  -4.98,\n",
       "        -3.99,   0.  ,   0.  ,  -1.98,   0.  ,   4.02,   4.98,   0.  ,\n",
       "         6.  ,  -3.  ,   0.  ,   0.99,  -0.99,   0.  ,   4.02,  -9.51,\n",
       "        -3.  , -10.02,  -0.99,   7.02,   0.  ,   1.98,  -2.49,  -2.52,\n",
       "         0.  , -10.02,  -4.98,   4.5 ,  -9.51,   0.  , -12.48,   0.  ,\n",
       "        -1.02,  -3.  ,   0.  ,   4.98,   6.51,   6.  ,  -2.52,  -2.52,\n",
       "         0.  ,  -3.99,  -9.  ,   4.98,   5.49,   0.99,  -2.04,   0.  ,\n",
       "        -3.  ,   4.98,  -2.52,  -6.  ,   1.98,  -9.  ,  -3.51,   0.  ,\n",
       "        -2.52,  -4.98,   0.  ,   6.51,   6.  , -10.98,   7.02,  -2.01,\n",
       "        -3.99,   4.98,   0.  ,   4.98,   4.98,   3.51, -10.02,   1.98,\n",
       "         0.  ,   4.98,   0.  ,   0.99,   1.98,   1.98,  -0.99,   0.99,\n",
       "         0.  ,   0.  ,   1.98,   1.98,  -2.49,  -1.02,   7.5 ,   4.5 ,\n",
       "       -10.02,  -8.01,  -6.  ,  -8.01, -10.02,  -8.01,   0.  ,   4.02,\n",
       "         4.98,  -9.51,   1.98,   4.5 ,   2.49,   0.  ,   0.  ,   0.  ,\n",
       "         4.98,  -3.  ,  -9.51,  -8.01,   0.  ,   1.98,   0.  ,   0.  ,\n",
       "         1.5 , -10.02,   0.  ,   0.  ,   6.  ,  -6.  ,  -1.98,  -2.52,\n",
       "         5.49,   0.  ,  -2.01,   4.98,   0.  ,  -4.98,   0.  ,  -9.51,\n",
       "         4.98,  -2.52,   0.  ,   0.99,   3.51,   4.98,   0.  ,   1.5 ,\n",
       "         0.  ,   0.  ,   4.02,   0.  ,  -9.51,  -0.99,   0.  ,   0.99,\n",
       "        -3.  ,   4.02,   6.51,   0.  ,  -9.51,   4.5 ,   0.  ,  -3.  ,\n",
       "        -3.  ,  -2.52,   0.99,   3.  ,   9.  ,  -2.01,   6.  ,   0.  ])"
      ]
     },
     "execution_count": 36,
     "metadata": {},
     "output_type": "execute_result"
    }
   ],
   "source": [
    "bootstrap_differences = np.array(bootstrap_medians) - sample_median\n",
    "bootstrap_differences"
   ]
  },
  {
   "cell_type": "code",
   "execution_count": 37,
   "metadata": {
    "ExecuteTime": {
     "end_time": "2021-07-01T15:54:16.979550Z",
     "start_time": "2021-07-01T15:54:16.524162Z"
    },
    "colab": {
     "base_uri": "https://localhost:8080/",
     "height": 283
    },
    "id": "Ylv3d5fXlseS",
    "outputId": "6eb098f2-ee36-40e2-ddab-5da058de41d6",
    "scrolled": true
   },
   "outputs": [
    {
     "data": {
      "text/plain": [
       "<AxesSubplot:ylabel='Frequency'>"
      ]
     },
     "execution_count": 37,
     "metadata": {},
     "output_type": "execute_result"
    },
    {
     "data": {
      "image/png": "[encoded data removed]",
      "text/plain": [
       "<Figure size 432x288 with 1 Axes>"
      ]
     },
     "metadata": {
      "needs_background": "light"
     },
     "output_type": "display_data"
    }
   ],
   "source": [
    "pd.Series(bootstrap_differences).plot(kind='hist')"
   ]
  },
  {
   "cell_type": "code",
   "execution_count": 38,
   "metadata": {
    "ExecuteTime": {
     "end_time": "2021-07-01T15:54:18.613090Z",
     "start_time": "2021-07-01T15:54:18.603666Z"
    },
    "colab": {
     "base_uri": "https://localhost:8080/"
    },
    "id": "UUu2qI8blseT",
    "outputId": "219d5131-338b-4f21-9208-7db11a6775df",
    "scrolled": true
   },
   "outputs": [
    {
     "data": {
      "text/plain": [
       "array([-24.      , -14.749845])"
      ]
     },
     "execution_count": 38,
     "metadata": {},
     "output_type": "execute_result"
    }
   ],
   "source": [
    "centiles = np.percentile(bootstrap_differences, [0.05, 0.95])\n",
    "centiles"
   ]
  },
  {
   "cell_type": "code",
   "execution_count": 39,
   "metadata": {
    "ExecuteTime": {
     "end_time": "2021-07-01T15:55:54.053547Z",
     "start_time": "2021-07-01T15:55:54.045227Z"
    },
    "colab": {
     "base_uri": "https://localhost:8080/"
    },
    "id": "MugsQcxIlseT",
    "outputId": "4facecb2-8605-4d8f-e73f-2dc12595ea1d",
    "scrolled": false
   },
   "outputs": [
    {
     "data": {
      "text/plain": [
       "array([254.749845, 264.      ])"
      ]
     },
     "execution_count": 39,
     "metadata": {},
     "output_type": "execute_result"
    }
   ],
   "source": [
    "bootstrapped_ci = np.sort((sample_median - centiles[0], sample_median - centiles[1]))\n",
    "bootstrapped_ci"
   ]
  },
  {
   "cell_type": "markdown",
   "metadata": {
    "id": "mAB5X3g7lseV"
   },
   "source": [
    "**[BONUS] 10. Quelle est la probabilité que la médiant d'un échantillon soit strictement plus que 10 secondes plus loin que la vraie médiane.**\n",
    "\n",
    "_Hint:  Il faut obtenir la valeur absolue des differences du bootstrape, les classer par ordre croissant et en suite calculer la proportion de celles qui sont >10. Grâce à la loi des Grands Nombres, cela donne le pourcentage de chance que les médianes bootstrappées aient un écart strictement plus grands que 10 secondes de la médiane de l'échantillon. Le principe du bootstrape est une bonne approximation de la variation entre la médiane de l'échantillon et la médiane réelle._"
   ]
  },
  {
   "cell_type": "code",
   "execution_count": 40,
   "metadata": {
    "ExecuteTime": {
     "end_time": "2021-07-01T16:04:28.494232Z",
     "start_time": "2021-07-01T16:04:28.463214Z"
    },
    "colab": {
     "base_uri": "https://localhost:8080/"
    },
    "id": "ukVbFKYclseV",
    "outputId": "8494722e-8bbe-4572-f63d-14428b8ea37e"
   },
   "outputs": [
    {
     "data": {
      "text/plain": [
       "array([ 0.  ,  0.  ,  0.  ,  0.  ,  0.  ,  0.  ,  0.  ,  0.  ,  0.  ,\n",
       "        0.  ,  0.  ,  0.  ,  0.  ,  0.  ,  0.  ,  0.  ,  0.  ,  0.  ,\n",
       "        0.  ,  0.  ,  0.  ,  0.  ,  0.  ,  0.  ,  0.  ,  0.  ,  0.  ,\n",
       "        0.  ,  0.  ,  0.  ,  0.  ,  0.  ,  0.  ,  0.  ,  0.  ,  0.  ,\n",
       "        0.  ,  0.  ,  0.  ,  0.  ,  0.  ,  0.  ,  0.  ,  0.  ,  0.  ,\n",
       "        0.  ,  0.  ,  0.  ,  0.  ,  0.  ,  0.  ,  0.  ,  0.  ,  0.  ,\n",
       "        0.  ,  0.  ,  0.  ,  0.  ,  0.  ,  0.  ,  0.  ,  0.  ,  0.  ,\n",
       "        0.  ,  0.  ,  0.  ,  0.  ,  0.  ,  0.  ,  0.  ,  0.  ,  0.  ,\n",
       "        0.  ,  0.  ,  0.  ,  0.  ,  0.  ,  0.  ,  0.  ,  0.  ,  0.  ,\n",
       "        0.  ,  0.  ,  0.  ,  0.  ,  0.  ,  0.  ,  0.  ,  0.  ,  0.  ,\n",
       "        0.  ,  0.  ,  0.  ,  0.  ,  0.  ,  0.  ,  0.  ,  0.  ,  0.  ,\n",
       "        0.  ,  0.  ,  0.  ,  0.  ,  0.  ,  0.  ,  0.  ,  0.  ,  0.  ,\n",
       "        0.  ,  0.  ,  0.  ,  0.  ,  0.  ,  0.  ,  0.  ,  0.  ,  0.  ,\n",
       "        0.  ,  0.  ,  0.  ,  0.  ,  0.  ,  0.  ,  0.  ,  0.  ,  0.  ,\n",
       "        0.  ,  0.  ,  0.  ,  0.  ,  0.  ,  0.  ,  0.  ,  0.  ,  0.  ,\n",
       "        0.  ,  0.  ,  0.  ,  0.  ,  0.  ,  0.  ,  0.  ,  0.  ,  0.  ,\n",
       "        0.  ,  0.  ,  0.  ,  0.  ,  0.  ,  0.  ,  0.  ,  0.  ,  0.  ,\n",
       "        0.  ,  0.  ,  0.  ,  0.  ,  0.  ,  0.  ,  0.  ,  0.  ,  0.  ,\n",
       "        0.  ,  0.  ,  0.  ,  0.  ,  0.  ,  0.  ,  0.  ,  0.  ,  0.  ,\n",
       "        0.  ,  0.  ,  0.  ,  0.  ,  0.  ,  0.  ,  0.  ,  0.  ,  0.  ,\n",
       "        0.  ,  0.  ,  0.  ,  0.  ,  0.  ,  0.  ,  0.  ,  0.  ,  0.  ,\n",
       "        0.  ,  0.  ,  0.  ,  0.  ,  0.  ,  0.  ,  0.  ,  0.  ,  0.  ,\n",
       "        0.  ,  0.  ,  0.  ,  0.  ,  0.  ,  0.  ,  0.  ,  0.  ,  0.  ,\n",
       "        0.  ,  0.  ,  0.  ,  0.  ,  0.  ,  0.  ,  0.  ,  0.  ,  0.  ,\n",
       "        0.  ,  0.  ,  0.  ,  0.  ,  0.  ,  0.  ,  0.  ,  0.  ,  0.  ,\n",
       "        0.  ,  0.  ,  0.  ,  0.  ,  0.  ,  0.  ,  0.  ,  0.  ,  0.  ,\n",
       "        0.  ,  0.  ,  0.  ,  0.  ,  0.  ,  0.  ,  0.  ,  0.  ,  0.  ,\n",
       "        0.99,  0.99,  0.99,  0.99,  0.99,  0.99,  0.99,  0.99,  0.99,\n",
       "        0.99,  0.99,  0.99,  0.99,  0.99,  0.99,  0.99,  0.99,  0.99,\n",
       "        0.99,  0.99,  0.99,  0.99,  0.99,  0.99,  0.99,  0.99,  0.99,\n",
       "        0.99,  0.99,  0.99,  0.99,  0.99,  0.99,  0.99,  0.99,  0.99,\n",
       "        0.99,  0.99,  0.99,  0.99,  0.99,  0.99,  0.99,  0.99,  0.99,\n",
       "        0.99,  0.99,  0.99,  0.99,  0.99,  0.99,  0.99,  0.99,  0.99,\n",
       "        0.99,  0.99,  0.99,  0.99,  0.99,  0.99,  0.99,  0.99,  0.99,\n",
       "        0.99,  0.99,  0.99,  0.99,  0.99,  0.99,  0.99,  0.99,  0.99,\n",
       "        0.99,  0.99,  0.99,  0.99,  0.99,  0.99,  0.99,  0.99,  0.99,\n",
       "        0.99,  1.02,  1.02,  1.02,  1.02,  1.02,  1.02,  1.02,  1.5 ,\n",
       "        1.5 ,  1.5 ,  1.5 ,  1.5 ,  1.5 ,  1.5 ,  1.5 ,  1.98,  1.98,\n",
       "        1.98,  1.98,  1.98,  1.98,  1.98,  1.98,  1.98,  1.98,  1.98,\n",
       "        1.98,  1.98,  1.98,  1.98,  1.98,  1.98,  1.98,  1.98,  1.98,\n",
       "        1.98,  1.98,  1.98,  1.98,  1.98,  1.98,  1.98,  1.98,  1.98,\n",
       "        1.98,  1.98,  1.98,  1.98,  1.98,  1.98,  1.98,  1.98,  1.98,\n",
       "        1.98,  1.98,  1.98,  1.98,  1.98,  1.98,  1.98,  1.98,  1.98,\n",
       "        1.98,  1.98,  1.98,  1.98,  1.98,  1.98,  1.98,  1.98,  1.98,\n",
       "        1.98,  1.98,  1.98,  1.98,  1.98,  1.98,  1.98,  1.98,  1.98,\n",
       "        1.98,  1.98,  1.98,  1.98,  1.98,  1.98,  1.98,  1.98,  1.98,\n",
       "        1.98,  1.98,  2.01,  2.01,  2.01,  2.01,  2.01,  2.01,  2.01,\n",
       "        2.01,  2.01,  2.01,  2.01,  2.01,  2.01,  2.01,  2.04,  2.04,\n",
       "        2.04,  2.04,  2.04,  2.04,  2.04,  2.04,  2.04,  2.49,  2.49,\n",
       "        2.49,  2.49,  2.49,  2.49,  2.49,  2.49,  2.49,  2.49,  2.49,\n",
       "        2.49,  2.49,  2.49,  2.49,  2.49,  2.49,  2.49,  2.49,  2.49,\n",
       "        2.49,  2.49,  2.49,  2.49,  2.49,  2.49,  2.49,  2.49,  2.49,\n",
       "        2.49,  2.49,  2.49,  2.49,  2.52,  2.52,  2.52,  2.52,  2.52,\n",
       "        2.52,  2.52,  2.52,  2.52,  2.52,  2.52,  2.52,  2.52,  2.52,\n",
       "        2.52,  2.52,  2.52,  2.52,  2.52,  2.52,  2.52,  2.52,  2.52,\n",
       "        2.52,  2.52,  2.52,  2.52,  2.52,  2.52,  3.  ,  3.  ,  3.  ,\n",
       "        3.  ,  3.  ,  3.  ,  3.  ,  3.  ,  3.  ,  3.  ,  3.  ,  3.  ,\n",
       "        3.  ,  3.  ,  3.  ,  3.  ,  3.  ,  3.  ,  3.  ,  3.  ,  3.  ,\n",
       "        3.  ,  3.  ,  3.  ,  3.  ,  3.  ,  3.  ,  3.  ,  3.  ,  3.  ,\n",
       "        3.  ,  3.  ,  3.  ,  3.  ,  3.  ,  3.  ,  3.  ,  3.  ,  3.  ,\n",
       "        3.  ,  3.  ,  3.  ,  3.  ,  3.  ,  3.  ,  3.  ,  3.  ,  3.  ,\n",
       "        3.  ,  3.  ,  3.  ,  3.  ,  3.  ,  3.  ,  3.  ,  3.  ,  3.48,\n",
       "        3.48,  3.51,  3.51,  3.51,  3.51,  3.51,  3.51,  3.51,  3.51,\n",
       "        3.51,  3.51,  3.51,  3.51,  3.51,  3.51,  3.51,  3.51,  3.51,\n",
       "        3.51,  3.99,  3.99,  3.99,  3.99,  3.99,  3.99,  3.99,  3.99,\n",
       "        3.99,  3.99,  3.99,  3.99,  3.99,  3.99,  3.99,  3.99,  3.99,\n",
       "        3.99,  3.99,  3.99,  3.99,  3.99,  3.99,  3.99,  3.99,  3.99,\n",
       "        3.99,  3.99,  3.99,  3.99,  3.99,  3.99,  3.99,  3.99,  3.99,\n",
       "        3.99,  3.99,  3.99,  4.02,  4.02,  4.02,  4.02,  4.02,  4.02,\n",
       "        4.02,  4.02,  4.02,  4.02,  4.02,  4.02,  4.02,  4.02,  4.02,\n",
       "        4.02,  4.02,  4.02,  4.02,  4.02,  4.02,  4.02,  4.02,  4.02,\n",
       "        4.02,  4.02,  4.02,  4.02,  4.02,  4.02,  4.02,  4.5 ,  4.5 ,\n",
       "        4.5 ,  4.5 ,  4.5 ,  4.5 ,  4.5 ,  4.5 ,  4.5 ,  4.5 ,  4.5 ,\n",
       "        4.5 ,  4.5 ,  4.5 ,  4.5 ,  4.5 ,  4.5 ,  4.5 ,  4.5 ,  4.5 ,\n",
       "        4.5 ,  4.98,  4.98,  4.98,  4.98,  4.98,  4.98,  4.98,  4.98,\n",
       "        4.98,  4.98,  4.98,  4.98,  4.98,  4.98,  4.98,  4.98,  4.98,\n",
       "        4.98,  4.98,  4.98,  4.98,  4.98,  4.98,  4.98,  4.98,  4.98,\n",
       "        4.98,  4.98,  4.98,  4.98,  4.98,  4.98,  4.98,  4.98,  4.98,\n",
       "        4.98,  4.98,  4.98,  4.98,  4.98,  4.98,  4.98,  4.98,  4.98,\n",
       "        4.98,  4.98,  4.98,  4.98,  4.98,  4.98,  4.98,  4.98,  4.98,\n",
       "        4.98,  4.98,  4.98,  4.98,  4.98,  4.98,  4.98,  4.98,  4.98,\n",
       "        4.98,  4.98,  4.98,  4.98,  4.98,  4.98,  4.98,  4.98,  4.98,\n",
       "        4.98,  4.98,  4.98,  4.98,  4.98,  4.98,  4.98,  4.98,  4.98,\n",
       "        4.98,  4.98,  4.98,  4.98,  4.98,  4.98,  4.98,  4.98,  4.98,\n",
       "        4.98,  4.98,  4.98,  4.98,  4.98,  4.98,  4.98,  4.98,  4.98,\n",
       "        4.98,  4.98,  4.98,  4.98,  4.98,  4.98,  4.98,  4.98,  4.98,\n",
       "        4.98,  4.98,  4.98,  4.98,  4.98,  4.98,  4.98,  4.98,  4.98,\n",
       "        4.98,  4.98,  4.98,  4.98,  4.98,  4.98,  4.98,  4.98,  4.98,\n",
       "        4.98,  4.98,  4.98,  4.98,  4.98,  4.98,  4.98,  4.98,  4.98,\n",
       "        4.98,  4.98,  4.98,  4.98,  4.98,  4.98,  4.98,  5.01,  5.49,\n",
       "        5.49,  5.49,  5.49,  5.49,  5.49,  5.49,  5.49,  6.  ,  6.  ,\n",
       "        6.  ,  6.  ,  6.  ,  6.  ,  6.  ,  6.  ,  6.  ,  6.  ,  6.  ,\n",
       "        6.  ,  6.  ,  6.  ,  6.  ,  6.  ,  6.  ,  6.  ,  6.  ,  6.  ,\n",
       "        6.  ,  6.  ,  6.  ,  6.  ,  6.  ,  6.  ,  6.  ,  6.  ,  6.  ,\n",
       "        6.  ,  6.  ,  6.  ,  6.  ,  6.  ,  6.51,  6.51,  6.51,  6.51,\n",
       "        6.51,  6.51,  6.51,  6.51,  6.51,  6.99,  6.99,  6.99,  6.99,\n",
       "        6.99,  6.99,  6.99,  6.99,  7.02,  7.02,  7.02,  7.02,  7.02,\n",
       "        7.02,  7.02,  7.02,  7.02,  7.02,  7.02,  7.5 ,  7.5 ,  7.5 ,\n",
       "        7.98,  8.01,  8.01,  8.01,  8.01,  8.01,  8.01,  8.01,  8.01,\n",
       "        8.01,  8.01,  8.01,  8.49,  8.52,  8.52,  9.  ,  9.  ,  9.  ,\n",
       "        9.  ,  9.  ,  9.  ,  9.  ,  9.  ,  9.  ,  9.  ,  9.  ,  9.  ,\n",
       "        9.  ,  9.  ,  9.  ,  9.  ,  9.  ,  9.  ,  9.  ,  9.  ,  9.  ,\n",
       "        9.  ,  9.  ,  9.  ,  9.51,  9.51,  9.51,  9.51,  9.51,  9.51,\n",
       "        9.51,  9.51,  9.51,  9.51,  9.51,  9.51,  9.51,  9.51,  9.51,\n",
       "        9.51,  9.51,  9.51, 10.02, 10.02, 10.02, 10.02, 10.02, 10.02,\n",
       "       10.02, 10.02, 10.02, 10.02, 10.02, 10.02, 10.02, 10.02, 10.02,\n",
       "       10.02, 10.02, 10.02, 10.02, 10.02, 10.02, 10.02, 10.02, 10.02,\n",
       "       10.02, 10.02, 10.02, 10.02, 10.02, 10.02, 10.02, 10.02, 10.02,\n",
       "       10.02, 10.02, 10.02, 10.5 , 10.5 , 10.5 , 10.5 , 10.5 , 10.98,\n",
       "       10.98, 10.98, 12.  , 12.  , 12.48, 13.98, 13.98, 13.98, 14.49,\n",
       "       15.  , 15.51, 15.51, 16.02, 16.02, 16.02, 16.98, 19.02, 24.  ,\n",
       "       24.  ])"
      ]
     },
     "execution_count": 40,
     "metadata": {},
     "output_type": "execute_result"
    }
   ],
   "source": [
    "sorted_differences = np.array(sorted(np.abs(bootstrap_differences)))\n",
    "sorted_differences"
   ]
  },
  {
   "cell_type": "code",
   "execution_count": 41,
   "metadata": {
    "ExecuteTime": {
     "end_time": "2021-07-01T16:04:30.084193Z",
     "start_time": "2021-07-01T16:04:30.075698Z"
    },
    "colab": {
     "base_uri": "https://localhost:8080/"
    },
    "id": "wrmmi274lseW",
    "outputId": "1d2f85aa-2a5f-48e9-eaee-458d9c0dc8ab",
    "scrolled": true
   },
   "outputs": [
    {
     "data": {
      "text/plain": [
       "0.061"
      ]
     },
     "execution_count": 41,
     "metadata": {},
     "output_type": "execute_result"
    }
   ],
   "source": [
    "len(sorted_differences[sorted_differences > 10]) / len(sorted_differences)"
   ]
  },
  {
   "cell_type": "markdown",
   "metadata": {
    "id": "2mijiJ09lseW"
   },
   "source": [
    "### Exercice 4 – Coûts d'assurance médicale (***)"
   ]
  },
  {
   "cell_type": "markdown",
   "metadata": {
    "id": "dOpV5hWIlseX"
   },
   "source": [
    "Data from: https://www.kaggle.com/mirichoi0218/insurance."
   ]
  },
  {
   "cell_type": "markdown",
   "metadata": {
    "id": "lt4GnD4hlseX"
   },
   "source": [
    "**1. Importer les données et convertir la colonne `smoker` avec des valeurs binaires.**"
   ]
  },
  {
   "cell_type": "code",
   "execution_count": 42,
   "metadata": {
    "ExecuteTime": {
     "end_time": "2021-06-25T16:54:40.186538Z",
     "start_time": "2021-06-25T16:54:40.155281Z"
    },
    "colab": {
     "base_uri": "https://localhost:8080/",
     "height": 423
    },
    "id": "q-la0n6nlseY",
    "outputId": "1bb6f0b6-5593-4fef-c876-ebe64ee07dcf"
   },
   "outputs": [
    {
     "data": {
      "text/html": [
       "<div>\n",
       "<style scoped>\n",
       "    .dataframe tbody tr th:only-of-type {\n",
       "        vertical-align: middle;\n",
       "    }\n",
       "\n",
       "    .dataframe tbody tr th {\n",
       "        vertical-align: top;\n",
       "    }\n",
       "\n",
       "    .dataframe thead th {\n",
       "        text-align: right;\n",
       "    }\n",
       "</style>\n",
       "<table border=\"1\" class=\"dataframe\">\n",
       "  <thead>\n",
       "    <tr style=\"text-align: right;\">\n",
       "      <th></th>\n",
       "      <th>age</th>\n",
       "      <th>sex</th>\n",
       "      <th>bmi</th>\n",
       "      <th>children</th>\n",
       "      <th>smoker</th>\n",
       "      <th>region</th>\n",
       "      <th>charges</th>\n",
       "    </tr>\n",
       "  </thead>\n",
       "  <tbody>\n",
       "    <tr>\n",
       "      <th>0</th>\n",
       "      <td>19</td>\n",
       "      <td>female</td>\n",
       "      <td>27.900</td>\n",
       "      <td>0</td>\n",
       "      <td>yes</td>\n",
       "      <td>southwest</td>\n",
       "      <td>16884.92400</td>\n",
       "    </tr>\n",
       "    <tr>\n",
       "      <th>1</th>\n",
       "      <td>18</td>\n",
       "      <td>male</td>\n",
       "      <td>33.770</td>\n",
       "      <td>1</td>\n",
       "      <td>no</td>\n",
       "      <td>southeast</td>\n",
       "      <td>1725.55230</td>\n",
       "    </tr>\n",
       "    <tr>\n",
       "      <th>2</th>\n",
       "      <td>28</td>\n",
       "      <td>male</td>\n",
       "      <td>33.000</td>\n",
       "      <td>3</td>\n",
       "      <td>no</td>\n",
       "      <td>southeast</td>\n",
       "      <td>4449.46200</td>\n",
       "    </tr>\n",
       "    <tr>\n",
       "      <th>3</th>\n",
       "      <td>33</td>\n",
       "      <td>male</td>\n",
       "      <td>22.705</td>\n",
       "      <td>0</td>\n",
       "      <td>no</td>\n",
       "      <td>northwest</td>\n",
       "      <td>21984.47061</td>\n",
       "    </tr>\n",
       "    <tr>\n",
       "      <th>4</th>\n",
       "      <td>32</td>\n",
       "      <td>male</td>\n",
       "      <td>28.880</td>\n",
       "      <td>0</td>\n",
       "      <td>no</td>\n",
       "      <td>northwest</td>\n",
       "      <td>3866.85520</td>\n",
       "    </tr>\n",
       "    <tr>\n",
       "      <th>...</th>\n",
       "      <td>...</td>\n",
       "      <td>...</td>\n",
       "      <td>...</td>\n",
       "      <td>...</td>\n",
       "      <td>...</td>\n",
       "      <td>...</td>\n",
       "      <td>...</td>\n",
       "    </tr>\n",
       "    <tr>\n",
       "      <th>1333</th>\n",
       "      <td>50</td>\n",
       "      <td>male</td>\n",
       "      <td>30.970</td>\n",
       "      <td>3</td>\n",
       "      <td>no</td>\n",
       "      <td>northwest</td>\n",
       "      <td>10600.54830</td>\n",
       "    </tr>\n",
       "    <tr>\n",
       "      <th>1334</th>\n",
       "      <td>18</td>\n",
       "      <td>female</td>\n",
       "      <td>31.920</td>\n",
       "      <td>0</td>\n",
       "      <td>no</td>\n",
       "      <td>northeast</td>\n",
       "      <td>2205.98080</td>\n",
       "    </tr>\n",
       "    <tr>\n",
       "      <th>1335</th>\n",
       "      <td>18</td>\n",
       "      <td>female</td>\n",
       "      <td>36.850</td>\n",
       "      <td>0</td>\n",
       "      <td>no</td>\n",
       "      <td>southeast</td>\n",
       "      <td>1629.83350</td>\n",
       "    </tr>\n",
       "    <tr>\n",
       "      <th>1336</th>\n",
       "      <td>21</td>\n",
       "      <td>female</td>\n",
       "      <td>25.800</td>\n",
       "      <td>0</td>\n",
       "      <td>no</td>\n",
       "      <td>southwest</td>\n",
       "      <td>2007.94500</td>\n",
       "    </tr>\n",
       "    <tr>\n",
       "      <th>1337</th>\n",
       "      <td>61</td>\n",
       "      <td>female</td>\n",
       "      <td>29.070</td>\n",
       "      <td>0</td>\n",
       "      <td>yes</td>\n",
       "      <td>northwest</td>\n",
       "      <td>29141.36030</td>\n",
       "    </tr>\n",
       "  </tbody>\n",
       "</table>\n",
       "<p>1338 rows × 7 columns</p>\n",
       "</div>"
      ],
      "text/plain": [
       "      age     sex     bmi  children smoker     region      charges\n",
       "0      19  female  27.900         0    yes  southwest  16884.92400\n",
       "1      18    male  33.770         1     no  southeast   1725.55230\n",
       "2      28    male  33.000         3     no  southeast   4449.46200\n",
       "3      33    male  22.705         0     no  northwest  21984.47061\n",
       "4      32    male  28.880         0     no  northwest   3866.85520\n",
       "...   ...     ...     ...       ...    ...        ...          ...\n",
       "1333   50    male  30.970         3     no  northwest  10600.54830\n",
       "1334   18  female  31.920         0     no  northeast   2205.98080\n",
       "1335   18  female  36.850         0     no  southeast   1629.83350\n",
       "1336   21  female  25.800         0     no  southwest   2007.94500\n",
       "1337   61  female  29.070         0    yes  northwest  29141.36030\n",
       "\n",
       "[1338 rows x 7 columns]"
      ]
     },
     "execution_count": 42,
     "metadata": {},
     "output_type": "execute_result"
    }
   ],
   "source": [
    "insurance = pd.read_csv('insurance.csv')\n",
    "insurance"
   ]
  },
  {
   "cell_type": "code",
   "execution_count": 43,
   "metadata": {
    "ExecuteTime": {
     "end_time": "2021-06-25T16:54:40.595424Z",
     "start_time": "2021-06-25T16:54:40.546619Z"
    },
    "colab": {
     "base_uri": "https://localhost:8080/",
     "height": 423
    },
    "id": "bkm4Gmg8lseY",
    "outputId": "9de6c694-b928-46bc-e6fe-7e87ffbf06f8"
   },
   "outputs": [
    {
     "data": {
      "text/html": [
       "<div>\n",
       "<style scoped>\n",
       "    .dataframe tbody tr th:only-of-type {\n",
       "        vertical-align: middle;\n",
       "    }\n",
       "\n",
       "    .dataframe tbody tr th {\n",
       "        vertical-align: top;\n",
       "    }\n",
       "\n",
       "    .dataframe thead th {\n",
       "        text-align: right;\n",
       "    }\n",
       "</style>\n",
       "<table border=\"1\" class=\"dataframe\">\n",
       "  <thead>\n",
       "    <tr style=\"text-align: right;\">\n",
       "      <th></th>\n",
       "      <th>age</th>\n",
       "      <th>sex</th>\n",
       "      <th>bmi</th>\n",
       "      <th>children</th>\n",
       "      <th>smoker</th>\n",
       "      <th>region</th>\n",
       "      <th>charges</th>\n",
       "    </tr>\n",
       "  </thead>\n",
       "  <tbody>\n",
       "    <tr>\n",
       "      <th>0</th>\n",
       "      <td>19</td>\n",
       "      <td>female</td>\n",
       "      <td>27.900</td>\n",
       "      <td>0</td>\n",
       "      <td>1</td>\n",
       "      <td>southwest</td>\n",
       "      <td>16884.92400</td>\n",
       "    </tr>\n",
       "    <tr>\n",
       "      <th>1</th>\n",
       "      <td>18</td>\n",
       "      <td>male</td>\n",
       "      <td>33.770</td>\n",
       "      <td>1</td>\n",
       "      <td>0</td>\n",
       "      <td>southeast</td>\n",
       "      <td>1725.55230</td>\n",
       "    </tr>\n",
       "    <tr>\n",
       "      <th>2</th>\n",
       "      <td>28</td>\n",
       "      <td>male</td>\n",
       "      <td>33.000</td>\n",
       "      <td>3</td>\n",
       "      <td>0</td>\n",
       "      <td>southeast</td>\n",
       "      <td>4449.46200</td>\n",
       "    </tr>\n",
       "    <tr>\n",
       "      <th>3</th>\n",
       "      <td>33</td>\n",
       "      <td>male</td>\n",
       "      <td>22.705</td>\n",
       "      <td>0</td>\n",
       "      <td>0</td>\n",
       "      <td>northwest</td>\n",
       "      <td>21984.47061</td>\n",
       "    </tr>\n",
       "    <tr>\n",
       "      <th>4</th>\n",
       "      <td>32</td>\n",
       "      <td>male</td>\n",
       "      <td>28.880</td>\n",
       "      <td>0</td>\n",
       "      <td>0</td>\n",
       "      <td>northwest</td>\n",
       "      <td>3866.85520</td>\n",
       "    </tr>\n",
       "    <tr>\n",
       "      <th>...</th>\n",
       "      <td>...</td>\n",
       "      <td>...</td>\n",
       "      <td>...</td>\n",
       "      <td>...</td>\n",
       "      <td>...</td>\n",
       "      <td>...</td>\n",
       "      <td>...</td>\n",
       "    </tr>\n",
       "    <tr>\n",
       "      <th>1333</th>\n",
       "      <td>50</td>\n",
       "      <td>male</td>\n",
       "      <td>30.970</td>\n",
       "      <td>3</td>\n",
       "      <td>0</td>\n",
       "      <td>northwest</td>\n",
       "      <td>10600.54830</td>\n",
       "    </tr>\n",
       "    <tr>\n",
       "      <th>1334</th>\n",
       "      <td>18</td>\n",
       "      <td>female</td>\n",
       "      <td>31.920</td>\n",
       "      <td>0</td>\n",
       "      <td>0</td>\n",
       "      <td>northeast</td>\n",
       "      <td>2205.98080</td>\n",
       "    </tr>\n",
       "    <tr>\n",
       "      <th>1335</th>\n",
       "      <td>18</td>\n",
       "      <td>female</td>\n",
       "      <td>36.850</td>\n",
       "      <td>0</td>\n",
       "      <td>0</td>\n",
       "      <td>southeast</td>\n",
       "      <td>1629.83350</td>\n",
       "    </tr>\n",
       "    <tr>\n",
       "      <th>1336</th>\n",
       "      <td>21</td>\n",
       "      <td>female</td>\n",
       "      <td>25.800</td>\n",
       "      <td>0</td>\n",
       "      <td>0</td>\n",
       "      <td>southwest</td>\n",
       "      <td>2007.94500</td>\n",
       "    </tr>\n",
       "    <tr>\n",
       "      <th>1337</th>\n",
       "      <td>61</td>\n",
       "      <td>female</td>\n",
       "      <td>29.070</td>\n",
       "      <td>0</td>\n",
       "      <td>1</td>\n",
       "      <td>northwest</td>\n",
       "      <td>29141.36030</td>\n",
       "    </tr>\n",
       "  </tbody>\n",
       "</table>\n",
       "<p>1338 rows × 7 columns</p>\n",
       "</div>"
      ],
      "text/plain": [
       "      age     sex     bmi  children  smoker     region      charges\n",
       "0      19  female  27.900         0       1  southwest  16884.92400\n",
       "1      18    male  33.770         1       0  southeast   1725.55230\n",
       "2      28    male  33.000         3       0  southeast   4449.46200\n",
       "3      33    male  22.705         0       0  northwest  21984.47061\n",
       "4      32    male  28.880         0       0  northwest   3866.85520\n",
       "...   ...     ...     ...       ...     ...        ...          ...\n",
       "1333   50    male  30.970         3       0  northwest  10600.54830\n",
       "1334   18  female  31.920         0       0  northeast   2205.98080\n",
       "1335   18  female  36.850         0       0  southeast   1629.83350\n",
       "1336   21  female  25.800         0       0  southwest   2007.94500\n",
       "1337   61  female  29.070         0       1  northwest  29141.36030\n",
       "\n",
       "[1338 rows x 7 columns]"
      ]
     },
     "execution_count": 43,
     "metadata": {},
     "output_type": "execute_result"
    }
   ],
   "source": [
    "insurance['smoker'] = insurance['smoker'].apply(lambda x: 1 if x=='yes' else 0)\n",
    "insurance"
   ]
  },
  {
   "cell_type": "markdown",
   "metadata": {
    "id": "d98JSzf5lseZ"
   },
   "source": [
    "**2. Grouper les données par sexe & catégories d'âge (18-35, 36-60, >60). L'aggrégation que l'on cherche est une moyenne.**\n",
    "\n",
    "_Hint: il existe pleins de méthodes possible, une d'entre elles est d'ajouter une variable catégorique grâce à  `.apply()` avant de grouper dessus._"
   ]
  },
  {
   "cell_type": "code",
   "execution_count": 44,
   "metadata": {
    "ExecuteTime": {
     "end_time": "2021-06-25T16:54:41.126672Z",
     "start_time": "2021-06-25T16:54:41.116392Z"
    },
    "id": "uqerZ02WlseZ"
   },
   "outputs": [],
   "source": [
    "def categorize(val):\n",
    "    if val <= 35:\n",
    "        cat = '18-35'\n",
    "    elif (val > 35) & (val <= 60):\n",
    "        cat = '36-60'\n",
    "    else:\n",
    "        cat = '>60'\n",
    "    return cat"
   ]
  },
  {
   "cell_type": "code",
   "execution_count": 45,
   "metadata": {
    "ExecuteTime": {
     "end_time": "2021-06-25T16:54:41.296556Z",
     "start_time": "2021-06-25T16:54:41.266857Z"
    },
    "colab": {
     "base_uri": "https://localhost:8080/",
     "height": 423
    },
    "id": "A33cV5oKlsea",
    "outputId": "c229f7d4-5617-4811-abba-957c2fdb68bf",
    "scrolled": true
   },
   "outputs": [
    {
     "data": {
      "text/html": [
       "<div>\n",
       "<style scoped>\n",
       "    .dataframe tbody tr th:only-of-type {\n",
       "        vertical-align: middle;\n",
       "    }\n",
       "\n",
       "    .dataframe tbody tr th {\n",
       "        vertical-align: top;\n",
       "    }\n",
       "\n",
       "    .dataframe thead th {\n",
       "        text-align: right;\n",
       "    }\n",
       "</style>\n",
       "<table border=\"1\" class=\"dataframe\">\n",
       "  <thead>\n",
       "    <tr style=\"text-align: right;\">\n",
       "      <th></th>\n",
       "      <th>age</th>\n",
       "      <th>sex</th>\n",
       "      <th>bmi</th>\n",
       "      <th>children</th>\n",
       "      <th>smoker</th>\n",
       "      <th>region</th>\n",
       "      <th>charges</th>\n",
       "      <th>group</th>\n",
       "    </tr>\n",
       "  </thead>\n",
       "  <tbody>\n",
       "    <tr>\n",
       "      <th>0</th>\n",
       "      <td>19</td>\n",
       "      <td>female</td>\n",
       "      <td>27.900</td>\n",
       "      <td>0</td>\n",
       "      <td>1</td>\n",
       "      <td>southwest</td>\n",
       "      <td>16884.92400</td>\n",
       "      <td>18-35</td>\n",
       "    </tr>\n",
       "    <tr>\n",
       "      <th>1</th>\n",
       "      <td>18</td>\n",
       "      <td>male</td>\n",
       "      <td>33.770</td>\n",
       "      <td>1</td>\n",
       "      <td>0</td>\n",
       "      <td>southeast</td>\n",
       "      <td>1725.55230</td>\n",
       "      <td>18-35</td>\n",
       "    </tr>\n",
       "    <tr>\n",
       "      <th>2</th>\n",
       "      <td>28</td>\n",
       "      <td>male</td>\n",
       "      <td>33.000</td>\n",
       "      <td>3</td>\n",
       "      <td>0</td>\n",
       "      <td>southeast</td>\n",
       "      <td>4449.46200</td>\n",
       "      <td>18-35</td>\n",
       "    </tr>\n",
       "    <tr>\n",
       "      <th>3</th>\n",
       "      <td>33</td>\n",
       "      <td>male</td>\n",
       "      <td>22.705</td>\n",
       "      <td>0</td>\n",
       "      <td>0</td>\n",
       "      <td>northwest</td>\n",
       "      <td>21984.47061</td>\n",
       "      <td>18-35</td>\n",
       "    </tr>\n",
       "    <tr>\n",
       "      <th>4</th>\n",
       "      <td>32</td>\n",
       "      <td>male</td>\n",
       "      <td>28.880</td>\n",
       "      <td>0</td>\n",
       "      <td>0</td>\n",
       "      <td>northwest</td>\n",
       "      <td>3866.85520</td>\n",
       "      <td>18-35</td>\n",
       "    </tr>\n",
       "    <tr>\n",
       "      <th>...</th>\n",
       "      <td>...</td>\n",
       "      <td>...</td>\n",
       "      <td>...</td>\n",
       "      <td>...</td>\n",
       "      <td>...</td>\n",
       "      <td>...</td>\n",
       "      <td>...</td>\n",
       "      <td>...</td>\n",
       "    </tr>\n",
       "    <tr>\n",
       "      <th>1333</th>\n",
       "      <td>50</td>\n",
       "      <td>male</td>\n",
       "      <td>30.970</td>\n",
       "      <td>3</td>\n",
       "      <td>0</td>\n",
       "      <td>northwest</td>\n",
       "      <td>10600.54830</td>\n",
       "      <td>36-60</td>\n",
       "    </tr>\n",
       "    <tr>\n",
       "      <th>1334</th>\n",
       "      <td>18</td>\n",
       "      <td>female</td>\n",
       "      <td>31.920</td>\n",
       "      <td>0</td>\n",
       "      <td>0</td>\n",
       "      <td>northeast</td>\n",
       "      <td>2205.98080</td>\n",
       "      <td>18-35</td>\n",
       "    </tr>\n",
       "    <tr>\n",
       "      <th>1335</th>\n",
       "      <td>18</td>\n",
       "      <td>female</td>\n",
       "      <td>36.850</td>\n",
       "      <td>0</td>\n",
       "      <td>0</td>\n",
       "      <td>southeast</td>\n",
       "      <td>1629.83350</td>\n",
       "      <td>18-35</td>\n",
       "    </tr>\n",
       "    <tr>\n",
       "      <th>1336</th>\n",
       "      <td>21</td>\n",
       "      <td>female</td>\n",
       "      <td>25.800</td>\n",
       "      <td>0</td>\n",
       "      <td>0</td>\n",
       "      <td>southwest</td>\n",
       "      <td>2007.94500</td>\n",
       "      <td>18-35</td>\n",
       "    </tr>\n",
       "    <tr>\n",
       "      <th>1337</th>\n",
       "      <td>61</td>\n",
       "      <td>female</td>\n",
       "      <td>29.070</td>\n",
       "      <td>0</td>\n",
       "      <td>1</td>\n",
       "      <td>northwest</td>\n",
       "      <td>29141.36030</td>\n",
       "      <td>&gt;60</td>\n",
       "    </tr>\n",
       "  </tbody>\n",
       "</table>\n",
       "<p>1338 rows × 8 columns</p>\n",
       "</div>"
      ],
      "text/plain": [
       "      age     sex     bmi  children  smoker     region      charges  group\n",
       "0      19  female  27.900         0       1  southwest  16884.92400  18-35\n",
       "1      18    male  33.770         1       0  southeast   1725.55230  18-35\n",
       "2      28    male  33.000         3       0  southeast   4449.46200  18-35\n",
       "3      33    male  22.705         0       0  northwest  21984.47061  18-35\n",
       "4      32    male  28.880         0       0  northwest   3866.85520  18-35\n",
       "...   ...     ...     ...       ...     ...        ...          ...    ...\n",
       "1333   50    male  30.970         3       0  northwest  10600.54830  36-60\n",
       "1334   18  female  31.920         0       0  northeast   2205.98080  18-35\n",
       "1335   18  female  36.850         0       0  southeast   1629.83350  18-35\n",
       "1336   21  female  25.800         0       0  southwest   2007.94500  18-35\n",
       "1337   61  female  29.070         0       1  northwest  29141.36030    >60\n",
       "\n",
       "[1338 rows x 8 columns]"
      ]
     },
     "execution_count": 45,
     "metadata": {},
     "output_type": "execute_result"
    }
   ],
   "source": [
    "insurance['group'] = insurance['age'].apply(categorize)\n",
    "insurance"
   ]
  },
  {
   "cell_type": "code",
   "execution_count": 46,
   "metadata": {
    "ExecuteTime": {
     "end_time": "2021-06-25T16:55:51.241047Z",
     "start_time": "2021-06-25T16:55:51.198447Z"
    },
    "colab": {
     "base_uri": "https://localhost:8080/",
     "height": 269
    },
    "id": "e74gbWGylseb",
    "outputId": "8da143e9-f932-4417-fe5f-65531e8a781e"
   },
   "outputs": [
    {
     "data": {
      "text/html": [
       "<div>\n",
       "<style scoped>\n",
       "    .dataframe tbody tr th:only-of-type {\n",
       "        vertical-align: middle;\n",
       "    }\n",
       "\n",
       "    .dataframe tbody tr th {\n",
       "        vertical-align: top;\n",
       "    }\n",
       "\n",
       "    .dataframe thead th {\n",
       "        text-align: right;\n",
       "    }\n",
       "</style>\n",
       "<table border=\"1\" class=\"dataframe\">\n",
       "  <thead>\n",
       "    <tr style=\"text-align: right;\">\n",
       "      <th></th>\n",
       "      <th></th>\n",
       "      <th>age</th>\n",
       "      <th>count</th>\n",
       "      <th>bmi</th>\n",
       "      <th>children</th>\n",
       "      <th>smoker</th>\n",
       "      <th>charges</th>\n",
       "    </tr>\n",
       "    <tr>\n",
       "      <th>sex</th>\n",
       "      <th>group</th>\n",
       "      <th></th>\n",
       "      <th></th>\n",
       "      <th></th>\n",
       "      <th></th>\n",
       "      <th></th>\n",
       "      <th></th>\n",
       "    </tr>\n",
       "  </thead>\n",
       "  <tbody>\n",
       "    <tr>\n",
       "      <th rowspan=\"3\" valign=\"top\">female</th>\n",
       "      <th>18-35</th>\n",
       "      <td>25.280576</td>\n",
       "      <td>278</td>\n",
       "      <td>29.776763</td>\n",
       "      <td>0.899281</td>\n",
       "      <td>0.179856</td>\n",
       "      <td>9048.206973</td>\n",
       "    </tr>\n",
       "    <tr>\n",
       "      <th>36-60</th>\n",
       "      <td>48.032641</td>\n",
       "      <td>337</td>\n",
       "      <td>30.672122</td>\n",
       "      <td>1.272997</td>\n",
       "      <td>0.157270</td>\n",
       "      <td>14286.243425</td>\n",
       "    </tr>\n",
       "    <tr>\n",
       "      <th>&gt;60</th>\n",
       "      <td>62.468085</td>\n",
       "      <td>47</td>\n",
       "      <td>31.821809</td>\n",
       "      <td>0.680851</td>\n",
       "      <td>0.255319</td>\n",
       "      <td>21089.268552</td>\n",
       "    </tr>\n",
       "    <tr>\n",
       "      <th rowspan=\"3\" valign=\"top\">male</th>\n",
       "      <th>18-35</th>\n",
       "      <td>25.179054</td>\n",
       "      <td>296</td>\n",
       "      <td>30.422736</td>\n",
       "      <td>1.033784</td>\n",
       "      <td>0.239865</td>\n",
       "      <td>10398.408767</td>\n",
       "    </tr>\n",
       "    <tr>\n",
       "      <th>36-60</th>\n",
       "      <td>47.931548</td>\n",
       "      <td>336</td>\n",
       "      <td>31.118586</td>\n",
       "      <td>1.250000</td>\n",
       "      <td>0.232143</td>\n",
       "      <td>16164.531410</td>\n",
       "    </tr>\n",
       "    <tr>\n",
       "      <th>&gt;60</th>\n",
       "      <td>62.500000</td>\n",
       "      <td>44</td>\n",
       "      <td>33.104091</td>\n",
       "      <td>0.636364</td>\n",
       "      <td>0.227273</td>\n",
       "      <td>21035.278347</td>\n",
       "    </tr>\n",
       "  </tbody>\n",
       "</table>\n",
       "</div>"
      ],
      "text/plain": [
       "                    age  count        bmi  children    smoker       charges\n",
       "sex    group                                                               \n",
       "female 18-35  25.280576    278  29.776763  0.899281  0.179856   9048.206973\n",
       "       36-60  48.032641    337  30.672122  1.272997  0.157270  14286.243425\n",
       "       >60    62.468085     47  31.821809  0.680851  0.255319  21089.268552\n",
       "male   18-35  25.179054    296  30.422736  1.033784  0.239865  10398.408767\n",
       "       36-60  47.931548    336  31.118586  1.250000  0.232143  16164.531410\n",
       "       >60    62.500000     44  33.104091  0.636364  0.227273  21035.278347"
      ]
     },
     "execution_count": 46,
     "metadata": {},
     "output_type": "execute_result"
    }
   ],
   "source": [
    "# méthode simple\n",
    "insurance.groupby(['sex', 'group']).mean()\n",
    "\n",
    "# autre méthode pour trouver aussi le compte.\n",
    "insurance_gp = insurance.groupby(['sex','group']).agg({'age': ['mean', 'count'],\n",
    "                                            'bmi':'mean', \n",
    "                                            'children':'mean',\n",
    "                                            'smoker':'mean',\n",
    "                                            'charges':'mean'})\n",
    "insurance_gp.columns = ['age', 'count', 'bmi', 'children', 'smoker', 'charges']\n",
    "insurance_gp"
   ]
  },
  {
   "cell_type": "markdown",
   "metadata": {
    "id": "0-8nxzGflsec"
   },
   "source": [
    "**3. Faire la même chose pour le sexe et la colonne fumeurs.**"
   ]
  },
  {
   "cell_type": "code",
   "execution_count": 47,
   "metadata": {
    "ExecuteTime": {
     "end_time": "2021-06-25T17:10:06.010132Z",
     "start_time": "2021-06-25T17:10:05.978908Z"
    },
    "colab": {
     "base_uri": "https://localhost:8080/",
     "height": 206
    },
    "id": "shKUx34Tlsec",
    "outputId": "18d9b842-345c-40c1-a6a4-e1166e321b5f"
   },
   "outputs": [
    {
     "data": {
      "text/html": [
       "<div>\n",
       "<style scoped>\n",
       "    .dataframe tbody tr th:only-of-type {\n",
       "        vertical-align: middle;\n",
       "    }\n",
       "\n",
       "    .dataframe tbody tr th {\n",
       "        vertical-align: top;\n",
       "    }\n",
       "\n",
       "    .dataframe thead th {\n",
       "        text-align: right;\n",
       "    }\n",
       "</style>\n",
       "<table border=\"1\" class=\"dataframe\">\n",
       "  <thead>\n",
       "    <tr style=\"text-align: right;\">\n",
       "      <th></th>\n",
       "      <th></th>\n",
       "      <th>bmi</th>\n",
       "      <th>count</th>\n",
       "      <th>children</th>\n",
       "      <th>charges</th>\n",
       "    </tr>\n",
       "    <tr>\n",
       "      <th>sex</th>\n",
       "      <th>smoker</th>\n",
       "      <th></th>\n",
       "      <th></th>\n",
       "      <th></th>\n",
       "      <th></th>\n",
       "    </tr>\n",
       "  </thead>\n",
       "  <tbody>\n",
       "    <tr>\n",
       "      <th rowspan=\"2\" valign=\"top\">female</th>\n",
       "      <th>0</th>\n",
       "      <td>30.539525</td>\n",
       "      <td>547</td>\n",
       "      <td>1.087751</td>\n",
       "      <td>8762.297300</td>\n",
       "    </tr>\n",
       "    <tr>\n",
       "      <th>1</th>\n",
       "      <td>29.608261</td>\n",
       "      <td>115</td>\n",
       "      <td>1.008696</td>\n",
       "      <td>30678.996276</td>\n",
       "    </tr>\n",
       "    <tr>\n",
       "      <th rowspan=\"2\" valign=\"top\">male</th>\n",
       "      <th>0</th>\n",
       "      <td>30.770580</td>\n",
       "      <td>517</td>\n",
       "      <td>1.092843</td>\n",
       "      <td>8087.204731</td>\n",
       "    </tr>\n",
       "    <tr>\n",
       "      <th>1</th>\n",
       "      <td>31.504182</td>\n",
       "      <td>159</td>\n",
       "      <td>1.188679</td>\n",
       "      <td>33042.005975</td>\n",
       "    </tr>\n",
       "  </tbody>\n",
       "</table>\n",
       "</div>"
      ],
      "text/plain": [
       "                     bmi  count  children       charges\n",
       "sex    smoker                                          \n",
       "female 0       30.539525    547  1.087751   8762.297300\n",
       "       1       29.608261    115  1.008696  30678.996276\n",
       "male   0       30.770580    517  1.092843   8087.204731\n",
       "       1       31.504182    159  1.188679  33042.005975"
      ]
     },
     "execution_count": 47,
     "metadata": {},
     "output_type": "execute_result"
    }
   ],
   "source": [
    "insurance_gp = insurance.groupby(['sex','smoker']).agg({'bmi':['mean', 'count'], \n",
    "                                            'children':'mean',\n",
    "                                            'charges':'mean'})\n",
    "insurance_gp.columns = ['bmi', 'count', 'children', 'charges']\n",
    "insurance_gp"
   ]
  },
  {
   "cell_type": "markdown",
   "metadata": {
    "id": "qTuLQ-1Ilsec"
   },
   "source": [
    "**4. Tracer un line plot de la moyenne de `bmi` par age, pour les hommes et les femmes (tous les âges sur l'axe x, moyenne bmi pour les hommes et les femmes sur l'axe y).**\n",
    "\n",
    "_Hint: vous aurez peut-être besoin de faire un groupby et en suite un `.pivot()` (ce n'est pas la seule méthode)._"
   ]
  },
  {
   "cell_type": "code",
   "execution_count": 48,
   "metadata": {
    "colab": {
     "base_uri": "https://localhost:8080/",
     "height": 423
    },
    "id": "_qFDDaDDyr9x",
    "outputId": "f7110920-5633-433f-e381-f4ee9a1a1f9e"
   },
   "outputs": [
    {
     "data": {
      "text/html": [
       "<div>\n",
       "<style scoped>\n",
       "    .dataframe tbody tr th:only-of-type {\n",
       "        vertical-align: middle;\n",
       "    }\n",
       "\n",
       "    .dataframe tbody tr th {\n",
       "        vertical-align: top;\n",
       "    }\n",
       "\n",
       "    .dataframe thead th {\n",
       "        text-align: right;\n",
       "    }\n",
       "</style>\n",
       "<table border=\"1\" class=\"dataframe\">\n",
       "  <thead>\n",
       "    <tr style=\"text-align: right;\">\n",
       "      <th></th>\n",
       "      <th>age</th>\n",
       "      <th>sex</th>\n",
       "      <th>bmi</th>\n",
       "      <th>children</th>\n",
       "      <th>smoker</th>\n",
       "      <th>region</th>\n",
       "      <th>charges</th>\n",
       "      <th>group</th>\n",
       "    </tr>\n",
       "  </thead>\n",
       "  <tbody>\n",
       "    <tr>\n",
       "      <th>0</th>\n",
       "      <td>19</td>\n",
       "      <td>female</td>\n",
       "      <td>27.900</td>\n",
       "      <td>0</td>\n",
       "      <td>1</td>\n",
       "      <td>southwest</td>\n",
       "      <td>16884.92400</td>\n",
       "      <td>18-35</td>\n",
       "    </tr>\n",
       "    <tr>\n",
       "      <th>1</th>\n",
       "      <td>18</td>\n",
       "      <td>male</td>\n",
       "      <td>33.770</td>\n",
       "      <td>1</td>\n",
       "      <td>0</td>\n",
       "      <td>southeast</td>\n",
       "      <td>1725.55230</td>\n",
       "      <td>18-35</td>\n",
       "    </tr>\n",
       "    <tr>\n",
       "      <th>2</th>\n",
       "      <td>28</td>\n",
       "      <td>male</td>\n",
       "      <td>33.000</td>\n",
       "      <td>3</td>\n",
       "      <td>0</td>\n",
       "      <td>southeast</td>\n",
       "      <td>4449.46200</td>\n",
       "      <td>18-35</td>\n",
       "    </tr>\n",
       "    <tr>\n",
       "      <th>3</th>\n",
       "      <td>33</td>\n",
       "      <td>male</td>\n",
       "      <td>22.705</td>\n",
       "      <td>0</td>\n",
       "      <td>0</td>\n",
       "      <td>northwest</td>\n",
       "      <td>21984.47061</td>\n",
       "      <td>18-35</td>\n",
       "    </tr>\n",
       "    <tr>\n",
       "      <th>4</th>\n",
       "      <td>32</td>\n",
       "      <td>male</td>\n",
       "      <td>28.880</td>\n",
       "      <td>0</td>\n",
       "      <td>0</td>\n",
       "      <td>northwest</td>\n",
       "      <td>3866.85520</td>\n",
       "      <td>18-35</td>\n",
       "    </tr>\n",
       "    <tr>\n",
       "      <th>...</th>\n",
       "      <td>...</td>\n",
       "      <td>...</td>\n",
       "      <td>...</td>\n",
       "      <td>...</td>\n",
       "      <td>...</td>\n",
       "      <td>...</td>\n",
       "      <td>...</td>\n",
       "      <td>...</td>\n",
       "    </tr>\n",
       "    <tr>\n",
       "      <th>1333</th>\n",
       "      <td>50</td>\n",
       "      <td>male</td>\n",
       "      <td>30.970</td>\n",
       "      <td>3</td>\n",
       "      <td>0</td>\n",
       "      <td>northwest</td>\n",
       "      <td>10600.54830</td>\n",
       "      <td>36-60</td>\n",
       "    </tr>\n",
       "    <tr>\n",
       "      <th>1334</th>\n",
       "      <td>18</td>\n",
       "      <td>female</td>\n",
       "      <td>31.920</td>\n",
       "      <td>0</td>\n",
       "      <td>0</td>\n",
       "      <td>northeast</td>\n",
       "      <td>2205.98080</td>\n",
       "      <td>18-35</td>\n",
       "    </tr>\n",
       "    <tr>\n",
       "      <th>1335</th>\n",
       "      <td>18</td>\n",
       "      <td>female</td>\n",
       "      <td>36.850</td>\n",
       "      <td>0</td>\n",
       "      <td>0</td>\n",
       "      <td>southeast</td>\n",
       "      <td>1629.83350</td>\n",
       "      <td>18-35</td>\n",
       "    </tr>\n",
       "    <tr>\n",
       "      <th>1336</th>\n",
       "      <td>21</td>\n",
       "      <td>female</td>\n",
       "      <td>25.800</td>\n",
       "      <td>0</td>\n",
       "      <td>0</td>\n",
       "      <td>southwest</td>\n",
       "      <td>2007.94500</td>\n",
       "      <td>18-35</td>\n",
       "    </tr>\n",
       "    <tr>\n",
       "      <th>1337</th>\n",
       "      <td>61</td>\n",
       "      <td>female</td>\n",
       "      <td>29.070</td>\n",
       "      <td>0</td>\n",
       "      <td>1</td>\n",
       "      <td>northwest</td>\n",
       "      <td>29141.36030</td>\n",
       "      <td>&gt;60</td>\n",
       "    </tr>\n",
       "  </tbody>\n",
       "</table>\n",
       "<p>1338 rows × 8 columns</p>\n",
       "</div>"
      ],
      "text/plain": [
       "      age     sex     bmi  children  smoker     region      charges  group\n",
       "0      19  female  27.900         0       1  southwest  16884.92400  18-35\n",
       "1      18    male  33.770         1       0  southeast   1725.55230  18-35\n",
       "2      28    male  33.000         3       0  southeast   4449.46200  18-35\n",
       "3      33    male  22.705         0       0  northwest  21984.47061  18-35\n",
       "4      32    male  28.880         0       0  northwest   3866.85520  18-35\n",
       "...   ...     ...     ...       ...     ...        ...          ...    ...\n",
       "1333   50    male  30.970         3       0  northwest  10600.54830  36-60\n",
       "1334   18  female  31.920         0       0  northeast   2205.98080  18-35\n",
       "1335   18  female  36.850         0       0  southeast   1629.83350  18-35\n",
       "1336   21  female  25.800         0       0  southwest   2007.94500  18-35\n",
       "1337   61  female  29.070         0       1  northwest  29141.36030    >60\n",
       "\n",
       "[1338 rows x 8 columns]"
      ]
     },
     "execution_count": 48,
     "metadata": {},
     "output_type": "execute_result"
    }
   ],
   "source": [
    "insurance"
   ]
  },
  {
   "cell_type": "code",
   "execution_count": 49,
   "metadata": {
    "ExecuteTime": {
     "end_time": "2021-06-25T17:15:59.742283Z",
     "start_time": "2021-06-25T17:15:59.705976Z"
    },
    "id": "30gOALgplsed"
   },
   "outputs": [],
   "source": [
    "insurance_age = insurance.groupby(['age', 'sex']).mean()['bmi'].reset_index()\n",
    "#\n",
    "# insurance_age.head()"
   ]
  },
  {
   "cell_type": "code",
   "execution_count": 50,
   "metadata": {
    "ExecuteTime": {
     "end_time": "2021-06-25T17:16:00.112596Z",
     "start_time": "2021-06-25T17:16:00.069502Z"
    },
    "colab": {
     "base_uri": "https://localhost:8080/",
     "height": 1000
    },
    "id": "CMA0rSQUlsed",
    "outputId": "e7ada21e-d876-4524-e081-93f467a04fc9",
    "scrolled": true
   },
   "outputs": [
    {
     "data": {
      "text/html": [
       "<div>\n",
       "<style scoped>\n",
       "    .dataframe tbody tr th:only-of-type {\n",
       "        vertical-align: middle;\n",
       "    }\n",
       "\n",
       "    .dataframe tbody tr th {\n",
       "        vertical-align: top;\n",
       "    }\n",
       "\n",
       "    .dataframe thead th {\n",
       "        text-align: right;\n",
       "    }\n",
       "</style>\n",
       "<table border=\"1\" class=\"dataframe\">\n",
       "  <thead>\n",
       "    <tr style=\"text-align: right;\">\n",
       "      <th>sex</th>\n",
       "      <th>age</th>\n",
       "      <th>female</th>\n",
       "      <th>male</th>\n",
       "    </tr>\n",
       "  </thead>\n",
       "  <tbody>\n",
       "    <tr>\n",
       "      <th>0</th>\n",
       "      <td>18</td>\n",
       "      <td>32.930909</td>\n",
       "      <td>29.855139</td>\n",
       "    </tr>\n",
       "    <tr>\n",
       "      <th>1</th>\n",
       "      <td>19</td>\n",
       "      <td>29.051667</td>\n",
       "      <td>28.168143</td>\n",
       "    </tr>\n",
       "    <tr>\n",
       "      <th>2</th>\n",
       "      <td>20</td>\n",
       "      <td>29.421429</td>\n",
       "      <td>31.763333</td>\n",
       "    </tr>\n",
       "    <tr>\n",
       "      <th>3</th>\n",
       "      <td>21</td>\n",
       "      <td>27.944615</td>\n",
       "      <td>28.394667</td>\n",
       "    </tr>\n",
       "    <tr>\n",
       "      <th>4</th>\n",
       "      <td>22</td>\n",
       "      <td>28.859231</td>\n",
       "      <td>33.019000</td>\n",
       "    </tr>\n",
       "    <tr>\n",
       "      <th>5</th>\n",
       "      <td>23</td>\n",
       "      <td>31.887143</td>\n",
       "      <td>31.021786</td>\n",
       "    </tr>\n",
       "    <tr>\n",
       "      <th>6</th>\n",
       "      <td>24</td>\n",
       "      <td>28.200357</td>\n",
       "      <td>30.085000</td>\n",
       "    </tr>\n",
       "    <tr>\n",
       "      <th>7</th>\n",
       "      <td>25</td>\n",
       "      <td>30.086538</td>\n",
       "      <td>29.353667</td>\n",
       "    </tr>\n",
       "    <tr>\n",
       "      <th>8</th>\n",
       "      <td>26</td>\n",
       "      <td>28.901538</td>\n",
       "      <td>29.886000</td>\n",
       "    </tr>\n",
       "    <tr>\n",
       "      <th>9</th>\n",
       "      <td>27</td>\n",
       "      <td>27.401786</td>\n",
       "      <td>31.265357</td>\n",
       "    </tr>\n",
       "    <tr>\n",
       "      <th>10</th>\n",
       "      <td>28</td>\n",
       "      <td>28.449643</td>\n",
       "      <td>30.514643</td>\n",
       "    </tr>\n",
       "    <tr>\n",
       "      <th>11</th>\n",
       "      <td>29</td>\n",
       "      <td>27.779231</td>\n",
       "      <td>30.872500</td>\n",
       "    </tr>\n",
       "    <tr>\n",
       "      <th>12</th>\n",
       "      <td>30</td>\n",
       "      <td>29.204615</td>\n",
       "      <td>31.813929</td>\n",
       "    </tr>\n",
       "    <tr>\n",
       "      <th>13</th>\n",
       "      <td>31</td>\n",
       "      <td>29.508846</td>\n",
       "      <td>30.298571</td>\n",
       "    </tr>\n",
       "    <tr>\n",
       "      <th>14</th>\n",
       "      <td>32</td>\n",
       "      <td>30.134615</td>\n",
       "      <td>33.060769</td>\n",
       "    </tr>\n",
       "    <tr>\n",
       "      <th>15</th>\n",
       "      <td>33</td>\n",
       "      <td>30.683462</td>\n",
       "      <td>31.642692</td>\n",
       "    </tr>\n",
       "    <tr>\n",
       "      <th>16</th>\n",
       "      <td>34</td>\n",
       "      <td>29.584231</td>\n",
       "      <td>30.963846</td>\n",
       "    </tr>\n",
       "    <tr>\n",
       "      <th>17</th>\n",
       "      <td>35</td>\n",
       "      <td>32.711667</td>\n",
       "      <td>30.179231</td>\n",
       "    </tr>\n",
       "    <tr>\n",
       "      <th>18</th>\n",
       "      <td>36</td>\n",
       "      <td>26.337917</td>\n",
       "      <td>32.176923</td>\n",
       "    </tr>\n",
       "    <tr>\n",
       "      <th>19</th>\n",
       "      <td>37</td>\n",
       "      <td>30.527500</td>\n",
       "      <td>31.852692</td>\n",
       "    </tr>\n",
       "    <tr>\n",
       "      <th>20</th>\n",
       "      <td>38</td>\n",
       "      <td>30.246154</td>\n",
       "      <td>27.642917</td>\n",
       "    </tr>\n",
       "    <tr>\n",
       "      <th>21</th>\n",
       "      <td>39</td>\n",
       "      <td>28.547308</td>\n",
       "      <td>31.386667</td>\n",
       "    </tr>\n",
       "    <tr>\n",
       "      <th>22</th>\n",
       "      <td>40</td>\n",
       "      <td>29.796538</td>\n",
       "      <td>30.457143</td>\n",
       "    </tr>\n",
       "    <tr>\n",
       "      <th>23</th>\n",
       "      <td>41</td>\n",
       "      <td>31.502308</td>\n",
       "      <td>31.511071</td>\n",
       "    </tr>\n",
       "    <tr>\n",
       "      <th>24</th>\n",
       "      <td>42</td>\n",
       "      <td>31.286923</td>\n",
       "      <td>29.437857</td>\n",
       "    </tr>\n",
       "    <tr>\n",
       "      <th>25</th>\n",
       "      <td>43</td>\n",
       "      <td>30.597500</td>\n",
       "      <td>29.781154</td>\n",
       "    </tr>\n",
       "    <tr>\n",
       "      <th>26</th>\n",
       "      <td>44</td>\n",
       "      <td>30.932500</td>\n",
       "      <td>30.749231</td>\n",
       "    </tr>\n",
       "    <tr>\n",
       "      <th>27</th>\n",
       "      <td>45</td>\n",
       "      <td>31.923571</td>\n",
       "      <td>27.777333</td>\n",
       "    </tr>\n",
       "    <tr>\n",
       "      <th>28</th>\n",
       "      <td>46</td>\n",
       "      <td>31.048571</td>\n",
       "      <td>31.613667</td>\n",
       "    </tr>\n",
       "    <tr>\n",
       "      <th>29</th>\n",
       "      <td>47</td>\n",
       "      <td>30.423000</td>\n",
       "      <td>30.922857</td>\n",
       "    </tr>\n",
       "    <tr>\n",
       "      <th>30</th>\n",
       "      <td>48</td>\n",
       "      <td>30.986667</td>\n",
       "      <td>32.931786</td>\n",
       "    </tr>\n",
       "    <tr>\n",
       "      <th>31</th>\n",
       "      <td>49</td>\n",
       "      <td>30.478929</td>\n",
       "      <td>30.148929</td>\n",
       "    </tr>\n",
       "    <tr>\n",
       "      <th>32</th>\n",
       "      <td>50</td>\n",
       "      <td>30.553929</td>\n",
       "      <td>31.672000</td>\n",
       "    </tr>\n",
       "    <tr>\n",
       "      <th>33</th>\n",
       "      <td>51</td>\n",
       "      <td>32.616000</td>\n",
       "      <td>30.774643</td>\n",
       "    </tr>\n",
       "    <tr>\n",
       "      <th>34</th>\n",
       "      <td>52</td>\n",
       "      <td>31.896333</td>\n",
       "      <td>34.050000</td>\n",
       "    </tr>\n",
       "    <tr>\n",
       "      <th>35</th>\n",
       "      <td>53</td>\n",
       "      <td>30.631071</td>\n",
       "      <td>30.090714</td>\n",
       "    </tr>\n",
       "    <tr>\n",
       "      <th>36</th>\n",
       "      <td>54</td>\n",
       "      <td>31.881786</td>\n",
       "      <td>30.586786</td>\n",
       "    </tr>\n",
       "    <tr>\n",
       "      <th>37</th>\n",
       "      <td>55</td>\n",
       "      <td>31.625385</td>\n",
       "      <td>32.274615</td>\n",
       "    </tr>\n",
       "    <tr>\n",
       "      <th>38</th>\n",
       "      <td>56</td>\n",
       "      <td>31.661538</td>\n",
       "      <td>31.540385</td>\n",
       "    </tr>\n",
       "    <tr>\n",
       "      <th>39</th>\n",
       "      <td>57</td>\n",
       "      <td>28.330769</td>\n",
       "      <td>33.358077</td>\n",
       "    </tr>\n",
       "    <tr>\n",
       "      <th>40</th>\n",
       "      <td>58</td>\n",
       "      <td>31.809231</td>\n",
       "      <td>33.702917</td>\n",
       "    </tr>\n",
       "    <tr>\n",
       "      <th>41</th>\n",
       "      <td>59</td>\n",
       "      <td>30.695000</td>\n",
       "      <td>30.438750</td>\n",
       "    </tr>\n",
       "    <tr>\n",
       "      <th>42</th>\n",
       "      <td>60</td>\n",
       "      <td>29.191364</td>\n",
       "      <td>31.379167</td>\n",
       "    </tr>\n",
       "    <tr>\n",
       "      <th>43</th>\n",
       "      <td>61</td>\n",
       "      <td>31.273750</td>\n",
       "      <td>33.938636</td>\n",
       "    </tr>\n",
       "    <tr>\n",
       "      <th>44</th>\n",
       "      <td>62</td>\n",
       "      <td>32.966250</td>\n",
       "      <td>31.662273</td>\n",
       "    </tr>\n",
       "    <tr>\n",
       "      <th>45</th>\n",
       "      <td>63</td>\n",
       "      <td>30.067917</td>\n",
       "      <td>33.947727</td>\n",
       "    </tr>\n",
       "    <tr>\n",
       "      <th>46</th>\n",
       "      <td>64</td>\n",
       "      <td>33.084545</td>\n",
       "      <td>32.867727</td>\n",
       "    </tr>\n",
       "  </tbody>\n",
       "</table>\n",
       "</div>"
      ],
      "text/plain": [
       "sex  age     female       male\n",
       "0     18  32.930909  29.855139\n",
       "1     19  29.051667  28.168143\n",
       "2     20  29.421429  31.763333\n",
       "3     21  27.944615  28.394667\n",
       "4     22  28.859231  33.019000\n",
       "5     23  31.887143  31.021786\n",
       "6     24  28.200357  30.085000\n",
       "7     25  30.086538  29.353667\n",
       "8     26  28.901538  29.886000\n",
       "9     27  27.401786  31.265357\n",
       "10    28  28.449643  30.514643\n",
       "11    29  27.779231  30.872500\n",
       "12    30  29.204615  31.813929\n",
       "13    31  29.508846  30.298571\n",
       "14    32  30.134615  33.060769\n",
       "15    33  30.683462  31.642692\n",
       "16    34  29.584231  30.963846\n",
       "17    35  32.711667  30.179231\n",
       "18    36  26.337917  32.176923\n",
       "19    37  30.527500  31.852692\n",
       "20    38  30.246154  27.642917\n",
       "21    39  28.547308  31.386667\n",
       "22    40  29.796538  30.457143\n",
       "23    41  31.502308  31.511071\n",
       "24    42  31.286923  29.437857\n",
       "25    43  30.597500  29.781154\n",
       "26    44  30.932500  30.749231\n",
       "27    45  31.923571  27.777333\n",
       "28    46  31.048571  31.613667\n",
       "29    47  30.423000  30.922857\n",
       "30    48  30.986667  32.931786\n",
       "31    49  30.478929  30.148929\n",
       "32    50  30.553929  31.672000\n",
       "33    51  32.616000  30.774643\n",
       "34    52  31.896333  34.050000\n",
       "35    53  30.631071  30.090714\n",
       "36    54  31.881786  30.586786\n",
       "37    55  31.625385  32.274615\n",
       "38    56  31.661538  31.540385\n",
       "39    57  28.330769  33.358077\n",
       "40    58  31.809231  33.702917\n",
       "41    59  30.695000  30.438750\n",
       "42    60  29.191364  31.379167\n",
       "43    61  31.273750  33.938636\n",
       "44    62  32.966250  31.662273\n",
       "45    63  30.067917  33.947727\n",
       "46    64  33.084545  32.867727"
      ]
     },
     "execution_count": 50,
     "metadata": {},
     "output_type": "execute_result"
    }
   ],
   "source": [
    "insurance_age = insurance_age.pivot(index='age', columns='sex', values='bmi').reset_index()\n",
    "# insurance_age = insurance_age.rename(index={'sex':''})\n",
    "insurance_age"
   ]
  },
  {
   "cell_type": "code",
   "execution_count": 51,
   "metadata": {
    "ExecuteTime": {
     "end_time": "2021-06-25T17:16:01.042033Z",
     "start_time": "2021-06-25T17:16:00.734400Z"
    },
    "colab": {
     "base_uri": "https://localhost:8080/",
     "height": 279
    },
    "id": "DpTx11oolsee",
    "outputId": "cc9da852-da55-4ab0-9681-3fe547b3f65a",
    "scrolled": false
   },
   "outputs": [
    {
     "data": {
      "image/png": "[encoded data removed]",
      "text/plain": [
       "<Figure size 432x288 with 1 Axes>"
      ]
     },
     "metadata": {
      "needs_background": "light"
     },
     "output_type": "display_data"
    }
   ],
   "source": [
    "insurance_age.plot(x='age');"
   ]
  },
  {
   "cell_type": "markdown",
   "metadata": {
    "id": "LxZ31GS0lsee"
   },
   "source": [
    "**5. Calculer la correlation entre les variables numériques et tracer une heatmap de toutes ces valeurs. Commentez**"
   ]
  },
  {
   "cell_type": "code",
   "execution_count": 52,
   "metadata": {
    "ExecuteTime": {
     "end_time": "2021-06-25T17:17:46.097430Z",
     "start_time": "2021-06-25T17:17:45.747386Z"
    },
    "colab": {
     "base_uri": "https://localhost:8080/",
     "height": 269
    },
    "id": "7FN_kxNslsee",
    "outputId": "baef8ed4-e184-41d6-f860-fe2c71d444fa"
   },
   "outputs": [
    {
     "data": {
      "image/png": "[encoded data removed]",
      "text/plain": [
       "<Figure size 432x288 with 2 Axes>"
      ]
     },
     "metadata": {
      "needs_background": "light"
     },
     "output_type": "display_data"
    }
   ],
   "source": [
    "import seaborn as sns\n",
    "sns.heatmap(insurance.corr(), annot=True);"
   ]
  },
  {
   "cell_type": "markdown",
   "metadata": {
    "id": "LTeSyIaDlsef"
   },
   "source": [
    "**6. Tracer deux boxplots: smokers' charges vs. non-smokers' charges.**\n",
    "\n",
    "_Hint: si vous utilisez seaborn, essayez l'argument `kind='violin'`!_"
   ]
  },
  {
   "cell_type": "code",
   "execution_count": 53,
   "metadata": {
    "ExecuteTime": {
     "end_time": "2021-06-25T17:15:04.693335Z",
     "start_time": "2021-06-25T17:15:04.327792Z"
    },
    "colab": {
     "base_uri": "https://localhost:8080/",
     "height": 369
    },
    "id": "VoFDRLkVlseg",
    "outputId": "664083f1-01cf-4b44-e315-ec70f8d0adfd"
   },
   "outputs": [
    {
     "data": {
      "image/png": "[encoded data removed]",
      "text/plain": [
       "<Figure size 360x360 with 1 Axes>"
      ]
     },
     "metadata": {
      "needs_background": "light"
     },
     "output_type": "display_data"
    }
   ],
   "source": [
    "smokers = insurance[['smoker', 'charges']]\n",
    "sns.catplot(data=smokers, x='smoker', y='charges', kind='violin');"
   ]
  },
  {
   "cell_type": "markdown",
   "metadata": {
    "id": "oi-yaTCwlseg"
   },
   "source": [
    "**7. Extraire les valeurs de `charges` pour les groupes de fumeurs et de non-fumeurs en deux listes.**"
   ]
  },
  {
   "cell_type": "code",
   "execution_count": 54,
   "metadata": {
    "ExecuteTime": {
     "end_time": "2021-06-25T17:20:27.436634Z",
     "start_time": "2021-06-25T17:20:27.428531Z"
    },
    "id": "IkBINP9klseh"
   },
   "outputs": [],
   "source": [
    "smokers = insurance[insurance['smoker'] == 1]['charges']\n",
    "non_smokers = insurance[insurance['smoker'] == 0]['charges']"
   ]
  },
  {
   "cell_type": "markdown",
   "metadata": {
    "id": "y7x9oKXPlseh"
   },
   "source": [
    "**[BONUS] 8. Calculer un intervalle de confiance 95% bootstrappé pour la moyenne de chaque groupe.**\n",
    "\n",
    "_Hint: vous pouvez utiliser la fonction créée dans l'exercice précédent (bonus question n°6)._"
   ]
  },
  {
   "cell_type": "code",
   "execution_count": 55,
   "metadata": {
    "ExecuteTime": {
     "end_time": "2021-06-26T13:37:45.785249Z",
     "start_time": "2021-06-26T13:37:45.629366Z"
    },
    "colab": {
     "base_uri": "https://localhost:8080/"
    },
    "id": "B42envqElseh",
    "outputId": "7efc28bf-1640-44dd-f9ef-a190a249c00a",
    "scrolled": true
   },
   "outputs": [
    {
     "name": "stdout",
     "output_type": "stream",
     "text": [
      "(32050.23183153284, [30693.19, 33424.64])\n",
      "(8434.268297856204, [8083.7, 8793.87])\n"
     ]
    }
   ],
   "source": [
    "print(bootstrap_ci(smokers, alpha=0.05, estimator='mean', iterations=1000))\n",
    "print(bootstrap_ci(non_smokers, alpha=0.05, estimator='mean', iterations=1000))"
   ]
  },
  {
   "cell_type": "markdown",
   "metadata": {
    "id": "v-Iyvc6Xlseh"
   },
   "source": [
    "### Exercise 5 – Airbnb à New York (***)"
   ]
  },
  {
   "cell_type": "markdown",
   "metadata": {
    "id": "19m307c0lsei"
   },
   "source": [
    "Data from: https://www.kaggle.com/dgomonov/new-york-city-airbnb-open-data."
   ]
  },
  {
   "cell_type": "markdown",
   "metadata": {
    "id": "VZTIzfpclsei"
   },
   "source": [
    "**1. Importer les données.**"
   ]
  },
  {
   "cell_type": "code",
   "execution_count": 56,
   "metadata": {
    "ExecuteTime": {
     "end_time": "2021-06-25T13:38:29.738639Z",
     "start_time": "2021-06-25T13:38:29.001897Z"
    },
    "id": "kgh4pAKUlsei"
   },
   "outputs": [],
   "source": [
    "import pandas as pd\n",
    "import seaborn as sns\n",
    "import numpy as np\n"
   ]
  },
  {
   "cell_type": "code",
   "execution_count": 57,
   "metadata": {
    "id": "xUi9nMHrrVC2"
   },
   "outputs": [],
   "source": [
    "df_airbnb = pd.read_csv('AB_NYC_2019.csv')"
   ]
  },
  {
   "cell_type": "code",
   "execution_count": 58,
   "metadata": {
    "ExecuteTime": {
     "end_time": "2021-06-25T13:38:36.833939Z",
     "start_time": "2021-06-25T13:38:36.442238Z"
    },
    "colab": {
     "base_uri": "https://localhost:8080/",
     "height": 869
    },
    "id": "hNEVjSXVlsei",
    "outputId": "a9be6022-be2b-44c5-f074-f6e6539118af"
   },
   "outputs": [
    {
     "data": {
      "text/html": [
       "<div>\n",
       "<style scoped>\n",
       "    .dataframe tbody tr th:only-of-type {\n",
       "        vertical-align: middle;\n",
       "    }\n",
       "\n",
       "    .dataframe tbody tr th {\n",
       "        vertical-align: top;\n",
       "    }\n",
       "\n",
       "    .dataframe thead th {\n",
       "        text-align: right;\n",
       "    }\n",
       "</style>\n",
       "<table border=\"1\" class=\"dataframe\">\n",
       "  <thead>\n",
       "    <tr style=\"text-align: right;\">\n",
       "      <th></th>\n",
       "      <th>id</th>\n",
       "      <th>name</th>\n",
       "      <th>host_id</th>\n",
       "      <th>host_name</th>\n",
       "      <th>neighbourhood_group</th>\n",
       "      <th>neighbourhood</th>\n",
       "      <th>latitude</th>\n",
       "      <th>longitude</th>\n",
       "      <th>room_type</th>\n",
       "      <th>price</th>\n",
       "      <th>minimum_nights</th>\n",
       "      <th>number_of_reviews</th>\n",
       "      <th>last_review</th>\n",
       "      <th>reviews_per_month</th>\n",
       "      <th>calculated_host_listings_count</th>\n",
       "      <th>availability_365</th>\n",
       "    </tr>\n",
       "  </thead>\n",
       "  <tbody>\n",
       "    <tr>\n",
       "      <th>0</th>\n",
       "      <td>2539</td>\n",
       "      <td>Clean &amp; quiet apt home by the park</td>\n",
       "      <td>2787</td>\n",
       "      <td>John</td>\n",
       "      <td>Brooklyn</td>\n",
       "      <td>Kensington</td>\n",
       "      <td>40.64749</td>\n",
       "      <td>-73.97237</td>\n",
       "      <td>Private room</td>\n",
       "      <td>149</td>\n",
       "      <td>1</td>\n",
       "      <td>9</td>\n",
       "      <td>2018-10-19</td>\n",
       "      <td>0.21</td>\n",
       "      <td>6</td>\n",
       "      <td>365</td>\n",
       "    </tr>\n",
       "    <tr>\n",
       "      <th>1</th>\n",
       "      <td>2595</td>\n",
       "      <td>Skylit Midtown Castle</td>\n",
       "      <td>2845</td>\n",
       "      <td>Jennifer</td>\n",
       "      <td>Manhattan</td>\n",
       "      <td>Midtown</td>\n",
       "      <td>40.75362</td>\n",
       "      <td>-73.98377</td>\n",
       "      <td>Entire home/apt</td>\n",
       "      <td>225</td>\n",
       "      <td>1</td>\n",
       "      <td>45</td>\n",
       "      <td>2019-05-21</td>\n",
       "      <td>0.38</td>\n",
       "      <td>2</td>\n",
       "      <td>355</td>\n",
       "    </tr>\n",
       "    <tr>\n",
       "      <th>2</th>\n",
       "      <td>3647</td>\n",
       "      <td>THE VILLAGE OF HARLEM....NEW YORK !</td>\n",
       "      <td>4632</td>\n",
       "      <td>Elisabeth</td>\n",
       "      <td>Manhattan</td>\n",
       "      <td>Harlem</td>\n",
       "      <td>40.80902</td>\n",
       "      <td>-73.94190</td>\n",
       "      <td>Private room</td>\n",
       "      <td>150</td>\n",
       "      <td>3</td>\n",
       "      <td>0</td>\n",
       "      <td>NaN</td>\n",
       "      <td>NaN</td>\n",
       "      <td>1</td>\n",
       "      <td>365</td>\n",
       "    </tr>\n",
       "    <tr>\n",
       "      <th>3</th>\n",
       "      <td>3831</td>\n",
       "      <td>Cozy Entire Floor of Brownstone</td>\n",
       "      <td>4869</td>\n",
       "      <td>LisaRoxanne</td>\n",
       "      <td>Brooklyn</td>\n",
       "      <td>Clinton Hill</td>\n",
       "      <td>40.68514</td>\n",
       "      <td>-73.95976</td>\n",
       "      <td>Entire home/apt</td>\n",
       "      <td>89</td>\n",
       "      <td>1</td>\n",
       "      <td>270</td>\n",
       "      <td>2019-07-05</td>\n",
       "      <td>4.64</td>\n",
       "      <td>1</td>\n",
       "      <td>194</td>\n",
       "    </tr>\n",
       "    <tr>\n",
       "      <th>4</th>\n",
       "      <td>5022</td>\n",
       "      <td>Entire Apt: Spacious Studio/Loft by central park</td>\n",
       "      <td>7192</td>\n",
       "      <td>Laura</td>\n",
       "      <td>Manhattan</td>\n",
       "      <td>East Harlem</td>\n",
       "      <td>40.79851</td>\n",
       "      <td>-73.94399</td>\n",
       "      <td>Entire home/apt</td>\n",
       "      <td>80</td>\n",
       "      <td>10</td>\n",
       "      <td>9</td>\n",
       "      <td>2018-11-19</td>\n",
       "      <td>0.10</td>\n",
       "      <td>1</td>\n",
       "      <td>0</td>\n",
       "    </tr>\n",
       "    <tr>\n",
       "      <th>...</th>\n",
       "      <td>...</td>\n",
       "      <td>...</td>\n",
       "      <td>...</td>\n",
       "      <td>...</td>\n",
       "      <td>...</td>\n",
       "      <td>...</td>\n",
       "      <td>...</td>\n",
       "      <td>...</td>\n",
       "      <td>...</td>\n",
       "      <td>...</td>\n",
       "      <td>...</td>\n",
       "      <td>...</td>\n",
       "      <td>...</td>\n",
       "      <td>...</td>\n",
       "      <td>...</td>\n",
       "      <td>...</td>\n",
       "    </tr>\n",
       "    <tr>\n",
       "      <th>48890</th>\n",
       "      <td>36484665</td>\n",
       "      <td>Charming one bedroom - newly renovated rowhouse</td>\n",
       "      <td>8232441</td>\n",
       "      <td>Sabrina</td>\n",
       "      <td>Brooklyn</td>\n",
       "      <td>Bedford-Stuyvesant</td>\n",
       "      <td>40.67853</td>\n",
       "      <td>-73.94995</td>\n",
       "      <td>Private room</td>\n",
       "      <td>70</td>\n",
       "      <td>2</td>\n",
       "      <td>0</td>\n",
       "      <td>NaN</td>\n",
       "      <td>NaN</td>\n",
       "      <td>2</td>\n",
       "      <td>9</td>\n",
       "    </tr>\n",
       "    <tr>\n",
       "      <th>48891</th>\n",
       "      <td>36485057</td>\n",
       "      <td>Affordable room in Bushwick/East Williamsburg</td>\n",
       "      <td>6570630</td>\n",
       "      <td>Marisol</td>\n",
       "      <td>Brooklyn</td>\n",
       "      <td>Bushwick</td>\n",
       "      <td>40.70184</td>\n",
       "      <td>-73.93317</td>\n",
       "      <td>Private room</td>\n",
       "      <td>40</td>\n",
       "      <td>4</td>\n",
       "      <td>0</td>\n",
       "      <td>NaN</td>\n",
       "      <td>NaN</td>\n",
       "      <td>2</td>\n",
       "      <td>36</td>\n",
       "    </tr>\n",
       "    <tr>\n",
       "      <th>48892</th>\n",
       "      <td>36485431</td>\n",
       "      <td>Sunny Studio at Historical Neighborhood</td>\n",
       "      <td>23492952</td>\n",
       "      <td>Ilgar &amp; Aysel</td>\n",
       "      <td>Manhattan</td>\n",
       "      <td>Harlem</td>\n",
       "      <td>40.81475</td>\n",
       "      <td>-73.94867</td>\n",
       "      <td>Entire home/apt</td>\n",
       "      <td>115</td>\n",
       "      <td>10</td>\n",
       "      <td>0</td>\n",
       "      <td>NaN</td>\n",
       "      <td>NaN</td>\n",
       "      <td>1</td>\n",
       "      <td>27</td>\n",
       "    </tr>\n",
       "    <tr>\n",
       "      <th>48893</th>\n",
       "      <td>36485609</td>\n",
       "      <td>43rd St. Time Square-cozy single bed</td>\n",
       "      <td>30985759</td>\n",
       "      <td>Taz</td>\n",
       "      <td>Manhattan</td>\n",
       "      <td>Hell's Kitchen</td>\n",
       "      <td>40.75751</td>\n",
       "      <td>-73.99112</td>\n",
       "      <td>Shared room</td>\n",
       "      <td>55</td>\n",
       "      <td>1</td>\n",
       "      <td>0</td>\n",
       "      <td>NaN</td>\n",
       "      <td>NaN</td>\n",
       "      <td>6</td>\n",
       "      <td>2</td>\n",
       "    </tr>\n",
       "    <tr>\n",
       "      <th>48894</th>\n",
       "      <td>36487245</td>\n",
       "      <td>Trendy duplex in the very heart of Hell's Kitchen</td>\n",
       "      <td>68119814</td>\n",
       "      <td>Christophe</td>\n",
       "      <td>Manhattan</td>\n",
       "      <td>Hell's Kitchen</td>\n",
       "      <td>40.76404</td>\n",
       "      <td>-73.98933</td>\n",
       "      <td>Private room</td>\n",
       "      <td>90</td>\n",
       "      <td>7</td>\n",
       "      <td>0</td>\n",
       "      <td>NaN</td>\n",
       "      <td>NaN</td>\n",
       "      <td>1</td>\n",
       "      <td>23</td>\n",
       "    </tr>\n",
       "  </tbody>\n",
       "</table>\n",
       "<p>48895 rows × 16 columns</p>\n",
       "</div>"
      ],
      "text/plain": [
       "             id                                               name   host_id  \\\n",
       "0          2539                 Clean & quiet apt home by the park      2787   \n",
       "1          2595                              Skylit Midtown Castle      2845   \n",
       "2          3647                THE VILLAGE OF HARLEM....NEW YORK !      4632   \n",
       "3          3831                    Cozy Entire Floor of Brownstone      4869   \n",
       "4          5022   Entire Apt: Spacious Studio/Loft by central park      7192   \n",
       "...         ...                                                ...       ...   \n",
       "48890  36484665    Charming one bedroom - newly renovated rowhouse   8232441   \n",
       "48891  36485057      Affordable room in Bushwick/East Williamsburg   6570630   \n",
       "48892  36485431            Sunny Studio at Historical Neighborhood  23492952   \n",
       "48893  36485609               43rd St. Time Square-cozy single bed  30985759   \n",
       "48894  36487245  Trendy duplex in the very heart of Hell's Kitchen  68119814   \n",
       "\n",
       "           host_name neighbourhood_group       neighbourhood  latitude  \\\n",
       "0               John            Brooklyn          Kensington  40.64749   \n",
       "1           Jennifer           Manhattan             Midtown  40.75362   \n",
       "2          Elisabeth           Manhattan              Harlem  40.80902   \n",
       "3        LisaRoxanne            Brooklyn        Clinton Hill  40.68514   \n",
       "4              Laura           Manhattan         East Harlem  40.79851   \n",
       "...              ...                 ...                 ...       ...   \n",
       "48890        Sabrina            Brooklyn  Bedford-Stuyvesant  40.67853   \n",
       "48891        Marisol            Brooklyn            Bushwick  40.70184   \n",
       "48892  Ilgar & Aysel           Manhattan              Harlem  40.81475   \n",
       "48893            Taz           Manhattan      Hell's Kitchen  40.75751   \n",
       "48894     Christophe           Manhattan      Hell's Kitchen  40.76404   \n",
       "\n",
       "       longitude        room_type  price  minimum_nights  number_of_reviews  \\\n",
       "0      -73.97237     Private room    149               1                  9   \n",
       "1      -73.98377  Entire home/apt    225               1                 45   \n",
       "2      -73.94190     Private room    150               3                  0   \n",
       "3      -73.95976  Entire home/apt     89               1                270   \n",
       "4      -73.94399  Entire home/apt     80              10                  9   \n",
       "...          ...              ...    ...             ...                ...   \n",
       "48890  -73.94995     Private room     70               2                  0   \n",
       "48891  -73.93317     Private room     40               4                  0   \n",
       "48892  -73.94867  Entire home/apt    115              10                  0   \n",
       "48893  -73.99112      Shared room     55               1                  0   \n",
       "48894  -73.98933     Private room     90               7                  0   \n",
       "\n",
       "      last_review  reviews_per_month  calculated_host_listings_count  \\\n",
       "0      2018-10-19               0.21                               6   \n",
       "1      2019-05-21               0.38                               2   \n",
       "2             NaN                NaN                               1   \n",
       "3      2019-07-05               4.64                               1   \n",
       "4      2018-11-19               0.10                               1   \n",
       "...           ...                ...                             ...   \n",
       "48890         NaN                NaN                               2   \n",
       "48891         NaN                NaN                               2   \n",
       "48892         NaN                NaN                               1   \n",
       "48893         NaN                NaN                               6   \n",
       "48894         NaN                NaN                               1   \n",
       "\n",
       "       availability_365  \n",
       "0                   365  \n",
       "1                   355  \n",
       "2                   365  \n",
       "3                   194  \n",
       "4                     0  \n",
       "...                 ...  \n",
       "48890                 9  \n",
       "48891                36  \n",
       "48892                27  \n",
       "48893                 2  \n",
       "48894                23  \n",
       "\n",
       "[48895 rows x 16 columns]"
      ]
     },
     "execution_count": 58,
     "metadata": {},
     "output_type": "execute_result"
    }
   ],
   "source": [
    "df_airbnb"
   ]
  },
  {
   "cell_type": "markdown",
   "metadata": {
    "id": "ih4sMGyblsei"
   },
   "source": [
    "**2. Faire un boxplot du `price`. En suite, retirer tous les outliers du dataset qui sont > 90% , et refaire un boxplot.**\n",
    "\n",
    "_Hint: `np.percentile`_"
   ]
  },
  {
   "cell_type": "code",
   "execution_count": 59,
   "metadata": {
    "ExecuteTime": {
     "end_time": "2021-06-25T13:39:27.345309Z",
     "start_time": "2021-06-25T13:39:27.123027Z"
    },
    "colab": {
     "base_uri": "https://localhost:8080/"
    },
    "id": "CsHeP11plsej",
    "outputId": "d6a37f74-21b6-40ed-ca69-269c99b12fa6"
   },
   "outputs": [
    {
     "data": {
      "text/plain": [
       "269.0"
      ]
     },
     "execution_count": 59,
     "metadata": {},
     "output_type": "execute_result"
    }
   ],
   "source": [
    "percentile_value = np.percentile(df_airbnb['price'], 90)\n",
    "percentile_value"
   ]
  },
  {
   "cell_type": "code",
   "execution_count": 60,
   "metadata": {
    "colab": {
     "base_uri": "https://localhost:8080/"
    },
    "id": "DDglLdTqrL9V",
    "outputId": "321d7af2-6ddc-40bd-fd16-44ec6444ff49"
   },
   "outputs": [
    {
     "data": {
      "text/plain": [
       "count    48895.000000\n",
       "mean       152.720687\n",
       "std        240.154170\n",
       "min          0.000000\n",
       "25%         69.000000\n",
       "50%        106.000000\n",
       "75%        175.000000\n",
       "90%        269.000000\n",
       "95%        355.000000\n",
       "99%        799.000000\n",
       "max      10000.000000\n",
       "Name: price, dtype: float64"
      ]
     },
     "execution_count": 60,
     "metadata": {},
     "output_type": "execute_result"
    }
   ],
   "source": [
    "df_airbnb['price'].describe(percentiles=[0.25, 0.75, 0.90, 0.95, 0.99])"
   ]
  },
  {
   "cell_type": "code",
   "execution_count": 61,
   "metadata": {
    "id": "qm3ZrxhCr3RQ"
   },
   "outputs": [],
   "source": [
    "df_airbnb_filtered = df_airbnb[(df_airbnb['price']<percentile_value)]"
   ]
  },
  {
   "cell_type": "code",
   "execution_count": 62,
   "metadata": {
    "colab": {
     "base_uri": "https://localhost:8080/",
     "height": 297
    },
    "id": "G0GfYBXjr5no",
    "outputId": "72ae51b4-6d79-40a6-f9c3-e1ce32eb90a3"
   },
   "outputs": [
    {
     "data": {
      "text/plain": [
       "<AxesSubplot:xlabel='price'>"
      ]
     },
     "execution_count": 62,
     "metadata": {},
     "output_type": "execute_result"
    },
    {
     "data": {
      "image/png": "[encoded data removed]",
      "text/plain": [
       "<Figure size 432x288 with 1 Axes>"
      ]
     },
     "metadata": {
      "needs_background": "light"
     },
     "output_type": "display_data"
    }
   ],
   "source": [
    "sns.boxplot(data=df_airbnb_filtered, x='price')"
   ]
  },
  {
   "cell_type": "markdown",
   "metadata": {
    "id": "kUwxGYC0lsek"
   },
   "source": [
    "**[BONUS] 3. Faites les analyses que vous souhaitez!**"
   ]
  },
  {
   "cell_type": "code",
   "execution_count": 63,
   "metadata": {
    "colab": {
     "base_uri": "https://localhost:8080/"
    },
    "id": "i6qzGR9Kr_zT",
    "outputId": "416a69c9-5ea5-42ce-82c4-19e92eab09aa"
   },
   "outputs": [
    {
     "name": "stdout",
     "output_type": "stream",
     "text": [
      "<class 'pandas.core.frame.DataFrame'>\n",
      "Int64Index: 43984 entries, 0 to 48894\n",
      "Data columns (total 16 columns):\n",
      " #   Column                          Non-Null Count  Dtype  \n",
      "---  ------                          --------------  -----  \n",
      " 0   id                              43984 non-null  int64  \n",
      " 1   name                            43970 non-null  object \n",
      " 2   host_id                         43984 non-null  int64  \n",
      " 3   host_name                       43964 non-null  object \n",
      " 4   neighbourhood_group             43984 non-null  object \n",
      " 5   neighbourhood                   43984 non-null  object \n",
      " 6   latitude                        43984 non-null  float64\n",
      " 7   longitude                       43984 non-null  float64\n",
      " 8   room_type                       43984 non-null  object \n",
      " 9   price                           43984 non-null  int64  \n",
      " 10  minimum_nights                  43984 non-null  int64  \n",
      " 11  number_of_reviews               43984 non-null  int64  \n",
      " 12  last_review                     35548 non-null  object \n",
      " 13  reviews_per_month               35548 non-null  float64\n",
      " 14  calculated_host_listings_count  43984 non-null  int64  \n",
      " 15  availability_365                43984 non-null  int64  \n",
      "dtypes: float64(3), int64(7), object(6)\n",
      "memory usage: 5.7+ MB\n"
     ]
    }
   ],
   "source": [
    "df_airbnb_filtered.info()"
   ]
  },
  {
   "cell_type": "code",
   "execution_count": 64,
   "metadata": {
    "colab": {
     "base_uri": "https://localhost:8080/"
    },
    "id": "TrjtO7CVsDj9",
    "outputId": "04e66cf9-8ed2-4670-90ac-488951a33ca5"
   },
   "outputs": [
    {
     "name": "stderr",
     "output_type": "stream",
     "text": [
      "C:\\Users\\antoi\\AppData\\Local\\Temp/ipykernel_22804/3179642567.py:1: SettingWithCopyWarning: \n",
      "A value is trying to be set on a copy of a slice from a DataFrame.\n",
      "Try using .loc[row_indexer,col_indexer] = value instead\n",
      "\n",
      "See the caveats in the documentation: https://pandas.pydata.org/pandas-docs/stable/user_guide/indexing.html#returning-a-view-versus-a-copy\n",
      "  df_airbnb_filtered['has_reviews'] = ~df_airbnb_filtered['last_review'].isna()\n"
     ]
    }
   ],
   "source": [
    "df_airbnb_filtered['has_reviews'] = ~df_airbnb_filtered['last_review'].isna()"
   ]
  },
  {
   "cell_type": "code",
   "execution_count": 65,
   "metadata": {
    "colab": {
     "base_uri": "https://localhost:8080/",
     "height": 429
    },
    "id": "5kF9sf_4sGw-",
    "outputId": "9bd3bfc2-2ff7-4cd5-be0f-59a9ea36501e"
   },
   "outputs": [
    {
     "data": {
      "text/plain": [
       "<AxesSubplot:>"
      ]
     },
     "execution_count": 65,
     "metadata": {},
     "output_type": "execute_result"
    },
    {
     "data": {
      "image/png": "[encoded data removed]",
      "text/plain": [
       "<Figure size 432x288 with 2 Axes>"
      ]
     },
     "metadata": {
      "needs_background": "light"
     },
     "output_type": "display_data"
    }
   ],
   "source": [
    "cols_to_remove = ['id', 'host_id', 'latitude', 'longitude', 'reviews_per_month']\n",
    "df_corr = df_airbnb_filtered.drop(columns=cols_to_remove)\n",
    "corr_matrix = df_corr.corr()\n",
    "sns.heatmap(data=corr_matrix, annot=True)"
   ]
  },
  {
   "cell_type": "code",
   "execution_count": 66,
   "metadata": {
    "colab": {
     "base_uri": "https://localhost:8080/",
     "height": 297
    },
    "id": "meoogU5RsKqP",
    "outputId": "6e5fb0eb-05a3-47a0-fa1c-d3aafa14dec6"
   },
   "outputs": [
    {
     "data": {
      "text/plain": [
       "<AxesSubplot:xlabel='price', ylabel='Count'>"
      ]
     },
     "execution_count": 66,
     "metadata": {},
     "output_type": "execute_result"
    },
    {
     "data": {
      "image/png": "[encoded data removed]",
      "text/plain": [
       "<Figure size 432x288 with 1 Axes>"
      ]
     },
     "metadata": {
      "needs_background": "light"
     },
     "output_type": "display_data"
    }
   ],
   "source": [
    "sns.histplot(data=df_airbnb_filtered, x='price')"
   ]
  },
  {
   "cell_type": "markdown",
   "metadata": {
    "id": "ubjqyij4lsek"
   },
   "source": [
    "## BONUS: Tests d'hypothèse"
   ]
  },
  {
   "cell_type": "markdown",
   "metadata": {
    "id": "AyKhCt0Xlsel"
   },
   "source": [
    "### Exercise 6 – La taille des cerveaux? (***)\n",
    "Grâce au dataset `brain_size.csv`, répondre à la question: est-ce que la moyenne de la \"VIQ size\" est significativement différente entre les homme et les femmes? <br>\n",
    "\n",
    "_Hint: pour selectionner des données par genre il faut slicer la dataframe grâce à une condition (`pandas`)._"
   ]
  },
  {
   "cell_type": "markdown",
   "metadata": {
    "ExecuteTime": {
     "end_time": "2020-06-23T13:37:01.213745Z",
     "start_time": "2020-06-23T13:37:01.206059Z"
    },
    "id": "60G94jjBlsel"
   },
   "source": [
    "Source: https://scipy-lectures.org/packages/statistics/index.html"
   ]
  },
  {
   "cell_type": "code",
   "execution_count": 67,
   "metadata": {
    "ExecuteTime": {
     "end_time": "2021-04-13T16:10:26.230292Z",
     "start_time": "2021-04-13T16:10:26.152603Z"
    },
    "colab": {
     "base_uri": "https://localhost:8080/",
     "height": 1000
    },
    "id": "KOwDMJ2Vlsel",
    "outputId": "f055feea-322c-461f-fb1c-89f87513e835",
    "scrolled": true
   },
   "outputs": [
    {
     "data": {
      "text/html": [
       "<div>\n",
       "<style scoped>\n",
       "    .dataframe tbody tr th:only-of-type {\n",
       "        vertical-align: middle;\n",
       "    }\n",
       "\n",
       "    .dataframe tbody tr th {\n",
       "        vertical-align: top;\n",
       "    }\n",
       "\n",
       "    .dataframe thead th {\n",
       "        text-align: right;\n",
       "    }\n",
       "</style>\n",
       "<table border=\"1\" class=\"dataframe\">\n",
       "  <thead>\n",
       "    <tr style=\"text-align: right;\">\n",
       "      <th></th>\n",
       "      <th>Gender</th>\n",
       "      <th>FSIQ</th>\n",
       "      <th>VIQ</th>\n",
       "      <th>PIQ</th>\n",
       "      <th>Weight</th>\n",
       "      <th>Height</th>\n",
       "      <th>MRI_Count</th>\n",
       "    </tr>\n",
       "  </thead>\n",
       "  <tbody>\n",
       "    <tr>\n",
       "      <th>1</th>\n",
       "      <td>Female</td>\n",
       "      <td>133</td>\n",
       "      <td>132</td>\n",
       "      <td>124</td>\n",
       "      <td>118</td>\n",
       "      <td>64.5</td>\n",
       "      <td>816932</td>\n",
       "    </tr>\n",
       "    <tr>\n",
       "      <th>2</th>\n",
       "      <td>Male</td>\n",
       "      <td>140</td>\n",
       "      <td>150</td>\n",
       "      <td>124</td>\n",
       "      <td>.</td>\n",
       "      <td>72.5</td>\n",
       "      <td>1001121</td>\n",
       "    </tr>\n",
       "    <tr>\n",
       "      <th>3</th>\n",
       "      <td>Male</td>\n",
       "      <td>139</td>\n",
       "      <td>123</td>\n",
       "      <td>150</td>\n",
       "      <td>143</td>\n",
       "      <td>73.3</td>\n",
       "      <td>1038437</td>\n",
       "    </tr>\n",
       "    <tr>\n",
       "      <th>4</th>\n",
       "      <td>Male</td>\n",
       "      <td>133</td>\n",
       "      <td>129</td>\n",
       "      <td>128</td>\n",
       "      <td>172</td>\n",
       "      <td>68.8</td>\n",
       "      <td>965353</td>\n",
       "    </tr>\n",
       "    <tr>\n",
       "      <th>5</th>\n",
       "      <td>Female</td>\n",
       "      <td>137</td>\n",
       "      <td>132</td>\n",
       "      <td>134</td>\n",
       "      <td>147</td>\n",
       "      <td>65.0</td>\n",
       "      <td>951545</td>\n",
       "    </tr>\n",
       "    <tr>\n",
       "      <th>6</th>\n",
       "      <td>Female</td>\n",
       "      <td>99</td>\n",
       "      <td>90</td>\n",
       "      <td>110</td>\n",
       "      <td>146</td>\n",
       "      <td>69.0</td>\n",
       "      <td>928799</td>\n",
       "    </tr>\n",
       "    <tr>\n",
       "      <th>7</th>\n",
       "      <td>Female</td>\n",
       "      <td>138</td>\n",
       "      <td>136</td>\n",
       "      <td>131</td>\n",
       "      <td>138</td>\n",
       "      <td>64.5</td>\n",
       "      <td>991305</td>\n",
       "    </tr>\n",
       "    <tr>\n",
       "      <th>8</th>\n",
       "      <td>Female</td>\n",
       "      <td>92</td>\n",
       "      <td>90</td>\n",
       "      <td>98</td>\n",
       "      <td>175</td>\n",
       "      <td>66.0</td>\n",
       "      <td>854258</td>\n",
       "    </tr>\n",
       "    <tr>\n",
       "      <th>9</th>\n",
       "      <td>Male</td>\n",
       "      <td>89</td>\n",
       "      <td>93</td>\n",
       "      <td>84</td>\n",
       "      <td>134</td>\n",
       "      <td>66.3</td>\n",
       "      <td>904858</td>\n",
       "    </tr>\n",
       "    <tr>\n",
       "      <th>10</th>\n",
       "      <td>Male</td>\n",
       "      <td>133</td>\n",
       "      <td>114</td>\n",
       "      <td>147</td>\n",
       "      <td>172</td>\n",
       "      <td>68.8</td>\n",
       "      <td>955466</td>\n",
       "    </tr>\n",
       "    <tr>\n",
       "      <th>11</th>\n",
       "      <td>Female</td>\n",
       "      <td>132</td>\n",
       "      <td>129</td>\n",
       "      <td>124</td>\n",
       "      <td>118</td>\n",
       "      <td>64.5</td>\n",
       "      <td>833868</td>\n",
       "    </tr>\n",
       "    <tr>\n",
       "      <th>12</th>\n",
       "      <td>Male</td>\n",
       "      <td>141</td>\n",
       "      <td>150</td>\n",
       "      <td>128</td>\n",
       "      <td>151</td>\n",
       "      <td>70.0</td>\n",
       "      <td>1079549</td>\n",
       "    </tr>\n",
       "    <tr>\n",
       "      <th>13</th>\n",
       "      <td>Male</td>\n",
       "      <td>135</td>\n",
       "      <td>129</td>\n",
       "      <td>124</td>\n",
       "      <td>155</td>\n",
       "      <td>69.0</td>\n",
       "      <td>924059</td>\n",
       "    </tr>\n",
       "    <tr>\n",
       "      <th>14</th>\n",
       "      <td>Female</td>\n",
       "      <td>140</td>\n",
       "      <td>120</td>\n",
       "      <td>147</td>\n",
       "      <td>155</td>\n",
       "      <td>70.5</td>\n",
       "      <td>856472</td>\n",
       "    </tr>\n",
       "    <tr>\n",
       "      <th>15</th>\n",
       "      <td>Female</td>\n",
       "      <td>96</td>\n",
       "      <td>100</td>\n",
       "      <td>90</td>\n",
       "      <td>146</td>\n",
       "      <td>66.0</td>\n",
       "      <td>878897</td>\n",
       "    </tr>\n",
       "    <tr>\n",
       "      <th>16</th>\n",
       "      <td>Female</td>\n",
       "      <td>83</td>\n",
       "      <td>71</td>\n",
       "      <td>96</td>\n",
       "      <td>135</td>\n",
       "      <td>68.0</td>\n",
       "      <td>865363</td>\n",
       "    </tr>\n",
       "    <tr>\n",
       "      <th>17</th>\n",
       "      <td>Female</td>\n",
       "      <td>132</td>\n",
       "      <td>132</td>\n",
       "      <td>120</td>\n",
       "      <td>127</td>\n",
       "      <td>68.5</td>\n",
       "      <td>852244</td>\n",
       "    </tr>\n",
       "    <tr>\n",
       "      <th>18</th>\n",
       "      <td>Male</td>\n",
       "      <td>100</td>\n",
       "      <td>96</td>\n",
       "      <td>102</td>\n",
       "      <td>178</td>\n",
       "      <td>73.5</td>\n",
       "      <td>945088</td>\n",
       "    </tr>\n",
       "    <tr>\n",
       "      <th>19</th>\n",
       "      <td>Female</td>\n",
       "      <td>101</td>\n",
       "      <td>112</td>\n",
       "      <td>84</td>\n",
       "      <td>136</td>\n",
       "      <td>66.3</td>\n",
       "      <td>808020</td>\n",
       "    </tr>\n",
       "    <tr>\n",
       "      <th>20</th>\n",
       "      <td>Male</td>\n",
       "      <td>80</td>\n",
       "      <td>77</td>\n",
       "      <td>86</td>\n",
       "      <td>180</td>\n",
       "      <td>70.0</td>\n",
       "      <td>889083</td>\n",
       "    </tr>\n",
       "    <tr>\n",
       "      <th>21</th>\n",
       "      <td>Male</td>\n",
       "      <td>83</td>\n",
       "      <td>83</td>\n",
       "      <td>86</td>\n",
       "      <td>.</td>\n",
       "      <td>.</td>\n",
       "      <td>892420</td>\n",
       "    </tr>\n",
       "    <tr>\n",
       "      <th>22</th>\n",
       "      <td>Male</td>\n",
       "      <td>97</td>\n",
       "      <td>107</td>\n",
       "      <td>84</td>\n",
       "      <td>186</td>\n",
       "      <td>76.5</td>\n",
       "      <td>905940</td>\n",
       "    </tr>\n",
       "    <tr>\n",
       "      <th>23</th>\n",
       "      <td>Female</td>\n",
       "      <td>135</td>\n",
       "      <td>129</td>\n",
       "      <td>134</td>\n",
       "      <td>122</td>\n",
       "      <td>62.0</td>\n",
       "      <td>790619</td>\n",
       "    </tr>\n",
       "    <tr>\n",
       "      <th>24</th>\n",
       "      <td>Male</td>\n",
       "      <td>139</td>\n",
       "      <td>145</td>\n",
       "      <td>128</td>\n",
       "      <td>132</td>\n",
       "      <td>68.0</td>\n",
       "      <td>955003</td>\n",
       "    </tr>\n",
       "    <tr>\n",
       "      <th>25</th>\n",
       "      <td>Female</td>\n",
       "      <td>91</td>\n",
       "      <td>86</td>\n",
       "      <td>102</td>\n",
       "      <td>114</td>\n",
       "      <td>63.0</td>\n",
       "      <td>831772</td>\n",
       "    </tr>\n",
       "    <tr>\n",
       "      <th>26</th>\n",
       "      <td>Male</td>\n",
       "      <td>141</td>\n",
       "      <td>145</td>\n",
       "      <td>131</td>\n",
       "      <td>171</td>\n",
       "      <td>72.0</td>\n",
       "      <td>935494</td>\n",
       "    </tr>\n",
       "    <tr>\n",
       "      <th>27</th>\n",
       "      <td>Female</td>\n",
       "      <td>85</td>\n",
       "      <td>90</td>\n",
       "      <td>84</td>\n",
       "      <td>140</td>\n",
       "      <td>68.0</td>\n",
       "      <td>798612</td>\n",
       "    </tr>\n",
       "    <tr>\n",
       "      <th>28</th>\n",
       "      <td>Male</td>\n",
       "      <td>103</td>\n",
       "      <td>96</td>\n",
       "      <td>110</td>\n",
       "      <td>187</td>\n",
       "      <td>77.0</td>\n",
       "      <td>1062462</td>\n",
       "    </tr>\n",
       "    <tr>\n",
       "      <th>29</th>\n",
       "      <td>Female</td>\n",
       "      <td>77</td>\n",
       "      <td>83</td>\n",
       "      <td>72</td>\n",
       "      <td>106</td>\n",
       "      <td>63.0</td>\n",
       "      <td>793549</td>\n",
       "    </tr>\n",
       "    <tr>\n",
       "      <th>30</th>\n",
       "      <td>Female</td>\n",
       "      <td>130</td>\n",
       "      <td>126</td>\n",
       "      <td>124</td>\n",
       "      <td>159</td>\n",
       "      <td>66.5</td>\n",
       "      <td>866662</td>\n",
       "    </tr>\n",
       "    <tr>\n",
       "      <th>31</th>\n",
       "      <td>Female</td>\n",
       "      <td>133</td>\n",
       "      <td>126</td>\n",
       "      <td>132</td>\n",
       "      <td>127</td>\n",
       "      <td>62.5</td>\n",
       "      <td>857782</td>\n",
       "    </tr>\n",
       "    <tr>\n",
       "      <th>32</th>\n",
       "      <td>Male</td>\n",
       "      <td>144</td>\n",
       "      <td>145</td>\n",
       "      <td>137</td>\n",
       "      <td>191</td>\n",
       "      <td>67.0</td>\n",
       "      <td>949589</td>\n",
       "    </tr>\n",
       "    <tr>\n",
       "      <th>33</th>\n",
       "      <td>Male</td>\n",
       "      <td>103</td>\n",
       "      <td>96</td>\n",
       "      <td>110</td>\n",
       "      <td>192</td>\n",
       "      <td>75.5</td>\n",
       "      <td>997925</td>\n",
       "    </tr>\n",
       "    <tr>\n",
       "      <th>34</th>\n",
       "      <td>Male</td>\n",
       "      <td>90</td>\n",
       "      <td>96</td>\n",
       "      <td>86</td>\n",
       "      <td>181</td>\n",
       "      <td>69.0</td>\n",
       "      <td>879987</td>\n",
       "    </tr>\n",
       "    <tr>\n",
       "      <th>35</th>\n",
       "      <td>Female</td>\n",
       "      <td>83</td>\n",
       "      <td>90</td>\n",
       "      <td>81</td>\n",
       "      <td>143</td>\n",
       "      <td>66.5</td>\n",
       "      <td>834344</td>\n",
       "    </tr>\n",
       "    <tr>\n",
       "      <th>36</th>\n",
       "      <td>Female</td>\n",
       "      <td>133</td>\n",
       "      <td>129</td>\n",
       "      <td>128</td>\n",
       "      <td>153</td>\n",
       "      <td>66.5</td>\n",
       "      <td>948066</td>\n",
       "    </tr>\n",
       "    <tr>\n",
       "      <th>37</th>\n",
       "      <td>Male</td>\n",
       "      <td>140</td>\n",
       "      <td>150</td>\n",
       "      <td>124</td>\n",
       "      <td>144</td>\n",
       "      <td>70.5</td>\n",
       "      <td>949395</td>\n",
       "    </tr>\n",
       "    <tr>\n",
       "      <th>38</th>\n",
       "      <td>Female</td>\n",
       "      <td>88</td>\n",
       "      <td>86</td>\n",
       "      <td>94</td>\n",
       "      <td>139</td>\n",
       "      <td>64.5</td>\n",
       "      <td>893983</td>\n",
       "    </tr>\n",
       "    <tr>\n",
       "      <th>39</th>\n",
       "      <td>Male</td>\n",
       "      <td>81</td>\n",
       "      <td>90</td>\n",
       "      <td>74</td>\n",
       "      <td>148</td>\n",
       "      <td>74.0</td>\n",
       "      <td>930016</td>\n",
       "    </tr>\n",
       "    <tr>\n",
       "      <th>40</th>\n",
       "      <td>Male</td>\n",
       "      <td>89</td>\n",
       "      <td>91</td>\n",
       "      <td>89</td>\n",
       "      <td>179</td>\n",
       "      <td>75.5</td>\n",
       "      <td>935863</td>\n",
       "    </tr>\n",
       "  </tbody>\n",
       "</table>\n",
       "</div>"
      ],
      "text/plain": [
       "    Gender  FSIQ  VIQ  PIQ Weight Height  MRI_Count\n",
       "1   Female   133  132  124    118   64.5     816932\n",
       "2     Male   140  150  124      .   72.5    1001121\n",
       "3     Male   139  123  150    143   73.3    1038437\n",
       "4     Male   133  129  128    172   68.8     965353\n",
       "5   Female   137  132  134    147   65.0     951545\n",
       "6   Female    99   90  110    146   69.0     928799\n",
       "7   Female   138  136  131    138   64.5     991305\n",
       "8   Female    92   90   98    175   66.0     854258\n",
       "9     Male    89   93   84    134   66.3     904858\n",
       "10    Male   133  114  147    172   68.8     955466\n",
       "11  Female   132  129  124    118   64.5     833868\n",
       "12    Male   141  150  128    151   70.0    1079549\n",
       "13    Male   135  129  124    155   69.0     924059\n",
       "14  Female   140  120  147    155   70.5     856472\n",
       "15  Female    96  100   90    146   66.0     878897\n",
       "16  Female    83   71   96    135   68.0     865363\n",
       "17  Female   132  132  120    127   68.5     852244\n",
       "18    Male   100   96  102    178   73.5     945088\n",
       "19  Female   101  112   84    136   66.3     808020\n",
       "20    Male    80   77   86    180   70.0     889083\n",
       "21    Male    83   83   86      .      .     892420\n",
       "22    Male    97  107   84    186   76.5     905940\n",
       "23  Female   135  129  134    122   62.0     790619\n",
       "24    Male   139  145  128    132   68.0     955003\n",
       "25  Female    91   86  102    114   63.0     831772\n",
       "26    Male   141  145  131    171   72.0     935494\n",
       "27  Female    85   90   84    140   68.0     798612\n",
       "28    Male   103   96  110    187   77.0    1062462\n",
       "29  Female    77   83   72    106   63.0     793549\n",
       "30  Female   130  126  124    159   66.5     866662\n",
       "31  Female   133  126  132    127   62.5     857782\n",
       "32    Male   144  145  137    191   67.0     949589\n",
       "33    Male   103   96  110    192   75.5     997925\n",
       "34    Male    90   96   86    181   69.0     879987\n",
       "35  Female    83   90   81    143   66.5     834344\n",
       "36  Female   133  129  128    153   66.5     948066\n",
       "37    Male   140  150  124    144   70.5     949395\n",
       "38  Female    88   86   94    139   64.5     893983\n",
       "39    Male    81   90   74    148   74.0     930016\n",
       "40    Male    89   91   89    179   75.5     935863"
      ]
     },
     "execution_count": 67,
     "metadata": {},
     "output_type": "execute_result"
    }
   ],
   "source": [
    "import pandas as pd \n",
    "data = pd.read_csv('brain_size.csv', sep=';', index_col=0)\n",
    "data"
   ]
  },
  {
   "cell_type": "code",
   "execution_count": 68,
   "metadata": {
    "ExecuteTime": {
     "end_time": "2021-04-13T16:09:19.322850Z",
     "start_time": "2021-04-13T16:09:19.300989Z"
    },
    "colab": {
     "base_uri": "https://localhost:8080/"
    },
    "id": "JVm7wExDlsel",
    "outputId": "e2512efd-30a7-4a2c-b631-3dc8d28f5882"
   },
   "outputs": [
    {
     "data": {
      "text/plain": [
       "1     False\n",
       "2      True\n",
       "3      True\n",
       "4      True\n",
       "5     False\n",
       "6     False\n",
       "7     False\n",
       "8     False\n",
       "9      True\n",
       "10     True\n",
       "11    False\n",
       "12     True\n",
       "13     True\n",
       "14    False\n",
       "15    False\n",
       "16    False\n",
       "17    False\n",
       "18     True\n",
       "19    False\n",
       "20     True\n",
       "21     True\n",
       "22     True\n",
       "23    False\n",
       "24     True\n",
       "25    False\n",
       "26     True\n",
       "27    False\n",
       "28     True\n",
       "29    False\n",
       "30    False\n",
       "31    False\n",
       "32     True\n",
       "33     True\n",
       "34     True\n",
       "35    False\n",
       "36    False\n",
       "37     True\n",
       "38    False\n",
       "39     True\n",
       "40     True\n",
       "Name: Gender, dtype: bool"
      ]
     },
     "execution_count": 68,
     "metadata": {},
     "output_type": "execute_result"
    }
   ],
   "source": [
    "data['Gender'] == 'Male'"
   ]
  },
  {
   "cell_type": "code",
   "execution_count": 69,
   "metadata": {
    "ExecuteTime": {
     "end_time": "2021-04-13T16:07:22.342216Z",
     "start_time": "2021-04-13T16:07:22.198791Z"
    },
    "colab": {
     "base_uri": "https://localhost:8080/"
    },
    "id": "kjHOYG5wlsem",
    "outputId": "d0142cff-18d1-4ee9-bd1d-c6f867b28632"
   },
   "outputs": [
    {
     "data": {
      "text/plain": [
       "2     150\n",
       "3     123\n",
       "4     129\n",
       "9      93\n",
       "10    114\n",
       "12    150\n",
       "13    129\n",
       "18     96\n",
       "20     77\n",
       "21     83\n",
       "22    107\n",
       "24    145\n",
       "26    145\n",
       "28     96\n",
       "32    145\n",
       "33     96\n",
       "34     96\n",
       "37    150\n",
       "39     90\n",
       "40     91\n",
       "Name: VIQ, dtype: int64"
      ]
     },
     "execution_count": 69,
     "metadata": {},
     "output_type": "execute_result"
    }
   ],
   "source": [
    "data[ data['Gender'] == 'Male' ]['VIQ']"
   ]
  },
  {
   "cell_type": "code",
   "execution_count": 70,
   "metadata": {
    "ExecuteTime": {
     "end_time": "2020-10-16T15:34:34.885729Z",
     "start_time": "2020-10-16T15:34:34.879241Z"
    },
    "id": "bfmjwXEulsem"
   },
   "outputs": [],
   "source": [
    "female_viq = data[data['Gender'] == 'Female']['VIQ']\n",
    "male_viq = data[data['Gender'] == 'Male']['VIQ']"
   ]
  },
  {
   "cell_type": "code",
   "execution_count": 71,
   "metadata": {
    "ExecuteTime": {
     "end_time": "2020-10-16T15:35:40.646858Z",
     "start_time": "2020-10-16T15:35:40.640546Z"
    },
    "colab": {
     "base_uri": "https://localhost:8080/"
    },
    "id": "xFdxZIF_lsem",
    "outputId": "32b09821-1b11-48c4-a9fe-3cbd78404e3f"
   },
   "outputs": [
    {
     "name": "stdout",
     "output_type": "stream",
     "text": [
      "0.44452876778583217\n"
     ]
    }
   ],
   "source": [
    "from scipy import stats\n",
    "\n",
    "my_test = stats.ttest_ind(female_viq, male_viq)\n",
    "print(my_test.pvalue)"
   ]
  },
  {
   "cell_type": "code",
   "execution_count": 72,
   "metadata": {
    "colab": {
     "base_uri": "https://localhost:8080/"
    },
    "id": "JrER5WJ8lsem",
    "outputId": "c78f2369-1c3e-4b0e-ff53-53747f3295f8"
   },
   "outputs": [
    {
     "data": {
      "text/plain": [
       "(40, 7)"
      ]
     },
     "execution_count": 72,
     "metadata": {},
     "output_type": "execute_result"
    }
   ],
   "source": [
    "data.shape"
   ]
  }
 ],
 "metadata": {
  "colab": {
   "collapsed_sections": [],
   "name": "J0 ML Exercises solution.ipynb",
   "provenance": []
  },
  "hide_input": false,
  "kernelspec": {
   "display_name": "Python 3 (ipykernel)",
   "language": "python",
   "name": "python3"
  },
  "language_info": {
   "codemirror_mode": {
    "name": "ipython",
    "version": 3
   },
   "file_extension": ".py",
   "mimetype": "text/x-python",
   "name": "python",
   "nbconvert_exporter": "python",
   "pygments_lexer": "ipython3",
   "version": "3.9.7"
  },
  "toc": {
   "base_numbering": 1,
   "nav_menu": {},
   "number_sections": true,
   "sideBar": true,
   "skip_h1_title": false,
   "title_cell": "Table of Contents",
   "title_sidebar": "Contents",
   "toc_cell": false,
   "toc_position": {},
   "toc_section_display": true,
   "toc_window_display": true
  },
  "varInspector": {
   "cols": {
    "lenName": 16,
    "lenType": 16,
    "lenVar": 40
   },
   "kernels_config": {
    "python": {
     "delete_cmd_postfix": "",
     "delete_cmd_prefix": "del ",
     "library": "var_list.py",
     "varRefreshCmd": "print(var_dic_list())"
    },
    "r": {
     "delete_cmd_postfix": ") ",
     "delete_cmd_prefix": "rm(",
     "library": "var_list.r",
     "varRefreshCmd": "cat(var_dic_list()) "
    }
   },
   "types_to_exclude": [
    "module",
    "function",
    "builtin_function_or_method",
    "instance",
    "_Feature"
   ],
   "window_display": false
  }
 },
 "nbformat": 4,
 "nbformat_minor": 1
}

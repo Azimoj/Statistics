{
 "cells": [
  {
   "cell_type": "code",
   "execution_count": 1,
   "id": "d647152a",
   "metadata": {
    "ExecuteTime": {
     "end_time": "2023-07-11T15:36:36.134977Z",
     "start_time": "2023-07-11T15:36:34.390494Z"
    }
   },
   "outputs": [],
   "source": [
    "import numpy as np\n",
    "import scipy.stats as st\n",
    "\n",
    "import matplotlib.pyplot as plt"
   ]
  },
  {
   "cell_type": "markdown",
   "id": "c1465435",
   "metadata": {},
   "source": [
    "# Exercice 1"
   ]
  },
  {
   "cell_type": "code",
   "execution_count": 2,
   "id": "d76c0829",
   "metadata": {
    "ExecuteTime": {
     "end_time": "2023-07-11T15:36:36.151405Z",
     "start_time": "2023-07-11T15:36:36.137885Z"
    }
   },
   "outputs": [],
   "source": [
    "sommeil = [7.5, 8.2, 6.8, 7.1, 6.5, 7.9, 8.0, 6.3, 7.7, 7.0, 6.6, 8.5, 7.2, 6.9, 7.8, 8.1, 7.4, 7.6, 6.7, 7.3]"
   ]
  },
  {
   "cell_type": "code",
   "execution_count": 3,
   "id": "3db30be0",
   "metadata": {
    "ExecuteTime": {
     "end_time": "2023-07-11T15:36:36.167752Z",
     "start_time": "2023-07-11T15:36:36.156232Z"
    }
   },
   "outputs": [],
   "source": [
    "mean = np.mean(sommeil)\n",
    "median = np.median(sommeil)\n",
    "std = np.std(sommeil)\n",
    "variance = std**2\n",
    "rang = np.max(sommeil) - np.min(sommeil)\n",
    "q1, q3 = np.quantile(sommeil, [0.25, 0.75])"
   ]
  },
  {
   "cell_type": "code",
   "execution_count": 4,
   "id": "21c67b46",
   "metadata": {
    "ExecuteTime": {
     "end_time": "2023-07-11T15:36:36.190800Z",
     "start_time": "2023-07-11T15:36:36.173113Z"
    }
   },
   "outputs": [
    {
     "name": "stdout",
     "output_type": "stream",
     "text": [
      "Moyenne : 7.35, \n",
      "Médiane : 7.35, \n",
      "Ecart-type : 0.603, \n",
      "Variance : 0.363, \n",
      "Etendue : 2.2, \n",
      "1er quartile : 6.875, \n",
      "3e quartile : 7.825\n"
     ]
    }
   ],
   "source": [
    "print(f\"Moyenne : {mean:.3}, \\nMédiane : {median}, \\nEcart-type : {std:.3}, \\nVariance : {variance:.3}, \\nEtendue : {rang}, \\n1er quartile : {q1}, \\n3e quartile : {q3}\")"
   ]
  },
  {
   "cell_type": "code",
   "execution_count": 5,
   "id": "1ffb72f5",
   "metadata": {
    "ExecuteTime": {
     "end_time": "2023-07-11T15:36:36.462616Z",
     "start_time": "2023-07-11T15:36:36.267144Z"
    }
   },
   "outputs": [
    {
     "data": {
      "image/png": "[encoded data removed]",
      "text/plain": [
       "<Figure size 432x288 with 1 Axes>"
      ]
     },
     "metadata": {
      "needs_background": "light"
     },
     "output_type": "display_data"
    }
   ],
   "source": [
    "plt.boxplot(sommeil)\n",
    "plt.show()"
   ]
  },
  {
   "cell_type": "markdown",
   "id": "7a2faee3",
   "metadata": {},
   "source": [
    "# Exercice 2"
   ]
  },
  {
   "cell_type": "markdown",
   "id": "ffa3002d",
   "metadata": {},
   "source": [
    "Situation 1 : Courbe / Lineplot\n",
    "\n",
    "Situation 2 : Diagramme en bâtons / Barchart\n",
    "\n",
    "Situation 3 : Histogramme\n",
    "\n",
    "Situation 4 : Nuage de points / Scatterplot\n",
    "\n",
    "Situation 5 : Histogramme"
   ]
  },
  {
   "cell_type": "markdown",
   "id": "0ba7d4b2",
   "metadata": {},
   "source": [
    "# Exercice 3"
   ]
  },
  {
   "cell_type": "markdown",
   "id": "e75b34bf",
   "metadata": {},
   "source": [
    "Situation 1 : On privilégie la médiane car quelques valeurs extrêmes risquent de biaiser la perception.\n",
    "\n",
    "Situation 2 : \n",
    "* Q1 : Moyenne car la distribution a toutes les chances d'être symétrique\n",
    "* Q2 : Asymétrie à droite (right-skewed) : la moyenne va surestimer le temps de réaction de la plupart des athlètes\n",
    "* Q3 : Dispersion des données (variance, IQR), corrélation avec autres variables"
   ]
  },
  {
   "cell_type": "markdown",
   "id": "686f00f4",
   "metadata": {},
   "source": [
    "# Exercice 4"
   ]
  },
  {
   "cell_type": "markdown",
   "id": "e6a6ffcf",
   "metadata": {},
   "source": [
    "Q1 : Biais de référence. La recherche peut représenter 20 ou 30% du budget d'un département sans que cela ne représente un montant conséquent s'il s'agit d'un département à faible budget total.\n",
    "Ex : 10% du budget de Paris représentera bien plus que 90% du budget de la Creuse.\n",
    "\n",
    "Q2 : Biais d'échelle. Le département qui fournit 500k€ à la recherche consacre peut-être un montant bien plus important au regard de son budget total.\n",
    "\n",
    "$\\rightarrow$ Parallèle Pologne/USA dans l'aide fournie à l'Ukraine"
   ]
  },
  {
   "cell_type": "markdown",
   "id": "90302d7e",
   "metadata": {},
   "source": [
    "<img src=\"https://cdn.statcdn.com/Infographic/images/normal/27290.jpeg\" width=\"400\">\n"
   ]
  },
  {
   "cell_type": "markdown",
   "id": "f78d1d52",
   "metadata": {},
   "source": [
    "# Exercice 5"
   ]
  },
  {
   "cell_type": "markdown",
   "id": "6cce74a9",
   "metadata": {},
   "source": [
    "Q1 :\n",
    "* ✅ Corrélation entre temps d'étude et performances académiques\n",
    "* ✅ Temps d'étude antérieur aux performances académiques (examens en fin d'année)\n",
    "* ❌ Toutes choses égales par ailleurs $\\rightarrow$ à démontrer\n",
    "\n",
    "Les informations actuelles ne sont pas suffisantes pour établir la causalité.\n",
    "\n",
    "Q2 : autres facteurs\n",
    "* heures de colle, parents pris donc étude le soir, QI, redoublant, CSP des parents, temps de sommeil ...\n",
    "\n",
    "Q3 : faire des paires d'étudiants ayant exactement le même profil hormis leur temps d'étude et analyser l'influence sur la réussite académique"
   ]
  },
  {
   "cell_type": "markdown",
   "id": "db23ea08",
   "metadata": {},
   "source": [
    "# Exercice 6"
   ]
  },
  {
   "attachments": {},
   "cell_type": "markdown",
   "id": "e5faa702",
   "metadata": {},
   "source": [
    "Il y a deux hôpitaux dans une ville, Hôpital A et Hôpital B. \n",
    "\n",
    "Hôpital A : \n",
    "* Département enfant : taux de survivabilité : 30 % ( sur 100 patients)\n",
    "* Département adulte : taux de survivabilité : 96.66668 % ( sur 900 patients)\n",
    "\n",
    "Hôpital B :\n",
    "* Département enfant : taux de survivabilité : 52.5% ( sur 400 patients)\n",
    "* Département adulte : taux de survivabilité : 98.3 % ( sur 600 patients)\n",
    "\n",
    "Question 1 : Si tu analyses les taux de survie de chaque hôpital séparément, lequel semble avoir de meilleurs résultats dans chaque groupe ?\n",
    "\n",
    "Question 2 : Si tu combines les résultats des deux départements dans chaque hôpital, qu'observe-tu concernant les taux de survie globaux dans les groupes A et B ?\n",
    "\n",
    "Question 3 : Comment le paradoxe de Simpson se manifeste-t-il dans cette situation ? Quelle conclusion importante peut-on en tirer ?\n",
    "\n",
    "Q1:\n",
    "\n",
    "L’hôpital B est le meilleur hôpital, avec un taux de réussite plus élevé dans chaque département par rapport à l’hôpital A. \n",
    "\n",
    "Q2 : \n",
    "* Hôpital A : \n",
    "\n",
    "$$\\frac{0.3\\times100+0.96666668\\times900}{100+900} = 90\\%$$\n",
    "* Hôpital B : \n",
    "$$\\frac{0.525\\times400+0.983\\times600}{400 + 600} = 80\\%$$\n",
    "\n",
    "\n",
    "L’hôpital A a un meilleur taux de réussite global et semble mieux que l’hôpital B.\n"
   ]
  },
  {
   "cell_type": "code",
   "execution_count": null,
   "id": "fe00f8f2",
   "metadata": {},
   "outputs": [],
   "source": []
  },
  {
   "cell_type": "code",
   "execution_count": null,
   "id": "c853fcf7",
   "metadata": {},
   "outputs": [],
   "source": []
  }
 ],
 "metadata": {
  "kernelspec": {
   "display_name": "Python 3 (ipykernel)",
   "language": "python",
   "name": "python3"
  },
  "language_info": {
   "codemirror_mode": {
    "name": "ipython",
    "version": 3
   },
   "file_extension": ".py",
   "mimetype": "text/x-python",
   "name": "python",
   "nbconvert_exporter": "python",
   "pygments_lexer": "ipython3",
   "version": "3.9.7"
  },
  "toc": {
   "base_numbering": 1,
   "nav_menu": {},
   "number_sections": true,
   "sideBar": true,
   "skip_h1_title": false,
   "title_cell": "Table of Contents",
   "title_sidebar": "Contents",
   "toc_cell": false,
   "toc_position": {},
   "toc_section_display": true,
   "toc_window_display": false
  }
 },
 "nbformat": 4,
 "nbformat_minor": 5
}

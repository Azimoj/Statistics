{
 "cells": [
  {
   "cell_type": "markdown",
   "metadata": {
    "id": "c-_3Erze1GRt"
   },
   "source": [
    "# J1 – Statistics"
   ]
  },
  {
   "cell_type": "code",
   "execution_count": 1,
   "metadata": {
    "ExecuteTime": {
     "end_time": "2021-07-01T08:07:57.183365Z",
     "start_time": "2021-07-01T08:07:57.178733Z"
    },
    "executionInfo": {
     "elapsed": 1038,
     "status": "ok",
     "timestamp": 1643887597679,
     "user": {
      "displayName": "Hippolyte GUIGON",
      "photoUrl": "https://lh3.googleusercontent.com/a-/AOh14GjYVU9CDexRPiTYRyddiqGAyBg678-bBucrxUClWw=s64",
      "userId": "18045676621189214494"
     },
     "user_tz": -60
    },
    "id": "8M7LAON81GRy"
   },
   "outputs": [],
   "source": [
    "import numpy as np\n",
    "import scipy.stats as st\n",
    "\n",
    "import matplotlib.pyplot as plt\n",
    "import seaborn as sns\n",
    "import pandas as pd"
   ]
  },
  {
   "cell_type": "markdown",
   "metadata": {
    "id": "l1MZh16X1GR0"
   },
   "source": [
    "## EDA"
   ]
  },
  {
   "cell_type": "markdown",
   "metadata": {
    "id": "yI_CGS_I1GR0"
   },
   "source": [
    "### Paiments Olist"
   ]
  },
  {
   "cell_type": "markdown",
   "metadata": {
    "id": "vv-TgwJK1GR1"
   },
   "source": [
    "Ouvrez `olist_order_payments.csv` et réalisez les différentes requêtes d'opération statistiques ci-dessous."
   ]
  },
  {
   "cell_type": "code",
   "execution_count": 3,
   "metadata": {
    "ExecuteTime": {
     "end_time": "2021-07-01T08:08:19.123377Z",
     "start_time": "2021-07-01T08:08:18.688405Z"
    },
    "colab": {
     "base_uri": "https://localhost:8080/",
     "height": 419
    },
    "executionInfo": {
     "elapsed": 394,
     "status": "ok",
     "timestamp": 1643887598715,
     "user": {
      "displayName": "Hippolyte GUIGON",
      "photoUrl": "https://lh3.googleusercontent.com/a-/AOh14GjYVU9CDexRPiTYRyddiqGAyBg678-bBucrxUClWw=s64",
      "userId": "18045676621189214494"
     },
     "user_tz": -60
    },
    "id": "6XWAF30E1GR1",
    "outputId": "73550f41-0ba8-4b80-eef4-61c8f767a201",
    "scrolled": true
   },
   "outputs": [
    {
     "data": {
      "text/html": [
       "<div>\n",
       "<style scoped>\n",
       "    .dataframe tbody tr th:only-of-type {\n",
       "        vertical-align: middle;\n",
       "    }\n",
       "\n",
       "    .dataframe tbody tr th {\n",
       "        vertical-align: top;\n",
       "    }\n",
       "\n",
       "    .dataframe thead th {\n",
       "        text-align: right;\n",
       "    }\n",
       "</style>\n",
       "<table border=\"1\" class=\"dataframe\">\n",
       "  <thead>\n",
       "    <tr style=\"text-align: right;\">\n",
       "      <th></th>\n",
       "      <th>order_id</th>\n",
       "      <th>payment_sequential</th>\n",
       "      <th>payment_type</th>\n",
       "      <th>payment_installments</th>\n",
       "      <th>payment_value</th>\n",
       "    </tr>\n",
       "  </thead>\n",
       "  <tbody>\n",
       "    <tr>\n",
       "      <th>0</th>\n",
       "      <td>b81ef226f3fe1789b1e8b2acac839d17</td>\n",
       "      <td>1</td>\n",
       "      <td>credit_card</td>\n",
       "      <td>8</td>\n",
       "      <td>99.33</td>\n",
       "    </tr>\n",
       "    <tr>\n",
       "      <th>1</th>\n",
       "      <td>a9810da82917af2d9aefd1278f1dcfa0</td>\n",
       "      <td>1</td>\n",
       "      <td>credit_card</td>\n",
       "      <td>1</td>\n",
       "      <td>24.39</td>\n",
       "    </tr>\n",
       "    <tr>\n",
       "      <th>2</th>\n",
       "      <td>25e8ea4e93396b6fa0d3dd708e76c1bd</td>\n",
       "      <td>1</td>\n",
       "      <td>credit_card</td>\n",
       "      <td>1</td>\n",
       "      <td>65.71</td>\n",
       "    </tr>\n",
       "    <tr>\n",
       "      <th>3</th>\n",
       "      <td>ba78997921bbcdc1373bb41e913ab953</td>\n",
       "      <td>1</td>\n",
       "      <td>credit_card</td>\n",
       "      <td>8</td>\n",
       "      <td>107.78</td>\n",
       "    </tr>\n",
       "    <tr>\n",
       "      <th>4</th>\n",
       "      <td>42fdf880ba16b47b59251dd489d4441a</td>\n",
       "      <td>1</td>\n",
       "      <td>credit_card</td>\n",
       "      <td>2</td>\n",
       "      <td>128.45</td>\n",
       "    </tr>\n",
       "    <tr>\n",
       "      <th>...</th>\n",
       "      <td>...</td>\n",
       "      <td>...</td>\n",
       "      <td>...</td>\n",
       "      <td>...</td>\n",
       "      <td>...</td>\n",
       "    </tr>\n",
       "    <tr>\n",
       "      <th>103881</th>\n",
       "      <td>0406037ad97740d563a178ecc7a2075c</td>\n",
       "      <td>1</td>\n",
       "      <td>boleto</td>\n",
       "      <td>1</td>\n",
       "      <td>363.31</td>\n",
       "    </tr>\n",
       "    <tr>\n",
       "      <th>103882</th>\n",
       "      <td>7b905861d7c825891d6347454ea7863f</td>\n",
       "      <td>1</td>\n",
       "      <td>credit_card</td>\n",
       "      <td>2</td>\n",
       "      <td>96.80</td>\n",
       "    </tr>\n",
       "    <tr>\n",
       "      <th>103883</th>\n",
       "      <td>32609bbb3dd69b3c066a6860554a77bf</td>\n",
       "      <td>1</td>\n",
       "      <td>credit_card</td>\n",
       "      <td>1</td>\n",
       "      <td>47.77</td>\n",
       "    </tr>\n",
       "    <tr>\n",
       "      <th>103884</th>\n",
       "      <td>b8b61059626efa996a60be9bb9320e10</td>\n",
       "      <td>1</td>\n",
       "      <td>credit_card</td>\n",
       "      <td>5</td>\n",
       "      <td>369.54</td>\n",
       "    </tr>\n",
       "    <tr>\n",
       "      <th>103885</th>\n",
       "      <td>28bbae6599b09d39ca406b747b6632b1</td>\n",
       "      <td>1</td>\n",
       "      <td>boleto</td>\n",
       "      <td>1</td>\n",
       "      <td>191.58</td>\n",
       "    </tr>\n",
       "  </tbody>\n",
       "</table>\n",
       "<p>103886 rows × 5 columns</p>\n",
       "</div>"
      ],
      "text/plain": [
       "                                order_id  payment_sequential payment_type  \\\n",
       "0       b81ef226f3fe1789b1e8b2acac839d17                   1  credit_card   \n",
       "1       a9810da82917af2d9aefd1278f1dcfa0                   1  credit_card   \n",
       "2       25e8ea4e93396b6fa0d3dd708e76c1bd                   1  credit_card   \n",
       "3       ba78997921bbcdc1373bb41e913ab953                   1  credit_card   \n",
       "4       42fdf880ba16b47b59251dd489d4441a                   1  credit_card   \n",
       "...                                  ...                 ...          ...   \n",
       "103881  0406037ad97740d563a178ecc7a2075c                   1       boleto   \n",
       "103882  7b905861d7c825891d6347454ea7863f                   1  credit_card   \n",
       "103883  32609bbb3dd69b3c066a6860554a77bf                   1  credit_card   \n",
       "103884  b8b61059626efa996a60be9bb9320e10                   1  credit_card   \n",
       "103885  28bbae6599b09d39ca406b747b6632b1                   1       boleto   \n",
       "\n",
       "        payment_installments  payment_value  \n",
       "0                          8          99.33  \n",
       "1                          1          24.39  \n",
       "2                          1          65.71  \n",
       "3                          8         107.78  \n",
       "4                          2         128.45  \n",
       "...                      ...            ...  \n",
       "103881                     1         363.31  \n",
       "103882                     2          96.80  \n",
       "103883                     1          47.77  \n",
       "103884                     5         369.54  \n",
       "103885                     1         191.58  \n",
       "\n",
       "[103886 rows x 5 columns]"
      ]
     },
     "execution_count": 3,
     "metadata": {},
     "output_type": "execute_result"
    }
   ],
   "source": [
    "olist = pd.read_csv('olist_order_payments_dataset.csv')\n",
    "olist"
   ]
  },
  {
   "cell_type": "code",
   "execution_count": 4,
   "metadata": {},
   "outputs": [
    {
     "name": "stdout",
     "output_type": "stream",
     "text": [
      "<class 'pandas.core.frame.DataFrame'>\n",
      "RangeIndex: 103886 entries, 0 to 103885\n",
      "Data columns (total 5 columns):\n",
      " #   Column                Non-Null Count   Dtype  \n",
      "---  ------                --------------   -----  \n",
      " 0   order_id              103886 non-null  object \n",
      " 1   payment_sequential    103886 non-null  int64  \n",
      " 2   payment_type          103886 non-null  object \n",
      " 3   payment_installments  103886 non-null  int64  \n",
      " 4   payment_value         103886 non-null  float64\n",
      "dtypes: float64(1), int64(2), object(2)\n",
      "memory usage: 4.0+ MB\n"
     ]
    }
   ],
   "source": [
    "olist.info()"
   ]
  },
  {
   "cell_type": "code",
   "execution_count": 7,
   "metadata": {
    "ExecuteTime": {
     "end_time": "2021-07-01T08:09:01.190088Z",
     "start_time": "2021-07-01T08:09:01.108286Z"
    },
    "colab": {
     "base_uri": "https://localhost:8080/"
    },
    "executionInfo": {
     "elapsed": 6,
     "status": "ok",
     "timestamp": 1643887600653,
     "user": {
      "displayName": "Hippolyte GUIGON",
      "photoUrl": "https://lh3.googleusercontent.com/a-/AOh14GjYVU9CDexRPiTYRyddiqGAyBg678-bBucrxUClWw=s64",
      "userId": "18045676621189214494"
     },
     "user_tz": -60
    },
    "id": "V67NVJR01GR3",
    "outputId": "4e94be39-ad59-41e2-b0e6-09427a5dddf2",
    "scrolled": true
   },
   "outputs": [
    {
     "data": {
      "text/html": [
       "<div>\n",
       "<style scoped>\n",
       "    .dataframe tbody tr th:only-of-type {\n",
       "        vertical-align: middle;\n",
       "    }\n",
       "\n",
       "    .dataframe tbody tr th {\n",
       "        vertical-align: top;\n",
       "    }\n",
       "\n",
       "    .dataframe thead th {\n",
       "        text-align: right;\n",
       "    }\n",
       "</style>\n",
       "<table border=\"1\" class=\"dataframe\">\n",
       "  <thead>\n",
       "    <tr style=\"text-align: right;\">\n",
       "      <th></th>\n",
       "      <th>payment_value</th>\n",
       "    </tr>\n",
       "  </thead>\n",
       "  <tbody>\n",
       "    <tr>\n",
       "      <th>count</th>\n",
       "      <td>103886.000000</td>\n",
       "    </tr>\n",
       "    <tr>\n",
       "      <th>mean</th>\n",
       "      <td>154.100380</td>\n",
       "    </tr>\n",
       "    <tr>\n",
       "      <th>std</th>\n",
       "      <td>217.494064</td>\n",
       "    </tr>\n",
       "    <tr>\n",
       "      <th>min</th>\n",
       "      <td>0.000000</td>\n",
       "    </tr>\n",
       "    <tr>\n",
       "      <th>25%</th>\n",
       "      <td>56.790000</td>\n",
       "    </tr>\n",
       "    <tr>\n",
       "      <th>50%</th>\n",
       "      <td>100.000000</td>\n",
       "    </tr>\n",
       "    <tr>\n",
       "      <th>75%</th>\n",
       "      <td>171.837500</td>\n",
       "    </tr>\n",
       "    <tr>\n",
       "      <th>max</th>\n",
       "      <td>13664.080000</td>\n",
       "    </tr>\n",
       "  </tbody>\n",
       "</table>\n",
       "</div>"
      ],
      "text/plain": [
       "       payment_value\n",
       "count  103886.000000\n",
       "mean      154.100380\n",
       "std       217.494064\n",
       "min         0.000000\n",
       "25%        56.790000\n",
       "50%       100.000000\n",
       "75%       171.837500\n",
       "max     13664.080000"
      ]
     },
     "execution_count": 7,
     "metadata": {},
     "output_type": "execute_result"
    }
   ],
   "source": [
    "olist.payment_value.describe().to_frame()"
   ]
  },
  {
   "cell_type": "code",
   "execution_count": 8,
   "metadata": {
    "ExecuteTime": {
     "end_time": "2021-07-01T08:35:39.400894Z",
     "start_time": "2021-07-01T08:35:39.368368Z"
    },
    "colab": {
     "base_uri": "https://localhost:8080/"
    },
    "executionInfo": {
     "elapsed": 255,
     "status": "ok",
     "timestamp": 1643887617007,
     "user": {
      "displayName": "Hippolyte GUIGON",
      "photoUrl": "https://lh3.googleusercontent.com/a-/AOh14GjYVU9CDexRPiTYRyddiqGAyBg678-bBucrxUClWw=s64",
      "userId": "18045676621189214494"
     },
     "user_tz": -60
    },
    "id": "dK5jE6br1GR5",
    "outputId": "aa0f96ab-0b22-442b-fa9e-4d98db31eafd"
   },
   "outputs": [
    {
     "data": {
      "text/plain": [
       "50.00      324\n",
       "20.00      274\n",
       "100.00     255\n",
       "77.57      250\n",
       "35.00      165\n",
       "          ... \n",
       "264.64       1\n",
       "1071.83      1\n",
       "563.95       1\n",
       "38.07        1\n",
       "363.31       1\n",
       "Name: payment_value, Length: 29077, dtype: int64"
      ]
     },
     "execution_count": 8,
     "metadata": {},
     "output_type": "execute_result"
    }
   ],
   "source": [
    "olist['payment_value'].value_counts()"
   ]
  },
  {
   "cell_type": "code",
   "execution_count": 9,
   "metadata": {},
   "outputs": [
    {
     "data": {
      "text/plain": [
       "False    103886\n",
       "Name: payment_value, dtype: int64"
      ]
     },
     "execution_count": 9,
     "metadata": {},
     "output_type": "execute_result"
    }
   ],
   "source": [
    "olist['payment_value'].isna().value_counts()"
   ]
  },
  {
   "cell_type": "markdown",
   "metadata": {},
   "source": [
    "## Statistiques descriptives"
   ]
  },
  {
   "cell_type": "code",
   "execution_count": 10,
   "metadata": {
    "ExecuteTime": {
     "end_time": "2021-07-01T08:09:23.875115Z",
     "start_time": "2021-07-01T08:09:23.850233Z"
    },
    "colab": {
     "base_uri": "https://localhost:8080/"
    },
    "executionInfo": {
     "elapsed": 4,
     "status": "ok",
     "timestamp": 1643887601727,
     "user": {
      "displayName": "Hippolyte GUIGON",
      "photoUrl": "https://lh3.googleusercontent.com/a-/AOh14GjYVU9CDexRPiTYRyddiqGAyBg678-bBucrxUClWw=s64",
      "userId": "18045676621189214494"
     },
     "user_tz": -60
    },
    "id": "Dzvgd-J41GR3",
    "outputId": "30b407d0-0624-4179-ff4e-6d5a1f4ca91c",
    "scrolled": true
   },
   "outputs": [
    {
     "data": {
      "text/plain": [
       "154.10038041698365"
      ]
     },
     "execution_count": 10,
     "metadata": {},
     "output_type": "execute_result"
    }
   ],
   "source": [
    "np.mean(olist.payment_value)"
   ]
  },
  {
   "cell_type": "code",
   "execution_count": 11,
   "metadata": {
    "ExecuteTime": {
     "end_time": "2021-07-01T08:09:32.445897Z",
     "start_time": "2021-07-01T08:09:32.429281Z"
    },
    "colab": {
     "base_uri": "https://localhost:8080/"
    },
    "executionInfo": {
     "elapsed": 458,
     "status": "ok",
     "timestamp": 1643887602967,
     "user": {
      "displayName": "Hippolyte GUIGON",
      "photoUrl": "https://lh3.googleusercontent.com/a-/AOh14GjYVU9CDexRPiTYRyddiqGAyBg678-bBucrxUClWw=s64",
      "userId": "18045676621189214494"
     },
     "user_tz": -60
    },
    "id": "TxPoqB3k1GR4",
    "outputId": "9f4744bd-f70b-4bc7-b5a4-4978dbef0bdb",
    "scrolled": true
   },
   "outputs": [
    {
     "data": {
      "text/plain": [
       "100.0"
      ]
     },
     "execution_count": 11,
     "metadata": {},
     "output_type": "execute_result"
    }
   ],
   "source": [
    "np.median(olist.payment_value)"
   ]
  },
  {
   "cell_type": "code",
   "execution_count": 12,
   "metadata": {
    "ExecuteTime": {
     "end_time": "2021-07-01T08:11:02.546724Z",
     "start_time": "2021-07-01T08:11:02.532104Z"
    },
    "colab": {
     "base_uri": "https://localhost:8080/"
    },
    "executionInfo": {
     "elapsed": 7,
     "status": "ok",
     "timestamp": 1643887604098,
     "user": {
      "displayName": "Hippolyte GUIGON",
      "photoUrl": "https://lh3.googleusercontent.com/a-/AOh14GjYVU9CDexRPiTYRyddiqGAyBg678-bBucrxUClWw=s64",
      "userId": "18045676621189214494"
     },
     "user_tz": -60
    },
    "id": "nZEyT7wV1GR4",
    "outputId": "50cc2222-f581-45c2-d272-ceefc4a8ab4f"
   },
   "outputs": [
    {
     "data": {
      "text/plain": [
       "47303.21247430867"
      ]
     },
     "execution_count": 12,
     "metadata": {},
     "output_type": "execute_result"
    }
   ],
   "source": [
    "np.var(olist.payment_value)"
   ]
  },
  {
   "cell_type": "code",
   "execution_count": 13,
   "metadata": {
    "ExecuteTime": {
     "end_time": "2021-07-01T08:12:29.308024Z",
     "start_time": "2021-07-01T08:12:29.269929Z"
    },
    "colab": {
     "base_uri": "https://localhost:8080/"
    },
    "executionInfo": {
     "elapsed": 4,
     "status": "ok",
     "timestamp": 1643887605534,
     "user": {
      "displayName": "Hippolyte GUIGON",
      "photoUrl": "https://lh3.googleusercontent.com/a-/AOh14GjYVU9CDexRPiTYRyddiqGAyBg678-bBucrxUClWw=s64",
      "userId": "18045676621189214494"
     },
     "user_tz": -60
    },
    "id": "C5FwnHn91GR5",
    "outputId": "b9841493-0993-47c1-cfbe-24303b9b8886"
   },
   "outputs": [
    {
     "data": {
      "text/plain": [
       "ModeResult(mode=array([50.]), count=array([324]))"
      ]
     },
     "execution_count": 13,
     "metadata": {},
     "output_type": "execute_result"
    }
   ],
   "source": [
    "st.mode(olist.payment_value)"
   ]
  },
  {
   "cell_type": "code",
   "execution_count": 14,
   "metadata": {},
   "outputs": [
    {
     "data": {
      "text/plain": [
       "<AxesSubplot:xlabel='payment_value', ylabel='Count'>"
      ]
     },
     "execution_count": 14,
     "metadata": {},
     "output_type": "execute_result"
    },
    {
     "data": {
      "image/png": "[encoded data removed]",
      "text/plain": [
       "<Figure size 432x288 with 1 Axes>"
      ]
     },
     "metadata": {
      "needs_background": "light"
     },
     "output_type": "display_data"
    }
   ],
   "source": [
    "sns.histplot(olist['payment_value'])"
   ]
  },
  {
   "cell_type": "code",
   "execution_count": 15,
   "metadata": {},
   "outputs": [
    {
     "data": {
      "text/plain": [
       "(0.0, 1000.0)"
      ]
     },
     "execution_count": 15,
     "metadata": {},
     "output_type": "execute_result"
    },
    {
     "data": {
      "image/png": "[encoded data removed]",
      "text/plain": [
       "<Figure size 432x288 with 1 Axes>"
      ]
     },
     "metadata": {
      "needs_background": "light"
     },
     "output_type": "display_data"
    }
   ],
   "source": [
    "sns.histplot(olist['payment_value'])\n",
    "plt.xlim([0,1000])"
   ]
  },
  {
   "cell_type": "code",
   "execution_count": 16,
   "metadata": {
    "scrolled": true
   },
   "outputs": [
    {
     "name": "stderr",
     "output_type": "stream",
     "text": [
      "C:\\Users\\azade\\anaconda3\\lib\\site-packages\\seaborn\\_decorators.py:36: FutureWarning: Pass the following variable as a keyword arg: x. From version 0.12, the only valid positional argument will be `data`, and passing other arguments without an explicit keyword will result in an error or misinterpretation.\n",
      "  warnings.warn(\n"
     ]
    },
    {
     "data": {
      "text/plain": [
       "<AxesSubplot:xlabel='payment_value'>"
      ]
     },
     "execution_count": 16,
     "metadata": {},
     "output_type": "execute_result"
    },
    {
     "data": {
      "image/png": "[encoded data removed]",
      "text/plain": [
       "<Figure size 432x288 with 1 Axes>"
      ]
     },
     "metadata": {
      "needs_background": "light"
     },
     "output_type": "display_data"
    }
   ],
   "source": [
    "sns.boxplot(olist['payment_value'])"
   ]
  },
  {
   "cell_type": "code",
   "execution_count": 17,
   "metadata": {},
   "outputs": [
    {
     "name": "stderr",
     "output_type": "stream",
     "text": [
      "C:\\Users\\azade\\anaconda3\\lib\\site-packages\\seaborn\\_decorators.py:36: FutureWarning: Pass the following variable as a keyword arg: x. From version 0.12, the only valid positional argument will be `data`, and passing other arguments without an explicit keyword will result in an error or misinterpretation.\n",
      "  warnings.warn(\n"
     ]
    },
    {
     "data": {
      "text/plain": [
       "(0.0, 500.0)"
      ]
     },
     "execution_count": 17,
     "metadata": {},
     "output_type": "execute_result"
    },
    {
     "data": {
      "image/png": "[encoded data removed]",
      "text/plain": [
       "<Figure size 432x288 with 1 Axes>"
      ]
     },
     "metadata": {
      "needs_background": "light"
     },
     "output_type": "display_data"
    }
   ],
   "source": [
    "sns.boxplot(olist['payment_value'])\n",
    "plt.xlim([0,500])"
   ]
  },
  {
   "cell_type": "code",
   "execution_count": 18,
   "metadata": {
    "ExecuteTime": {
     "end_time": "2021-07-01T08:13:43.536300Z",
     "start_time": "2021-07-01T08:13:43.510155Z"
    },
    "colab": {
     "base_uri": "https://localhost:8080/"
    },
    "executionInfo": {
     "elapsed": 250,
     "status": "ok",
     "timestamp": 1643887621549,
     "user": {
      "displayName": "Hippolyte GUIGON",
      "photoUrl": "https://lh3.googleusercontent.com/a-/AOh14GjYVU9CDexRPiTYRyddiqGAyBg678-bBucrxUClWw=s64",
      "userId": "18045676621189214494"
     },
     "user_tz": -60
    },
    "id": "sWxf3hTv1GR6",
    "outputId": "4d0e2364-5653-4af5-e6b3-674d4e08441c"
   },
   "outputs": [
    {
     "data": {
      "text/plain": [
       "array([[1.        , 0.33081084],\n",
       "       [0.33081084, 1.        ]])"
      ]
     },
     "execution_count": 18,
     "metadata": {},
     "output_type": "execute_result"
    }
   ],
   "source": [
    "np.corrcoef(olist.payment_value, olist.payment_installments)"
   ]
  },
  {
   "cell_type": "code",
   "execution_count": 19,
   "metadata": {
    "ExecuteTime": {
     "end_time": "2021-07-01T08:37:43.797408Z",
     "start_time": "2021-07-01T08:37:43.761929Z"
    },
    "colab": {
     "base_uri": "https://localhost:8080/"
    },
    "executionInfo": {
     "elapsed": 262,
     "status": "ok",
     "timestamp": 1643887626615,
     "user": {
      "displayName": "Hippolyte GUIGON",
      "photoUrl": "https://lh3.googleusercontent.com/a-/AOh14GjYVU9CDexRPiTYRyddiqGAyBg678-bBucrxUClWw=s64",
      "userId": "18045676621189214494"
     },
     "user_tz": -60
    },
    "id": "BJUJQxPh1GR6",
    "outputId": "437fb2ee-e58b-4572-9173-7dafb9a5e28e"
   },
   "outputs": [
    {
     "data": {
      "text/plain": [
       "0.3308108445189853"
      ]
     },
     "execution_count": 19,
     "metadata": {},
     "output_type": "execute_result"
    }
   ],
   "source": [
    "olist['payment_value'].corr(olist['payment_installments'])"
   ]
  },
  {
   "cell_type": "code",
   "execution_count": 20,
   "metadata": {},
   "outputs": [
    {
     "data": {
      "text/plain": [
       "<AxesSubplot:>"
      ]
     },
     "execution_count": 20,
     "metadata": {},
     "output_type": "execute_result"
    },
    {
     "data": {
      "image/png": "[encoded data removed]",
      "text/plain": [
       "<Figure size 432x288 with 2 Axes>"
      ]
     },
     "metadata": {
      "needs_background": "light"
     },
     "output_type": "display_data"
    }
   ],
   "source": [
    "sns.heatmap(np.corrcoef(olist.payment_value, olist.payment_installments),annot=True)"
   ]
  },
  {
   "cell_type": "markdown",
   "metadata": {
    "id": "yrk7DyrI1GR7"
   },
   "source": [
    "### Probabilités avec Numpy – Simuler des lois statistiques"
   ]
  },
  {
   "cell_type": "markdown",
   "metadata": {
    "id": "EJ4T0HQo1GR7"
   },
   "source": [
    "* Nombres aléatoires"
   ]
  },
  {
   "cell_type": "code",
   "execution_count": 21,
   "metadata": {
    "ExecuteTime": {
     "end_time": "2021-04-13T08:35:21.676404Z",
     "start_time": "2021-04-13T08:35:21.657917Z"
    },
    "colab": {
     "base_uri": "https://localhost:8080/"
    },
    "executionInfo": {
     "elapsed": 263,
     "status": "ok",
     "timestamp": 1643887649667,
     "user": {
      "displayName": "Hippolyte GUIGON",
      "photoUrl": "https://lh3.googleusercontent.com/a-/AOh14GjYVU9CDexRPiTYRyddiqGAyBg678-bBucrxUClWw=s64",
      "userId": "18045676621189214494"
     },
     "user_tz": -60
    },
    "id": "_O0B_6X11GR8",
    "outputId": "ff01fd52-cf1a-447e-a20d-bd7d3e4ee0c6"
   },
   "outputs": [
    {
     "data": {
      "text/plain": [
       "0.07126593960121741"
      ]
     },
     "execution_count": 21,
     "metadata": {},
     "output_type": "execute_result"
    }
   ],
   "source": [
    "# nombre aléatoire dans le sous-package random\n",
    "np.random.random()"
   ]
  },
  {
   "cell_type": "code",
   "execution_count": 22,
   "metadata": {
    "ExecuteTime": {
     "end_time": "2021-01-15T14:20:10.640262Z",
     "start_time": "2021-01-15T14:20:10.628471Z"
    },
    "colab": {
     "base_uri": "https://localhost:8080/"
    },
    "executionInfo": {
     "elapsed": 233,
     "status": "ok",
     "timestamp": 1643887664936,
     "user": {
      "displayName": "Hippolyte GUIGON",
      "photoUrl": "https://lh3.googleusercontent.com/a-/AOh14GjYVU9CDexRPiTYRyddiqGAyBg678-bBucrxUClWw=s64",
      "userId": "18045676621189214494"
     },
     "user_tz": -60
    },
    "id": "QAgrIaku1GR8",
    "outputId": "8e1dd23f-d3bc-49f4-cfa1-1611d3c22d05"
   },
   "outputs": [
    {
     "data": {
      "text/plain": [
       "array([[0.66232657, 0.40335644, 0.07296428, 0.02458101, 0.69979427],\n",
       "       [0.20419468, 0.75891551, 0.36083995, 0.57150036, 0.09909991]])"
      ]
     },
     "execution_count": 22,
     "metadata": {},
     "output_type": "execute_result"
    }
   ],
   "source": [
    "# l'attribut size permet de choisir la taille de l'array\n",
    "np.random.random(size=(2, 5))"
   ]
  },
  {
   "cell_type": "code",
   "execution_count": 23,
   "metadata": {
    "ExecuteTime": {
     "end_time": "2021-01-25T18:28:36.073309Z",
     "start_time": "2021-01-25T18:28:36.060428Z"
    },
    "colab": {
     "base_uri": "https://localhost:8080/"
    },
    "executionInfo": {
     "elapsed": 337,
     "status": "ok",
     "timestamp": 1643887691177,
     "user": {
      "displayName": "Hippolyte GUIGON",
      "photoUrl": "https://lh3.googleusercontent.com/a-/AOh14GjYVU9CDexRPiTYRyddiqGAyBg678-bBucrxUClWw=s64",
      "userId": "18045676621189214494"
     },
     "user_tz": -60
    },
    "id": "l7gCER501GR9",
    "outputId": "50f64966-34f0-4dad-8b94-d9def09db292"
   },
   "outputs": [
    {
     "data": {
      "text/plain": [
       "484"
      ]
     },
     "execution_count": 23,
     "metadata": {},
     "output_type": "execute_result"
    }
   ],
   "source": [
    "#choisi un entier aléatoire\n",
    "np.random.randint(1000)"
   ]
  },
  {
   "cell_type": "code",
   "execution_count": 24,
   "metadata": {
    "ExecuteTime": {
     "end_time": "2021-01-25T18:28:39.956483Z",
     "start_time": "2021-01-25T18:28:39.937545Z"
    },
    "colab": {
     "base_uri": "https://localhost:8080/"
    },
    "executionInfo": {
     "elapsed": 278,
     "status": "ok",
     "timestamp": 1643887706243,
     "user": {
      "displayName": "Hippolyte GUIGON",
      "photoUrl": "https://lh3.googleusercontent.com/a-/AOh14GjYVU9CDexRPiTYRyddiqGAyBg678-bBucrxUClWw=s64",
      "userId": "18045676621189214494"
     },
     "user_tz": -60
    },
    "id": "NgUESz7H1GR9",
    "outputId": "74c3eb90-3b33-4d40-c9ba-947792db66df"
   },
   "outputs": [
    {
     "data": {
      "text/plain": [
       "array([849, 943, 225, 198, 560])"
      ]
     },
     "execution_count": 24,
     "metadata": {},
     "output_type": "execute_result"
    }
   ],
   "source": [
    "#choisi cinq entiers aléatoires entre entre 100 et 1000\n",
    "np.random.randint(100, 1000, size=5)"
   ]
  },
  {
   "cell_type": "markdown",
   "metadata": {
    "id": "u17D-iAd1GR-"
   },
   "source": [
    "* Variables aléatoires (tirer des échantillons depuis une distribution spécifique)"
   ]
  },
  {
   "cell_type": "code",
   "execution_count": 25,
   "metadata": {
    "ExecuteTime": {
     "end_time": "2021-01-15T14:20:11.558459Z",
     "start_time": "2021-01-15T14:20:11.542357Z"
    },
    "colab": {
     "base_uri": "https://localhost:8080/"
    },
    "executionInfo": {
     "elapsed": 235,
     "status": "ok",
     "timestamp": 1643887751269,
     "user": {
      "displayName": "Hippolyte GUIGON",
      "photoUrl": "https://lh3.googleusercontent.com/a-/AOh14GjYVU9CDexRPiTYRyddiqGAyBg678-bBucrxUClWw=s64",
      "userId": "18045676621189214494"
     },
     "user_tz": -60
    },
    "id": "6iFwZfrL1GR-",
    "outputId": "022c117f-49ba-4fc1-de1d-a19f54818a40"
   },
   "outputs": [
    {
     "data": {
      "text/plain": [
       "array([1.75966464, 7.54115299, 8.44563621, 8.27153944])"
      ]
     },
     "execution_count": 25,
     "metadata": {},
     "output_type": "execute_result"
    }
   ],
   "source": [
    "# choisi 4 valeurs entre 0 et 10 selon une loi uniforme\n",
    "np.random.uniform(0, 10, size=4)"
   ]
  },
  {
   "cell_type": "code",
   "execution_count": 26,
   "metadata": {
    "ExecuteTime": {
     "end_time": "2021-01-15T14:20:11.863542Z",
     "start_time": "2021-01-15T14:20:11.840562Z"
    },
    "colab": {
     "base_uri": "https://localhost:8080/"
    },
    "executionInfo": {
     "elapsed": 245,
     "status": "ok",
     "timestamp": 1643887897132,
     "user": {
      "displayName": "Hippolyte GUIGON",
      "photoUrl": "https://lh3.googleusercontent.com/a-/AOh14GjYVU9CDexRPiTYRyddiqGAyBg678-bBucrxUClWw=s64",
      "userId": "18045676621189214494"
     },
     "user_tz": -60
    },
    "id": "azaL4jlo1GR-",
    "outputId": "8bb3be4d-cf67-4bff-8195-cab9ecd6a4c4"
   },
   "outputs": [
    {
     "data": {
      "text/plain": [
       "array([[ 9.99998679, 10.00002328],\n",
       "       [ 9.99998528,  9.9999814 ]])"
      ]
     },
     "execution_count": 26,
     "metadata": {},
     "output_type": "execute_result"
    }
   ],
   "source": [
    "# choisi 2 valeurs deux fois de suite avec loc = moyenne et sclae = ecart type selon une loi normale\n",
    "np.random.normal(loc=10, scale=1e-5, size=(2,2))"
   ]
  },
  {
   "cell_type": "markdown",
   "metadata": {
    "id": "mHKd8wNF1GR_"
   },
   "source": [
    "Il existe pleins d'autres lois statistiques: https://numpy.org/doc/1.16/reference/routines.random.html."
   ]
  },
  {
   "cell_type": "markdown",
   "metadata": {
    "id": "esr8iu_11GR_"
   },
   "source": [
    "## Bootstrapping, inference, intervalles de confiance"
   ]
  },
  {
   "cell_type": "markdown",
   "metadata": {
    "id": "uSaUwRIS1GR_"
   },
   "source": [
    "#### Oeufs de pâques"
   ]
  },
  {
   "cell_type": "markdown",
   "metadata": {
    "id": "xG1cPUDn1GSA"
   },
   "source": [
    "On a reçu une très grande cargaisons d'oeufs de Pâques et on veut déterminer le poids moyen de ces oeufs pour vérifier la qualité de la marchandise. Pour cela on ne va pas peser l'ensemble de la cargaison mais simplement 10 oeufs. "
   ]
  },
  {
   "cell_type": "code",
   "execution_count": 39,
   "metadata": {
    "ExecuteTime": {
     "end_time": "2021-07-01T10:32:52.507976Z",
     "start_time": "2021-07-01T10:32:52.500975Z"
    },
    "executionInfo": {
     "elapsed": 263,
     "status": "ok",
     "timestamp": 1643887982633,
     "user": {
      "displayName": "Hippolyte GUIGON",
      "photoUrl": "https://lh3.googleusercontent.com/a-/AOh14GjYVU9CDexRPiTYRyddiqGAyBg678-bBucrxUClWw=s64",
      "userId": "18045676621189214494"
     },
     "user_tz": -60
    },
    "id": "sbPQ7GUI1GSA"
   },
   "outputs": [],
   "source": [
    "eggs = [20, 20, 20, 20, 70, 70, 70, 50, 90, 80]"
   ]
  },
  {
   "cell_type": "code",
   "execution_count": 40,
   "metadata": {
    "ExecuteTime": {
     "end_time": "2021-07-01T10:32:53.174422Z",
     "start_time": "2021-07-01T10:32:52.689912Z"
    },
    "colab": {
     "base_uri": "https://localhost:8080/",
     "height": 281
    },
    "executionInfo": {
     "elapsed": 303,
     "status": "ok",
     "timestamp": 1643887995183,
     "user": {
      "displayName": "Hippolyte GUIGON",
      "photoUrl": "https://lh3.googleusercontent.com/a-/AOh14GjYVU9CDexRPiTYRyddiqGAyBg678-bBucrxUClWw=s64",
      "userId": "18045676621189214494"
     },
     "user_tz": -60
    },
    "id": "KYt9hmIc1GSA",
    "outputId": "bcfd3940-3311-49bc-b12d-f4c26e3afd47",
    "scrolled": false
   },
   "outputs": [
    {
     "data": {
      "image/png": "[encoded data removed]",
      "text/plain": [
       "<Figure size 432x288 with 1 Axes>"
      ]
     },
     "metadata": {
      "needs_background": "light"
     },
     "output_type": "display_data"
    }
   ],
   "source": [
    "# Sample distribution\n",
    "sns.histplot(x=eggs, bins=20)\n",
    "plt.title('Sample distribution of Easter eggs weights')\n",
    "plt.show()"
   ]
  },
  {
   "cell_type": "markdown",
   "metadata": {
    "id": "HRudU0fR1GSB"
   },
   "source": [
    "* Intervalle de confiance"
   ]
  },
  {
   "cell_type": "code",
   "execution_count": 41,
   "metadata": {
    "ExecuteTime": {
     "end_time": "2021-07-01T10:32:53.197408Z",
     "start_time": "2021-07-01T10:32:53.186827Z"
    },
    "colab": {
     "base_uri": "https://localhost:8080/"
    },
    "executionInfo": {
     "elapsed": 245,
     "status": "ok",
     "timestamp": 1643888036026,
     "user": {
      "displayName": "Hippolyte GUIGON",
      "photoUrl": "https://lh3.googleusercontent.com/a-/AOh14GjYVU9CDexRPiTYRyddiqGAyBg678-bBucrxUClWw=s64",
      "userId": "18045676621189214494"
     },
     "user_tz": -60
    },
    "id": "jck8LmoD1GSB",
    "outputId": "84377e6a-26cf-4381-a952-94d01d602fe8"
   },
   "outputs": [
    {
     "name": "stdout",
     "output_type": "stream",
     "text": [
      "Mean: 51.0 \n",
      "Stdev: 27.0 \n",
      "Standard error: 8.538149682454623\n"
     ]
    }
   ],
   "source": [
    "mu = np.mean(eggs)\n",
    "sigma = np.std(eggs)\n",
    "z = sigma / np.sqrt(len(eggs))\n",
    "print('Mean:', mu, '\\nStdev:', sigma, '\\nStandard error:', z)"
   ]
  },
  {
   "cell_type": "code",
   "execution_count": 42,
   "metadata": {
    "ExecuteTime": {
     "end_time": "2021-07-01T10:32:53.461135Z",
     "start_time": "2021-07-01T10:32:53.451743Z"
    },
    "colab": {
     "base_uri": "https://localhost:8080/"
    },
    "executionInfo": {
     "elapsed": 276,
     "status": "ok",
     "timestamp": 1643888047570,
     "user": {
      "displayName": "Hippolyte GUIGON",
      "photoUrl": "https://lh3.googleusercontent.com/a-/AOh14GjYVU9CDexRPiTYRyddiqGAyBg678-bBucrxUClWw=s64",
      "userId": "18045676621189214494"
     },
     "user_tz": -60
    },
    "id": "Rhoy50E51GSC",
    "outputId": "7e3cd927-ee7a-4f1f-c423-d6dc259b21fa"
   },
   "outputs": [
    {
     "data": {
      "text/plain": [
       "(34.26522662238894, 67.73477337761106)"
      ]
     },
     "execution_count": 42,
     "metadata": {},
     "output_type": "execute_result"
    }
   ],
   "source": [
    "#calculons l'intervalle de confiance à 95%\n",
    "confidence_interval = (mu - 1.96*z, mu + 1.96*z)\n",
    "confidence_interval"
   ]
  },
  {
   "cell_type": "markdown",
   "metadata": {
    "id": "hcd8K4oi1GSD"
   },
   "source": [
    "* Intervalle de confiance bootstrappée"
   ]
  },
  {
   "cell_type": "code",
   "execution_count": 43,
   "metadata": {
    "ExecuteTime": {
     "end_time": "2021-07-01T10:32:54.204912Z",
     "start_time": "2021-07-01T10:32:54.197663Z"
    },
    "colab": {
     "base_uri": "https://localhost:8080/"
    },
    "executionInfo": {
     "elapsed": 232,
     "status": "ok",
     "timestamp": 1643888072893,
     "user": {
      "displayName": "Hippolyte GUIGON",
      "photoUrl": "https://lh3.googleusercontent.com/a-/AOh14GjYVU9CDexRPiTYRyddiqGAyBg678-bBucrxUClWw=s64",
      "userId": "18045676621189214494"
     },
     "user_tz": -60
    },
    "id": "3kHN6ZcV1GSD",
    "outputId": "fba36744-b775-4f4b-f6d5-56db524c3563"
   },
   "outputs": [
    {
     "data": {
      "text/plain": [
       "51.0"
      ]
     },
     "execution_count": 43,
     "metadata": {},
     "output_type": "execute_result"
    }
   ],
   "source": [
    "sample_mean = np.mean(eggs)\n",
    "sample_mean"
   ]
  },
  {
   "cell_type": "code",
   "execution_count": 44,
   "metadata": {
    "ExecuteTime": {
     "end_time": "2021-07-01T10:32:54.954435Z",
     "start_time": "2021-07-01T10:32:54.565526Z"
    },
    "executionInfo": {
     "elapsed": 225,
     "status": "ok",
     "timestamp": 1643888122412,
     "user": {
      "displayName": "Hippolyte GUIGON",
      "photoUrl": "https://lh3.googleusercontent.com/a-/AOh14GjYVU9CDexRPiTYRyddiqGAyBg678-bBucrxUClWw=s64",
      "userId": "18045676621189214494"
     },
     "user_tz": -60
    },
    "id": "osY_kBYp1GSF",
    "scrolled": true
   },
   "outputs": [],
   "source": [
    "bootstrap_means = []\n",
    "#faisons l'opération 5000 fois\n",
    "for i in range(5000):\n",
    "    #créer un nouvel échantillon entre les 10 valeurs de départ dans eggs\n",
    "    temp_sample = np.random.choice(eggs, replace=True, size=len(eggs))\n",
    "    #prenons la moyenne de cet échantillon\n",
    "    temp_mean = np.mean(temp_sample)\n",
    "    #mettons cette moyenne dans une liste\n",
    "    bootstrap_means.append(temp_mean)"
   ]
  },
  {
   "cell_type": "code",
   "execution_count": 45,
   "metadata": {
    "ExecuteTime": {
     "end_time": "2021-07-01T10:32:55.409124Z",
     "start_time": "2021-07-01T10:32:55.396129Z"
    },
    "colab": {
     "base_uri": "https://localhost:8080/"
    },
    "executionInfo": {
     "elapsed": 8,
     "status": "ok",
     "timestamp": 1643888124316,
     "user": {
      "displayName": "Hippolyte GUIGON",
      "photoUrl": "https://lh3.googleusercontent.com/a-/AOh14GjYVU9CDexRPiTYRyddiqGAyBg678-bBucrxUClWw=s64",
      "userId": "18045676621189214494"
     },
     "user_tz": -60
    },
    "id": "VQACkt_e1GSF",
    "outputId": "04e20d09-c876-4c08-e15c-4422a7cc4410"
   },
   "outputs": [
    {
     "name": "stdout",
     "output_type": "stream",
     "text": [
      "[20 90 70 80 20 80 80 70 70 70]\n",
      "[51.0, 41.0, 64.0, 57.0, 45.0, 57.0, 43.0, 53.0, 42.0, 51.0, 70.0, 37.0, 58.0, 68.0, 51.0, 44.0, 39.0, 51.0, 53.0, 39.0, 45.0, 55.0, 53.0, 51.0, 45.0, 47.0, 47.0, 57.0, 45.0, 50.0, 56.0, 52.0, 43.0, 58.0, 47.0, 46.0, 46.0, 47.0, 57.0, 44.0, 25.0, 59.0, 48.0, 38.0, 67.0, 54.0, 46.0, 58.0, 47.0, 35.0, 51.0, 43.0, 50.0, 53.0, 56.0, 58.0, 35.0, 59.0, 57.0, 51.0, 47.0, 42.0, 53.0, 54.0, 67.0, 41.0, 58.0, 59.0, 45.0, 37.0, 51.0, 49.0, 46.0, 50.0, 52.0, 46.0, 51.0, 40.0, 45.0, 59.0, 64.0, 35.0, 58.0, 48.0, 40.0, 46.0, 51.0, 61.0, 61.0, 41.0, 47.0, 56.0, 42.0, 67.0, 41.0, 55.0, 49.0, 40.0, 52.0, 49.0, 51.0, 54.0, 39.0, 46.0, 48.0, 62.0, 49.0, 65.0, 44.0, 57.0, 53.0, 35.0, 49.0, 63.0, 51.0, 40.0, 48.0, 41.0, 62.0, 45.0, 53.0, 45.0, 47.0, 56.0, 46.0, 39.0, 46.0, 60.0, 46.0, 58.0, 54.0, 60.0, 52.0, 61.0, 55.0, 59.0, 53.0, 52.0, 53.0, 68.0, 56.0, 48.0, 51.0, 75.0, 50.0, 41.0, 51.0, 35.0, 57.0, 51.0, 43.0, 54.0, 51.0, 58.0, 43.0, 54.0, 48.0, 53.0, 44.0, 43.0, 39.0, 36.0, 66.0, 44.0, 62.0, 61.0, 53.0, 47.0, 49.0, 63.0, 58.0, 63.0, 32.0, 45.0, 37.0, 51.0, 56.0, 60.0, 64.0, 31.0, 47.0, 40.0, 50.0, 46.0, 49.0, 46.0, 47.0, 72.0, 55.0, 46.0, 37.0, 46.0, 37.0, 60.0, 55.0, 49.0, 45.0, 58.0, 45.0, 60.0, 61.0, 50.0, 53.0, 47.0, 47.0, 45.0, 43.0, 45.0, 55.0, 53.0, 69.0, 49.0, 56.0, 44.0, 58.0, 46.0, 59.0, 65.0, 42.0, 59.0, 70.0, 51.0, 50.0, 68.0, 39.0, 53.0, 57.0, 53.0, 54.0, 40.0, 54.0, 66.0, 47.0, 57.0, 60.0, 49.0, 57.0, 47.0, 65.0, 56.0, 43.0, 37.0, 61.0, 46.0, 60.0, 52.0, 61.0, 45.0, 52.0, 61.0, 41.0, 52.0, 53.0, 59.0, 47.0, 53.0, 61.0, 48.0, 61.0, 40.0, 56.0, 49.0, 58.0, 61.0, 55.0, 46.0, 55.0, 53.0, 51.0, 46.0, 46.0, 54.0, 46.0, 57.0, 65.0, 41.0, 57.0, 55.0, 59.0, 60.0, 44.0, 57.0, 62.0, 57.0, 47.0, 35.0, 56.0, 39.0, 38.0, 49.0, 60.0, 44.0, 43.0, 44.0, 37.0, 63.0, 59.0, 35.0, 48.0, 44.0, 51.0, 67.0, 66.0, 59.0, 38.0, 57.0, 49.0, 60.0, 46.0, 58.0, 55.0, 55.0, 56.0, 66.0, 68.0, 55.0, 53.0, 60.0, 57.0, 40.0, 52.0, 57.0, 55.0, 51.0, 57.0, 53.0, 38.0, 48.0, 51.0, 45.0, 35.0, 44.0, 43.0, 43.0, 55.0, 59.0, 52.0, 48.0, 54.0, 51.0, 47.0, 48.0, 60.0, 43.0, 55.0, 48.0, 43.0, 56.0, 56.0, 45.0, 67.0, 55.0, 40.0, 54.0, 56.0, 47.0, 54.0, 55.0, 40.0, 57.0, 42.0, 45.0, 50.0, 53.0, 55.0, 58.0, 43.0, 59.0, 46.0, 50.0, 56.0, 48.0, 38.0, 53.0, 65.0, 45.0, 59.0, 55.0, 54.0, 45.0, 54.0, 59.0, 48.0, 33.0, 46.0, 53.0, 42.0, 50.0, 42.0, 62.0, 47.0, 52.0, 50.0, 39.0, 44.0, 57.0, 58.0, 64.0, 59.0, 52.0, 43.0, 55.0, 64.0, 50.0, 36.0, 48.0, 47.0, 58.0, 58.0, 53.0, 38.0, 63.0, 57.0, 45.0, 39.0, 50.0, 41.0, 47.0, 55.0, 38.0, 53.0, 43.0, 42.0, 54.0, 47.0, 56.0, 58.0, 55.0, 70.0, 61.0, 46.0, 61.0, 50.0, 64.0, 40.0, 56.0, 62.0, 48.0, 56.0, 56.0, 50.0, 56.0, 54.0, 51.0, 52.0, 30.0, 45.0, 60.0, 61.0, 35.0, 35.0, 44.0, 71.0, 65.0, 40.0, 52.0, 54.0, 37.0, 44.0, 58.0, 57.0, 57.0, 50.0, 40.0, 63.0, 54.0, 49.0, 40.0, 39.0, 47.0, 51.0, 55.0, 50.0, 40.0, 39.0, 50.0, 55.0, 66.0, 44.0, 37.0, 41.0, 58.0, 51.0, 49.0, 53.0, 48.0, 54.0, 57.0, 63.0, 50.0, 44.0, 65.0, 60.0, 61.0, 56.0, 46.0, 70.0, 40.0, 55.0, 46.0, 41.0, 47.0, 53.0, 52.0, 60.0, 73.0, 48.0, 55.0, 59.0, 46.0, 40.0, 49.0, 61.0, 40.0, 48.0, 52.0, 60.0, 52.0, 50.0, 46.0, 46.0, 61.0, 67.0, 40.0, 43.0, 48.0, 48.0, 56.0, 49.0, 59.0, 66.0, 48.0, 53.0, 45.0, 31.0, 55.0, 31.0, 57.0, 46.0, 45.0, 55.0, 39.0, 33.0, 39.0, 39.0, 55.0, 45.0, 55.0, 59.0, 48.0, 59.0, 38.0, 48.0, 54.0, 57.0, 60.0, 62.0, 62.0, 38.0, 37.0, 42.0, 48.0, 51.0, 52.0, 53.0, 52.0, 52.0, 50.0, 57.0, 41.0, 53.0, 53.0, 46.0, 51.0, 45.0, 45.0, 47.0, 49.0, 30.0, 58.0, 40.0, 50.0, 55.0, 51.0, 60.0, 55.0, 47.0, 65.0, 56.0, 56.0, 47.0, 52.0, 46.0, 38.0, 37.0, 37.0, 46.0, 47.0, 66.0, 50.0, 54.0, 60.0, 46.0, 41.0, 61.0, 25.0, 66.0, 46.0, 53.0, 64.0, 50.0, 50.0, 56.0, 46.0, 52.0, 52.0, 44.0, 54.0, 62.0, 46.0, 55.0, 53.0, 64.0, 49.0, 47.0, 60.0, 47.0, 40.0, 56.0, 60.0, 39.0, 56.0, 47.0, 50.0, 69.0, 43.0, 49.0, 30.0, 42.0, 34.0, 61.0, 43.0, 60.0, 53.0, 48.0, 47.0, 61.0, 43.0, 38.0, 52.0, 37.0, 52.0, 62.0, 43.0, 65.0, 52.0, 49.0, 58.0, 60.0, 38.0, 53.0, 52.0, 46.0, 41.0, 61.0, 56.0, 58.0, 57.0, 52.0, 51.0, 44.0, 50.0, 59.0, 44.0, 43.0, 31.0, 53.0, 54.0, 55.0, 49.0, 53.0, 55.0, 51.0, 35.0, 46.0, 64.0, 62.0, 55.0, 41.0, 38.0, 41.0, 61.0, 55.0, 64.0, 31.0, 65.0, 47.0, 61.0, 40.0, 66.0, 55.0, 53.0, 55.0, 62.0, 47.0, 68.0, 40.0, 52.0, 42.0, 49.0, 45.0, 52.0, 45.0, 47.0, 44.0, 54.0, 49.0, 54.0, 61.0, 51.0, 43.0, 60.0, 48.0, 48.0, 54.0, 42.0, 63.0, 56.0, 65.0, 61.0, 44.0, 49.0, 44.0, 59.0, 39.0, 60.0, 44.0, 56.0, 48.0, 47.0, 50.0, 48.0, 57.0, 38.0, 66.0, 50.0, 51.0, 52.0, 50.0, 49.0, 45.0, 47.0, 54.0, 52.0, 35.0, 42.0, 67.0, 42.0, 46.0, 52.0, 45.0, 48.0, 64.0, 46.0, 49.0, 45.0, 44.0, 53.0, 55.0, 47.0, 54.0, 57.0, 49.0, 59.0, 71.0, 48.0, 59.0, 48.0, 52.0, 36.0, 54.0, 65.0, 52.0, 38.0, 64.0, 54.0, 44.0, 50.0, 61.0, 58.0, 44.0, 77.0, 38.0, 47.0, 46.0, 61.0, 49.0, 52.0, 61.0, 47.0, 57.0, 55.0, 34.0, 56.0, 40.0, 57.0, 54.0, 55.0, 41.0, 47.0, 47.0, 44.0, 61.0, 54.0, 59.0, 47.0, 48.0, 61.0, 41.0, 61.0, 66.0, 52.0, 35.0, 47.0, 58.0, 55.0, 56.0, 43.0, 59.0, 43.0, 43.0, 44.0, 45.0, 49.0, 57.0, 47.0, 56.0, 33.0, 56.0, 44.0, 63.0, 56.0, 52.0, 41.0, 61.0, 60.0, 53.0, 43.0, 44.0, 57.0, 64.0, 51.0, 51.0, 43.0, 44.0, 44.0, 45.0, 46.0, 54.0, 49.0, 47.0, 40.0, 52.0, 46.0, 55.0, 54.0, 56.0, 45.0, 38.0, 45.0, 38.0, 48.0, 45.0, 59.0, 59.0, 51.0, 55.0, 47.0, 59.0, 58.0, 43.0, 63.0, 65.0, 53.0, 45.0, 59.0, 49.0, 57.0, 52.0, 47.0, 45.0, 41.0, 71.0, 44.0, 54.0, 55.0, 59.0, 36.0, 46.0, 37.0, 53.0, 58.0, 40.0, 51.0, 34.0, 54.0, 55.0, 44.0, 40.0, 53.0, 49.0, 44.0, 36.0, 45.0, 53.0, 67.0, 57.0, 58.0, 66.0, 52.0, 45.0, 44.0, 47.0, 60.0, 45.0, 45.0, 64.0, 59.0, 53.0, 53.0, 44.0, 41.0, 57.0, 53.0, 37.0, 72.0, 47.0, 43.0, 40.0, 65.0, 51.0, 55.0, 46.0, 48.0, 44.0, 55.0, 50.0, 49.0, 63.0, 52.0, 30.0, 38.0, 58.0, 48.0, 26.0, 50.0, 55.0, 33.0, 55.0, 50.0, 61.0, 59.0, 57.0, 47.0, 54.0, 34.0, 52.0, 56.0, 52.0, 59.0, 62.0, 43.0, 61.0, 37.0, 62.0, 41.0, 56.0, 55.0, 56.0, 55.0, 59.0, 55.0, 46.0, 53.0, 43.0, 51.0, 64.0, 59.0, 49.0, 60.0, 46.0, 36.0, 65.0, 49.0, 60.0, 49.0, 49.0, 49.0, 52.0, 38.0, 46.0, 44.0, 55.0, 40.0, 36.0, 53.0, 51.0, 53.0, 34.0, 62.0, 59.0, 51.0, 49.0, 64.0, 55.0, 56.0, 48.0, 45.0, 47.0, 54.0, 56.0, 62.0, 52.0, 52.0, 54.0, 55.0, 36.0, 44.0, 59.0, 43.0, 66.0, 58.0, 49.0, 59.0, 54.0, 55.0, 59.0, 49.0, 54.0, 53.0, 63.0, 52.0, 48.0, 43.0, 45.0, 39.0, 59.0, 60.0, 58.0, 49.0, 60.0, 58.0, 58.0, 54.0, 36.0, 43.0, 41.0, 52.0, 61.0, 51.0, 66.0, 49.0, 75.0, 46.0, 47.0, 41.0, 56.0, 55.0, 48.0, 31.0, 64.0, 57.0, 49.0, 48.0, 48.0, 39.0, 44.0, 56.0, 32.0, 51.0, 38.0, 54.0, 49.0, 56.0, 39.0, 47.0, 37.0, 57.0, 45.0, 52.0, 52.0, 35.0, 45.0, 52.0, 51.0, 52.0, 49.0, 46.0, 55.0, 31.0, 42.0, 55.0, 80.0, 69.0, 62.0, 48.0, 45.0, 53.0, 49.0, 50.0, 62.0, 46.0, 41.0, 59.0, 53.0, 53.0, 66.0, 61.0, 37.0, 46.0, 61.0, 49.0, 50.0, 43.0, 58.0, 57.0, 55.0, 46.0, 60.0, 57.0, 54.0, 61.0, 60.0, 60.0, 48.0, 41.0, 41.0, 47.0, 59.0, 60.0, 38.0, 41.0, 54.0, 51.0, 43.0, 46.0, 45.0, 45.0, 47.0, 67.0, 47.0, 43.0, 59.0, 39.0, 43.0, 44.0, 38.0, 61.0, 50.0, 55.0, 44.0, 53.0, 58.0, 54.0, 51.0, 47.0, 51.0, 45.0, 62.0, 70.0, 54.0, 50.0, 56.0, 61.0, 44.0, 38.0, 47.0, 42.0, 49.0, 50.0, 49.0, 47.0, 46.0, 39.0, 48.0, 41.0, 53.0, 36.0, 50.0, 43.0, 50.0, 40.0, 47.0, 41.0, 51.0, 52.0, 60.0, 54.0, 61.0, 68.0, 55.0, 41.0, 68.0, 57.0, 39.0, 62.0, 50.0, 68.0, 54.0, 61.0, 38.0, 40.0, 66.0, 61.0, 56.0, 45.0, 39.0, 62.0, 55.0, 34.0, 47.0, 61.0, 48.0, 58.0, 43.0, 49.0, 58.0, 36.0, 69.0, 65.0, 55.0, 57.0, 61.0, 56.0, 61.0, 37.0, 64.0, 51.0, 43.0, 53.0, 52.0, 61.0, 59.0, 47.0, 38.0, 62.0, 42.0, 45.0, 43.0, 51.0, 59.0, 47.0, 50.0, 47.0, 57.0, 50.0, 44.0, 53.0, 60.0, 51.0, 56.0, 57.0, 41.0, 46.0, 50.0, 57.0, 39.0, 42.0, 47.0, 46.0, 43.0, 46.0, 47.0, 37.0, 42.0, 51.0, 40.0, 48.0, 66.0, 52.0, 45.0, 66.0, 46.0, 41.0, 60.0, 34.0, 45.0, 48.0, 61.0, 54.0, 43.0, 42.0, 38.0, 63.0, 43.0, 49.0, 48.0, 49.0, 45.0, 54.0, 41.0, 51.0, 54.0, 57.0, 38.0, 47.0, 46.0, 61.0, 55.0, 49.0, 57.0, 45.0, 53.0, 42.0, 38.0, 51.0, 44.0, 54.0, 45.0, 36.0, 49.0, 40.0, 53.0, 42.0, 54.0, 40.0, 44.0, 44.0, 64.0, 61.0, 52.0, 53.0, 43.0, 45.0, 58.0, 54.0, 51.0, 57.0, 50.0, 51.0, 58.0, 57.0, 57.0, 48.0, 66.0, 65.0, 41.0, 62.0, 64.0, 48.0, 49.0, 48.0, 48.0, 45.0, 49.0, 47.0, 64.0, 40.0, 55.0, 45.0, 50.0, 53.0, 53.0, 56.0, 71.0, 61.0, 54.0, 43.0, 53.0, 62.0, 63.0, 66.0, 53.0, 66.0, 48.0, 60.0, 52.0, 69.0, 56.0, 50.0, 46.0, 52.0, 59.0, 48.0, 47.0, 48.0, 57.0, 53.0, 58.0, 55.0, 57.0, 41.0, 50.0, 57.0, 57.0, 63.0, 50.0, 66.0, 37.0, 53.0, 49.0, 52.0, 40.0, 52.0, 39.0, 44.0, 47.0, 63.0, 59.0, 40.0, 50.0, 56.0, 38.0, 35.0, 48.0, 48.0, 57.0, 53.0, 60.0, 49.0, 50.0, 46.0, 58.0, 57.0, 43.0, 47.0, 46.0, 46.0, 58.0, 53.0, 46.0, 52.0, 52.0, 44.0, 64.0, 46.0, 64.0, 38.0, 57.0, 34.0, 62.0, 51.0, 50.0, 46.0, 48.0, 56.0, 38.0, 65.0, 64.0, 54.0, 43.0, 61.0, 52.0, 56.0, 59.0, 65.0, 66.0, 37.0, 40.0, 53.0, 68.0, 42.0, 51.0, 50.0, 31.0, 55.0, 28.0, 57.0, 43.0, 38.0, 30.0, 58.0, 44.0, 60.0, 57.0, 51.0, 26.0, 53.0, 50.0, 49.0, 49.0, 53.0, 61.0, 58.0, 56.0, 53.0, 57.0, 41.0, 59.0, 54.0, 43.0, 46.0, 50.0, 48.0, 63.0, 55.0, 45.0, 44.0, 57.0, 59.0, 51.0, 43.0, 59.0, 43.0, 45.0, 52.0, 58.0, 56.0, 59.0, 43.0, 38.0, 54.0, 51.0, 40.0, 49.0, 66.0, 45.0, 66.0, 41.0, 53.0, 61.0, 49.0, 45.0, 49.0, 57.0, 59.0, 47.0, 53.0, 51.0, 55.0, 57.0, 42.0, 43.0, 36.0, 57.0, 57.0, 48.0, 40.0, 45.0, 61.0, 53.0, 44.0, 36.0, 51.0, 45.0, 50.0, 52.0, 62.0, 52.0, 48.0, 47.0, 40.0, 58.0, 49.0, 47.0, 61.0, 53.0, 48.0, 37.0, 52.0, 63.0, 45.0, 41.0, 65.0, 51.0, 54.0, 60.0, 44.0, 39.0, 42.0, 51.0, 62.0, 49.0, 43.0, 68.0, 44.0, 52.0, 57.0, 48.0, 37.0, 50.0, 64.0, 48.0, 51.0, 49.0, 49.0, 75.0, 62.0, 38.0, 66.0, 60.0, 60.0, 68.0, 50.0, 53.0, 49.0, 41.0, 49.0, 41.0, 44.0, 55.0, 45.0, 52.0, 54.0, 65.0, 45.0, 52.0, 75.0, 50.0, 43.0, 44.0, 61.0, 51.0, 47.0, 65.0, 57.0, 54.0, 34.0, 53.0, 50.0, 47.0, 45.0, 49.0, 71.0, 45.0, 49.0, 48.0, 58.0, 62.0, 61.0, 53.0, 53.0, 60.0, 45.0, 64.0, 59.0, 50.0, 49.0, 43.0, 62.0, 54.0, 60.0, 61.0, 53.0, 57.0, 61.0, 43.0, 36.0, 47.0, 56.0, 52.0, 55.0, 52.0, 54.0, 46.0, 43.0, 53.0, 49.0, 44.0, 53.0, 55.0, 64.0, 61.0, 41.0, 42.0, 52.0, 55.0, 53.0, 38.0, 52.0, 54.0, 57.0, 28.0, 52.0, 46.0, 44.0, 63.0, 45.0, 49.0, 63.0, 42.0, 45.0, 51.0, 60.0, 54.0, 53.0, 53.0, 42.0, 49.0, 57.0, 52.0, 50.0, 43.0, 38.0, 64.0, 30.0, 57.0, 54.0, 43.0, 46.0, 48.0, 58.0, 52.0, 45.0, 57.0, 64.0, 69.0, 47.0, 54.0, 54.0, 51.0, 59.0, 33.0, 53.0, 55.0, 41.0, 48.0, 56.0, 45.0, 38.0, 45.0, 48.0, 46.0, 47.0, 47.0, 51.0, 45.0, 41.0, 45.0, 37.0, 60.0, 47.0, 34.0, 36.0, 39.0, 39.0, 38.0, 56.0, 49.0, 57.0, 48.0, 33.0, 48.0, 58.0, 51.0, 60.0, 55.0, 59.0, 42.0, 47.0, 47.0, 45.0, 45.0, 63.0, 49.0, 70.0, 54.0, 48.0, 68.0, 56.0, 48.0, 42.0, 41.0, 45.0, 56.0, 59.0, 55.0, 47.0, 50.0, 47.0, 39.0, 70.0, 59.0, 61.0, 50.0, 58.0, 63.0, 57.0, 56.0, 45.0, 51.0, 46.0, 55.0, 41.0, 54.0, 43.0, 48.0, 38.0, 50.0, 58.0, 55.0, 58.0, 51.0, 43.0, 68.0, 44.0, 60.0, 33.0, 52.0, 60.0, 54.0, 41.0, 63.0, 53.0, 50.0, 52.0, 51.0, 61.0, 61.0, 40.0, 40.0, 54.0, 51.0, 41.0, 43.0, 64.0, 59.0, 54.0, 70.0, 48.0, 63.0, 46.0, 60.0, 54.0, 61.0, 51.0, 64.0, 44.0, 51.0, 53.0, 51.0, 52.0, 57.0, 52.0, 53.0, 51.0, 53.0, 35.0, 51.0, 56.0, 57.0, 53.0, 47.0, 61.0, 58.0, 56.0, 62.0, 49.0, 52.0, 44.0, 53.0, 56.0, 52.0, 57.0, 59.0, 55.0, 42.0, 34.0, 53.0, 58.0, 38.0, 52.0, 49.0, 52.0, 51.0, 56.0, 42.0, 38.0, 54.0, 54.0, 50.0, 38.0, 34.0, 48.0, 40.0, 36.0, 42.0, 56.0, 48.0, 63.0, 45.0, 53.0, 65.0, 55.0, 62.0, 35.0, 53.0, 58.0, 61.0, 69.0, 50.0, 50.0, 67.0, 56.0, 49.0, 66.0, 45.0, 46.0, 47.0, 58.0, 44.0, 50.0, 35.0, 45.0, 33.0, 37.0, 54.0, 40.0, 52.0, 62.0, 64.0, 37.0, 42.0, 62.0, 43.0, 55.0, 56.0, 60.0, 61.0, 58.0, 46.0, 53.0, 43.0, 63.0, 37.0, 49.0, 57.0, 51.0, 48.0, 60.0, 46.0, 49.0, 49.0, 54.0, 37.0, 41.0, 43.0, 54.0, 54.0, 44.0, 49.0, 63.0, 46.0, 64.0, 31.0, 50.0, 41.0, 51.0, 46.0, 50.0, 42.0, 42.0, 43.0, 45.0, 55.0, 55.0, 47.0, 59.0, 63.0, 48.0, 69.0, 38.0, 52.0, 52.0, 63.0, 46.0, 46.0, 45.0, 45.0, 43.0, 50.0, 43.0, 78.0, 59.0, 54.0, 40.0, 29.0, 52.0, 66.0, 52.0, 44.0, 56.0, 73.0, 51.0, 47.0, 42.0, 51.0, 58.0, 59.0, 66.0, 51.0, 47.0, 63.0, 61.0, 35.0, 53.0, 46.0, 62.0, 49.0, 43.0, 57.0, 55.0, 52.0, 50.0, 58.0, 48.0, 39.0, 61.0, 48.0, 41.0, 51.0, 51.0, 38.0, 45.0, 39.0, 66.0, 56.0, 60.0, 53.0, 62.0, 42.0, 58.0, 43.0, 46.0, 53.0, 49.0, 50.0, 67.0, 43.0, 44.0, 55.0, 60.0, 62.0, 48.0, 39.0, 64.0, 54.0, 48.0, 54.0, 31.0, 54.0, 44.0, 58.0, 59.0, 59.0, 65.0, 47.0, 46.0, 63.0, 28.0, 45.0, 45.0, 56.0, 48.0, 48.0, 69.0, 56.0, 46.0, 67.0, 70.0, 55.0, 62.0, 48.0, 53.0, 47.0, 58.0, 61.0, 58.0, 52.0, 42.0, 51.0, 71.0, 63.0, 54.0, 46.0, 52.0, 38.0, 42.0, 45.0, 55.0, 61.0, 47.0, 52.0, 36.0, 45.0, 45.0, 43.0, 35.0, 56.0, 55.0, 44.0, 50.0, 56.0, 44.0, 54.0, 35.0, 53.0, 60.0, 56.0, 65.0, 49.0, 34.0, 52.0, 61.0, 60.0, 60.0, 52.0, 57.0, 42.0, 43.0, 32.0, 49.0, 53.0, 46.0, 41.0, 50.0, 55.0, 47.0, 45.0, 55.0, 38.0, 54.0, 53.0, 50.0, 51.0, 42.0, 44.0, 61.0, 46.0, 54.0, 65.0, 55.0, 47.0, 54.0, 57.0, 40.0, 36.0, 41.0, 41.0, 49.0, 57.0, 57.0, 42.0, 42.0, 48.0, 53.0, 44.0, 62.0, 53.0, 43.0, 60.0, 46.0, 58.0, 54.0, 54.0, 63.0, 60.0, 54.0, 59.0, 56.0, 51.0, 49.0, 41.0, 62.0, 36.0, 39.0, 42.0, 35.0, 50.0, 49.0, 43.0, 56.0, 45.0, 53.0, 59.0, 67.0, 55.0, 52.0, 58.0, 41.0, 52.0, 44.0, 44.0, 55.0, 40.0, 63.0, 61.0, 45.0, 49.0, 57.0, 41.0, 35.0, 49.0, 51.0, 49.0, 56.0, 45.0, 55.0, 57.0, 45.0, 46.0, 42.0, 47.0, 49.0, 47.0, 60.0, 46.0, 54.0, 65.0, 63.0, 59.0, 52.0, 54.0, 47.0, 51.0, 48.0, 50.0, 58.0, 57.0, 41.0, 45.0, 67.0, 42.0, 43.0, 48.0, 35.0, 59.0, 70.0, 42.0, 56.0, 49.0, 49.0, 52.0, 48.0, 42.0, 39.0, 52.0, 50.0, 58.0, 47.0, 44.0, 53.0, 47.0, 52.0, 37.0, 57.0, 62.0, 38.0, 43.0, 33.0, 46.0, 59.0, 55.0, 59.0, 46.0, 58.0, 66.0, 45.0, 36.0, 51.0, 39.0, 53.0, 54.0, 53.0, 42.0, 59.0, 57.0, 41.0, 49.0, 56.0, 61.0, 45.0, 42.0, 37.0, 61.0, 51.0, 41.0, 58.0, 58.0, 49.0, 40.0, 50.0, 67.0, 57.0, 44.0, 48.0, 43.0, 48.0, 53.0, 42.0, 58.0, 43.0, 52.0, 54.0, 45.0, 59.0, 64.0, 47.0, 53.0, 59.0, 72.0, 49.0, 58.0, 37.0, 50.0, 46.0, 50.0, 67.0, 47.0, 57.0, 38.0, 49.0, 41.0, 52.0, 63.0, 49.0, 45.0, 50.0, 47.0, 58.0, 41.0, 49.0, 46.0, 51.0, 57.0, 55.0, 40.0, 38.0, 40.0, 60.0, 52.0, 40.0, 55.0, 42.0, 43.0, 55.0, 46.0, 63.0, 45.0, 52.0, 35.0, 75.0, 49.0, 47.0, 42.0, 46.0, 58.0, 41.0, 41.0, 45.0, 37.0, 62.0, 42.0, 46.0, 44.0, 60.0, 57.0, 57.0, 57.0, 54.0, 42.0, 52.0, 55.0, 61.0, 43.0, 58.0, 51.0, 54.0, 51.0, 50.0, 50.0, 53.0, 54.0, 43.0, 55.0, 43.0, 46.0, 45.0, 36.0, 52.0, 37.0, 57.0, 48.0, 51.0, 45.0, 38.0, 54.0, 26.0, 54.0, 64.0, 64.0, 52.0, 58.0, 47.0, 41.0, 54.0, 47.0, 47.0, 54.0, 46.0, 56.0, 48.0, 64.0, 45.0, 56.0, 52.0, 71.0, 46.0, 55.0, 60.0, 43.0, 61.0, 47.0, 58.0, 58.0, 33.0, 49.0, 45.0, 53.0, 50.0, 50.0, 52.0, 44.0, 39.0, 47.0, 63.0, 52.0, 48.0, 63.0, 62.0, 45.0, 53.0, 41.0, 44.0, 43.0, 51.0, 63.0, 58.0, 46.0, 52.0, 48.0, 45.0, 47.0, 51.0, 62.0, 53.0, 51.0, 38.0, 60.0, 45.0, 33.0, 51.0, 47.0, 48.0, 50.0, 48.0, 53.0, 44.0, 48.0, 51.0, 62.0, 44.0, 67.0, 53.0, 59.0, 57.0, 54.0, 43.0, 62.0, 43.0, 58.0, 55.0, 51.0, 51.0, 63.0, 52.0, 59.0, 59.0, 63.0, 39.0, 61.0, 40.0, 41.0, 53.0, 52.0, 55.0, 58.0, 50.0, 48.0, 47.0, 49.0, 60.0, 40.0, 44.0, 51.0, 57.0, 53.0, 51.0, 42.0, 61.0, 60.0, 49.0, 53.0, 54.0, 61.0, 52.0, 44.0, 54.0, 50.0, 50.0, 45.0, 48.0, 43.0, 57.0, 48.0, 53.0, 48.0, 54.0, 37.0, 45.0, 43.0, 51.0, 58.0, 61.0, 47.0, 51.0, 67.0, 49.0, 63.0, 49.0, 47.0, 47.0, 53.0, 58.0, 56.0, 47.0, 43.0, 55.0, 50.0, 55.0, 46.0, 55.0, 48.0, 66.0, 61.0, 35.0, 48.0, 45.0, 54.0, 47.0, 60.0, 50.0, 36.0, 65.0, 46.0, 51.0, 54.0, 50.0, 56.0, 50.0, 60.0, 57.0, 47.0, 47.0, 50.0, 35.0, 48.0, 44.0, 50.0, 46.0, 38.0, 53.0, 42.0, 55.0, 62.0, 51.0, 45.0, 40.0, 40.0, 64.0, 53.0, 58.0, 54.0, 50.0, 51.0, 50.0, 65.0, 59.0, 35.0, 59.0, 35.0, 49.0, 54.0, 50.0, 45.0, 57.0, 53.0, 36.0, 48.0, 50.0, 66.0, 48.0, 46.0, 58.0, 49.0, 61.0, 64.0, 41.0, 49.0, 53.0, 48.0, 46.0, 36.0, 48.0, 52.0, 45.0, 43.0, 55.0, 50.0, 56.0, 52.0, 48.0, 55.0, 56.0, 45.0, 61.0, 52.0, 52.0, 57.0, 49.0, 61.0, 51.0, 52.0, 59.0, 57.0, 59.0, 49.0, 50.0, 59.0, 64.0, 42.0, 52.0, 61.0, 51.0, 39.0, 56.0, 45.0, 49.0, 56.0, 59.0, 58.0, 59.0, 60.0, 44.0, 65.0, 46.0, 45.0, 59.0, 45.0, 59.0, 39.0, 55.0, 41.0, 53.0, 52.0, 47.0, 47.0, 46.0, 52.0, 35.0, 58.0, 60.0, 66.0, 39.0, 54.0, 61.0, 48.0, 48.0, 45.0, 43.0, 45.0, 52.0, 52.0, 51.0, 62.0, 57.0, 52.0, 55.0, 51.0, 58.0, 53.0, 35.0, 55.0, 36.0, 50.0, 46.0, 56.0, 58.0, 52.0, 59.0, 67.0, 47.0, 38.0, 35.0, 47.0, 51.0, 53.0, 55.0, 60.0, 58.0, 41.0, 52.0, 51.0, 40.0, 47.0, 60.0, 51.0, 50.0, 42.0, 54.0, 52.0, 34.0, 45.0, 40.0, 48.0, 66.0, 35.0, 43.0, 58.0, 44.0, 43.0, 58.0, 44.0, 62.0, 40.0, 53.0, 43.0, 49.0, 42.0, 61.0, 51.0, 46.0, 44.0, 67.0, 46.0, 61.0, 59.0, 43.0, 43.0, 30.0, 48.0, 58.0, 58.0, 40.0, 39.0, 68.0, 47.0, 48.0, 36.0, 62.0, 53.0, 55.0, 54.0, 47.0, 62.0, 55.0, 49.0, 47.0, 57.0, 60.0, 61.0, 41.0, 50.0, 43.0, 52.0, 64.0, 54.0, 40.0, 70.0, 40.0, 62.0, 52.0, 59.0, 44.0, 62.0, 49.0, 48.0, 49.0, 59.0, 43.0, 32.0, 56.0, 54.0, 41.0, 38.0, 53.0, 50.0, 58.0, 50.0, 42.0, 54.0, 44.0, 49.0, 66.0, 50.0, 57.0, 45.0, 61.0, 56.0, 54.0, 40.0, 44.0, 40.0, 62.0, 51.0, 53.0, 56.0, 53.0, 50.0, 54.0, 31.0, 61.0, 56.0, 53.0, 42.0, 53.0, 54.0, 43.0, 49.0, 61.0, 51.0, 53.0, 55.0, 57.0, 51.0, 43.0, 45.0, 40.0, 45.0, 49.0, 55.0, 49.0, 56.0, 46.0, 60.0, 67.0, 45.0, 45.0, 41.0, 47.0, 53.0, 55.0, 60.0, 56.0, 66.0, 66.0, 58.0, 48.0, 44.0, 37.0, 39.0, 45.0, 45.0, 74.0, 48.0, 56.0, 47.0, 39.0, 52.0, 52.0, 34.0, 56.0, 48.0, 53.0, 41.0, 42.0, 53.0, 63.0, 48.0, 33.0, 62.0, 45.0, 62.0, 45.0, 52.0, 53.0, 51.0, 46.0, 59.0, 56.0, 70.0, 54.0, 40.0, 60.0, 55.0, 48.0, 42.0, 44.0, 41.0, 52.0, 61.0, 49.0, 44.0, 68.0, 48.0, 41.0, 65.0, 43.0, 52.0, 54.0, 48.0, 51.0, 42.0, 59.0, 58.0, 54.0, 65.0, 43.0, 56.0, 50.0, 50.0, 53.0, 54.0, 50.0, 57.0, 52.0, 61.0, 48.0, 59.0, 43.0, 38.0, 50.0, 38.0, 46.0, 45.0, 62.0, 56.0, 57.0, 57.0, 50.0, 50.0, 55.0, 61.0, 63.0, 60.0, 43.0, 54.0, 46.0, 43.0, 71.0, 42.0, 53.0, 56.0, 45.0, 53.0, 30.0, 46.0, 59.0, 54.0, 47.0, 51.0, 55.0, 55.0, 38.0, 46.0, 53.0, 37.0, 61.0, 47.0, 63.0, 58.0, 47.0, 26.0, 49.0, 45.0, 63.0, 39.0, 58.0, 63.0, 54.0, 45.0, 54.0, 59.0, 47.0, 56.0, 50.0, 46.0, 43.0, 53.0, 67.0, 52.0, 44.0, 51.0, 57.0, 57.0, 52.0, 55.0, 46.0, 52.0, 30.0, 35.0, 54.0, 62.0, 41.0, 56.0, 35.0, 48.0, 54.0, 50.0, 56.0, 56.0, 48.0, 47.0, 55.0, 46.0, 63.0, 65.0, 46.0, 38.0, 61.0, 48.0, 40.0, 35.0, 51.0, 40.0, 61.0, 49.0, 57.0, 45.0, 44.0, 51.0, 51.0, 44.0, 45.0, 39.0, 59.0, 35.0, 41.0, 52.0, 49.0, 44.0, 55.0, 47.0, 52.0, 45.0, 42.0, 56.0, 56.0, 53.0, 42.0, 52.0, 50.0, 48.0, 53.0, 60.0, 48.0, 56.0, 54.0, 58.0, 51.0, 64.0, 47.0, 60.0, 65.0, 51.0, 35.0, 46.0, 61.0, 61.0, 52.0, 64.0, 67.0, 69.0, 60.0, 61.0, 62.0, 47.0, 52.0, 52.0, 52.0, 54.0, 54.0, 34.0, 48.0, 50.0, 55.0, 54.0, 58.0, 56.0, 59.0, 38.0, 43.0, 30.0, 52.0, 35.0, 50.0, 50.0, 53.0, 52.0, 78.0, 48.0, 64.0, 46.0, 58.0, 48.0, 35.0, 55.0, 62.0, 57.0, 56.0, 36.0, 45.0, 49.0, 35.0, 64.0, 51.0, 56.0, 48.0, 37.0, 60.0, 50.0, 61.0, 54.0, 68.0, 54.0, 41.0, 49.0, 44.0, 59.0, 50.0, 53.0, 43.0, 39.0, 44.0, 34.0, 46.0, 41.0, 41.0, 50.0, 33.0, 61.0, 55.0, 48.0, 32.0, 46.0, 62.0, 63.0, 49.0, 62.0, 29.0, 57.0, 51.0, 52.0, 45.0, 43.0, 42.0, 51.0, 54.0, 69.0, 61.0, 44.0, 54.0, 55.0, 52.0, 29.0, 58.0, 38.0, 56.0, 65.0, 56.0, 62.0, 65.0, 60.0, 54.0, 31.0, 44.0, 46.0, 48.0, 38.0, 61.0, 54.0, 53.0, 55.0, 51.0, 53.0, 44.0, 58.0, 42.0, 45.0, 52.0, 43.0, 47.0, 45.0, 43.0, 54.0, 55.0, 53.0, 40.0, 63.0, 56.0, 49.0, 47.0, 60.0, 41.0, 48.0, 41.0, 46.0, 52.0, 48.0, 61.0, 71.0, 41.0, 63.0, 60.0, 46.0, 64.0, 50.0, 52.0, 48.0, 48.0, 57.0, 49.0, 45.0, 46.0, 62.0, 46.0, 52.0, 44.0, 38.0, 56.0, 48.0, 63.0, 48.0, 58.0, 52.0, 61.0, 47.0, 69.0, 58.0, 56.0, 39.0, 73.0, 38.0, 43.0, 53.0, 47.0, 47.0, 57.0, 49.0, 48.0, 49.0, 56.0, 46.0, 50.0, 65.0, 50.0, 47.0, 40.0, 63.0, 59.0, 68.0, 49.0, 63.0, 56.0, 53.0, 50.0, 59.0, 50.0, 50.0, 46.0, 41.0, 56.0, 62.0, 56.0, 57.0, 39.0, 52.0, 52.0, 52.0, 52.0, 54.0, 59.0, 50.0, 61.0, 49.0, 41.0, 62.0, 54.0, 43.0, 70.0, 58.0, 47.0, 51.0, 61.0, 63.0, 52.0, 49.0, 38.0, 52.0, 51.0, 60.0, 58.0, 56.0, 44.0, 38.0, 46.0, 56.0, 53.0, 40.0, 47.0, 50.0, 58.0, 55.0, 42.0, 44.0, 60.0, 56.0, 53.0, 36.0, 39.0, 61.0, 51.0, 53.0, 47.0, 50.0, 55.0, 29.0, 41.0, 38.0, 54.0, 41.0, 57.0, 51.0, 46.0, 55.0, 49.0, 45.0, 44.0, 54.0, 55.0, 35.0, 44.0, 57.0, 54.0, 62.0, 63.0, 45.0, 48.0, 56.0, 53.0, 64.0, 63.0, 48.0, 50.0, 55.0, 52.0, 37.0, 49.0, 61.0, 56.0, 60.0, 65.0, 40.0, 53.0, 52.0, 56.0, 52.0, 52.0, 55.0, 42.0, 52.0, 52.0, 58.0, 56.0, 55.0, 44.0, 61.0, 50.0, 59.0, 55.0, 40.0, 52.0, 62.0, 55.0, 36.0, 49.0, 52.0, 47.0, 56.0, 47.0, 31.0, 62.0, 59.0, 68.0, 63.0, 56.0, 35.0, 50.0, 59.0, 43.0, 57.0, 49.0, 52.0, 56.0, 46.0, 44.0, 53.0, 34.0, 51.0, 42.0, 55.0, 51.0, 50.0, 67.0, 50.0, 52.0, 49.0, 45.0, 57.0, 66.0, 59.0, 36.0, 60.0, 51.0, 53.0, 59.0, 59.0, 45.0, 46.0, 53.0, 35.0, 30.0, 61.0, 55.0, 41.0, 46.0, 48.0, 58.0, 62.0, 52.0, 53.0, 44.0, 40.0, 57.0, 50.0, 45.0, 64.0, 47.0, 70.0, 43.0, 43.0, 45.0, 64.0, 46.0, 60.0, 51.0, 65.0, 46.0, 69.0, 41.0, 69.0, 51.0, 65.0, 49.0, 57.0, 65.0, 37.0, 55.0, 52.0, 42.0, 49.0, 47.0, 55.0, 44.0, 49.0, 51.0, 49.0, 69.0, 54.0, 47.0, 64.0, 55.0, 52.0, 55.0, 44.0, 44.0, 47.0, 36.0, 46.0, 46.0, 63.0, 48.0, 48.0, 50.0, 49.0, 48.0, 31.0, 44.0, 57.0, 59.0, 53.0, 53.0, 53.0, 54.0, 52.0, 61.0, 59.0, 55.0, 46.0, 47.0, 53.0, 33.0, 58.0, 56.0, 43.0, 57.0, 36.0, 70.0, 51.0, 60.0, 48.0, 45.0, 53.0, 42.0, 48.0, 64.0, 53.0, 41.0, 44.0, 68.0, 45.0, 60.0, 45.0, 41.0, 45.0, 47.0, 48.0, 60.0, 52.0, 65.0, 48.0, 59.0, 50.0, 59.0, 52.0, 49.0, 30.0, 51.0, 72.0, 50.0, 57.0, 52.0, 48.0, 52.0, 49.0, 52.0, 53.0, 48.0, 49.0, 54.0, 57.0, 39.0, 63.0, 53.0, 59.0, 55.0, 54.0, 41.0, 67.0, 39.0, 57.0, 49.0, 56.0, 43.0, 48.0, 52.0, 63.0, 39.0, 53.0, 50.0, 56.0, 55.0, 43.0, 49.0, 37.0, 55.0, 35.0, 54.0, 44.0, 60.0, 44.0, 45.0, 61.0, 51.0, 56.0, 56.0, 46.0, 45.0, 56.0, 51.0, 48.0, 49.0, 51.0, 39.0, 52.0, 45.0, 60.0, 49.0, 55.0, 59.0, 54.0, 60.0, 52.0, 62.0, 42.0, 36.0, 57.0, 44.0, 54.0, 46.0, 37.0, 59.0, 58.0, 54.0, 47.0, 50.0, 51.0, 56.0, 42.0, 47.0, 53.0, 49.0, 45.0, 38.0, 63.0, 58.0, 60.0, 51.0, 28.0, 42.0, 65.0, 44.0, 52.0, 72.0, 48.0, 47.0, 39.0, 48.0, 67.0, 38.0, 52.0, 58.0, 42.0, 49.0, 42.0, 49.0, 42.0, 36.0, 66.0, 42.0, 40.0, 40.0, 56.0, 56.0, 53.0, 47.0, 54.0, 55.0, 63.0, 61.0, 45.0, 67.0, 64.0, 51.0, 59.0, 44.0, 56.0, 39.0, 63.0, 50.0, 43.0, 50.0, 57.0, 35.0, 48.0, 56.0, 49.0, 48.0, 36.0, 45.0, 51.0, 44.0, 55.0, 56.0, 40.0, 43.0, 53.0, 55.0, 40.0, 53.0, 50.0, 61.0, 72.0, 50.0, 54.0, 36.0, 38.0, 43.0, 35.0, 54.0, 55.0, 42.0, 47.0, 46.0, 39.0, 57.0, 57.0, 52.0, 58.0, 52.0, 52.0, 65.0, 57.0, 53.0, 37.0, 47.0, 41.0, 59.0, 43.0, 47.0, 48.0, 40.0, 53.0, 38.0, 36.0, 51.0, 57.0, 46.0, 31.0, 45.0, 67.0, 68.0, 60.0, 61.0, 54.0, 53.0, 41.0, 53.0, 57.0, 50.0, 39.0, 58.0, 40.0, 61.0, 57.0, 49.0, 35.0, 45.0, 53.0, 49.0, 39.0, 49.0, 38.0, 43.0, 32.0, 45.0, 42.0, 38.0, 33.0, 46.0, 52.0, 55.0, 59.0, 53.0, 53.0, 54.0, 41.0, 51.0, 40.0, 53.0, 54.0, 44.0, 45.0, 45.0, 70.0, 52.0, 49.0, 42.0, 45.0, 62.0, 46.0, 43.0, 44.0, 55.0, 59.0, 69.0, 49.0, 40.0, 45.0, 54.0, 51.0, 57.0, 49.0, 48.0, 59.0, 46.0, 48.0, 42.0, 42.0, 56.0, 44.0, 50.0, 63.0, 55.0, 48.0, 40.0, 51.0, 51.0, 68.0, 63.0, 46.0, 49.0, 49.0, 48.0, 45.0, 46.0, 36.0, 58.0, 47.0, 49.0, 62.0, 56.0, 43.0, 46.0, 43.0, 47.0, 55.0, 58.0, 39.0, 56.0, 54.0, 55.0, 42.0, 45.0, 44.0, 54.0, 58.0, 55.0, 56.0, 52.0, 53.0, 51.0, 36.0, 53.0, 54.0, 55.0, 51.0, 60.0, 52.0, 54.0, 62.0, 63.0, 42.0, 47.0, 71.0, 59.0, 47.0, 44.0, 61.0, 54.0, 62.0, 33.0, 50.0, 68.0, 57.0, 42.0, 52.0, 58.0, 69.0, 59.0, 60.0, 36.0, 59.0, 65.0, 44.0, 46.0, 58.0, 35.0, 47.0, 55.0, 67.0, 43.0, 45.0, 38.0, 46.0, 52.0, 57.0, 46.0, 69.0, 23.0, 48.0, 38.0, 44.0, 60.0, 55.0, 48.0, 48.0, 49.0, 50.0, 63.0, 46.0, 55.0, 61.0, 47.0, 59.0, 30.0, 47.0, 43.0, 56.0, 44.0, 59.0, 54.0, 45.0, 58.0, 52.0, 70.0, 43.0, 50.0, 55.0, 49.0, 66.0, 37.0, 55.0, 52.0, 50.0, 39.0, 52.0, 56.0, 54.0, 42.0, 51.0, 46.0, 58.0, 46.0, 48.0, 42.0, 54.0, 55.0, 48.0, 52.0, 39.0, 53.0, 50.0, 43.0, 52.0, 42.0, 67.0, 60.0, 47.0, 61.0, 66.0, 50.0, 45.0, 46.0, 63.0, 45.0, 62.0, 59.0, 48.0, 46.0, 62.0, 47.0, 44.0, 65.0, 55.0, 65.0, 56.0, 44.0, 54.0, 40.0, 43.0, 52.0, 67.0, 40.0, 52.0, 58.0, 44.0, 42.0, 64.0, 63.0, 64.0, 66.0, 51.0, 58.0, 64.0, 49.0, 47.0, 49.0, 51.0, 55.0, 42.0, 60.0, 59.0, 43.0, 52.0, 44.0, 50.0, 53.0, 56.0, 41.0, 55.0, 38.0, 45.0, 61.0, 54.0, 50.0, 44.0, 47.0, 60.0, 38.0, 54.0, 42.0, 52.0, 49.0, 49.0, 63.0, 58.0, 53.0, 44.0, 49.0, 44.0, 51.0, 48.0, 53.0, 55.0, 58.0, 51.0, 49.0, 50.0, 50.0, 72.0, 56.0, 58.0, 48.0, 43.0, 52.0, 67.0, 44.0, 48.0, 62.0, 59.0, 58.0, 46.0, 50.0, 53.0, 61.0, 59.0, 41.0, 48.0, 59.0, 56.0, 50.0, 51.0, 57.0, 51.0, 42.0, 51.0, 45.0, 50.0, 48.0, 60.0, 66.0, 52.0, 43.0, 51.0, 42.0, 54.0, 37.0, 38.0, 52.0, 59.0, 59.0, 35.0, 57.0, 64.0, 50.0, 45.0, 44.0, 62.0, 60.0, 39.0, 41.0, 41.0, 52.0, 32.0, 37.0, 45.0, 47.0, 53.0, 63.0, 56.0, 41.0, 57.0, 57.0, 56.0, 56.0, 45.0, 46.0, 56.0, 54.0, 40.0, 46.0, 28.0, 46.0, 45.0, 43.0, 36.0, 50.0, 53.0, 40.0, 46.0, 52.0, 52.0, 42.0, 51.0, 44.0, 40.0, 48.0, 41.0, 41.0, 43.0, 53.0, 52.0, 58.0, 47.0, 50.0, 37.0, 53.0, 42.0, 60.0, 53.0, 57.0, 51.0, 62.0, 34.0, 58.0, 50.0, 57.0, 48.0, 52.0, 43.0, 57.0, 42.0, 50.0, 61.0, 56.0, 48.0, 53.0, 42.0, 48.0, 45.0, 48.0, 58.0, 64.0, 56.0, 51.0, 42.0, 46.0, 58.0, 51.0, 50.0, 40.0, 53.0, 56.0, 46.0, 55.0, 46.0, 51.0, 59.0, 49.0, 54.0, 51.0, 31.0, 43.0, 57.0, 48.0, 64.0, 29.0, 33.0, 51.0, 67.0, 33.0, 58.0, 50.0, 51.0, 54.0, 63.0, 42.0, 49.0, 46.0, 53.0, 52.0, 53.0, 33.0, 54.0, 60.0, 44.0, 47.0, 47.0, 38.0, 45.0, 58.0, 61.0, 46.0, 50.0, 44.0, 54.0, 47.0, 47.0, 54.0, 74.0, 64.0, 37.0, 56.0, 53.0, 55.0, 45.0, 53.0, 52.0, 47.0, 56.0, 72.0, 41.0, 64.0, 44.0, 57.0, 55.0, 48.0, 50.0, 55.0, 52.0, 58.0, 42.0, 52.0, 55.0, 62.0, 65.0, 54.0, 40.0, 40.0, 45.0, 48.0, 49.0, 38.0, 67.0, 49.0, 47.0, 48.0, 42.0, 48.0, 53.0, 42.0, 40.0, 52.0, 40.0, 50.0, 66.0, 52.0, 52.0, 44.0, 61.0, 37.0, 57.0, 49.0, 61.0, 57.0, 48.0, 47.0, 51.0, 47.0, 45.0, 45.0, 66.0, 49.0, 44.0, 57.0, 46.0, 42.0, 56.0, 60.0, 69.0, 45.0, 44.0, 56.0, 60.0, 50.0, 67.0, 49.0, 53.0, 60.0, 47.0, 44.0, 56.0, 42.0, 60.0, 42.0, 31.0, 36.0, 63.0, 59.0, 43.0, 49.0, 31.0, 37.0, 55.0, 47.0, 44.0, 63.0, 69.0, 47.0, 65.0, 60.0, 57.0, 51.0, 55.0, 45.0, 45.0, 49.0, 41.0, 51.0, 55.0, 69.0, 58.0, 47.0, 51.0, 45.0, 36.0, 45.0, 46.0, 64.0, 43.0, 59.0, 59.0, 47.0, 44.0, 54.0, 52.0, 72.0, 63.0, 34.0, 37.0, 35.0, 58.0, 26.0, 59.0, 59.0, 48.0, 32.0, 37.0, 30.0, 53.0, 48.0, 51.0, 55.0, 61.0, 54.0, 48.0, 41.0, 51.0, 52.0, 44.0, 45.0, 51.0, 57.0, 46.0, 46.0, 47.0, 61.0, 49.0, 58.0, 40.0, 71.0, 51.0, 25.0, 56.0, 37.0, 65.0, 49.0, 60.0, 63.0, 50.0, 47.0, 58.0, 38.0, 56.0, 59.0, 61.0, 64.0, 46.0, 55.0, 70.0, 69.0, 41.0, 37.0, 65.0, 55.0, 46.0, 55.0, 60.0, 47.0, 39.0, 62.0, 46.0, 49.0, 43.0, 56.0, 51.0, 63.0, 43.0, 50.0, 63.0, 62.0, 61.0, 50.0, 54.0, 71.0, 52.0, 49.0, 56.0, 52.0, 33.0, 63.0, 44.0, 50.0, 56.0, 58.0, 51.0, 47.0, 58.0, 44.0, 40.0, 50.0, 59.0, 45.0, 56.0, 37.0, 48.0, 66.0, 34.0, 47.0, 40.0, 45.0, 51.0, 48.0, 67.0, 36.0, 55.0, 55.0, 48.0, 46.0, 55.0, 37.0, 46.0, 60.0, 43.0, 53.0, 46.0, 59.0, 48.0, 49.0, 56.0, 51.0, 51.0, 59.0, 52.0, 55.0, 66.0, 58.0, 66.0, 37.0, 72.0, 44.0, 51.0, 52.0, 49.0, 55.0, 75.0, 51.0, 44.0, 57.0, 42.0, 55.0, 36.0, 60.0, 58.0, 62.0, 60.0, 73.0, 63.0, 65.0, 46.0, 60.0, 54.0, 42.0, 47.0, 52.0, 42.0, 53.0, 55.0, 44.0, 46.0, 66.0, 42.0, 40.0, 46.0, 48.0, 42.0, 45.0, 53.0, 25.0, 34.0, 51.0, 62.0, 51.0, 48.0, 50.0, 58.0, 67.0, 52.0, 50.0, 32.0, 55.0, 38.0, 62.0, 52.0, 52.0, 51.0, 57.0, 48.0, 42.0, 48.0, 71.0, 40.0, 53.0, 59.0, 52.0, 55.0, 58.0, 50.0, 56.0, 45.0, 45.0, 40.0, 43.0, 47.0, 57.0, 45.0, 63.0, 56.0, 46.0, 51.0, 52.0, 47.0, 63.0, 46.0, 40.0, 47.0, 46.0, 49.0, 75.0, 45.0, 61.0, 38.0, 41.0, 55.0, 53.0, 44.0, 44.0, 50.0, 52.0, 67.0, 67.0, 27.0, 53.0, 63.0, 39.0, 58.0, 48.0, 64.0, 36.0, 56.0, 47.0, 49.0, 38.0, 48.0, 51.0, 31.0, 40.0, 49.0, 56.0, 50.0, 58.0, 37.0, 46.0, 53.0, 49.0, 33.0, 52.0, 46.0, 55.0, 59.0, 42.0, 45.0, 40.0, 51.0, 44.0, 50.0, 56.0, 56.0, 55.0, 49.0, 53.0, 45.0, 53.0, 44.0, 41.0, 38.0, 56.0, 63.0, 55.0, 66.0, 28.0, 56.0, 53.0, 33.0, 40.0, 63.0, 45.0, 63.0, 50.0, 51.0, 39.0, 56.0, 62.0, 67.0, 56.0, 52.0, 50.0, 50.0, 43.0, 40.0, 40.0, 44.0, 45.0, 52.0, 56.0, 47.0, 57.0, 49.0, 59.0, 44.0, 67.0, 48.0, 38.0, 48.0, 45.0, 52.0, 67.0, 53.0, 41.0, 47.0, 50.0, 54.0, 57.0, 49.0, 35.0, 53.0, 44.0, 46.0, 45.0, 42.0, 49.0, 52.0, 54.0, 58.0, 47.0, 57.0, 49.0, 39.0, 64.0, 56.0, 41.0, 43.0, 47.0, 50.0, 69.0, 60.0, 59.0, 61.0, 43.0, 58.0, 59.0, 51.0, 51.0, 61.0, 37.0, 43.0, 65.0, 39.0, 43.0, 61.0, 47.0, 62.0, 41.0, 58.0, 55.0, 60.0, 51.0, 35.0, 44.0, 41.0, 42.0, 51.0, 51.0, 45.0, 49.0, 42.0, 53.0, 59.0, 57.0, 64.0, 46.0, 51.0, 65.0, 56.0, 54.0, 43.0, 41.0, 63.0, 50.0, 45.0, 41.0, 54.0, 73.0, 70.0, 40.0, 54.0, 52.0, 47.0, 47.0, 44.0, 64.0, 56.0, 47.0, 59.0, 47.0, 41.0, 54.0, 61.0, 51.0, 52.0, 52.0, 46.0, 45.0, 59.0, 33.0, 46.0, 47.0, 43.0, 63.0, 72.0, 46.0, 58.0, 53.0, 57.0, 40.0, 47.0, 36.0, 49.0, 38.0, 58.0, 59.0, 61.0, 49.0, 59.0, 52.0, 51.0, 50.0, 61.0, 47.0, 46.0, 38.0, 45.0, 61.0, 36.0, 59.0, 59.0, 52.0, 29.0, 51.0, 54.0, 53.0, 51.0, 54.0, 56.0, 57.0, 63.0, 46.0, 47.0, 56.0, 49.0, 49.0, 55.0, 47.0, 45.0, 48.0, 64.0, 56.0, 42.0, 51.0, 58.0, 52.0, 50.0, 40.0, 51.0, 40.0, 53.0, 61.0, 45.0, 37.0, 62.0, 50.0, 61.0, 58.0, 43.0, 50.0, 40.0, 51.0, 69.0, 45.0, 49.0, 78.0, 41.0, 58.0, 43.0, 65.0, 40.0, 55.0, 54.0, 39.0, 51.0, 55.0, 55.0, 52.0, 54.0, 53.0, 56.0, 53.0, 38.0, 55.0, 31.0, 47.0, 50.0, 55.0, 48.0, 53.0, 46.0, 44.0, 52.0, 60.0, 53.0, 50.0, 49.0, 67.0, 46.0, 52.0, 48.0, 51.0, 47.0, 42.0, 48.0, 56.0, 54.0, 58.0, 65.0, 47.0, 51.0, 45.0, 60.0, 46.0, 44.0, 53.0, 53.0, 39.0, 51.0, 49.0, 39.0, 60.0, 61.0, 57.0, 61.0, 46.0, 58.0, 38.0, 53.0, 47.0, 44.0, 52.0, 54.0, 46.0, 57.0, 54.0, 40.0, 55.0, 59.0, 42.0, 54.0, 43.0, 49.0, 58.0, 56.0, 49.0, 52.0, 49.0, 38.0, 55.0, 51.0, 39.0, 46.0, 67.0, 42.0, 50.0, 65.0, 39.0, 52.0, 61.0, 53.0, 47.0, 52.0, 55.0, 63.0, 66.0, 46.0, 55.0, 49.0, 51.0, 58.0, 70.0, 46.0, 59.0, 63.0, 61.0, 50.0, 55.0, 44.0, 58.0, 50.0, 52.0, 35.0, 48.0, 48.0, 51.0, 57.0, 54.0, 35.0, 43.0, 42.0, 57.0, 51.0, 46.0, 65.0, 52.0, 48.0, 59.0, 63.0, 38.0, 39.0, 68.0, 56.0, 55.0, 45.0, 54.0, 50.0, 43.0, 39.0, 45.0, 62.0, 36.0, 52.0, 45.0, 59.0, 48.0, 67.0, 48.0, 51.0, 59.0, 64.0, 44.0, 38.0, 65.0]\n"
     ]
    }
   ],
   "source": [
    "print(temp_sample)\n",
    "print(bootstrap_means)"
   ]
  },
  {
   "cell_type": "code",
   "execution_count": 46,
   "metadata": {
    "ExecuteTime": {
     "end_time": "2021-07-01T10:32:56.637109Z",
     "start_time": "2021-07-01T10:32:56.268502Z"
    },
    "colab": {
     "base_uri": "https://localhost:8080/",
     "height": 281
    },
    "executionInfo": {
     "elapsed": 716,
     "status": "ok",
     "timestamp": 1643888129907,
     "user": {
      "displayName": "Hippolyte GUIGON",
      "photoUrl": "https://lh3.googleusercontent.com/a-/AOh14GjYVU9CDexRPiTYRyddiqGAyBg678-bBucrxUClWw=s64",
      "userId": "18045676621189214494"
     },
     "user_tz": -60
    },
    "id": "faMQkMLQ1GSG",
    "outputId": "f73d65ea-0c5d-489b-aa0d-7af15f658a1c"
   },
   "outputs": [
    {
     "data": {
      "image/png": "[encoded data removed]",
      "text/plain": [
       "<Figure size 432x288 with 1 Axes>"
      ]
     },
     "metadata": {
      "needs_background": "light"
     },
     "output_type": "display_data"
    }
   ],
   "source": [
    "# Bootstrapped distribution \n",
    "sns.histplot(x=bootstrap_means, bins=25)\n",
    "plt.title('Bootstrapped distribution of Easter eggs weights')\n",
    "plt.show()"
   ]
  },
  {
   "cell_type": "code",
   "execution_count": 47,
   "metadata": {
    "ExecuteTime": {
     "end_time": "2021-07-01T10:32:57.407095Z",
     "start_time": "2021-07-01T10:32:57.388492Z"
    },
    "colab": {
     "base_uri": "https://localhost:8080/"
    },
    "executionInfo": {
     "elapsed": 280,
     "status": "ok",
     "timestamp": 1643888195531,
     "user": {
      "displayName": "Hippolyte GUIGON",
      "photoUrl": "https://lh3.googleusercontent.com/a-/AOh14GjYVU9CDexRPiTYRyddiqGAyBg678-bBucrxUClWw=s64",
      "userId": "18045676621189214494"
     },
     "user_tz": -60
    },
    "id": "UQUqHzlX1GSG",
    "outputId": "6d26a7c8-2cb2-4b8c-9c93-2f51a48e0a80",
    "scrolled": true
   },
   "outputs": [
    {
     "name": "stdout",
     "output_type": "stream",
     "text": [
      "[35. 67.]\n"
     ]
    },
    {
     "data": {
      "text/plain": [
       "(35.0, 67.0)"
      ]
     },
     "execution_count": 47,
     "metadata": {},
     "output_type": "execute_result"
    }
   ],
   "source": [
    "# Confidence interval based on bootstrapped distribution of means\n",
    "centiles = np.percentile(bootstrap_means, [2.5, 97.5])\n",
    "print(centiles)\n",
    "bootstrapped_ci = (round(centiles[0], 2), round(centiles[1], 2))\n",
    "bootstrapped_ci"
   ]
  },
  {
   "cell_type": "markdown",
   "metadata": {
    "id": "aEtpPrXA1GSH"
   },
   "source": [
    "#### Usine de chaussures"
   ]
  },
  {
   "cell_type": "markdown",
   "metadata": {
    "id": "nL16udHs1GSH"
   },
   "source": [
    "Imaginons que l'on possède une usine qui produit des chaussures. On veut être capable de caractériser la taille moyenne des chaussures et être sûr qu'elles répondre à certaines spécificités. Notre usine produit des centaines de chaussures tous les jours, et il est impossible de mesurer la taille de toutes les chaussures. On a accès à un échantillon de 100 chaussures. On va bootstrapper ces 100 tailles de chaussures pour obtenir un intervalle de confiance de 95% de la taille moyenne de nos chaussures. \n",
    "\n",
    "Commencons par examiner la liste `shoe_lengths` qui référence les 100 tailles de chaussures observées."
   ]
  },
  {
   "cell_type": "code",
   "execution_count": 48,
   "metadata": {
    "ExecuteTime": {
     "end_time": "2021-06-26T14:03:41.790124Z",
     "start_time": "2021-06-26T14:03:41.780836Z"
    },
    "colab": {
     "base_uri": "https://localhost:8080/"
    },
    "executionInfo": {
     "elapsed": 243,
     "status": "ok",
     "timestamp": 1643888216344,
     "user": {
      "displayName": "Hippolyte GUIGON",
      "photoUrl": "https://lh3.googleusercontent.com/a-/AOh14GjYVU9CDexRPiTYRyddiqGAyBg678-bBucrxUClWw=s64",
      "userId": "18045676621189214494"
     },
     "user_tz": -60
    },
    "id": "B7kfkd9x1GSI",
    "outputId": "2825ea86-52fd-4bdf-d44e-da37f20d68c1"
   },
   "outputs": [
    {
     "data": {
      "text/plain": [
       "array([24.84710574, 24.81337349, 25.16510234, 24.78816146, 24.89269172,\n",
       "       25.14646148, 24.69817331, 25.0688573 , 24.87036012, 24.8206271 ,\n",
       "       25.12225557, 24.88041133, 24.83233129, 25.02862316, 25.03991346,\n",
       "       24.74640764, 24.91035103, 24.99696955, 25.13087622, 24.85832823,\n",
       "       24.84184332, 24.95568332, 24.91720475, 25.2490908 , 25.12309325,\n",
       "       24.98535221, 25.25205295, 24.83714877, 24.96163615, 25.15073402,\n",
       "       25.01967335, 25.03276916, 24.90478953, 25.02919862, 24.69211873,\n",
       "       25.01603889, 24.86908972, 24.9029353 , 25.08801187, 25.0356099 ,\n",
       "       25.03698985, 24.98906587, 24.86250818, 24.946283  , 24.99187859,\n",
       "       25.03180945, 24.80529368, 24.72992907, 25.24235237, 25.20554661,\n",
       "       24.93336373, 25.18490071, 24.94560833, 25.01928667, 25.07069833,\n",
       "       25.33308162, 24.90424012, 24.86710779, 25.02733187, 25.1980969 ,\n",
       "       24.8640097 , 24.78944577, 25.13954789, 25.0244407 , 25.07721381,\n",
       "       25.11920115, 25.05847149, 25.22708983, 25.10425119, 25.35889569,\n",
       "       24.80903479, 24.72165025, 24.88283821, 25.441276  , 25.03094181,\n",
       "       25.04998516, 24.8642059 , 24.94355911, 24.76474193, 24.9227773 ,\n",
       "       24.89369866, 25.19809848, 24.9547957 , 24.93736336, 24.86833965,\n",
       "       24.78994401, 25.11946894, 24.76183844, 25.1413125 , 25.0754761 ,\n",
       "       24.95130925, 24.90470812, 25.06146286, 25.09346987, 24.92597898,\n",
       "       24.78020902, 24.84849783, 25.04738226, 25.00031402, 25.13533665])"
      ]
     },
     "execution_count": 48,
     "metadata": {},
     "output_type": "execute_result"
    }
   ],
   "source": [
    "#ici on créé une liste qui initialise 100 tailles de chaussures \n",
    "#un peu au hasard pour notre exemple\n",
    "shoe_lengths = np.random.normal(25, 0.15, 100)\n",
    "shoe_lengths"
   ]
  },
  {
   "cell_type": "code",
   "execution_count": 49,
   "metadata": {
    "ExecuteTime": {
     "end_time": "2021-06-26T14:03:42.287476Z",
     "start_time": "2021-06-26T14:03:42.005451Z"
    },
    "colab": {
     "base_uri": "https://localhost:8080/",
     "height": 265
    },
    "executionInfo": {
     "elapsed": 711,
     "status": "ok",
     "timestamp": 1643888229795,
     "user": {
      "displayName": "Hippolyte GUIGON",
      "photoUrl": "https://lh3.googleusercontent.com/a-/AOh14GjYVU9CDexRPiTYRyddiqGAyBg678-bBucrxUClWw=s64",
      "userId": "18045676621189214494"
     },
     "user_tz": -60
    },
    "id": "sKvtxTU51GSI",
    "outputId": "61441499-09af-44c3-89c8-4390a8319f08",
    "scrolled": false
   },
   "outputs": [
    {
     "data": {
      "image/png": "[encoded data removed]",
      "text/plain": [
       "<Figure size 432x288 with 1 Axes>"
      ]
     },
     "metadata": {
      "needs_background": "light"
     },
     "output_type": "display_data"
    }
   ],
   "source": [
    "sns.histplot(shoe_lengths, bins=20);"
   ]
  },
  {
   "cell_type": "markdown",
   "metadata": {
    "id": "fqrMYsA81GSJ"
   },
   "source": [
    "* Intervalle de confiance théorique"
   ]
  },
  {
   "cell_type": "code",
   "execution_count": 50,
   "metadata": {
    "ExecuteTime": {
     "end_time": "2021-06-26T14:16:11.793904Z",
     "start_time": "2021-06-26T14:16:11.761720Z"
    },
    "colab": {
     "base_uri": "https://localhost:8080/"
    },
    "executionInfo": {
     "elapsed": 258,
     "status": "ok",
     "timestamp": 1643888237831,
     "user": {
      "displayName": "Hippolyte GUIGON",
      "photoUrl": "https://lh3.googleusercontent.com/a-/AOh14GjYVU9CDexRPiTYRyddiqGAyBg678-bBucrxUClWw=s64",
      "userId": "18045676621189214494"
     },
     "user_tz": -60
    },
    "id": "4y6JtLJq1GSK",
    "outputId": "932b230f-856c-40e1-d704-709e174c07e2"
   },
   "outputs": [
    {
     "name": "stdout",
     "output_type": "stream",
     "text": [
      "Mean: 24.985294112603125 \n",
      "Stdev: 0.1525333281121378 \n",
      "Standard error: 0.01525333281121378\n"
     ]
    },
    {
     "data": {
      "text/plain": [
       "(24.955397580293145, 25.015190644913105)"
      ]
     },
     "execution_count": 50,
     "metadata": {},
     "output_type": "execute_result"
    }
   ],
   "source": [
    "mu = np.mean(shoe_lengths)\n",
    "sigma = np.std(shoe_lengths)\n",
    "z = sigma / np.sqrt(len(shoe_lengths))\n",
    "print('Mean:', mu, '\\nStdev:', sigma, '\\nStandard error:', z)\n",
    "\n",
    "confidence_interval = (mu - 1.96*z, mu + 1.96*z)\n",
    "confidence_interval"
   ]
  },
  {
   "cell_type": "markdown",
   "metadata": {
    "id": "kFZni9cy1GSK"
   },
   "source": [
    "* Intervalle de confiance bootstrappée"
   ]
  },
  {
   "cell_type": "markdown",
   "metadata": {
    "id": "vd_OF-KI1GSK"
   },
   "source": [
    "Encore une fois, le bootstrapping consiste à tirer pleins d'échantillons  de taille `len(shoe_lengths)` (100 içi) de manière aléatoire avec remplacement (par exemple >1000), et en suite calculer la taille moyenne de chaque échantillon."
   ]
  },
  {
   "cell_type": "code",
   "execution_count": 51,
   "metadata": {
    "ExecuteTime": {
     "end_time": "2021-06-26T14:03:42.842706Z",
     "start_time": "2021-06-26T14:03:42.754587Z"
    },
    "colab": {
     "base_uri": "https://localhost:8080/"
    },
    "executionInfo": {
     "elapsed": 286,
     "status": "ok",
     "timestamp": 1643888248584,
     "user": {
      "displayName": "Hippolyte GUIGON",
      "photoUrl": "https://lh3.googleusercontent.com/a-/AOh14GjYVU9CDexRPiTYRyddiqGAyBg678-bBucrxUClWw=s64",
      "userId": "18045676621189214494"
     },
     "user_tz": -60
    },
    "id": "gzA9i3N41GSL",
    "outputId": "9fd775a8-e3e1-44f6-be9d-5b391cd754ff"
   },
   "outputs": [
    {
     "data": {
      "text/plain": [
       "[24.979398080530753,\n",
       " 24.992349416689052,\n",
       " 24.979779269393166,\n",
       " 25.006784966674385,\n",
       " 24.975675422504988,\n",
       " 24.984938288410152,\n",
       " 24.996428188147185,\n",
       " 24.99585847104416,\n",
       " 24.974893365001744,\n",
       " 24.993066042769144,\n",
       " 25.014183504274506,\n",
       " 24.998337692400376,\n",
       " 24.95362142128748,\n",
       " 24.988951991038967,\n",
       " 24.990926394672236,\n",
       " 24.9933403460701,\n",
       " 25.012041640999687,\n",
       " 25.00308220185215,\n",
       " 24.96950657102333,\n",
       " 24.985702264022983,\n",
       " 24.998710472827323,\n",
       " 24.994087335768672,\n",
       " 24.988656873151267,\n",
       " 24.992988876522187,\n",
       " 25.009434031324957,\n",
       " 25.00675035462159,\n",
       " 24.984142370230806,\n",
       " 24.99677895561678,\n",
       " 24.979939636512253,\n",
       " 24.989621627606518,\n",
       " 24.996188144851825,\n",
       " 24.973738446735016,\n",
       " 24.977405976130804,\n",
       " 25.014557063659677,\n",
       " 24.99488454996288,\n",
       " 24.96455036944204,\n",
       " 25.029344997552656,\n",
       " 24.986903043113546,\n",
       " 24.982973187676638,\n",
       " 24.99772093763913,\n",
       " 25.002797295446467,\n",
       " 24.97628905337992,\n",
       " 24.993754789663445,\n",
       " 24.985909799207594,\n",
       " 24.971755441038194,\n",
       " 24.988254984390743,\n",
       " 24.995829914314818,\n",
       " 24.986393794674,\n",
       " 24.99600172470762,\n",
       " 24.99218578350069,\n",
       " 25.00561642011024,\n",
       " 24.987289611261293,\n",
       " 24.971494795821627,\n",
       " 24.99506935385742,\n",
       " 24.98103902237265,\n",
       " 24.972112906318344,\n",
       " 24.984317094389283,\n",
       " 24.964667556960734,\n",
       " 25.011169895920727,\n",
       " 25.00746086138171,\n",
       " 24.982511053120785,\n",
       " 25.0056192091993,\n",
       " 24.989149713936175,\n",
       " 25.000937534282443,\n",
       " 24.998556801581962,\n",
       " 25.0161300577906,\n",
       " 24.97055920574519,\n",
       " 24.972668747811582,\n",
       " 24.991628952549735,\n",
       " 24.986897134557857,\n",
       " 25.00379241479509,\n",
       " 24.97398843221542,\n",
       " 24.97982080601795,\n",
       " 24.969868498321137,\n",
       " 24.985631256005426,\n",
       " 24.998752449304426,\n",
       " 24.977975688021896,\n",
       " 25.00214661805108,\n",
       " 24.990863781328166,\n",
       " 25.003427056032564,\n",
       " 24.953892365636584,\n",
       " 24.944679813802722,\n",
       " 24.99447896749863,\n",
       " 25.004194992030847,\n",
       " 24.998237355852712,\n",
       " 24.964979711315674,\n",
       " 24.984731683249052,\n",
       " 24.988766179378217,\n",
       " 24.99017325227057,\n",
       " 24.98710884347456,\n",
       " 24.980022107023828,\n",
       " 24.981350074847807,\n",
       " 24.970754948491287,\n",
       " 24.992415394449566,\n",
       " 24.971784159684713,\n",
       " 24.98803540491459,\n",
       " 24.983740618359302,\n",
       " 24.99623620856073,\n",
       " 24.98650450973227,\n",
       " 24.978541672403153,\n",
       " 24.98635734938875,\n",
       " 24.992373626706243,\n",
       " 24.989002215719744,\n",
       " 24.98677584598879,\n",
       " 24.982243181167817,\n",
       " 24.979912660364363,\n",
       " 24.973876668047822,\n",
       " 24.980712068555444,\n",
       " 24.989335423140083,\n",
       " 24.96195259380158,\n",
       " 25.004126823053475,\n",
       " 24.981092368598244,\n",
       " 24.994960605019322,\n",
       " 24.9786455067579,\n",
       " 24.98448981566544,\n",
       " 24.97225997605252,\n",
       " 24.980481494653045,\n",
       " 24.96387275470943,\n",
       " 25.004340198062692,\n",
       " 24.98747821307251,\n",
       " 24.99203131459838,\n",
       " 25.005216402338917,\n",
       " 24.984441757581518,\n",
       " 25.009499895799667,\n",
       " 24.97200669494805,\n",
       " 24.970305838291615,\n",
       " 24.99553612284983,\n",
       " 24.994011412595736,\n",
       " 24.989647543214545,\n",
       " 24.98387083925901,\n",
       " 25.00341121063541,\n",
       " 24.981108121682436,\n",
       " 24.97807192495462,\n",
       " 24.98316535215601,\n",
       " 24.996331903130635,\n",
       " 24.9881175341001,\n",
       " 25.000066147651413,\n",
       " 24.9720399564002,\n",
       " 24.965038230230157,\n",
       " 24.97401656907357,\n",
       " 24.967643564086405,\n",
       " 25.009735810796457,\n",
       " 24.973898929258144,\n",
       " 25.013098565963322,\n",
       " 24.971655934124843,\n",
       " 24.98483353051346,\n",
       " 24.995084826637694,\n",
       " 25.001746297163084,\n",
       " 24.983445635395903,\n",
       " 24.987576105114563,\n",
       " 24.996646093729545,\n",
       " 25.016700524136763,\n",
       " 24.980587375831387,\n",
       " 24.976195848325165,\n",
       " 24.984049763252045,\n",
       " 24.997850773952077,\n",
       " 24.992400352072455,\n",
       " 24.976835248826532,\n",
       " 24.979969681689223,\n",
       " 24.98123137582787,\n",
       " 24.992319865741106,\n",
       " 24.985790270202955,\n",
       " 24.99354580489043,\n",
       " 24.98930905428113,\n",
       " 24.991541465435038,\n",
       " 24.978885504313233,\n",
       " 24.987209267375416,\n",
       " 24.974002293689892,\n",
       " 24.992277536762746,\n",
       " 24.997836853200866,\n",
       " 24.995047087956934,\n",
       " 25.001395216422676,\n",
       " 24.973371097927103,\n",
       " 24.99399802935916,\n",
       " 24.968820982282978,\n",
       " 24.99551124468633,\n",
       " 25.006816662065393,\n",
       " 24.999003496772247,\n",
       " 24.987037034732523,\n",
       " 24.98209980513202,\n",
       " 24.991035137093636,\n",
       " 24.991035895139657,\n",
       " 25.031939811149304,\n",
       " 25.022765488969167,\n",
       " 24.98703527640045,\n",
       " 24.98534453531509,\n",
       " 24.963484054923637,\n",
       " 24.994711414503694,\n",
       " 24.99643213099711,\n",
       " 24.999466671514774,\n",
       " 24.98349608520661,\n",
       " 24.975760511950767,\n",
       " 24.99005988342917,\n",
       " 24.979614942335843,\n",
       " 24.98343183486773,\n",
       " 24.98089012529501,\n",
       " 24.984309367866455,\n",
       " 24.972005912832227,\n",
       " 24.96783017122982,\n",
       " 24.995575334676232,\n",
       " 24.984861322033456,\n",
       " 24.986599473030296,\n",
       " 24.972102558468954,\n",
       " 24.962977976089146,\n",
       " 24.961172200869783,\n",
       " 24.982881836297803,\n",
       " 25.006061962409817,\n",
       " 24.967490428264313,\n",
       " 24.96982619273833,\n",
       " 24.96808867937542,\n",
       " 24.986038326501184,\n",
       " 24.994573737641414,\n",
       " 24.99063851962484,\n",
       " 24.96654318072041,\n",
       " 24.99295106014019,\n",
       " 24.987648698962253,\n",
       " 24.993125181447578,\n",
       " 25.0038313379309,\n",
       " 24.991196330693402,\n",
       " 24.96742660472722,\n",
       " 25.004009496636908,\n",
       " 24.987616245288123,\n",
       " 25.01284673266223,\n",
       " 24.999431818699442,\n",
       " 24.982851395092812,\n",
       " 24.98664133306768,\n",
       " 24.971450455118255,\n",
       " 24.998753365997622,\n",
       " 24.97743233735062,\n",
       " 25.012389296370834,\n",
       " 24.964150666706374,\n",
       " 24.99305532956942,\n",
       " 24.946189037920373,\n",
       " 24.967114737641413,\n",
       " 25.004573088553023,\n",
       " 25.023848650942718,\n",
       " 24.98957142585438,\n",
       " 24.980705924207424,\n",
       " 24.96374928437524,\n",
       " 24.980376950559684,\n",
       " 24.95986312021807,\n",
       " 24.986529784089456,\n",
       " 24.9616110169565,\n",
       " 24.98088462700223,\n",
       " 24.959814139518958,\n",
       " 24.988397209956908,\n",
       " 25.00235466556678,\n",
       " 24.991917357174856,\n",
       " 24.98386837039166,\n",
       " 24.98310871449416,\n",
       " 24.94767700395367,\n",
       " 24.99487422390255,\n",
       " 24.964693510951456,\n",
       " 24.989616068315566,\n",
       " 24.98791579376119,\n",
       " 24.972946593564266,\n",
       " 24.97719391809548,\n",
       " 25.010530499605608,\n",
       " 24.98116793843183,\n",
       " 24.98272378957394,\n",
       " 24.991498189445796,\n",
       " 24.99028260483444,\n",
       " 24.957372329676655,\n",
       " 24.98207895900711,\n",
       " 24.991813707670087,\n",
       " 24.987143643564433,\n",
       " 24.976084287242443,\n",
       " 24.981772913602885,\n",
       " 24.996713604731113,\n",
       " 25.021326766893903,\n",
       " 24.968875720009567,\n",
       " 24.984360196723145,\n",
       " 24.999816827960252,\n",
       " 25.004387613406156,\n",
       " 24.971449612651877,\n",
       " 24.992662816043993,\n",
       " 24.994987211575545,\n",
       " 24.97706732224248,\n",
       " 24.99025354518507,\n",
       " 24.984379262686616,\n",
       " 24.961194552894828,\n",
       " 24.99624355195385,\n",
       " 25.0119990578416,\n",
       " 24.988467137533366,\n",
       " 24.9887543587783,\n",
       " 24.979491178772538,\n",
       " 24.99440832189579,\n",
       " 24.97384751637958,\n",
       " 24.993809717929597,\n",
       " 24.979538663796507,\n",
       " 24.962477571234782,\n",
       " 24.98009915142555,\n",
       " 24.96036581817204,\n",
       " 24.980987328632487,\n",
       " 25.00829085945918,\n",
       " 24.98477399990413,\n",
       " 24.986501426675133,\n",
       " 24.97474854122363,\n",
       " 25.011645851670366,\n",
       " 24.968186452794672,\n",
       " 24.991044895358346,\n",
       " 24.96502276074516,\n",
       " 24.98783023775075,\n",
       " 25.000469329588327,\n",
       " 24.99699943456762,\n",
       " 24.971270802383007,\n",
       " 24.968696531043523,\n",
       " 24.985984751350987,\n",
       " 24.97802957463239,\n",
       " 24.96704362898602,\n",
       " 24.97279139536676,\n",
       " 25.00398579261137,\n",
       " 24.982555502399865,\n",
       " 24.996320492543624,\n",
       " 24.97218866103603,\n",
       " 24.993891354154034,\n",
       " 24.965312047501392,\n",
       " 24.96954631022038,\n",
       " 24.97035208731091,\n",
       " 24.984579490983624,\n",
       " 24.97384815700056,\n",
       " 25.008366279331344,\n",
       " 24.99789422106635,\n",
       " 24.97719527939708,\n",
       " 24.989623136129193,\n",
       " 24.975964909544484,\n",
       " 24.980216812748857,\n",
       " 25.026401586197654,\n",
       " 24.99600387059986,\n",
       " 25.002608168529445,\n",
       " 24.993337393806506,\n",
       " 25.00815943309625,\n",
       " 25.004575330700206,\n",
       " 25.003978291356795,\n",
       " 24.975257315551456,\n",
       " 24.992430994261028,\n",
       " 24.99374842234069,\n",
       " 25.01083333442872,\n",
       " 25.002698999911267,\n",
       " 24.980499577352152,\n",
       " 24.99613767951853,\n",
       " 24.970203572238503,\n",
       " 24.994442149461538,\n",
       " 24.98564004116866,\n",
       " 24.976348737463837,\n",
       " 24.98812950894135,\n",
       " 24.994089622326104,\n",
       " 24.96721436322896,\n",
       " 24.971253271979528,\n",
       " 24.96723877848875,\n",
       " 24.96450552670676,\n",
       " 24.983207343671143,\n",
       " 24.981441021621425,\n",
       " 24.979671221291415,\n",
       " 24.975195943600315,\n",
       " 24.97727463449651,\n",
       " 24.989418110955718,\n",
       " 24.987158258741534,\n",
       " 24.988500415807824,\n",
       " 24.984893099622973,\n",
       " 24.99157399772638,\n",
       " 24.98416372993709,\n",
       " 24.977323238097224,\n",
       " 24.97418501278223,\n",
       " 24.968274683189975,\n",
       " 24.977603697520745,\n",
       " 24.97155103100085,\n",
       " 24.992035163941026,\n",
       " 24.962482594813768,\n",
       " 24.9763804924923,\n",
       " 24.970437256691817,\n",
       " 24.952016851829306,\n",
       " 24.989218032624095,\n",
       " 24.973239671697915,\n",
       " 24.970970168441312,\n",
       " 24.995764847904287,\n",
       " 24.995749506389508,\n",
       " 24.983213481117424,\n",
       " 24.96989711763269,\n",
       " 24.99574777676911,\n",
       " 24.979666438946023,\n",
       " 24.994057588264386,\n",
       " 25.005403108349377,\n",
       " 24.9893880831392,\n",
       " 24.98484949822919,\n",
       " 24.979872889512627,\n",
       " 24.98266728500841,\n",
       " 24.991705364746693,\n",
       " 24.988563715636218,\n",
       " 24.979130871912908,\n",
       " 24.96767165558791,\n",
       " 24.977148044535056,\n",
       " 25.011147505990536,\n",
       " 24.953268179804738,\n",
       " 24.978392395833385,\n",
       " 24.992816711676316,\n",
       " 25.02270308402345,\n",
       " 25.002950980632903,\n",
       " 24.99197432541588,\n",
       " 24.985966832338182,\n",
       " 24.9814076358508,\n",
       " 24.982296278958124,\n",
       " 24.959685295744016,\n",
       " 25.000352387847958,\n",
       " 24.96808054212695,\n",
       " 25.007506250568472,\n",
       " 24.96525781372964,\n",
       " 24.98696860311134,\n",
       " 24.98756445197635,\n",
       " 24.9706215412865,\n",
       " 24.986736417149945,\n",
       " 25.009974069977716,\n",
       " 24.9900431217091,\n",
       " 25.000124282257744,\n",
       " 24.99298589560502,\n",
       " 24.97805184139031,\n",
       " 24.964768298987707,\n",
       " 24.98104900299084,\n",
       " 24.98514208511662,\n",
       " 25.006346883185348,\n",
       " 24.976750917794263,\n",
       " 24.994464624970192,\n",
       " 24.962635634328308,\n",
       " 24.974612382143118,\n",
       " 24.97374559314867,\n",
       " 24.96133414365976,\n",
       " 25.010055636615483,\n",
       " 24.958942341874796,\n",
       " 25.015283157819944,\n",
       " 24.984010118699487,\n",
       " 24.991983344999536,\n",
       " 24.957231299879467,\n",
       " 25.0003891285418,\n",
       " 24.99427671015652,\n",
       " 25.007128819315966,\n",
       " 25.020034213939688,\n",
       " 24.973776495087215,\n",
       " 24.99339041653855,\n",
       " 25.003242407572785,\n",
       " 24.99743768147037,\n",
       " 25.003479899559775,\n",
       " 24.967943767208443,\n",
       " 25.003425947356135,\n",
       " 25.00068015861259,\n",
       " 24.970450330069884,\n",
       " 24.984684817286876,\n",
       " 24.982473194722793,\n",
       " 24.998590054738873,\n",
       " 24.986565673464366,\n",
       " 24.99353291437692,\n",
       " 25.002156569744056,\n",
       " 24.996252448699465,\n",
       " 24.98523181015375,\n",
       " 24.967934272165405,\n",
       " 24.99992009282382,\n",
       " 24.96854669636066,\n",
       " 24.996693355573385,\n",
       " 24.979345034390054,\n",
       " 24.990111966020788,\n",
       " 25.01338135831663,\n",
       " 24.981026477792955,\n",
       " 25.004444272417345,\n",
       " 25.020573882791012,\n",
       " 24.978269579829576,\n",
       " 25.020060738711646,\n",
       " 24.971517423787553,\n",
       " 24.986894556762767,\n",
       " 24.970608964299082,\n",
       " 24.982164743399753,\n",
       " 24.991346159647648,\n",
       " 25.006617707930573,\n",
       " 24.989081181799452,\n",
       " 24.98360077048306,\n",
       " 24.97857975155966,\n",
       " 24.962915474803953,\n",
       " 24.94311549552473,\n",
       " 25.003891265405898,\n",
       " 25.000933938462573,\n",
       " 24.977013064122062,\n",
       " 24.9673736036232,\n",
       " 25.017343241084617,\n",
       " 24.968223807847963,\n",
       " 24.989861378857952,\n",
       " 24.977214542008582,\n",
       " 24.978157204052344,\n",
       " 24.988695731194753,\n",
       " 24.988150065418083,\n",
       " 24.99302529896665,\n",
       " 24.979543843495357,\n",
       " 24.970892833569327,\n",
       " 24.99041625441391,\n",
       " 25.0035430800518,\n",
       " 24.964870143596226,\n",
       " 24.975398968027562,\n",
       " 24.98216262200037,\n",
       " 24.97670110112444,\n",
       " 24.969140839065876,\n",
       " 24.983354962041812,\n",
       " 24.971311091432696,\n",
       " 24.995404287720902,\n",
       " 24.9998242659071,\n",
       " 24.998992111884927,\n",
       " 24.98897982219009,\n",
       " 24.969803507900465,\n",
       " 25.008842957962457,\n",
       " 24.99726759210788,\n",
       " 24.99369560948726,\n",
       " 24.982542058405908,\n",
       " 25.005313690694564,\n",
       " 24.96969205067668,\n",
       " 25.00147597270241,\n",
       " 24.983307126269064,\n",
       " 24.965703755897415,\n",
       " 24.9686808469049,\n",
       " 24.97497605383764,\n",
       " 25.00455687666221,\n",
       " 24.96599470680511,\n",
       " 25.00150990026455,\n",
       " 24.97763476847735,\n",
       " 24.966481467768116,\n",
       " 24.98646282728976,\n",
       " 24.98986844827743,\n",
       " 24.98746379039327,\n",
       " 24.98777000015421,\n",
       " 24.979316994091494,\n",
       " 24.96955496506311,\n",
       " 24.990217961564714,\n",
       " 25.006322698633358,\n",
       " 24.980578396971655,\n",
       " 24.97691463486146,\n",
       " 24.998425269422892,\n",
       " 24.977296032490067,\n",
       " 25.00173978940061,\n",
       " 24.971839991942524,\n",
       " 25.005200442047425,\n",
       " 24.986791989652396,\n",
       " 25.001282381668485,\n",
       " 24.99189882419551,\n",
       " 24.96877640204954,\n",
       " 24.988148128119224,\n",
       " 24.999123329354653,\n",
       " 24.988547009290514,\n",
       " 24.99942610691928,\n",
       " 24.978410869742014,\n",
       " 24.970986171722405,\n",
       " 25.017016963250388,\n",
       " 24.977488696424487,\n",
       " 24.991324927969284,\n",
       " 24.978224912079476,\n",
       " 24.992994049594714,\n",
       " 24.971160707410778,\n",
       " 24.98037257627343,\n",
       " 24.975824788696826,\n",
       " 24.983110136162733,\n",
       " 25.008058971156235,\n",
       " 24.991485164571895,\n",
       " 25.021337018066756,\n",
       " 24.998801242921033,\n",
       " 24.965602383724505,\n",
       " 25.013586468300918,\n",
       " 24.97874455770598,\n",
       " 25.00223703433711,\n",
       " 24.990811776391528,\n",
       " 25.024413442745384,\n",
       " 25.009569184258275,\n",
       " 24.980664967468314,\n",
       " 25.02059201915983,\n",
       " 24.985101171322725,\n",
       " 24.969340595272538,\n",
       " 24.986528182297388,\n",
       " 24.959793268556222,\n",
       " 25.007951467091807,\n",
       " 24.976580551475454,\n",
       " 24.95491709842845,\n",
       " 24.97634047214626,\n",
       " 24.95739102579855,\n",
       " 24.992916363499535,\n",
       " 24.986714647148915,\n",
       " 24.988383466864487,\n",
       " 24.981464861526618,\n",
       " 25.00457470077629,\n",
       " 24.98946652789973,\n",
       " 24.96429279805906,\n",
       " 24.99618612932845,\n",
       " 24.982549845240214,\n",
       " 25.004109365442474,\n",
       " 24.988128026831696,\n",
       " 25.005637893270006,\n",
       " 25.012617264750425,\n",
       " 24.958648641691767,\n",
       " 25.00285710559276,\n",
       " 24.960733017957843,\n",
       " 24.976449558410454,\n",
       " 24.986984926621158,\n",
       " 24.963151876277788,\n",
       " 24.993238433143645,\n",
       " 24.98603693430328,\n",
       " 25.008492060319636,\n",
       " 24.989183722920366,\n",
       " 24.98270981972517,\n",
       " 24.995523696485378,\n",
       " 25.001208423941318,\n",
       " 25.00822270988584,\n",
       " 24.982831792184328,\n",
       " 25.009992458659916,\n",
       " 24.99746860473103,\n",
       " 24.99401246368276,\n",
       " 24.993101409841806,\n",
       " 24.974915790589865,\n",
       " 24.990278608519933,\n",
       " 24.997796737956584,\n",
       " 24.998020581249435,\n",
       " 24.965688794118467,\n",
       " 24.993060087987292,\n",
       " 24.985676560801448,\n",
       " 24.97194204729353,\n",
       " 24.96913675211767,\n",
       " 24.97738909702577,\n",
       " 25.014132414261994,\n",
       " 24.985529025043164,\n",
       " 24.973285588312024,\n",
       " 24.987404401043854,\n",
       " 24.976786399016646,\n",
       " 24.97837296968588,\n",
       " 24.974864128013586,\n",
       " 24.97591602325146,\n",
       " 24.983661937768,\n",
       " 24.99060072489653,\n",
       " 24.985219580890913,\n",
       " 24.971679877914994,\n",
       " 24.982873192014484,\n",
       " 24.971205577081648,\n",
       " 24.976688534750647,\n",
       " 25.003967879265137,\n",
       " 24.976372450905625,\n",
       " 24.975639695486148,\n",
       " 24.99259587868996,\n",
       " 25.009064446648882,\n",
       " 24.967415324506774,\n",
       " 25.00091542456068,\n",
       " 24.98419244700397,\n",
       " 25.00457325128663,\n",
       " 24.976875927379933,\n",
       " 24.984868590016994,\n",
       " 24.958194423680073,\n",
       " 24.975719514254788,\n",
       " 24.982700345710185,\n",
       " 24.987663796773464,\n",
       " 24.996527110777215,\n",
       " 24.99607903673424,\n",
       " 24.99430469455498,\n",
       " 25.005235092569233,\n",
       " 24.975225458194668,\n",
       " 24.961084089335305,\n",
       " 24.98702574891321,\n",
       " 25.00834692300158,\n",
       " 24.979796325331577,\n",
       " 24.984947680711134,\n",
       " 24.96178627297424,\n",
       " 25.009006643411716,\n",
       " 24.982929563307653,\n",
       " 25.005285324840944,\n",
       " 25.010350751231744,\n",
       " 25.004969040609858,\n",
       " 24.984758087786368,\n",
       " 24.995726801921904,\n",
       " 25.005411615630837,\n",
       " 24.97210048486046,\n",
       " 24.967400261804947,\n",
       " 24.995684968378722,\n",
       " 24.983102956625434,\n",
       " 24.97164714764722,\n",
       " 24.9931159379368,\n",
       " 24.980172033928465,\n",
       " 24.99772593963022,\n",
       " 25.00645719187509,\n",
       " 24.99549091737892,\n",
       " 24.976313830424864,\n",
       " 24.973141285093273,\n",
       " 24.981183819304732,\n",
       " 24.955178829788448,\n",
       " 24.99806505032101,\n",
       " 24.976243848978303,\n",
       " 24.98310882265973,\n",
       " 24.99041625890068,\n",
       " 24.987216305987726,\n",
       " 24.992965871358457,\n",
       " 24.974985573692898,\n",
       " 24.99598697192102,\n",
       " 24.992371377622526,\n",
       " 24.998760581121292,\n",
       " 24.983342290330626,\n",
       " 25.011168508167597,\n",
       " 25.011173252587547,\n",
       " 24.961490862104075,\n",
       " 24.954770319057324,\n",
       " 24.980644169406247,\n",
       " 24.971922580176336,\n",
       " 24.97171347587908,\n",
       " 24.989336654028214,\n",
       " 24.990285520190934,\n",
       " 24.996760208897353,\n",
       " 24.988041718944352,\n",
       " 24.973640967939833,\n",
       " 24.993022954094616,\n",
       " 24.971622998716388,\n",
       " 24.9789536680087,\n",
       " 24.965106050966675,\n",
       " 24.979189255643355,\n",
       " 24.976061192855955,\n",
       " 24.982193869795168,\n",
       " 25.026696883513317,\n",
       " 25.003119717648534,\n",
       " 24.990848129185764,\n",
       " 25.00505598749368,\n",
       " 24.98161136196302,\n",
       " 24.99285008718634,\n",
       " 24.958310303155034,\n",
       " 24.989220784027182,\n",
       " 25.00623041451925,\n",
       " 25.00130827728843,\n",
       " 24.98725480806112,\n",
       " 24.983662762915007,\n",
       " 24.99031957332139,\n",
       " 24.979798951886302,\n",
       " 24.947870077371576,\n",
       " 24.981208586150757,\n",
       " 25.001277331196306,\n",
       " 24.980240571670837,\n",
       " 24.992178911354753,\n",
       " 24.977813325042185,\n",
       " 24.98225748118314,\n",
       " 24.978832828172422,\n",
       " 24.963788888552727,\n",
       " 25.010016228070366,\n",
       " 24.973650372175122,\n",
       " 24.974058062730887,\n",
       " 24.98415850001037,\n",
       " 24.99792696836118,\n",
       " 24.978063041558972,\n",
       " 24.992858793531635,\n",
       " 24.98722100544592,\n",
       " 25.001771499883816,\n",
       " 24.99056784705994,\n",
       " 24.993473085356257,\n",
       " 24.967216864148035,\n",
       " 24.96575474645091,\n",
       " 24.998574360501312,\n",
       " 24.98527119845798,\n",
       " 24.97630890135598,\n",
       " 24.994799521037738,\n",
       " 24.98437197501401,\n",
       " 24.990480054347362,\n",
       " 24.99850044576168,\n",
       " 24.99757307115437,\n",
       " 24.97503408292259,\n",
       " 24.998803014913914,\n",
       " 24.98656537886989,\n",
       " 24.98835830294581,\n",
       " 24.97847682766826,\n",
       " 25.003409003457,\n",
       " 24.974530028844264,\n",
       " 24.966978261128748,\n",
       " 24.989858029720597,\n",
       " 24.972378341755917,\n",
       " 24.992994264860737,\n",
       " 24.98685175120881,\n",
       " 24.988672904095555,\n",
       " 24.97725461030915,\n",
       " 25.00084201588541,\n",
       " 24.9827620895011,\n",
       " 24.97832584388349,\n",
       " 24.99355366429919,\n",
       " 24.990627289212803,\n",
       " 24.982999541296753,\n",
       " 24.98208986654431,\n",
       " 24.991519734502667,\n",
       " 24.97421525803979,\n",
       " 24.954573926189436,\n",
       " 24.98675962441468,\n",
       " 25.001348563979573,\n",
       " 24.968763409899804,\n",
       " 24.973800305545982,\n",
       " 25.00572304487391,\n",
       " 24.984160881124424,\n",
       " 24.988781947348212,\n",
       " 24.982056898514365,\n",
       " 24.968423996418206,\n",
       " 25.022393055043107,\n",
       " 24.96916963492682,\n",
       " 24.99043074162764,\n",
       " 24.99319791307315,\n",
       " 24.975985863083494,\n",
       " 24.972730897547475,\n",
       " 25.01215755126746,\n",
       " 24.952694951604343,\n",
       " 24.9833554856315,\n",
       " 24.99739698221486,\n",
       " 25.016140356119422,\n",
       " 24.97414811935739,\n",
       " 24.9806876174087,\n",
       " 24.977450381893522,\n",
       " 24.993283328720953,\n",
       " 25.004113797917768,\n",
       " 24.969250053000813,\n",
       " 24.97357659631348,\n",
       " 25.00447809715396,\n",
       " 24.97715535578098,\n",
       " 24.972124592525958,\n",
       " 24.97934256200267,\n",
       " 24.994320501441976,\n",
       " 24.970069714102777,\n",
       " 24.994350317519253,\n",
       " 24.979178089672832,\n",
       " 25.003935531683933,\n",
       " 24.988151482497088,\n",
       " 24.987251998052205,\n",
       " 24.989943596286803,\n",
       " 24.99510551510463,\n",
       " 24.98934397442074,\n",
       " 24.9961455807677,\n",
       " 25.00042351318391,\n",
       " 24.98115600152852,\n",
       " 25.000049464696048,\n",
       " 25.020787365676867,\n",
       " 24.976887596952757,\n",
       " 24.99953827204677,\n",
       " 24.98649695172727,\n",
       " 24.97938240081203,\n",
       " 24.991577695035716,\n",
       " 25.00941774583902,\n",
       " 24.98343688778674,\n",
       " 24.99363137156581,\n",
       " 25.01045887370568,\n",
       " 24.983250580722107,\n",
       " 24.99510920539077,\n",
       " 24.987040131489934,\n",
       " 24.979116550930275,\n",
       " 24.975785721616813,\n",
       " 24.981074949120888,\n",
       " 24.982097494115095,\n",
       " 24.977117691801386,\n",
       " 25.00538445506051,\n",
       " 24.98443900071647,\n",
       " 24.984697018602265,\n",
       " 24.989189294242223,\n",
       " 24.97330289291449,\n",
       " 24.975403124282376,\n",
       " 24.995472988753704,\n",
       " 24.979145635695815,\n",
       " 24.978716529259124,\n",
       " 24.98976932484478,\n",
       " 24.976755813775473,\n",
       " 24.968395495233235,\n",
       " 25.0074538320687,\n",
       " 24.980091164011093,\n",
       " 24.995968084962364,\n",
       " 24.981009039647606,\n",
       " 24.99342867554491,\n",
       " 25.000772126962612,\n",
       " 24.99069449425307,\n",
       " 24.990109678385135,\n",
       " 24.978138731906647,\n",
       " 24.955383270782878,\n",
       " 24.977026839210225,\n",
       " 24.968476680884315,\n",
       " 24.975750774459712,\n",
       " 24.977932089834784,\n",
       " 24.978380534634038,\n",
       " 24.983278061663228,\n",
       " 24.995400477915872,\n",
       " 24.99094712433833,\n",
       " 24.983632300492708,\n",
       " 25.018788016793177,\n",
       " 24.992460421914412,\n",
       " 24.97310880810206,\n",
       " 24.99996397535775,\n",
       " 24.976281009884882,\n",
       " 25.010346941270967,\n",
       " 25.00559704925723,\n",
       " 24.996888468497854,\n",
       " 24.982157114980573,\n",
       " 24.990785147328623,\n",
       " 24.973897097571395,\n",
       " 24.991698074334234,\n",
       " 24.965457845759815,\n",
       " 24.99691112403179,\n",
       " 24.975976183255202,\n",
       " 24.975801916436975,\n",
       " 24.971353928478546,\n",
       " 24.999448059601704,\n",
       " 24.974698815178904,\n",
       " 24.98179053224636,\n",
       " 24.989188688139574,\n",
       " 24.977648391640333,\n",
       " 24.987810304988702,\n",
       " 25.013396596021252,\n",
       " 24.974386532076764,\n",
       " 24.975876782496904,\n",
       " 24.97751216206457,\n",
       " 25.001407466628688,\n",
       " 24.988742422406823,\n",
       " 24.95551328290286,\n",
       " 24.97538141888193,\n",
       " 25.010385772046035,\n",
       " 24.99624458230746,\n",
       " 24.991796894377444,\n",
       " 24.994865140796616,\n",
       " 24.98774935708498,\n",
       " 24.99198773584166,\n",
       " 24.974737197740424,\n",
       " 24.973097062097693,\n",
       " 24.976917501138143,\n",
       " 24.98886518565255,\n",
       " 24.993609175587366,\n",
       " 24.973670441853507,\n",
       " 25.015263787246784,\n",
       " 24.975979675290855,\n",
       " 24.98048109856399,\n",
       " 24.983041910483344,\n",
       " 25.0019988278359,\n",
       " 24.987685388590553,\n",
       " 25.00180169454671,\n",
       " 24.9860573053509,\n",
       " 25.004685532928402,\n",
       " 24.990432554812195,\n",
       " 24.967918003328112,\n",
       " 24.981288548421567,\n",
       " 24.966255865610812,\n",
       " 24.98338687161902,\n",
       " 24.972602036644698,\n",
       " 24.958136256271956,\n",
       " 24.990292051492744,\n",
       " 25.00163772135591,\n",
       " 24.99305953084507,\n",
       " 24.991529368796687,\n",
       " 24.97822619991229,\n",
       " 24.97529655482411,\n",
       " 24.98735789345062,\n",
       " 24.97732230838627,\n",
       " 24.985934650560356,\n",
       " 24.975397341897718,\n",
       " 25.003563339106908,\n",
       " 24.991805779841275,\n",
       " 24.973830575376706,\n",
       " 24.991113145515992,\n",
       " 24.99807086099956,\n",
       " 24.977039127134233,\n",
       " 24.951965875739287,\n",
       " 25.00168109928609,\n",
       " 24.97702094063003,\n",
       " 24.98504681903111,\n",
       " 25.001780046806456,\n",
       " 25.01946779536965,\n",
       " 24.99446953716202,\n",
       " 24.985328648206263,\n",
       " 25.004756782980635,\n",
       " 24.971043405958866,\n",
       " 24.98601232235917,\n",
       " 24.979811306416288,\n",
       " 24.98038870460841,\n",
       " 24.97873926000115,\n",
       " 24.974081376651306,\n",
       " 24.99589124103064,\n",
       " 24.965535990433285,\n",
       " 24.9841455278308,\n",
       " 24.995267722876502,\n",
       " 24.98438818997592,\n",
       " 24.96712692744644,\n",
       " 24.989452170931415,\n",
       " 24.989848982754282,\n",
       " 24.984654214352883,\n",
       " 24.991483298843896,\n",
       " 24.99798320229718,\n",
       " 24.98442929385458,\n",
       " 25.00377408172221,\n",
       " 24.994434605957892,\n",
       " 24.999308778869622,\n",
       " 25.012969206843053,\n",
       " 24.993415959593463,\n",
       " 24.986346104450398,\n",
       " 24.975317863974983,\n",
       " 24.991689340215853,\n",
       " 24.993789562422798,\n",
       " 24.981439204284946,\n",
       " 24.98357642629495,\n",
       " 24.975003133282723,\n",
       " 25.005552158632568,\n",
       " 25.004575565533937,\n",
       " 24.989258437915773,\n",
       " 24.971463753329473,\n",
       " 24.977103787979516,\n",
       " 24.97404923767421,\n",
       " 24.98034448209819,\n",
       " 24.979509396254507,\n",
       " 24.983602330787793,\n",
       " 24.998211671728612,\n",
       " 24.973761163483413,\n",
       " 24.988005544601457,\n",
       " 24.993829453856744]"
      ]
     },
     "execution_count": 51,
     "metadata": {},
     "output_type": "execute_result"
    }
   ],
   "source": [
    "bootstrap_means = []\n",
    "for i in range(1000):\n",
    "    temp_sample = np.random.choice(shoe_lengths, replace=True, size=len(shoe_lengths))\n",
    "    temp_mean = np.mean(temp_sample)\n",
    "    bootstrap_means.append(temp_mean)\n",
    "    \n",
    "bootstrap_means"
   ]
  },
  {
   "cell_type": "code",
   "execution_count": 52,
   "metadata": {
    "ExecuteTime": {
     "end_time": "2021-06-26T14:03:43.567607Z",
     "start_time": "2021-06-26T14:03:43.322292Z"
    },
    "colab": {
     "base_uri": "https://localhost:8080/",
     "height": 265
    },
    "executionInfo": {
     "elapsed": 257,
     "status": "ok",
     "timestamp": 1643888252273,
     "user": {
      "displayName": "Hippolyte GUIGON",
      "photoUrl": "https://lh3.googleusercontent.com/a-/AOh14GjYVU9CDexRPiTYRyddiqGAyBg678-bBucrxUClWw=s64",
      "userId": "18045676621189214494"
     },
     "user_tz": -60
    },
    "id": "5FtH3kfa1GSL",
    "outputId": "7f1a0c3c-b9ba-4287-a007-8978157081e3",
    "scrolled": false
   },
   "outputs": [
    {
     "data": {
      "image/png": "[encoded data removed]",
      "text/plain": [
       "<Figure size 432x288 with 1 Axes>"
      ]
     },
     "metadata": {
      "needs_background": "light"
     },
     "output_type": "display_data"
    }
   ],
   "source": [
    "sns.histplot(bootstrap_means, bins=20);"
   ]
  },
  {
   "cell_type": "markdown",
   "metadata": {
    "id": "iR-nTe7O1GSM"
   },
   "source": [
    "Enfin, on calcul un intervalle de confiance de 95% bootstrappé (`boot_95_ci`) en utilisant `np.percentile()`."
   ]
  },
  {
   "cell_type": "code",
   "execution_count": 53,
   "metadata": {
    "ExecuteTime": {
     "end_time": "2021-06-26T14:05:32.712834Z",
     "start_time": "2021-06-26T14:05:32.689333Z"
    },
    "colab": {
     "base_uri": "https://localhost:8080/"
    },
    "executionInfo": {
     "elapsed": 242,
     "status": "ok",
     "timestamp": 1643888259097,
     "user": {
      "displayName": "Hippolyte GUIGON",
      "photoUrl": "https://lh3.googleusercontent.com/a-/AOh14GjYVU9CDexRPiTYRyddiqGAyBg678-bBucrxUClWw=s64",
      "userId": "18045676621189214494"
     },
     "user_tz": -60
    },
    "id": "2QCl5PrG1GSM",
    "outputId": "9136f6b7-9032-40d8-a332-3743d15e708a",
    "scrolled": true
   },
   "outputs": [
    {
     "name": "stdout",
     "output_type": "stream",
     "text": [
      "95% Bootstrapped CI = [24.95966672 25.01457473]\n"
     ]
    }
   ],
   "source": [
    "# Ici on en déduit que si on prend n'importe quel échantillon il y a 95% \n",
    "# de chance que notre taille moyenne se trouve dans l'intervalle de confiance\n",
    "# par extension, la population totale est un échantillon, donc la vraie taille\n",
    "#moyenne a 95% de chance de se trouver dans cette intervalle\n",
    "boot_95_ci = np.percentile(bootstrap_means, [2.5, 97.5])\n",
    "print(\"95% Bootstrapped CI = {}\".format(boot_95_ci))"
   ]
  }
 ],
 "metadata": {
  "colab": {
   "name": "J0 ML live-coding.ipynb",
   "provenance": []
  },
  "hide_input": false,
  "kernelspec": {
   "display_name": "Python 3 (ipykernel)",
   "language": "python",
   "name": "python3"
  },
  "language_info": {
   "codemirror_mode": {
    "name": "ipython",
    "version": 3
   },
   "file_extension": ".py",
   "mimetype": "text/x-python",
   "name": "python",
   "nbconvert_exporter": "python",
   "pygments_lexer": "ipython3",
   "version": "3.9.7"
  },
  "toc": {
   "base_numbering": 1,
   "nav_menu": {},
   "number_sections": true,
   "sideBar": true,
   "skip_h1_title": false,
   "title_cell": "Table of Contents",
   "title_sidebar": "Contents",
   "toc_cell": false,
   "toc_position": {},
   "toc_section_display": true,
   "toc_window_display": true
  },
  "varInspector": {
   "cols": {
    "lenName": 16,
    "lenType": 16,
    "lenVar": 40
   },
   "kernels_config": {
    "python": {
     "delete_cmd_postfix": "",
     "delete_cmd_prefix": "del ",
     "library": "var_list.py",
     "varRefreshCmd": "print(var_dic_list())"
    },
    "r": {
     "delete_cmd_postfix": ") ",
     "delete_cmd_prefix": "rm(",
     "library": "var_list.r",
     "varRefreshCmd": "cat(var_dic_list()) "
    }
   },
   "types_to_exclude": [
    "module",
    "function",
    "builtin_function_or_method",
    "instance",
    "_Feature"
   ],
   "window_display": false
  }
 },
 "nbformat": 4,
 "nbformat_minor": 1
}

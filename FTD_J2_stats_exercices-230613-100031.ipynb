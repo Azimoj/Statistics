{
 "cells": [
  {
   "cell_type": "markdown",
   "metadata": {},
   "source": [
    "# J2– Statistiques"
   ]
  },
  {
   "cell_type": "markdown",
   "metadata": {},
   "source": [
    "## Bootstrapping, inference, intervalles de confiance"
   ]
  },
  {
   "cell_type": "markdown",
   "metadata": {},
   "source": [
    "### Exercise 3 – Old Faithful (***)"
   ]
  },
  {
   "cell_type": "markdown",
   "metadata": {},
   "source": [
    "Old Faithful  est un geyser du Yellowstone National Park dans le Wyoming: http://en.wikipedia.org/wiki/Old_Faithful.\n",
    "\n",
    "Le dataset  `old_faithful.csv` donne la durée de 272 eruptions consécutives. La colonne `eruptions` représente la durée des eruptions en minutes, et la colonne `waiting` représente les durée en minutes jusqu'à la prochaine éruption.\n",
    "\n",
    "On veut estimer la durée **mediane** d'une eruption et donner un interval de confiance de 90% pour la mediane."
   ]
  },
  {
   "cell_type": "markdown",
   "metadata": {},
   "source": [
    "**1. Importer les données et convertir la durée des éruptions en secondes.**"
   ]
  },
  {
   "cell_type": "code",
   "execution_count": null,
   "metadata": {},
   "outputs": [],
   "source": []
  },
  {
   "cell_type": "markdown",
   "metadata": {},
   "source": [
    "**2. Tracer un histogramme de la durée des éruptions.**"
   ]
  },
  {
   "cell_type": "code",
   "execution_count": null,
   "metadata": {},
   "outputs": [],
   "source": []
  },
  {
   "cell_type": "markdown",
   "metadata": {},
   "source": [
    "**3. Calculer la mediane de l'échantillon (durée des éruptions).**"
   ]
  },
  {
   "cell_type": "code",
   "execution_count": null,
   "metadata": {},
   "outputs": [],
   "source": []
  },
  {
   "cell_type": "markdown",
   "metadata": {},
   "source": [
    "**4. Trouver la médiane d'un échantillon bootstrappé. Répeter l'opération 1000 fois et stocker 1000 médianes bootstrappées.**"
   ]
  },
  {
   "cell_type": "code",
   "execution_count": null,
   "metadata": {},
   "outputs": [],
   "source": []
  },
  {
   "cell_type": "markdown",
   "metadata": {},
   "source": [
    "**5. Tracer un histogramme de la distribution bootstrappée Plot the bootstrap distribution as a histogram.**\n",
    "\n",
    "_Hint: convertissez l'array en Series pour utiliser `.plot()`._"
   ]
  },
  {
   "cell_type": "code",
   "execution_count": null,
   "metadata": {},
   "outputs": [],
   "source": []
  },
  {
   "cell_type": "markdown",
   "metadata": {},
   "source": [
    "**6. Trouver les valeurs critiques .95 et .05 (le 5ème et 95ème centile).**"
   ]
  },
  {
   "cell_type": "code",
   "execution_count": null,
   "metadata": {},
   "outputs": [],
   "source": []
  },
  {
   "cell_type": "markdown",
   "metadata": {},
   "source": [
    "**[BONUS] 7. Ecrire une fonction qui fais l'ensemble de toutes les opérations précédentes.**\n",
    "\n",
    "_Hint: la fonction doit prendre en entrée l'échantillon, le type d'estimateur ('median', 'mean' suffisent) et ressortir l'intervalle de confiance bootstrappé._"
   ]
  },
  {
   "cell_type": "code",
   "execution_count": null,
   "metadata": {},
   "outputs": [],
   "source": []
  },
  {
   "cell_type": "markdown",
   "metadata": {},
   "source": [
    "**[BONUS] 8. Calculer les correlation entre la durée des eruptions et le temps d'attente entre chaque éruption. En suite construire un intervalle de confiance bootstrappé pour le coefficient de correlation.**"
   ]
  },
  {
   "cell_type": "code",
   "execution_count": null,
   "metadata": {},
   "outputs": [],
   "source": []
  },
  {
   "cell_type": "markdown",
   "metadata": {},
   "source": [
    "**[BONUS] 9. Aller plus loin**\n",
    "Une autre technique de bootstrap est l'utilisation de la distribution des différence des médianes plutôt que la distribution boostrapée directement\n",
    "Voir le [MIT course](https://ocw.mit.edu/courses/mathematics/18-05-introduction-to-probability-and-statistics-spring-2014/readings/MIT18_05S14_Reading24.pdf) pour plus de détails.\n",
    "\n",
    "* Tout d'abord, calculer la différence entre la mediane originale du sample et la médiane bootstrappée.\n",
    "* En suite, tracer un histogramme de la distribution de ces différences.\n",
    "* Trouver les valeurs critiques .95 and .05.\n",
    "\n",
    ">Grâce à la loi des Grands Nombres, ces valeurs représentent une bonne estimation de jusqu'à où la mediane boostrappée peut varié de la mediane de l'échantillon avec 90% de certitude. Le principe du boostrap dis que ces variations devraient apprximer les variations de la médiane de l'échantillon par rapport à la médiane de la population .\n",
    "\n",
    "* Enfin, utilisez ces valeurs pour construire un bootstrap de 90% d'intervalle de confiance par rapport à la médiane de l'échantillon."
   ]
  },
  {
   "cell_type": "code",
   "execution_count": null,
   "metadata": {},
   "outputs": [],
   "source": []
  },
  {
   "cell_type": "markdown",
   "metadata": {},
   "source": [
    "**[BONUS] 10. Quelle est la probabilité que la médiant d'un échantillon soit strictement plus que 10 secondes plus loin que la vraie médiane.**\n",
    "\n",
    "_Hint:  Il faut obtenir la valeur absolue des differences du bootstrape, les classer par ordre croissant et en suite calculer la proportion de celles qui sont >10. Grâce à la loi des Grands Nombres, cela donne le pourcentage de chance que les médianes bootstrappées aient un écart strictement plus grands que 10 secondes de la médiane de l'échantillon. Le principe du bootstrape est une bonne approximation de la variation entre la médiane de l'échantillon et la médiane réelle._"
   ]
  },
  {
   "cell_type": "code",
   "execution_count": null,
   "metadata": {},
   "outputs": [],
   "source": []
  }
 ],
 "metadata": {
  "hide_input": false,
  "kernelspec": {
   "display_name": "Python 3 (ipykernel)",
   "language": "python",
   "name": "python3"
  },
  "language_info": {
   "codemirror_mode": {
    "name": "ipython",
    "version": 3
   },
   "file_extension": ".py",
   "mimetype": "text/x-python",
   "name": "python",
   "nbconvert_exporter": "python",
   "pygments_lexer": "ipython3",
   "version": "3.9.7"
  },
  "toc": {
   "base_numbering": 1,
   "nav_menu": {},
   "number_sections": true,
   "sideBar": true,
   "skip_h1_title": false,
   "title_cell": "Table of Contents",
   "title_sidebar": "Contents",
   "toc_cell": false,
   "toc_position": {},
   "toc_section_display": true,
   "toc_window_display": true
  },
  "varInspector": {
   "cols": {
    "lenName": 16,
    "lenType": 16,
    "lenVar": 40
   },
   "kernels_config": {
    "python": {
     "delete_cmd_postfix": "",
     "delete_cmd_prefix": "del ",
     "library": "var_list.py",
     "varRefreshCmd": "print(var_dic_list())"
    },
    "r": {
     "delete_cmd_postfix": ") ",
     "delete_cmd_prefix": "rm(",
     "library": "var_list.r",
     "varRefreshCmd": "cat(var_dic_list()) "
    }
   },
   "types_to_exclude": [
    "module",
    "function",
    "builtin_function_or_method",
    "instance",
    "_Feature"
   ],
   "window_display": false
  }
 },
 "nbformat": 4,
 "nbformat_minor": 2
}
